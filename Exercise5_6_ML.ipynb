{
  "nbformat": 4,
  "nbformat_minor": 0,
  "metadata": {
    "colab": {
      "provenance": [],
      "collapsed_sections": [],
      "authorship_tag": "ABX9TyNNuWfEycXUR1z/H2Io5StX",
      "include_colab_link": true
    },
    "kernelspec": {
      "name": "python3",
      "display_name": "Python 3"
    },
    "language_info": {
      "name": "python"
    }
  },
  "cells": [
    {
      "cell_type": "markdown",
      "metadata": {
        "id": "view-in-github",
        "colab_type": "text"
      },
      "source": [
        "<a href=\"https://colab.research.google.com/github/OscarBedford/MLCourse_Weekly_Exercises/blob/main/Exercise5_6_ML.ipynb\" target=\"_parent\"><img src=\"https://colab.research.google.com/assets/colab-badge.svg\" alt=\"Open In Colab\"/></a>"
      ]
    },
    {
      "cell_type": "markdown",
      "source": [
        "Dataset with brain atlas B for continous prediction tasks: For the second set of 5 small programming tasks use the Oasis dataset provided by the nilearn package, which can be downloaded using the code below. This is a dataset of structural brain scans (aka voxel- based morphometry) for male and female individuals."
      ],
      "metadata": {
        "id": "igZLL-oXWc22"
      }
    },
    {
      "cell_type": "markdown",
      "source": [
        "Analogous to task 1, but predicting continuous subject age with sklearn.neighbors.KNeighborsRegressor(n_neighbors=5) and using 43 different versions of Craddock region atlas resolutions (.scorr_mean) instead of the 10 region numbers from Dataset A. Use R2 coefficient of determination instead of classification accuracy, which can be found at sklearn.metrics.r2_score."
      ],
      "metadata": {
        "id": "9m08vrLKWfP2"
      }
    },
    {
      "cell_type": "code",
      "execution_count": null,
      "metadata": {
        "colab": {
          "base_uri": "https://localhost:8080/"
        },
        "id": "rWsP7ed8WbTM",
        "outputId": "dcf1a69b-d7d8-4533-d947-a7e5de0fca52"
      },
      "outputs": [
        {
          "output_type": "stream",
          "name": "stdout",
          "text": [
            "Looking in indexes: https://pypi.org/simple, https://us-python.pkg.dev/colab-wheels/public/simple/\n",
            "Requirement already satisfied: nilearn in /usr/local/lib/python3.7/dist-packages (0.9.2)\n",
            "Requirement already satisfied: scipy>=1.5 in /usr/local/lib/python3.7/dist-packages (from nilearn) (1.7.3)\n",
            "Requirement already satisfied: scikit-learn>=0.22 in /usr/local/lib/python3.7/dist-packages (from nilearn) (1.0.2)\n",
            "Requirement already satisfied: requests>=2 in /usr/local/lib/python3.7/dist-packages (from nilearn) (2.23.0)\n",
            "Requirement already satisfied: lxml in /usr/local/lib/python3.7/dist-packages (from nilearn) (4.9.1)\n",
            "Requirement already satisfied: nibabel>=3.0.0 in /usr/local/lib/python3.7/dist-packages (from nilearn) (3.0.2)\n",
            "Requirement already satisfied: joblib>=0.15 in /usr/local/lib/python3.7/dist-packages (from nilearn) (1.2.0)\n",
            "Requirement already satisfied: numpy>=1.18 in /usr/local/lib/python3.7/dist-packages (from nilearn) (1.21.6)\n",
            "Requirement already satisfied: pandas>=1.0 in /usr/local/lib/python3.7/dist-packages (from nilearn) (1.3.5)\n",
            "Requirement already satisfied: python-dateutil>=2.7.3 in /usr/local/lib/python3.7/dist-packages (from pandas>=1.0->nilearn) (2.8.2)\n",
            "Requirement already satisfied: pytz>=2017.3 in /usr/local/lib/python3.7/dist-packages (from pandas>=1.0->nilearn) (2022.4)\n",
            "Requirement already satisfied: six>=1.5 in /usr/local/lib/python3.7/dist-packages (from python-dateutil>=2.7.3->pandas>=1.0->nilearn) (1.15.0)\n",
            "Requirement already satisfied: idna<3,>=2.5 in /usr/local/lib/python3.7/dist-packages (from requests>=2->nilearn) (2.10)\n",
            "Requirement already satisfied: urllib3!=1.25.0,!=1.25.1,<1.26,>=1.21.1 in /usr/local/lib/python3.7/dist-packages (from requests>=2->nilearn) (1.24.3)\n",
            "Requirement already satisfied: chardet<4,>=3.0.2 in /usr/local/lib/python3.7/dist-packages (from requests>=2->nilearn) (3.0.4)\n",
            "Requirement already satisfied: certifi>=2017.4.17 in /usr/local/lib/python3.7/dist-packages (from requests>=2->nilearn) (2022.9.24)\n",
            "Requirement already satisfied: threadpoolctl>=2.0.0 in /usr/local/lib/python3.7/dist-packages (from scikit-learn>=0.22->nilearn) (3.1.0)\n"
          ]
        }
      ],
      "source": [
        "!pip install nilearn"
      ]
    },
    {
      "cell_type": "code",
      "source": [
        "import numpy as np\n",
        "from nilearn import datasets\n",
        "from nilearn.input_data import NiftiLabelsMasker\n",
        "from nilearn.image import index_img\n",
        "from sklearn.preprocessing import StandardScaler\n",
        "import nibabel as nib\n",
        "brain_data = datasets.fetch_oasis_vbm(n_subjects=100)\n",
        "crad = datasets.fetch_atlas_craddock_2012()\n",
        "atlas_nii = index_img(crad['scorr_mean'], 42)\n",
        "masker = NiftiLabelsMasker(labels_img= atlas_nii, standardize=True)\n",
        "input_variables = masker.fit_transform(brain_data.gray_matter_maps)\n",
        "output_variable = StandardScaler().fit_transform(brain_data.ext_vars.age[:, None])[:, 0] # gives subject age on standard units after z-scoring"
      ],
      "metadata": {
        "colab": {
          "base_uri": "https://localhost:8080/"
        },
        "id": "whDaDuhXWm_P",
        "outputId": "727e040b-e670-4246-d952-9568992a4820"
      },
      "execution_count": null,
      "outputs": [
        {
          "output_type": "stream",
          "name": "stderr",
          "text": [
            "/usr/local/lib/python3.7/dist-packages/nilearn/datasets/struct.py:774: UserWarning: `legacy_format` will default to `False` in release 0.11. Dataset fetchers will then return pandas dataframes by default instead of recarrays.\n",
            "  warnings.warn(_LEGACY_FORMAT_MSG)\n"
          ]
        }
      ]
    },
    {
      "cell_type": "code",
      "source": [
        "import matplotlib.pyplot as plt\n",
        "from numpy import mean\n",
        "from numpy import std\n",
        "from sklearn.linear_model import LogisticRegression\n",
        "from sklearn.utils import resample\n",
        "from sklearn.preprocessing import StandardScaler\n",
        "scaler = StandardScaler()\n",
        "from sklearn.model_selection import train_test_split\n",
        "from sklearn.metrics import classification_report\n",
        "from sklearn.linear_model import Ridge\n",
        "from sklearn.model_selection import GridSearchCV\n",
        "import pandas as pd\n",
        "from sklearn.neighbors import KNeighborsRegressor"
      ],
      "metadata": {
        "id": "glmOsvH1WnQ3"
      },
      "execution_count": null,
      "outputs": []
    },
    {
      "cell_type": "code",
      "source": [
        "# We prepare the models with the required parameters\n",
        "ridge = Ridge(max_iter=1e4)\n",
        "knn = KNeighborsRegressor(n_neighbors=5)"
      ],
      "metadata": {
        "id": "zhzcXqVJW1ZP"
      },
      "execution_count": null,
      "outputs": []
    },
    {
      "cell_type": "code",
      "source": [
        "# We define the iterating variable\n",
        "versions = list(range(1,43))"
      ],
      "metadata": {
        "id": "_f8bmS_SW_-u"
      },
      "execution_count": null,
      "outputs": []
    },
    {
      "cell_type": "code",
      "source": [
        "# We pre-allocate the variables we want to populate with accuracy scores\n",
        "ridge_tr_acc = []\n",
        "knn_tr_acc = []\n",
        "\n",
        "ridge_test_acc = []\n",
        "knn_test_acc = []"
      ],
      "metadata": {
        "id": "hWsUwItnXNbv"
      },
      "execution_count": null,
      "outputs": []
    },
    {
      "cell_type": "code",
      "source": [
        "for x in versions:\n",
        "    brain_data = datasets.fetch_oasis_vbm(n_subjects=100)\n",
        "    crad = datasets.fetch_atlas_craddock_2012()\n",
        "    atlas_nii = index_img(crad['scorr_mean'], (x))\n",
        "    masker = NiftiLabelsMasker(labels_img= atlas_nii, standardize=True)\n",
        "    input_variables = masker.fit_transform(brain_data.gray_matter_maps)\n",
        "    output_variable = StandardScaler().fit_transform(brain_data.ext_vars.age[:, None])[:, 0] # gives subject age on standard units after z-scoring\n",
        "\n",
        "    X, y = input_variables, output_variable\n",
        "    X_scaled = scaler.fit_transform(X)\n",
        "    X_train, X_test, y_train, y_test = train_test_split(X_scaled, y, test_size=0.2, shuffle=False)\n",
        "\n",
        "    RidgeReg = ridge.fit(X_train,y_train) # We fit the ridge training model\n",
        "    score_R = RidgeReg.score(X_train, y_train)\n",
        "    ridge_tr_acc.append(score_R) # We store the scores\n",
        "    print('Ridge training accuracy (coefficient of determination): %.2f' % ((score_R))) # We print the scores\n",
        "\n",
        "    kNN = knn.fit(X_train,y_train) # We fit the kNN training model\n",
        "    score_k = kNN.score(X_train, y_train)\n",
        "    knn_tr_acc.append(score_k) # We store the scores\n",
        "    print('kNN training accuracy (coefficient of determination): %.2f' % ((score_k))) # We print the scores\n",
        "\n",
        "    yhat_R = ridge.predict(X_test) # We use the ridge model to predict and store its prediction as \"yhat\"\n",
        "    score_Rt = RidgeReg.score(X_test, y_test) \n",
        "    ridge_test_acc.append(score_Rt) # We store the scores\n",
        "    print('Ridge test accuracy (coefficient of determination): %.2f' % ((score_Rt))) # We print the scores\n",
        "\n",
        "    yhat_k = knn.predict(X_test) # We use the kNN model to predict and store its prediction as \"yhat\"\n",
        "    score_k = kNN.score(X_test, y_test) \n",
        "    knn_test_acc.append(score_k) # We store the scores\n",
        "    print('kNN test accuracy (coefficient of determination): %.2f' % ((score_k))) # We print the scores"
      ],
      "metadata": {
        "colab": {
          "base_uri": "https://localhost:8080/"
        },
        "id": "RSUs1riyXOv_",
        "outputId": "d666cc5f-4e83-4521-e9fe-2f7890a08710"
      },
      "execution_count": null,
      "outputs": [
        {
          "output_type": "stream",
          "name": "stderr",
          "text": [
            "/usr/local/lib/python3.7/dist-packages/nilearn/datasets/struct.py:774: UserWarning: `legacy_format` will default to `False` in release 0.11. Dataset fetchers will then return pandas dataframes by default instead of recarrays.\n",
            "  warnings.warn(_LEGACY_FORMAT_MSG)\n"
          ]
        },
        {
          "output_type": "stream",
          "name": "stdout",
          "text": [
            "Ridge training accuracy (coefficient of determination): 0.69\n",
            "kNN training accuracy (coefficient of determination): 0.60\n",
            "Ridge test accuracy (coefficient of determination): -3.11\n",
            "kNN test accuracy (coefficient of determination): 0.09\n"
          ]
        },
        {
          "output_type": "stream",
          "name": "stderr",
          "text": [
            "/usr/local/lib/python3.7/dist-packages/nilearn/datasets/struct.py:774: UserWarning: `legacy_format` will default to `False` in release 0.11. Dataset fetchers will then return pandas dataframes by default instead of recarrays.\n",
            "  warnings.warn(_LEGACY_FORMAT_MSG)\n"
          ]
        },
        {
          "output_type": "stream",
          "name": "stdout",
          "text": [
            "Ridge training accuracy (coefficient of determination): 0.80\n",
            "kNN training accuracy (coefficient of determination): 0.65\n",
            "Ridge test accuracy (coefficient of determination): -1.01\n",
            "kNN test accuracy (coefficient of determination): 0.06\n"
          ]
        },
        {
          "output_type": "stream",
          "name": "stderr",
          "text": [
            "/usr/local/lib/python3.7/dist-packages/nilearn/datasets/struct.py:774: UserWarning: `legacy_format` will default to `False` in release 0.11. Dataset fetchers will then return pandas dataframes by default instead of recarrays.\n",
            "  warnings.warn(_LEGACY_FORMAT_MSG)\n"
          ]
        },
        {
          "output_type": "stream",
          "name": "stdout",
          "text": [
            "Ridge training accuracy (coefficient of determination): 0.81\n",
            "kNN training accuracy (coefficient of determination): 0.57\n",
            "Ridge test accuracy (coefficient of determination): -1.64\n",
            "kNN test accuracy (coefficient of determination): 0.14\n"
          ]
        },
        {
          "output_type": "stream",
          "name": "stderr",
          "text": [
            "/usr/local/lib/python3.7/dist-packages/nilearn/datasets/struct.py:774: UserWarning: `legacy_format` will default to `False` in release 0.11. Dataset fetchers will then return pandas dataframes by default instead of recarrays.\n",
            "  warnings.warn(_LEGACY_FORMAT_MSG)\n"
          ]
        },
        {
          "output_type": "stream",
          "name": "stdout",
          "text": [
            "Ridge training accuracy (coefficient of determination): 0.88\n",
            "kNN training accuracy (coefficient of determination): 0.58\n",
            "Ridge test accuracy (coefficient of determination): -1.69\n",
            "kNN test accuracy (coefficient of determination): 0.24\n"
          ]
        },
        {
          "output_type": "stream",
          "name": "stderr",
          "text": [
            "/usr/local/lib/python3.7/dist-packages/nilearn/datasets/struct.py:774: UserWarning: `legacy_format` will default to `False` in release 0.11. Dataset fetchers will then return pandas dataframes by default instead of recarrays.\n",
            "  warnings.warn(_LEGACY_FORMAT_MSG)\n"
          ]
        },
        {
          "output_type": "stream",
          "name": "stdout",
          "text": [
            "Ridge training accuracy (coefficient of determination): 0.92\n",
            "kNN training accuracy (coefficient of determination): 0.59\n",
            "Ridge test accuracy (coefficient of determination): 0.04\n",
            "kNN test accuracy (coefficient of determination): 0.20\n"
          ]
        },
        {
          "output_type": "stream",
          "name": "stderr",
          "text": [
            "/usr/local/lib/python3.7/dist-packages/nilearn/datasets/struct.py:774: UserWarning: `legacy_format` will default to `False` in release 0.11. Dataset fetchers will then return pandas dataframes by default instead of recarrays.\n",
            "  warnings.warn(_LEGACY_FORMAT_MSG)\n"
          ]
        },
        {
          "output_type": "stream",
          "name": "stdout",
          "text": [
            "Ridge training accuracy (coefficient of determination): 0.95\n",
            "kNN training accuracy (coefficient of determination): 0.64\n",
            "Ridge test accuracy (coefficient of determination): -0.65\n",
            "kNN test accuracy (coefficient of determination): 0.24\n"
          ]
        },
        {
          "output_type": "stream",
          "name": "stderr",
          "text": [
            "/usr/local/lib/python3.7/dist-packages/nilearn/datasets/struct.py:774: UserWarning: `legacy_format` will default to `False` in release 0.11. Dataset fetchers will then return pandas dataframes by default instead of recarrays.\n",
            "  warnings.warn(_LEGACY_FORMAT_MSG)\n"
          ]
        },
        {
          "output_type": "stream",
          "name": "stdout",
          "text": [
            "Ridge training accuracy (coefficient of determination): 0.95\n",
            "kNN training accuracy (coefficient of determination): 0.62\n",
            "Ridge test accuracy (coefficient of determination): -0.42\n",
            "kNN test accuracy (coefficient of determination): 0.23\n"
          ]
        },
        {
          "output_type": "stream",
          "name": "stderr",
          "text": [
            "/usr/local/lib/python3.7/dist-packages/nilearn/datasets/struct.py:774: UserWarning: `legacy_format` will default to `False` in release 0.11. Dataset fetchers will then return pandas dataframes by default instead of recarrays.\n",
            "  warnings.warn(_LEGACY_FORMAT_MSG)\n"
          ]
        },
        {
          "output_type": "stream",
          "name": "stdout",
          "text": [
            "Ridge training accuracy (coefficient of determination): 0.98\n",
            "kNN training accuracy (coefficient of determination): 0.62\n",
            "Ridge test accuracy (coefficient of determination): -0.11\n",
            "kNN test accuracy (coefficient of determination): 0.24\n"
          ]
        },
        {
          "output_type": "stream",
          "name": "stderr",
          "text": [
            "/usr/local/lib/python3.7/dist-packages/nilearn/datasets/struct.py:774: UserWarning: `legacy_format` will default to `False` in release 0.11. Dataset fetchers will then return pandas dataframes by default instead of recarrays.\n",
            "  warnings.warn(_LEGACY_FORMAT_MSG)\n"
          ]
        },
        {
          "output_type": "stream",
          "name": "stdout",
          "text": [
            "Ridge training accuracy (coefficient of determination): 0.99\n",
            "kNN training accuracy (coefficient of determination): 0.63\n",
            "Ridge test accuracy (coefficient of determination): -0.70\n",
            "kNN test accuracy (coefficient of determination): 0.25\n"
          ]
        },
        {
          "output_type": "stream",
          "name": "stderr",
          "text": [
            "/usr/local/lib/python3.7/dist-packages/nilearn/datasets/struct.py:774: UserWarning: `legacy_format` will default to `False` in release 0.11. Dataset fetchers will then return pandas dataframes by default instead of recarrays.\n",
            "  warnings.warn(_LEGACY_FORMAT_MSG)\n"
          ]
        },
        {
          "output_type": "stream",
          "name": "stdout",
          "text": [
            "Ridge training accuracy (coefficient of determination): 0.98\n",
            "kNN training accuracy (coefficient of determination): 0.61\n",
            "Ridge test accuracy (coefficient of determination): -1.06\n",
            "kNN test accuracy (coefficient of determination): 0.23\n"
          ]
        },
        {
          "output_type": "stream",
          "name": "stderr",
          "text": [
            "/usr/local/lib/python3.7/dist-packages/nilearn/datasets/struct.py:774: UserWarning: `legacy_format` will default to `False` in release 0.11. Dataset fetchers will then return pandas dataframes by default instead of recarrays.\n",
            "  warnings.warn(_LEGACY_FORMAT_MSG)\n"
          ]
        },
        {
          "output_type": "stream",
          "name": "stdout",
          "text": [
            "Ridge training accuracy (coefficient of determination): 0.99\n",
            "kNN training accuracy (coefficient of determination): 0.65\n",
            "Ridge test accuracy (coefficient of determination): -0.39\n",
            "kNN test accuracy (coefficient of determination): 0.28\n"
          ]
        },
        {
          "output_type": "stream",
          "name": "stderr",
          "text": [
            "/usr/local/lib/python3.7/dist-packages/nilearn/datasets/struct.py:774: UserWarning: `legacy_format` will default to `False` in release 0.11. Dataset fetchers will then return pandas dataframes by default instead of recarrays.\n",
            "  warnings.warn(_LEGACY_FORMAT_MSG)\n"
          ]
        },
        {
          "output_type": "stream",
          "name": "stdout",
          "text": [
            "Ridge training accuracy (coefficient of determination): 0.99\n",
            "kNN training accuracy (coefficient of determination): 0.60\n",
            "Ridge test accuracy (coefficient of determination): -2.43\n",
            "kNN test accuracy (coefficient of determination): 0.29\n"
          ]
        },
        {
          "output_type": "stream",
          "name": "stderr",
          "text": [
            "/usr/local/lib/python3.7/dist-packages/nilearn/datasets/struct.py:774: UserWarning: `legacy_format` will default to `False` in release 0.11. Dataset fetchers will then return pandas dataframes by default instead of recarrays.\n",
            "  warnings.warn(_LEGACY_FORMAT_MSG)\n"
          ]
        },
        {
          "output_type": "stream",
          "name": "stdout",
          "text": [
            "Ridge training accuracy (coefficient of determination): 0.99\n",
            "kNN training accuracy (coefficient of determination): 0.64\n",
            "Ridge test accuracy (coefficient of determination): -2.30\n",
            "kNN test accuracy (coefficient of determination): 0.28\n"
          ]
        },
        {
          "output_type": "stream",
          "name": "stderr",
          "text": [
            "/usr/local/lib/python3.7/dist-packages/nilearn/datasets/struct.py:774: UserWarning: `legacy_format` will default to `False` in release 0.11. Dataset fetchers will then return pandas dataframes by default instead of recarrays.\n",
            "  warnings.warn(_LEGACY_FORMAT_MSG)\n"
          ]
        },
        {
          "output_type": "stream",
          "name": "stdout",
          "text": [
            "Ridge training accuracy (coefficient of determination): 1.00\n",
            "kNN training accuracy (coefficient of determination): 0.63\n",
            "Ridge test accuracy (coefficient of determination): -1.88\n",
            "kNN test accuracy (coefficient of determination): 0.26\n"
          ]
        },
        {
          "output_type": "stream",
          "name": "stderr",
          "text": [
            "/usr/local/lib/python3.7/dist-packages/nilearn/datasets/struct.py:774: UserWarning: `legacy_format` will default to `False` in release 0.11. Dataset fetchers will then return pandas dataframes by default instead of recarrays.\n",
            "  warnings.warn(_LEGACY_FORMAT_MSG)\n"
          ]
        },
        {
          "output_type": "stream",
          "name": "stdout",
          "text": [
            "Ridge training accuracy (coefficient of determination): 1.00\n",
            "kNN training accuracy (coefficient of determination): 0.66\n",
            "Ridge test accuracy (coefficient of determination): -0.94\n",
            "kNN test accuracy (coefficient of determination): 0.24\n"
          ]
        },
        {
          "output_type": "stream",
          "name": "stderr",
          "text": [
            "/usr/local/lib/python3.7/dist-packages/nilearn/datasets/struct.py:774: UserWarning: `legacy_format` will default to `False` in release 0.11. Dataset fetchers will then return pandas dataframes by default instead of recarrays.\n",
            "  warnings.warn(_LEGACY_FORMAT_MSG)\n"
          ]
        },
        {
          "output_type": "stream",
          "name": "stdout",
          "text": [
            "Ridge training accuracy (coefficient of determination): 1.00\n",
            "kNN training accuracy (coefficient of determination): 0.66\n",
            "Ridge test accuracy (coefficient of determination): -1.10\n",
            "kNN test accuracy (coefficient of determination): 0.18\n"
          ]
        },
        {
          "output_type": "stream",
          "name": "stderr",
          "text": [
            "/usr/local/lib/python3.7/dist-packages/nilearn/datasets/struct.py:774: UserWarning: `legacy_format` will default to `False` in release 0.11. Dataset fetchers will then return pandas dataframes by default instead of recarrays.\n",
            "  warnings.warn(_LEGACY_FORMAT_MSG)\n"
          ]
        },
        {
          "output_type": "stream",
          "name": "stdout",
          "text": [
            "Ridge training accuracy (coefficient of determination): 1.00\n",
            "kNN training accuracy (coefficient of determination): 0.63\n",
            "Ridge test accuracy (coefficient of determination): -0.90\n",
            "kNN test accuracy (coefficient of determination): 0.30\n"
          ]
        },
        {
          "output_type": "stream",
          "name": "stderr",
          "text": [
            "/usr/local/lib/python3.7/dist-packages/nilearn/datasets/struct.py:774: UserWarning: `legacy_format` will default to `False` in release 0.11. Dataset fetchers will then return pandas dataframes by default instead of recarrays.\n",
            "  warnings.warn(_LEGACY_FORMAT_MSG)\n"
          ]
        },
        {
          "output_type": "stream",
          "name": "stdout",
          "text": [
            "Ridge training accuracy (coefficient of determination): 1.00\n",
            "kNN training accuracy (coefficient of determination): 0.66\n",
            "Ridge test accuracy (coefficient of determination): -0.33\n",
            "kNN test accuracy (coefficient of determination): 0.23\n"
          ]
        },
        {
          "output_type": "stream",
          "name": "stderr",
          "text": [
            "/usr/local/lib/python3.7/dist-packages/nilearn/datasets/struct.py:774: UserWarning: `legacy_format` will default to `False` in release 0.11. Dataset fetchers will then return pandas dataframes by default instead of recarrays.\n",
            "  warnings.warn(_LEGACY_FORMAT_MSG)\n"
          ]
        },
        {
          "output_type": "stream",
          "name": "stdout",
          "text": [
            "Ridge training accuracy (coefficient of determination): 1.00\n",
            "kNN training accuracy (coefficient of determination): 0.61\n",
            "Ridge test accuracy (coefficient of determination): -0.74\n",
            "kNN test accuracy (coefficient of determination): 0.30\n"
          ]
        },
        {
          "output_type": "stream",
          "name": "stderr",
          "text": [
            "/usr/local/lib/python3.7/dist-packages/nilearn/datasets/struct.py:774: UserWarning: `legacy_format` will default to `False` in release 0.11. Dataset fetchers will then return pandas dataframes by default instead of recarrays.\n",
            "  warnings.warn(_LEGACY_FORMAT_MSG)\n"
          ]
        },
        {
          "output_type": "stream",
          "name": "stdout",
          "text": [
            "Ridge training accuracy (coefficient of determination): 1.00\n",
            "kNN training accuracy (coefficient of determination): 0.68\n",
            "Ridge test accuracy (coefficient of determination): -0.49\n",
            "kNN test accuracy (coefficient of determination): 0.24\n"
          ]
        },
        {
          "output_type": "stream",
          "name": "stderr",
          "text": [
            "/usr/local/lib/python3.7/dist-packages/nilearn/datasets/struct.py:774: UserWarning: `legacy_format` will default to `False` in release 0.11. Dataset fetchers will then return pandas dataframes by default instead of recarrays.\n",
            "  warnings.warn(_LEGACY_FORMAT_MSG)\n"
          ]
        },
        {
          "output_type": "stream",
          "name": "stdout",
          "text": [
            "Ridge training accuracy (coefficient of determination): 1.00\n",
            "kNN training accuracy (coefficient of determination): 0.62\n",
            "Ridge test accuracy (coefficient of determination): -1.73\n",
            "kNN test accuracy (coefficient of determination): 0.30\n"
          ]
        },
        {
          "output_type": "stream",
          "name": "stderr",
          "text": [
            "/usr/local/lib/python3.7/dist-packages/nilearn/datasets/struct.py:774: UserWarning: `legacy_format` will default to `False` in release 0.11. Dataset fetchers will then return pandas dataframes by default instead of recarrays.\n",
            "  warnings.warn(_LEGACY_FORMAT_MSG)\n"
          ]
        },
        {
          "output_type": "stream",
          "name": "stdout",
          "text": [
            "Ridge training accuracy (coefficient of determination): 1.00\n",
            "kNN training accuracy (coefficient of determination): 0.69\n",
            "Ridge test accuracy (coefficient of determination): -0.66\n",
            "kNN test accuracy (coefficient of determination): 0.25\n"
          ]
        },
        {
          "output_type": "stream",
          "name": "stderr",
          "text": [
            "/usr/local/lib/python3.7/dist-packages/nilearn/datasets/struct.py:774: UserWarning: `legacy_format` will default to `False` in release 0.11. Dataset fetchers will then return pandas dataframes by default instead of recarrays.\n",
            "  warnings.warn(_LEGACY_FORMAT_MSG)\n"
          ]
        },
        {
          "output_type": "stream",
          "name": "stdout",
          "text": [
            "Ridge training accuracy (coefficient of determination): 1.00\n",
            "kNN training accuracy (coefficient of determination): 0.63\n",
            "Ridge test accuracy (coefficient of determination): -0.43\n",
            "kNN test accuracy (coefficient of determination): 0.22\n"
          ]
        },
        {
          "output_type": "stream",
          "name": "stderr",
          "text": [
            "/usr/local/lib/python3.7/dist-packages/nilearn/datasets/struct.py:774: UserWarning: `legacy_format` will default to `False` in release 0.11. Dataset fetchers will then return pandas dataframes by default instead of recarrays.\n",
            "  warnings.warn(_LEGACY_FORMAT_MSG)\n"
          ]
        },
        {
          "output_type": "stream",
          "name": "stdout",
          "text": [
            "Ridge training accuracy (coefficient of determination): 1.00\n",
            "kNN training accuracy (coefficient of determination): 0.66\n",
            "Ridge test accuracy (coefficient of determination): -0.57\n",
            "kNN test accuracy (coefficient of determination): 0.30\n"
          ]
        },
        {
          "output_type": "stream",
          "name": "stderr",
          "text": [
            "/usr/local/lib/python3.7/dist-packages/nilearn/datasets/struct.py:774: UserWarning: `legacy_format` will default to `False` in release 0.11. Dataset fetchers will then return pandas dataframes by default instead of recarrays.\n",
            "  warnings.warn(_LEGACY_FORMAT_MSG)\n"
          ]
        },
        {
          "output_type": "stream",
          "name": "stdout",
          "text": [
            "Ridge training accuracy (coefficient of determination): 1.00\n",
            "kNN training accuracy (coefficient of determination): 0.65\n",
            "Ridge test accuracy (coefficient of determination): -0.32\n",
            "kNN test accuracy (coefficient of determination): 0.31\n"
          ]
        },
        {
          "output_type": "stream",
          "name": "stderr",
          "text": [
            "/usr/local/lib/python3.7/dist-packages/nilearn/datasets/struct.py:774: UserWarning: `legacy_format` will default to `False` in release 0.11. Dataset fetchers will then return pandas dataframes by default instead of recarrays.\n",
            "  warnings.warn(_LEGACY_FORMAT_MSG)\n"
          ]
        },
        {
          "output_type": "stream",
          "name": "stdout",
          "text": [
            "Ridge training accuracy (coefficient of determination): 1.00\n",
            "kNN training accuracy (coefficient of determination): 0.66\n",
            "Ridge test accuracy (coefficient of determination): -0.37\n",
            "kNN test accuracy (coefficient of determination): 0.31\n"
          ]
        },
        {
          "output_type": "stream",
          "name": "stderr",
          "text": [
            "/usr/local/lib/python3.7/dist-packages/nilearn/datasets/struct.py:774: UserWarning: `legacy_format` will default to `False` in release 0.11. Dataset fetchers will then return pandas dataframes by default instead of recarrays.\n",
            "  warnings.warn(_LEGACY_FORMAT_MSG)\n"
          ]
        },
        {
          "output_type": "stream",
          "name": "stdout",
          "text": [
            "Ridge training accuracy (coefficient of determination): 1.00\n",
            "kNN training accuracy (coefficient of determination): 0.66\n",
            "Ridge test accuracy (coefficient of determination): -0.45\n",
            "kNN test accuracy (coefficient of determination): 0.24\n"
          ]
        },
        {
          "output_type": "stream",
          "name": "stderr",
          "text": [
            "/usr/local/lib/python3.7/dist-packages/nilearn/datasets/struct.py:774: UserWarning: `legacy_format` will default to `False` in release 0.11. Dataset fetchers will then return pandas dataframes by default instead of recarrays.\n",
            "  warnings.warn(_LEGACY_FORMAT_MSG)\n"
          ]
        },
        {
          "output_type": "stream",
          "name": "stdout",
          "text": [
            "Ridge training accuracy (coefficient of determination): 1.00\n",
            "kNN training accuracy (coefficient of determination): 0.69\n",
            "Ridge test accuracy (coefficient of determination): -0.23\n",
            "kNN test accuracy (coefficient of determination): 0.33\n"
          ]
        },
        {
          "output_type": "stream",
          "name": "stderr",
          "text": [
            "/usr/local/lib/python3.7/dist-packages/nilearn/datasets/struct.py:774: UserWarning: `legacy_format` will default to `False` in release 0.11. Dataset fetchers will then return pandas dataframes by default instead of recarrays.\n",
            "  warnings.warn(_LEGACY_FORMAT_MSG)\n"
          ]
        },
        {
          "output_type": "stream",
          "name": "stdout",
          "text": [
            "Ridge training accuracy (coefficient of determination): 1.00\n",
            "kNN training accuracy (coefficient of determination): 0.66\n",
            "Ridge test accuracy (coefficient of determination): -0.22\n",
            "kNN test accuracy (coefficient of determination): 0.33\n"
          ]
        },
        {
          "output_type": "stream",
          "name": "stderr",
          "text": [
            "/usr/local/lib/python3.7/dist-packages/nilearn/datasets/struct.py:774: UserWarning: `legacy_format` will default to `False` in release 0.11. Dataset fetchers will then return pandas dataframes by default instead of recarrays.\n",
            "  warnings.warn(_LEGACY_FORMAT_MSG)\n"
          ]
        },
        {
          "output_type": "stream",
          "name": "stdout",
          "text": [
            "Ridge training accuracy (coefficient of determination): 1.00\n",
            "kNN training accuracy (coefficient of determination): 0.69\n",
            "Ridge test accuracy (coefficient of determination): -0.34\n",
            "kNN test accuracy (coefficient of determination): 0.32\n"
          ]
        },
        {
          "output_type": "stream",
          "name": "stderr",
          "text": [
            "/usr/local/lib/python3.7/dist-packages/nilearn/datasets/struct.py:774: UserWarning: `legacy_format` will default to `False` in release 0.11. Dataset fetchers will then return pandas dataframes by default instead of recarrays.\n",
            "  warnings.warn(_LEGACY_FORMAT_MSG)\n"
          ]
        },
        {
          "output_type": "stream",
          "name": "stdout",
          "text": [
            "Ridge training accuracy (coefficient of determination): 1.00\n",
            "kNN training accuracy (coefficient of determination): 0.69\n",
            "Ridge test accuracy (coefficient of determination): -0.26\n",
            "kNN test accuracy (coefficient of determination): 0.33\n"
          ]
        },
        {
          "output_type": "stream",
          "name": "stderr",
          "text": [
            "/usr/local/lib/python3.7/dist-packages/nilearn/datasets/struct.py:774: UserWarning: `legacy_format` will default to `False` in release 0.11. Dataset fetchers will then return pandas dataframes by default instead of recarrays.\n",
            "  warnings.warn(_LEGACY_FORMAT_MSG)\n"
          ]
        },
        {
          "output_type": "stream",
          "name": "stdout",
          "text": [
            "Ridge training accuracy (coefficient of determination): 1.00\n",
            "kNN training accuracy (coefficient of determination): 0.72\n",
            "Ridge test accuracy (coefficient of determination): -0.18\n",
            "kNN test accuracy (coefficient of determination): 0.35\n"
          ]
        },
        {
          "output_type": "stream",
          "name": "stderr",
          "text": [
            "/usr/local/lib/python3.7/dist-packages/nilearn/datasets/struct.py:774: UserWarning: `legacy_format` will default to `False` in release 0.11. Dataset fetchers will then return pandas dataframes by default instead of recarrays.\n",
            "  warnings.warn(_LEGACY_FORMAT_MSG)\n"
          ]
        },
        {
          "output_type": "stream",
          "name": "stdout",
          "text": [
            "Ridge training accuracy (coefficient of determination): 1.00\n",
            "kNN training accuracy (coefficient of determination): 0.69\n",
            "Ridge test accuracy (coefficient of determination): -0.07\n",
            "kNN test accuracy (coefficient of determination): 0.31\n"
          ]
        },
        {
          "output_type": "stream",
          "name": "stderr",
          "text": [
            "/usr/local/lib/python3.7/dist-packages/nilearn/datasets/struct.py:774: UserWarning: `legacy_format` will default to `False` in release 0.11. Dataset fetchers will then return pandas dataframes by default instead of recarrays.\n",
            "  warnings.warn(_LEGACY_FORMAT_MSG)\n"
          ]
        },
        {
          "output_type": "stream",
          "name": "stdout",
          "text": [
            "Ridge training accuracy (coefficient of determination): 1.00\n",
            "kNN training accuracy (coefficient of determination): 0.70\n",
            "Ridge test accuracy (coefficient of determination): -0.05\n",
            "kNN test accuracy (coefficient of determination): 0.31\n"
          ]
        },
        {
          "output_type": "stream",
          "name": "stderr",
          "text": [
            "/usr/local/lib/python3.7/dist-packages/nilearn/datasets/struct.py:774: UserWarning: `legacy_format` will default to `False` in release 0.11. Dataset fetchers will then return pandas dataframes by default instead of recarrays.\n",
            "  warnings.warn(_LEGACY_FORMAT_MSG)\n"
          ]
        },
        {
          "output_type": "stream",
          "name": "stdout",
          "text": [
            "Ridge training accuracy (coefficient of determination): 1.00\n",
            "kNN training accuracy (coefficient of determination): 0.73\n",
            "Ridge test accuracy (coefficient of determination): -0.03\n",
            "kNN test accuracy (coefficient of determination): 0.35\n"
          ]
        },
        {
          "output_type": "stream",
          "name": "stderr",
          "text": [
            "/usr/local/lib/python3.7/dist-packages/nilearn/datasets/struct.py:774: UserWarning: `legacy_format` will default to `False` in release 0.11. Dataset fetchers will then return pandas dataframes by default instead of recarrays.\n",
            "  warnings.warn(_LEGACY_FORMAT_MSG)\n"
          ]
        },
        {
          "output_type": "stream",
          "name": "stdout",
          "text": [
            "Ridge training accuracy (coefficient of determination): 1.00\n",
            "kNN training accuracy (coefficient of determination): 0.72\n",
            "Ridge test accuracy (coefficient of determination): -0.05\n",
            "kNN test accuracy (coefficient of determination): 0.34\n"
          ]
        },
        {
          "output_type": "stream",
          "name": "stderr",
          "text": [
            "/usr/local/lib/python3.7/dist-packages/nilearn/datasets/struct.py:774: UserWarning: `legacy_format` will default to `False` in release 0.11. Dataset fetchers will then return pandas dataframes by default instead of recarrays.\n",
            "  warnings.warn(_LEGACY_FORMAT_MSG)\n"
          ]
        },
        {
          "output_type": "stream",
          "name": "stdout",
          "text": [
            "Ridge training accuracy (coefficient of determination): 1.00\n",
            "kNN training accuracy (coefficient of determination): 0.72\n",
            "Ridge test accuracy (coefficient of determination): 0.00\n",
            "kNN test accuracy (coefficient of determination): 0.33\n"
          ]
        },
        {
          "output_type": "stream",
          "name": "stderr",
          "text": [
            "/usr/local/lib/python3.7/dist-packages/nilearn/datasets/struct.py:774: UserWarning: `legacy_format` will default to `False` in release 0.11. Dataset fetchers will then return pandas dataframes by default instead of recarrays.\n",
            "  warnings.warn(_LEGACY_FORMAT_MSG)\n"
          ]
        },
        {
          "output_type": "stream",
          "name": "stdout",
          "text": [
            "Ridge training accuracy (coefficient of determination): 1.00\n",
            "kNN training accuracy (coefficient of determination): 0.73\n",
            "Ridge test accuracy (coefficient of determination): -0.10\n",
            "kNN test accuracy (coefficient of determination): 0.30\n"
          ]
        },
        {
          "output_type": "stream",
          "name": "stderr",
          "text": [
            "/usr/local/lib/python3.7/dist-packages/nilearn/datasets/struct.py:774: UserWarning: `legacy_format` will default to `False` in release 0.11. Dataset fetchers will then return pandas dataframes by default instead of recarrays.\n",
            "  warnings.warn(_LEGACY_FORMAT_MSG)\n"
          ]
        },
        {
          "output_type": "stream",
          "name": "stdout",
          "text": [
            "Ridge training accuracy (coefficient of determination): 1.00\n",
            "kNN training accuracy (coefficient of determination): 0.74\n",
            "Ridge test accuracy (coefficient of determination): -0.12\n",
            "kNN test accuracy (coefficient of determination): 0.32\n"
          ]
        },
        {
          "output_type": "stream",
          "name": "stderr",
          "text": [
            "/usr/local/lib/python3.7/dist-packages/nilearn/datasets/struct.py:774: UserWarning: `legacy_format` will default to `False` in release 0.11. Dataset fetchers will then return pandas dataframes by default instead of recarrays.\n",
            "  warnings.warn(_LEGACY_FORMAT_MSG)\n"
          ]
        },
        {
          "output_type": "stream",
          "name": "stdout",
          "text": [
            "Ridge training accuracy (coefficient of determination): 1.00\n",
            "kNN training accuracy (coefficient of determination): 0.71\n",
            "Ridge test accuracy (coefficient of determination): 0.04\n",
            "kNN test accuracy (coefficient of determination): 0.34\n"
          ]
        },
        {
          "output_type": "stream",
          "name": "stderr",
          "text": [
            "/usr/local/lib/python3.7/dist-packages/nilearn/datasets/struct.py:774: UserWarning: `legacy_format` will default to `False` in release 0.11. Dataset fetchers will then return pandas dataframes by default instead of recarrays.\n",
            "  warnings.warn(_LEGACY_FORMAT_MSG)\n"
          ]
        },
        {
          "output_type": "stream",
          "name": "stdout",
          "text": [
            "Ridge training accuracy (coefficient of determination): 1.00\n",
            "kNN training accuracy (coefficient of determination): 0.71\n",
            "Ridge test accuracy (coefficient of determination): -0.04\n",
            "kNN test accuracy (coefficient of determination): 0.23\n"
          ]
        },
        {
          "output_type": "stream",
          "name": "stderr",
          "text": [
            "/usr/local/lib/python3.7/dist-packages/nilearn/datasets/struct.py:774: UserWarning: `legacy_format` will default to `False` in release 0.11. Dataset fetchers will then return pandas dataframes by default instead of recarrays.\n",
            "  warnings.warn(_LEGACY_FORMAT_MSG)\n"
          ]
        },
        {
          "output_type": "stream",
          "name": "stdout",
          "text": [
            "Ridge training accuracy (coefficient of determination): 1.00\n",
            "kNN training accuracy (coefficient of determination): 0.74\n",
            "Ridge test accuracy (coefficient of determination): 0.12\n",
            "kNN test accuracy (coefficient of determination): 0.34\n"
          ]
        }
      ]
    },
    {
      "cell_type": "code",
      "source": [
        "# We're ready to plot\n",
        "lab = ['Ridge', 'kNN-reg']\n",
        "plt.style.use(\"default\")\n",
        "plt.scatter(versions,ridge_test_acc, s=100, alpha = 0.5, marker = 'd')\n",
        "plt.scatter(versions,knn_test_acc, s=100, alpha = 0.5, marker = 's')\n",
        "plt.legend(labels=(lab))\n",
        "plt.gca().set(\n",
        "    title=\"Test set model accuracy as a function of atlas version (1-43)\",\n",
        "    xlabel=\"Atlas version\",\n",
        "    ylabel=\"Coefficient of determination for ridge and kNN-reg models\",\n",
        ")\n",
        "plt.show()"
      ],
      "metadata": {
        "colab": {
          "base_uri": "https://localhost:8080/",
          "height": 472
        },
        "id": "lH0D-2mhXmxK",
        "outputId": "e8b7a772-a5bd-46c0-bc4e-c87ee5b0a71f"
      },
      "execution_count": null,
      "outputs": [
        {
          "output_type": "display_data",
          "data": {
            "text/plain": [
              "<Figure size 640x480 with 1 Axes>"
            ],
            "image/png": "[encoded data removed]"
          },
          "metadata": {}
        }
      ]
    },
    {
      "cell_type": "markdown",
      "source": [
        "kNN with 5 neighbours systematically outperform ridge regression, regardless of the number of ROIs, which increase with each atlas number. "
      ],
      "metadata": {
        "id": "GeCyqVIGqb09"
      }
    }
  ]
}