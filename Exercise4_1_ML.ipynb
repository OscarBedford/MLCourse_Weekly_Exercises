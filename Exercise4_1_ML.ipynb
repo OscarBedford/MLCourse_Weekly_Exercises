{
  "nbformat": 4,
  "nbformat_minor": 0,
  "metadata": {
    "colab": {
      "provenance": [],
      "collapsed_sections": [],
      "authorship_tag": "ABX9TyOrYBZ7oU6QWUa2EW1hbDSI",
      "include_colab_link": true
    },
    "kernelspec": {
      "name": "python3",
      "display_name": "Python 3"
    },
    "language_info": {
      "name": "python"
    }
  },
  "cells": [
    {
      "cell_type": "markdown",
      "metadata": {
        "id": "view-in-github",
        "colab_type": "text"
      },
      "source": [
        "<a href=\"https://colab.research.google.com/github/OscarBedford/MLCourse_Weekly_Exercises/blob/main/Exercise4_1_ML.ipynb\" target=\"_parent\"><img src=\"https://colab.research.google.com/assets/colab-badge.svg\" alt=\"Open In Colab\"/></a>"
      ]
    },
    {
      "cell_type": "markdown",
      "source": [
        "Dataset with brain atlas A for classification tasks: for the first set of 5 small programming tasks use the Oasis dataset provided by the nilearn package, which can be downloaded using the code below. This is a dataset of structural brain scans (aka voxel-based morphometry) for male and female individuals."
      ],
      "metadata": {
        "id": "6K8oAII7EK5h"
      }
    },
    {
      "cell_type": "markdown",
      "source": [
        "Task 1 - Use sklearn.linear_model.LogisticRegression(penalty=’l1’, C=1.0),\n",
        "sklearn.linear_model.LogisticRegression(penalty=’l2’, C=1.0) and sklearn.linear_model.LogisticRegression(penalty=’elasticnet’, l1_ratio=0.5, C=1.0) to fit separate logistic predictive models based on 100, 200, 300, ..., 900, 1000 brain regions of interest (see ‘n_rois’ argument for datasets. fetch_atlas_schaefer_2018) based on the first 80% of the 100 structural brain scans to predict sex. Next, evaluate each fitted LogReg model on the unseen final 20% of the 100 structural brain scans and retrieve classification accuracy in XX.YY%. Please plot the classification accuracy on the test set (x\n",
        "axis=the different atlas resolutions, y axis=prediction accuracy on test set, 3 lines with 3 colors for the 3 prediction model classes with different regularization constraints)."
      ],
      "metadata": {
        "id": "cTlq2Ldnsfr7"
      }
    },
    {
      "cell_type": "code",
      "source": [
        "!pip install nilearn"
      ],
      "metadata": {
        "colab": {
          "base_uri": "https://localhost:8080/"
        },
        "id": "Dqk81jEyEk94",
        "outputId": "13e44976-e8a7-4fd4-af8e-8049dffbcd4f"
      },
      "execution_count": null,
      "outputs": [
        {
          "output_type": "stream",
          "name": "stdout",
          "text": [
            "Looking in indexes: https://pypi.org/simple, https://us-python.pkg.dev/colab-wheels/public/simple/\n",
            "Requirement already satisfied: nilearn in /usr/local/lib/python3.7/dist-packages (0.9.2)\n",
            "Requirement already satisfied: numpy>=1.18 in /usr/local/lib/python3.7/dist-packages (from nilearn) (1.21.6)\n",
            "Requirement already satisfied: lxml in /usr/local/lib/python3.7/dist-packages (from nilearn) (4.9.1)\n",
            "Requirement already satisfied: pandas>=1.0 in /usr/local/lib/python3.7/dist-packages (from nilearn) (1.3.5)\n",
            "Requirement already satisfied: nibabel>=3.0.0 in /usr/local/lib/python3.7/dist-packages (from nilearn) (3.0.2)\n",
            "Requirement already satisfied: scikit-learn>=0.22 in /usr/local/lib/python3.7/dist-packages (from nilearn) (1.0.2)\n",
            "Requirement already satisfied: requests>=2 in /usr/local/lib/python3.7/dist-packages (from nilearn) (2.23.0)\n",
            "Requirement already satisfied: scipy>=1.5 in /usr/local/lib/python3.7/dist-packages (from nilearn) (1.7.3)\n",
            "Requirement already satisfied: joblib>=0.15 in /usr/local/lib/python3.7/dist-packages (from nilearn) (1.1.0)\n",
            "Requirement already satisfied: pytz>=2017.3 in /usr/local/lib/python3.7/dist-packages (from pandas>=1.0->nilearn) (2022.2.1)\n",
            "Requirement already satisfied: python-dateutil>=2.7.3 in /usr/local/lib/python3.7/dist-packages (from pandas>=1.0->nilearn) (2.8.2)\n",
            "Requirement already satisfied: six>=1.5 in /usr/local/lib/python3.7/dist-packages (from python-dateutil>=2.7.3->pandas>=1.0->nilearn) (1.15.0)\n",
            "Requirement already satisfied: idna<3,>=2.5 in /usr/local/lib/python3.7/dist-packages (from requests>=2->nilearn) (2.10)\n",
            "Requirement already satisfied: certifi>=2017.4.17 in /usr/local/lib/python3.7/dist-packages (from requests>=2->nilearn) (2022.6.15)\n",
            "Requirement already satisfied: chardet<4,>=3.0.2 in /usr/local/lib/python3.7/dist-packages (from requests>=2->nilearn) (3.0.4)\n",
            "Requirement already satisfied: urllib3!=1.25.0,!=1.25.1,<1.26,>=1.21.1 in /usr/local/lib/python3.7/dist-packages (from requests>=2->nilearn) (1.24.3)\n",
            "Requirement already satisfied: threadpoolctl>=2.0.0 in /usr/local/lib/python3.7/dist-packages (from scikit-learn>=0.22->nilearn) (3.1.0)\n"
          ]
        }
      ]
    },
    {
      "cell_type": "code",
      "source": [
        "import numpy as np\n",
        "from nilearn import datasets\n",
        "from nilearn.input_data import NiftiLabelsMasker\n",
        "from nilearn.image import index_img\n",
        "import nibabel as nib\n",
        "brain_data = datasets.fetch_oasis_vbm(n_subjects=100)\n",
        "yeo = datasets.fetch_atlas_schaefer_2018(n_rois=200)\n",
        "masker = NiftiLabelsMasker(labels_img=yeo.maps, standardize=True,\n",
        "memory='nilearn_cache')\n",
        "input_variables =masker.fit_transform(brain_data.gray_matter_maps)\n",
        "output_variable = np.array(brain_data.ext_vars.mf == 'F',\n",
        "dtype=int) #gives 1 for females and 0 for males"
      ],
      "metadata": {
        "colab": {
          "base_uri": "https://localhost:8080/"
        },
        "id": "oPOnJv1NEaJ5",
        "outputId": "2d31b2c3-cbc0-4847-86c5-99e8d978c4a9"
      },
      "execution_count": null,
      "outputs": [
        {
          "output_type": "stream",
          "name": "stderr",
          "text": [
            "/usr/local/lib/python3.7/dist-packages/nilearn/datasets/struct.py:774: UserWarning: `legacy_format` will default to `False` in release 0.11. Dataset fetchers will then return pandas dataframes by default instead of recarrays.\n",
            "  warnings.warn(_LEGACY_FORMAT_MSG)\n"
          ]
        }
      ]
    },
    {
      "cell_type": "code",
      "source": [
        "import matplotlib.pyplot as plt\n",
        "from numpy import mean\n",
        "from numpy import std\n",
        "from sklearn.linear_model import LogisticRegression\n",
        "from sklearn.utils import resample\n",
        "from sklearn.preprocessing import StandardScaler\n",
        "scaler = StandardScaler()\n",
        "from sklearn.model_selection import train_test_split\n",
        "from sklearn.metrics import classification_report"
      ],
      "metadata": {
        "id": "K_DPLzVWEdt6"
      },
      "execution_count": null,
      "outputs": []
    },
    {
      "cell_type": "code",
      "source": [
        "# We prepare the models in advance\n",
        "lasso = LogisticRegression(max_iter=1e4, penalty = 'l1', C = 1, solver = 'saga').fit\n",
        "ridge = LogisticRegression(max_iter=1e4, penalty = 'l2', C = 1, solver = 'saga').fit\n",
        "e_net = LogisticRegression(max_iter=1e4, penalty = 'elasticnet', l1_ratio=0.5, C = 1, solver = 'saga').fit"
      ],
      "metadata": {
        "id": "PRoJClzHFW_1"
      },
      "execution_count": null,
      "outputs": []
    },
    {
      "cell_type": "code",
      "source": [
        "# We rename and scale the X and y variables\n",
        "X, y = input_variables, output_variable\n",
        "X_scaled = scaler.fit_transform(X)\n",
        "X_train, X_test, y_train, y_test = train_test_split(X_scaled, y, test_size=0.2, shuffle=False)\n",
        "\n",
        "# We fit the lasso training model \n",
        "LassoReg = lasso(X_train,y_train) # We fit the lasso model\n",
        "score = LassoReg.score(X_train, y_train)\n",
        "score = np.multiply(score, 100) \n",
        "print('Lasso training accuracy: %.2f' % ((score))) # We print the classification accuracy\n",
        "\n",
        "# We fit the ridge training model \n",
        "RidgeReg = ridge(X_train,y_train) # We fit the ridge model\n",
        "score = RidgeReg.score(X_train, y_train)\n",
        "score = np.multiply(score, 100) \n",
        "print('Ridge training accuracy: %.2f' % ((score))) # We print the classification accuracy\n",
        "\n",
        "# We fit the ElasticNet training model \n",
        "E_netReg = e_net(X_train,y_train) # We fit the elnet model\n",
        "score = E_netReg.score(X_train, y_train)\n",
        "score = np.multiply(score, 100) \n",
        "print('ElasticNet training accuracy: %.2f' % ((score))) # We print the classification accuracy"
      ],
      "metadata": {
        "colab": {
          "base_uri": "https://localhost:8080/"
        },
        "id": "QaMSblr5F4Qq",
        "outputId": "8e091067-7228-4d69-ff65-6776b1debfbd"
      },
      "execution_count": null,
      "outputs": [
        {
          "output_type": "stream",
          "name": "stdout",
          "text": [
            "Lasso training accuracy: 100.00\n",
            "Ridge training accuracy: 100.00\n",
            "ElasticNet training accuracy: 100.00\n"
          ]
        }
      ]
    },
    {
      "cell_type": "code",
      "source": [
        "# We are now ready to run our predictions on the test set\n",
        "yhat_L = LassoReg.predict(X_test) # We define the lasso model and store its prediction as \"yhat\"\n",
        "score_L = LassoReg.score(X_test, y_test) # We store the scores\n",
        "score_L = np.multiply(score_L, 100) \n",
        "print('Lasso test accuracy: %.2f' % ((score_L))) # We print the scores\n",
        "\n",
        "yhat_R = RidgeReg.predict(X_test) # We define the ridge model and store its prediction as \"yhat\"\n",
        "score_R = RidgeReg.score(X_test, y_test) # We store the scores\n",
        "score_R = np.multiply(score_R, 100) \n",
        "print('Ridge test accuracy: %.2f' % ((score_R))) # We print the scores\n",
        "\n",
        "yhat_E = E_netReg.predict(X_test) # We define the elnet model and store its prediction as \"yhat\"\n",
        "score_E = E_netReg.score(X_test, y_test) # We store the scores\n",
        "score_E = np.multiply(score_E, 100) \n",
        "print('ElasticNet test accuracy: %.2f' % ((score_E))) # We print the scores"
      ],
      "metadata": {
        "colab": {
          "base_uri": "https://localhost:8080/"
        },
        "id": "67a3rR_cGr4u",
        "outputId": "3ea65860-d061-44aa-c30b-b2c1497f12b5"
      },
      "execution_count": null,
      "outputs": [
        {
          "output_type": "stream",
          "name": "stdout",
          "text": [
            "Lasso test accuracy: 90.00\n",
            "Ridge test accuracy: 85.00\n",
            "ElasticNet test accuracy: 85.00\n"
          ]
        }
      ]
    },
    {
      "cell_type": "markdown",
      "source": [
        "Looks like the lasso model is slightly better than the other two at predicting sex. Now that we have tested our code, we're ready to iterate:"
      ],
      "metadata": {
        "id": "XPkucRiq6wDD"
      }
    },
    {
      "cell_type": "code",
      "source": [
        "# We define the iterating variable\n",
        "ROIs = [100, 200, 300, 400, 500, 600, 700, 800, 900, 1000]"
      ],
      "metadata": {
        "id": "QDCU0GQUtreW"
      },
      "execution_count": null,
      "outputs": []
    },
    {
      "cell_type": "code",
      "source": [
        "# We pre-allocate the variables we want to populate with accuracy scores\n",
        "lasso_tr_acc = []\n",
        "ridge_tr_acc = []\n",
        "elnet_tr_acc = []\n",
        "\n",
        "lasso_test_acc = []\n",
        "ridge_test_acc = []\n",
        "elnet_test_acc = []"
      ],
      "metadata": {
        "id": "p3Ke9q4ZHVI-"
      },
      "execution_count": null,
      "outputs": []
    },
    {
      "cell_type": "code",
      "source": [
        "for x in ROIs:\n",
        "    brain_data = datasets.fetch_oasis_vbm(n_subjects=100) \n",
        "    yeo = datasets.fetch_atlas_schaefer_2018(n_rois=(x))  # We iterate through the list of ROI values\n",
        "    masker = NiftiLabelsMasker(labels_img=yeo.maps, standardize=True, memory='nilearn_cache') \n",
        "    input_variables = masker.fit_transform(brain_data.gray_matter_maps) \n",
        "    output_variable = np.array(brain_data.ext_vars.mf == 'F', dtype=np.int)\n",
        "\n",
        "    lasso = LogisticRegression(max_iter=1e4, penalty = 'l1', C = 1, solver = 'saga').fit\n",
        "    ridge = LogisticRegression(max_iter=1e4, penalty = 'l2', C = 1, solver = 'saga').fit\n",
        "    e_net = LogisticRegression(max_iter=1e4, penalty = 'elasticnet', l1_ratio=0.5, C = 1, solver = 'saga').fit\n",
        "\n",
        "    X, y = input_variables, output_variable\n",
        "    X_scaled = scaler.fit_transform(X)\n",
        "    X_train, X_test, y_train, y_test = train_test_split(X_scaled, y, test_size=0.2, shuffle=False)\n",
        "\n",
        "    LassoReg = lasso(X_train,y_train) # We fit the lasso training model\n",
        "    score_L = LassoReg.score(X_train, y_train)\n",
        "    score_L = np.multiply(score_L, 100)\n",
        "    lasso_tr_acc.append(score_L) \n",
        "    print('Lasso training accuracy: %.2f' % ((score_L))) # We print the scores\n",
        "\n",
        "    RidgeReg = ridge(X_train,y_train) # We fit the ridge training model\n",
        "    score_R = RidgeReg.score(X_train, y_train)\n",
        "    score_R = np.multiply(score_R, 100) \n",
        "    ridge_tr_acc.append(score_R) \n",
        "    print('Ridge training accuracy: %.2f' % ((score_R))) # We print the scores\n",
        "\n",
        "    E_netReg = e_net(X_train,y_train) # We fit the ElasticNet training model\n",
        "    score_E = E_netReg.score(X_train, y_train)\n",
        "    score_E = np.multiply(score_E, 100) \n",
        "    elnet_tr_acc.append(score_E) \n",
        "    print('ElasticNet training accuracy: %.2f' % ((score_E))) # We print the scores\n",
        "\n",
        "    yhat_L = LassoReg.predict(X_test) # We define the lasso model and store its prediction as \"yhat\"\n",
        "    score_Lt = LassoReg.score(X_test, y_test) # We store the scores\n",
        "    score_Lt = np.multiply(score_Lt, 100) \n",
        "    lasso_test_acc.append(score_Lt)\n",
        "    print('Lasso test accuracy: %.2f' % ((score_Lt))) # We print the scores\n",
        "\n",
        "    yhat_R = RidgeReg.predict(X_test) # We define the ridge model and store its prediction as \"yhat\"\n",
        "    score_Rt = RidgeReg.score(X_test, y_test) # We store the scores\n",
        "    score_Rt = np.multiply(score_Rt, 100) \n",
        "    ridge_test_acc.append(score_Rt)\n",
        "    print('Ridge test accuracy: %.2f' % ((score_Rt))) # We print the scores\n",
        "\n",
        "    yhat_E = E_netReg.predict(X_test) # We define the elnet model and store its prediction as \"yhat\"\n",
        "    score_Et = E_netReg.score(X_test, y_test) # We store the scores\n",
        "    score_Et = np.multiply(score_Et, 100) \n",
        "    elnet_test_acc.append(score_Et)\n",
        "    print('ElasticNet test accuracy: %.2f' % ((score_Et))) # We print the scores"
      ],
      "metadata": {
        "colab": {
          "base_uri": "https://localhost:8080/"
        },
        "id": "iBs1k8Lcs6yP",
        "outputId": "2ae19ffa-eee5-4dac-8879-f2153629b98a"
      },
      "execution_count": null,
      "outputs": [
        {
          "output_type": "stream",
          "name": "stderr",
          "text": [
            "/usr/local/lib/python3.7/dist-packages/nilearn/datasets/struct.py:774: UserWarning: `legacy_format` will default to `False` in release 0.11. Dataset fetchers will then return pandas dataframes by default instead of recarrays.\n",
            "  warnings.warn(_LEGACY_FORMAT_MSG)\n",
            "/usr/local/lib/python3.7/dist-packages/ipykernel_launcher.py:6: DeprecationWarning: `np.int` is a deprecated alias for the builtin `int`. To silence this warning, use `int` by itself. Doing this will not modify any behavior and is safe. When replacing `np.int`, you may wish to use e.g. `np.int64` or `np.int32` to specify the precision. If you wish to review your current use, check the release note link for additional information.\n",
            "Deprecated in NumPy 1.20; for more details and guidance: https://numpy.org/devdocs/release/1.20.0-notes.html#deprecations\n",
            "  \n"
          ]
        },
        {
          "output_type": "stream",
          "name": "stdout",
          "text": [
            "Lasso training accuracy: 96.25\n",
            "Ridge training accuracy: 100.00\n",
            "ElasticNet training accuracy: 97.50\n",
            "Lasso test accuracy: 60.00\n",
            "Ridge test accuracy: 55.00\n",
            "ElasticNet test accuracy: 70.00\n"
          ]
        },
        {
          "output_type": "stream",
          "name": "stderr",
          "text": [
            "/usr/local/lib/python3.7/dist-packages/nilearn/datasets/struct.py:774: UserWarning: `legacy_format` will default to `False` in release 0.11. Dataset fetchers will then return pandas dataframes by default instead of recarrays.\n",
            "  warnings.warn(_LEGACY_FORMAT_MSG)\n",
            "/usr/local/lib/python3.7/dist-packages/ipykernel_launcher.py:6: DeprecationWarning: `np.int` is a deprecated alias for the builtin `int`. To silence this warning, use `int` by itself. Doing this will not modify any behavior and is safe. When replacing `np.int`, you may wish to use e.g. `np.int64` or `np.int32` to specify the precision. If you wish to review your current use, check the release note link for additional information.\n",
            "Deprecated in NumPy 1.20; for more details and guidance: https://numpy.org/devdocs/release/1.20.0-notes.html#deprecations\n",
            "  \n"
          ]
        },
        {
          "output_type": "stream",
          "name": "stdout",
          "text": [
            "Lasso training accuracy: 100.00\n",
            "Ridge training accuracy: 100.00\n",
            "ElasticNet training accuracy: 100.00\n",
            "Lasso test accuracy: 70.00\n",
            "Ridge test accuracy: 70.00\n",
            "ElasticNet test accuracy: 70.00\n"
          ]
        },
        {
          "output_type": "stream",
          "name": "stderr",
          "text": [
            "/usr/local/lib/python3.7/dist-packages/nilearn/datasets/struct.py:774: UserWarning: `legacy_format` will default to `False` in release 0.11. Dataset fetchers will then return pandas dataframes by default instead of recarrays.\n",
            "  warnings.warn(_LEGACY_FORMAT_MSG)\n",
            "/usr/local/lib/python3.7/dist-packages/ipykernel_launcher.py:6: DeprecationWarning: `np.int` is a deprecated alias for the builtin `int`. To silence this warning, use `int` by itself. Doing this will not modify any behavior and is safe. When replacing `np.int`, you may wish to use e.g. `np.int64` or `np.int32` to specify the precision. If you wish to review your current use, check the release note link for additional information.\n",
            "Deprecated in NumPy 1.20; for more details and guidance: https://numpy.org/devdocs/release/1.20.0-notes.html#deprecations\n",
            "  \n"
          ]
        },
        {
          "output_type": "stream",
          "name": "stdout",
          "text": [
            "Lasso training accuracy: 100.00\n",
            "Ridge training accuracy: 100.00\n",
            "ElasticNet training accuracy: 100.00\n",
            "Lasso test accuracy: 90.00\n",
            "Ridge test accuracy: 85.00\n",
            "ElasticNet test accuracy: 85.00\n"
          ]
        },
        {
          "output_type": "stream",
          "name": "stderr",
          "text": [
            "/usr/local/lib/python3.7/dist-packages/nilearn/datasets/struct.py:774: UserWarning: `legacy_format` will default to `False` in release 0.11. Dataset fetchers will then return pandas dataframes by default instead of recarrays.\n",
            "  warnings.warn(_LEGACY_FORMAT_MSG)\n",
            "/usr/local/lib/python3.7/dist-packages/ipykernel_launcher.py:6: DeprecationWarning: `np.int` is a deprecated alias for the builtin `int`. To silence this warning, use `int` by itself. Doing this will not modify any behavior and is safe. When replacing `np.int`, you may wish to use e.g. `np.int64` or `np.int32` to specify the precision. If you wish to review your current use, check the release note link for additional information.\n",
            "Deprecated in NumPy 1.20; for more details and guidance: https://numpy.org/devdocs/release/1.20.0-notes.html#deprecations\n",
            "  \n"
          ]
        },
        {
          "output_type": "stream",
          "name": "stdout",
          "text": [
            "Lasso training accuracy: 100.00\n",
            "Ridge training accuracy: 100.00\n",
            "ElasticNet training accuracy: 100.00\n",
            "Lasso test accuracy: 95.00\n",
            "Ridge test accuracy: 85.00\n",
            "ElasticNet test accuracy: 85.00\n"
          ]
        },
        {
          "output_type": "stream",
          "name": "stderr",
          "text": [
            "/usr/local/lib/python3.7/dist-packages/nilearn/datasets/struct.py:774: UserWarning: `legacy_format` will default to `False` in release 0.11. Dataset fetchers will then return pandas dataframes by default instead of recarrays.\n",
            "  warnings.warn(_LEGACY_FORMAT_MSG)\n",
            "/usr/local/lib/python3.7/dist-packages/ipykernel_launcher.py:6: DeprecationWarning: `np.int` is a deprecated alias for the builtin `int`. To silence this warning, use `int` by itself. Doing this will not modify any behavior and is safe. When replacing `np.int`, you may wish to use e.g. `np.int64` or `np.int32` to specify the precision. If you wish to review your current use, check the release note link for additional information.\n",
            "Deprecated in NumPy 1.20; for more details and guidance: https://numpy.org/devdocs/release/1.20.0-notes.html#deprecations\n",
            "  \n"
          ]
        },
        {
          "output_type": "stream",
          "name": "stdout",
          "text": [
            "Lasso training accuracy: 100.00\n",
            "Ridge training accuracy: 100.00\n",
            "ElasticNet training accuracy: 100.00\n",
            "Lasso test accuracy: 75.00\n",
            "Ridge test accuracy: 80.00\n",
            "ElasticNet test accuracy: 80.00\n"
          ]
        },
        {
          "output_type": "stream",
          "name": "stderr",
          "text": [
            "/usr/local/lib/python3.7/dist-packages/nilearn/datasets/struct.py:774: UserWarning: `legacy_format` will default to `False` in release 0.11. Dataset fetchers will then return pandas dataframes by default instead of recarrays.\n",
            "  warnings.warn(_LEGACY_FORMAT_MSG)\n",
            "/usr/local/lib/python3.7/dist-packages/ipykernel_launcher.py:6: DeprecationWarning: `np.int` is a deprecated alias for the builtin `int`. To silence this warning, use `int` by itself. Doing this will not modify any behavior and is safe. When replacing `np.int`, you may wish to use e.g. `np.int64` or `np.int32` to specify the precision. If you wish to review your current use, check the release note link for additional information.\n",
            "Deprecated in NumPy 1.20; for more details and guidance: https://numpy.org/devdocs/release/1.20.0-notes.html#deprecations\n",
            "  \n"
          ]
        },
        {
          "output_type": "stream",
          "name": "stdout",
          "text": [
            "Lasso training accuracy: 100.00\n",
            "Ridge training accuracy: 100.00\n",
            "ElasticNet training accuracy: 100.00\n",
            "Lasso test accuracy: 75.00\n",
            "Ridge test accuracy: 80.00\n",
            "ElasticNet test accuracy: 75.00\n"
          ]
        },
        {
          "output_type": "stream",
          "name": "stderr",
          "text": [
            "/usr/local/lib/python3.7/dist-packages/nilearn/datasets/struct.py:774: UserWarning: `legacy_format` will default to `False` in release 0.11. Dataset fetchers will then return pandas dataframes by default instead of recarrays.\n",
            "  warnings.warn(_LEGACY_FORMAT_MSG)\n",
            "/usr/local/lib/python3.7/dist-packages/ipykernel_launcher.py:6: DeprecationWarning: `np.int` is a deprecated alias for the builtin `int`. To silence this warning, use `int` by itself. Doing this will not modify any behavior and is safe. When replacing `np.int`, you may wish to use e.g. `np.int64` or `np.int32` to specify the precision. If you wish to review your current use, check the release note link for additional information.\n",
            "Deprecated in NumPy 1.20; for more details and guidance: https://numpy.org/devdocs/release/1.20.0-notes.html#deprecations\n",
            "  \n"
          ]
        },
        {
          "output_type": "stream",
          "name": "stdout",
          "text": [
            "Lasso training accuracy: 100.00\n",
            "Ridge training accuracy: 100.00\n",
            "ElasticNet training accuracy: 100.00\n",
            "Lasso test accuracy: 75.00\n",
            "Ridge test accuracy: 80.00\n",
            "ElasticNet test accuracy: 80.00\n"
          ]
        },
        {
          "output_type": "stream",
          "name": "stderr",
          "text": [
            "/usr/local/lib/python3.7/dist-packages/nilearn/datasets/struct.py:774: UserWarning: `legacy_format` will default to `False` in release 0.11. Dataset fetchers will then return pandas dataframes by default instead of recarrays.\n",
            "  warnings.warn(_LEGACY_FORMAT_MSG)\n",
            "/usr/local/lib/python3.7/dist-packages/ipykernel_launcher.py:6: DeprecationWarning: `np.int` is a deprecated alias for the builtin `int`. To silence this warning, use `int` by itself. Doing this will not modify any behavior and is safe. When replacing `np.int`, you may wish to use e.g. `np.int64` or `np.int32` to specify the precision. If you wish to review your current use, check the release note link for additional information.\n",
            "Deprecated in NumPy 1.20; for more details and guidance: https://numpy.org/devdocs/release/1.20.0-notes.html#deprecations\n",
            "  \n"
          ]
        },
        {
          "output_type": "stream",
          "name": "stdout",
          "text": [
            "Lasso training accuracy: 100.00\n",
            "Ridge training accuracy: 100.00\n",
            "ElasticNet training accuracy: 100.00\n",
            "Lasso test accuracy: 75.00\n",
            "Ridge test accuracy: 85.00\n",
            "ElasticNet test accuracy: 90.00\n"
          ]
        },
        {
          "output_type": "stream",
          "name": "stderr",
          "text": [
            "/usr/local/lib/python3.7/dist-packages/nilearn/datasets/struct.py:774: UserWarning: `legacy_format` will default to `False` in release 0.11. Dataset fetchers will then return pandas dataframes by default instead of recarrays.\n",
            "  warnings.warn(_LEGACY_FORMAT_MSG)\n",
            "/usr/local/lib/python3.7/dist-packages/ipykernel_launcher.py:6: DeprecationWarning: `np.int` is a deprecated alias for the builtin `int`. To silence this warning, use `int` by itself. Doing this will not modify any behavior and is safe. When replacing `np.int`, you may wish to use e.g. `np.int64` or `np.int32` to specify the precision. If you wish to review your current use, check the release note link for additional information.\n",
            "Deprecated in NumPy 1.20; for more details and guidance: https://numpy.org/devdocs/release/1.20.0-notes.html#deprecations\n",
            "  \n"
          ]
        },
        {
          "output_type": "stream",
          "name": "stdout",
          "text": [
            "Lasso training accuracy: 100.00\n",
            "Ridge training accuracy: 100.00\n",
            "ElasticNet training accuracy: 100.00\n",
            "Lasso test accuracy: 75.00\n",
            "Ridge test accuracy: 75.00\n",
            "ElasticNet test accuracy: 80.00\n"
          ]
        },
        {
          "output_type": "stream",
          "name": "stderr",
          "text": [
            "/usr/local/lib/python3.7/dist-packages/nilearn/datasets/struct.py:774: UserWarning: `legacy_format` will default to `False` in release 0.11. Dataset fetchers will then return pandas dataframes by default instead of recarrays.\n",
            "  warnings.warn(_LEGACY_FORMAT_MSG)\n",
            "/usr/local/lib/python3.7/dist-packages/ipykernel_launcher.py:6: DeprecationWarning: `np.int` is a deprecated alias for the builtin `int`. To silence this warning, use `int` by itself. Doing this will not modify any behavior and is safe. When replacing `np.int`, you may wish to use e.g. `np.int64` or `np.int32` to specify the precision. If you wish to review your current use, check the release note link for additional information.\n",
            "Deprecated in NumPy 1.20; for more details and guidance: https://numpy.org/devdocs/release/1.20.0-notes.html#deprecations\n",
            "  \n"
          ]
        },
        {
          "output_type": "stream",
          "name": "stdout",
          "text": [
            "Lasso training accuracy: 100.00\n",
            "Ridge training accuracy: 100.00\n",
            "ElasticNet training accuracy: 100.00\n",
            "Lasso test accuracy: 80.00\n",
            "Ridge test accuracy: 70.00\n",
            "ElasticNet test accuracy: 80.00\n"
          ]
        }
      ]
    },
    {
      "cell_type": "code",
      "source": [
        "# We're ready to plot\n",
        "lab = ['Lasso', 'Ridge', 'ElasticNet']\n",
        "plt.style.use(\"default\")\n",
        "plt.scatter(ROIs,lasso_test_acc, s=100, alpha = 0.5, marker = 'd')\n",
        "plt.scatter(ROIs,ridge_test_acc, s=100, alpha = 0.5, marker = 's')\n",
        "plt.scatter(ROIs,elnet_test_acc, s=100, alpha = 0.5, marker = 'o')\n",
        "plt.legend(labels=(lab))\n",
        "plt.gca().set(\n",
        "    title=\"Model accuracy as a function of number of features (100-1000)\",\n",
        "    xlabel=\"Number of features\",\n",
        "    ylabel=\"Test set classification accuracy (%) for lasso, ridge and elastic net models\",\n",
        "    xticks = (ROIs)\n",
        ")\n",
        "plt.show()"
      ],
      "metadata": {
        "colab": {
          "base_uri": "https://localhost:8080/",
          "height": 549
        },
        "id": "F7jfcE1Uu-VX",
        "outputId": "d364979c-fb65-4802-9ec1-d51725f26a59"
      },
      "execution_count": null,
      "outputs": [
        {
          "output_type": "display_data",
          "data": {
            "text/plain": [
              "<Figure size 640x480 with 1 Axes>"
            ],
            "image/png": "[encoded data removed]"
          },
          "metadata": {}
        }
      ]
    },
    {
      "cell_type": "markdown",
      "source": [
        "The lasso model benefits from having 400 ROIs the most, yielding a great test set classification accuracy of 95%. Conversely, when nrois is set to 800, we get test set classification accuracies of 90% and 85% for the ElasticNet and Ridge models respectively."
      ],
      "metadata": {
        "id": "5KiRqy0N5hTv"
      }
    }
  ]
}