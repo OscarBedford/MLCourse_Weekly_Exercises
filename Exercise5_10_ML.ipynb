{
  "nbformat": 4,
  "nbformat_minor": 0,
  "metadata": {
    "colab": {
      "provenance": [],
      "collapsed_sections": [],
      "authorship_tag": "ABX9TyPWr85dEnb3DtMuUbGQvsbV",
      "include_colab_link": true
    },
    "kernelspec": {
      "name": "python3",
      "display_name": "Python 3"
    },
    "language_info": {
      "name": "python"
    }
  },
  "cells": [
    {
      "cell_type": "markdown",
      "metadata": {
        "id": "view-in-github",
        "colab_type": "text"
      },
      "source": [
        "<a href=\"https://colab.research.google.com/github/OscarBedford/MLCourse_Weekly_Exercises/blob/main/Exercise5_10_ML.ipynb\" target=\"_parent\"><img src=\"https://colab.research.google.com/assets/colab-badge.svg\" alt=\"Open In Colab\"/></a>"
      ]
    },
    {
      "cell_type": "markdown",
      "source": [
        "Analogous to task 5, but predicting continuous subject age using\n",
        "KNeighborsRegressor(n_neighbors= 1…10) . Use crad[‘scorr_mean’] = 9."
      ],
      "metadata": {
        "id": "ZnuncnEsfhoL"
      }
    },
    {
      "cell_type": "code",
      "execution_count": null,
      "metadata": {
        "colab": {
          "base_uri": "https://localhost:8080/"
        },
        "id": "RVLRore3fcwf",
        "outputId": "ec4e56bd-4012-4a10-c18e-8b3afc9f8755"
      },
      "outputs": [
        {
          "output_type": "stream",
          "name": "stdout",
          "text": [
            "Looking in indexes: https://pypi.org/simple, https://us-python.pkg.dev/colab-wheels/public/simple/\n",
            "Collecting nilearn\n",
            "  Downloading nilearn-0.9.2-py3-none-any.whl (9.6 MB)\n",
            "\u001b[K     |████████████████████████████████| 9.6 MB 6.4 MB/s \n",
            "\u001b[?25hRequirement already satisfied: numpy>=1.18 in /usr/local/lib/python3.7/dist-packages (from nilearn) (1.21.6)\n",
            "Requirement already satisfied: lxml in /usr/local/lib/python3.7/dist-packages (from nilearn) (4.9.1)\n",
            "Requirement already satisfied: pandas>=1.0 in /usr/local/lib/python3.7/dist-packages (from nilearn) (1.3.5)\n",
            "Requirement already satisfied: joblib>=0.15 in /usr/local/lib/python3.7/dist-packages (from nilearn) (1.2.0)\n",
            "Requirement already satisfied: scikit-learn>=0.22 in /usr/local/lib/python3.7/dist-packages (from nilearn) (1.0.2)\n",
            "Requirement already satisfied: nibabel>=3.0.0 in /usr/local/lib/python3.7/dist-packages (from nilearn) (3.0.2)\n",
            "Requirement already satisfied: scipy>=1.5 in /usr/local/lib/python3.7/dist-packages (from nilearn) (1.7.3)\n",
            "Requirement already satisfied: requests>=2 in /usr/local/lib/python3.7/dist-packages (from nilearn) (2.23.0)\n",
            "Requirement already satisfied: pytz>=2017.3 in /usr/local/lib/python3.7/dist-packages (from pandas>=1.0->nilearn) (2022.4)\n",
            "Requirement already satisfied: python-dateutil>=2.7.3 in /usr/local/lib/python3.7/dist-packages (from pandas>=1.0->nilearn) (2.8.2)\n",
            "Requirement already satisfied: six>=1.5 in /usr/local/lib/python3.7/dist-packages (from python-dateutil>=2.7.3->pandas>=1.0->nilearn) (1.15.0)\n",
            "Requirement already satisfied: chardet<4,>=3.0.2 in /usr/local/lib/python3.7/dist-packages (from requests>=2->nilearn) (3.0.4)\n",
            "Requirement already satisfied: idna<3,>=2.5 in /usr/local/lib/python3.7/dist-packages (from requests>=2->nilearn) (2.10)\n",
            "Requirement already satisfied: certifi>=2017.4.17 in /usr/local/lib/python3.7/dist-packages (from requests>=2->nilearn) (2022.9.24)\n",
            "Requirement already satisfied: urllib3!=1.25.0,!=1.25.1,<1.26,>=1.21.1 in /usr/local/lib/python3.7/dist-packages (from requests>=2->nilearn) (1.24.3)\n",
            "Requirement already satisfied: threadpoolctl>=2.0.0 in /usr/local/lib/python3.7/dist-packages (from scikit-learn>=0.22->nilearn) (3.1.0)\n",
            "Installing collected packages: nilearn\n",
            "Successfully installed nilearn-0.9.2\n"
          ]
        }
      ],
      "source": [
        "!pip install nilearn"
      ]
    },
    {
      "cell_type": "code",
      "source": [
        "import numpy as np\n",
        "from nilearn import datasets\n",
        "from nilearn.input_data import NiftiLabelsMasker\n",
        "from nilearn.image import index_img\n",
        "from sklearn.preprocessing import StandardScaler\n",
        "import nibabel as nib\n",
        "brain_data = datasets.fetch_oasis_vbm(n_subjects=100)\n",
        "crad = datasets.fetch_atlas_craddock_2012()\n",
        "atlas_nii = index_img(crad['scorr_mean'], 9)\n",
        "masker = NiftiLabelsMasker(labels_img= atlas_nii, standardize=True)\n",
        "input_variables = masker.fit_transform(brain_data.gray_matter_maps)\n",
        "output_variable = StandardScaler().fit_transform(brain_data.ext_vars.age[:, None])[:, 0] # gives subject age on standard units after z-scoring"
      ],
      "metadata": {
        "colab": {
          "base_uri": "https://localhost:8080/"
        },
        "id": "Ut5ECV37fk_7",
        "outputId": "ec836e36-5466-4c87-dac7-dbbc25e27834"
      },
      "execution_count": null,
      "outputs": [
        {
          "output_type": "stream",
          "name": "stderr",
          "text": [
            "/usr/local/lib/python3.7/dist-packages/nilearn/datasets/struct.py:774: UserWarning: `legacy_format` will default to `False` in release 0.11. Dataset fetchers will then return pandas dataframes by default instead of recarrays.\n",
            "  warnings.warn(_LEGACY_FORMAT_MSG)\n"
          ]
        }
      ]
    },
    {
      "cell_type": "code",
      "source": [
        "import matplotlib.pyplot as plt\n",
        "from numpy import mean\n",
        "from numpy import std\n",
        "from sklearn.linear_model import LogisticRegression\n",
        "from sklearn.utils import resample\n",
        "from sklearn.preprocessing import StandardScaler\n",
        "scaler = StandardScaler()\n",
        "from sklearn.model_selection import train_test_split\n",
        "from sklearn.metrics import classification_report\n",
        "from sklearn.linear_model import Ridge\n",
        "from sklearn.model_selection import GridSearchCV\n",
        "import pandas as pd\n",
        "from sklearn.neighbors import KNeighborsRegressor"
      ],
      "metadata": {
        "id": "sRKNkthBfmmi"
      },
      "execution_count": null,
      "outputs": []
    },
    {
      "cell_type": "code",
      "source": [
        "# We prepare the models with the required parameters\n",
        "ridge = Ridge(max_iter=1e4)\n",
        "knn = KNeighborsRegressor(n_neighbors=3)"
      ],
      "metadata": {
        "id": "9Df07T0-foD6"
      },
      "execution_count": null,
      "outputs": []
    },
    {
      "cell_type": "code",
      "source": [
        "# We create the iterating variables (sub-partitions of ROIs)\n",
        "r_var = [9, 19, 29, 39, 49, 59, 69, 79, 89, 99]"
      ],
      "metadata": {
        "id": "uvGmkegtfrAm"
      },
      "execution_count": null,
      "outputs": []
    },
    {
      "cell_type": "code",
      "source": [
        "# We pre-allocate the variables we want to populate with accuracy scores\n",
        "ridge_tr_acc = []\n",
        "knn_tr_acc = []\n",
        "\n",
        "ridge_test_acc = []\n",
        "knn_test_acc = []"
      ],
      "metadata": {
        "id": "O2yzCaX1fsLm"
      },
      "execution_count": null,
      "outputs": []
    },
    {
      "cell_type": "code",
      "source": [
        "for x in r_var:\n",
        "\n",
        "    X, y = input_variables, output_variable\n",
        "    X = X[:,list(range(0,(x)))]\n",
        "    X_scaled = scaler.fit_transform(X)\n",
        "    X_train, X_test, y_train, y_test = train_test_split(X_scaled, y, test_size=(0.2), shuffle=False)\n",
        "\n",
        "    RidgeReg = ridge.fit(X_train,y_train) # We fit the ridge training model\n",
        "    score_R = RidgeReg.score(X_train, y_train)\n",
        "    ridge_tr_acc.append(score_R) # We store the scores\n",
        "    print('Ridge training accuracy (coefficient of determination): %.2f' % ((score_R))) # We print the scores\n",
        "\n",
        "    kNN = knn.fit(X_train,y_train) # We fit the kNN training model\n",
        "    score_k = kNN.score(X_train, y_train)\n",
        "    knn_tr_acc.append(score_k) # We store the scores\n",
        "    print('kNN training accuracy (coefficient of determination): %.2f' % ((score_k))) # We print the scores\n",
        "\n",
        "    yhat_R = ridge.predict(X_test) # We define the ridge model and store its prediction as \"yhat\"\n",
        "    score_Rt = RidgeReg.score(X_test, y_test) \n",
        "    ridge_test_acc.append(score_Rt)\n",
        "    print('Ridge test accuracy (coefficient of determination): %.2f' % ((score_Rt))) # We print the scores\n",
        "\n",
        "    yhat_k = knn.predict(X_test) # We define the kNN model and store its prediction as \"yhat\"\n",
        "    score_k = kNN.score(X_test, y_test) \n",
        "    knn_test_acc.append(score_k) # We store the scores\n",
        "    print('kNN test accuracy (coefficient of determination): %.2f' % ((score_k))) # We print the scores"
      ],
      "metadata": {
        "colab": {
          "base_uri": "https://localhost:8080/"
        },
        "id": "EX9ZL78-fwFZ",
        "outputId": "fa31167f-70c6-44f3-9c2c-9ec5a0163090"
      },
      "execution_count": null,
      "outputs": [
        {
          "output_type": "stream",
          "name": "stdout",
          "text": [
            "Ridge training accuracy (coefficient of determination): 0.46\n",
            "kNN training accuracy (coefficient of determination): 0.47\n",
            "Ridge test accuracy (coefficient of determination): -1.49\n",
            "kNN test accuracy (coefficient of determination): 0.08\n",
            "Ridge training accuracy (coefficient of determination): 0.52\n",
            "kNN training accuracy (coefficient of determination): 0.57\n",
            "Ridge test accuracy (coefficient of determination): -1.06\n",
            "kNN test accuracy (coefficient of determination): -0.02\n",
            "Ridge training accuracy (coefficient of determination): 0.78\n",
            "kNN training accuracy (coefficient of determination): 0.66\n",
            "Ridge test accuracy (coefficient of determination): -1.33\n",
            "kNN test accuracy (coefficient of determination): 0.09\n",
            "Ridge training accuracy (coefficient of determination): 0.82\n",
            "kNN training accuracy (coefficient of determination): 0.66\n",
            "Ridge test accuracy (coefficient of determination): -1.34\n",
            "kNN test accuracy (coefficient of determination): 0.11\n",
            "Ridge training accuracy (coefficient of determination): 0.89\n",
            "kNN training accuracy (coefficient of determination): 0.66\n",
            "Ridge test accuracy (coefficient of determination): -0.89\n",
            "kNN test accuracy (coefficient of determination): 0.24\n",
            "Ridge training accuracy (coefficient of determination): 0.92\n",
            "kNN training accuracy (coefficient of determination): 0.64\n",
            "Ridge test accuracy (coefficient of determination): -0.62\n",
            "kNN test accuracy (coefficient of determination): 0.23\n",
            "Ridge training accuracy (coefficient of determination): 0.93\n",
            "kNN training accuracy (coefficient of determination): 0.66\n",
            "Ridge test accuracy (coefficient of determination): -0.90\n",
            "kNN test accuracy (coefficient of determination): 0.13\n",
            "Ridge training accuracy (coefficient of determination): 0.95\n",
            "kNN training accuracy (coefficient of determination): 0.66\n",
            "Ridge test accuracy (coefficient of determination): -0.72\n",
            "kNN test accuracy (coefficient of determination): 0.20\n",
            "Ridge training accuracy (coefficient of determination): 0.97\n",
            "kNN training accuracy (coefficient of determination): 0.65\n",
            "Ridge test accuracy (coefficient of determination): -0.57\n",
            "kNN test accuracy (coefficient of determination): 0.12\n",
            "Ridge training accuracy (coefficient of determination): 0.99\n",
            "kNN training accuracy (coefficient of determination): 0.73\n",
            "Ridge test accuracy (coefficient of determination): -0.70\n",
            "kNN test accuracy (coefficient of determination): 0.10\n"
          ]
        }
      ]
    },
    {
      "cell_type": "code",
      "source": [
        "# We're ready to plot\n",
        "\n",
        "x_ticks = np.array(r_var)\n",
        "x_ticks = x_ticks + 1 # Even though we only have 99 input variables, we will pretend we have 100 to make it easier to compare to 5.5\n",
        "\n",
        "lab = ['Ridge', 'kNN']\n",
        "plt.style.use(\"default\")\n",
        "plt.scatter(r_var,ridge_test_acc, s=100, alpha = 0.5, marker = 'd')\n",
        "plt.scatter(r_var,knn_test_acc, s=100, alpha = 0.5, marker = 's')\n",
        "plt.legend(labels=(lab))\n",
        "plt.gca().set(\n",
        "    title=\"Test set model accuracy as a function of number of features (10-100)\",\n",
        "    xlabel=\"Number of features\",\n",
        "    ylabel=\"Test set coefficient of determination for ridge and kNN models\",\n",
        "    xticks = x_ticks\n",
        ")\n",
        "plt.show()"
      ],
      "metadata": {
        "colab": {
          "base_uri": "https://localhost:8080/",
          "height": 481
        },
        "id": "iDtozhRnf-mT",
        "outputId": "7bab2e2a-b69c-4875-c8f0-65797b1e8d61"
      },
      "execution_count": null,
      "outputs": [
        {
          "output_type": "display_data",
          "data": {
            "text/plain": [
              "<Figure size 640x480 with 1 Axes>"
            ],
            "image/png": "[encoded data removed]"
          },
          "metadata": {}
        }
      ]
    },
    {
      "cell_type": "markdown",
      "source": [
        "We see that kNN with k-neighbours = 3 totally outperforms ridge regression, irrespective of the number of features. It would seem that ridge regression is much more affected by the number of features than kNN, at least in this example."
      ],
      "metadata": {
        "id": "SA5naWE7uO9H"
      }
    }
  ]
}