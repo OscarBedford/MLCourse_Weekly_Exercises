{
  "nbformat": 4,
  "nbformat_minor": 0,
  "metadata": {
    "colab": {
      "provenance": [],
      "collapsed_sections": [],
      "authorship_tag": "ABX9TyOF1GXxNTm3bjwKW/iVehDH",
      "include_colab_link": true
    },
    "kernelspec": {
      "name": "python3",
      "display_name": "Python 3"
    },
    "language_info": {
      "name": "python"
    }
  },
  "cells": [
    {
      "cell_type": "markdown",
      "metadata": {
        "id": "view-in-github",
        "colab_type": "text"
      },
      "source": [
        "<a href=\"https://colab.research.google.com/github/OscarBedford/MLCourse_Weekly_Exercises/blob/main/Exercise5_10_ML.ipynb\" target=\"_parent\"><img src=\"https://colab.research.google.com/assets/colab-badge.svg\" alt=\"Open In Colab\"/></a>"
      ]
    },
    {
      "cell_type": "markdown",
      "source": [
        "Analogous to task 5, but predicting continuous subject age with sklearn.neighbors.KNeighborsRegressor from Craddock region atlas (.scorr_mean)."
      ],
      "metadata": {
        "id": "ZnuncnEsfhoL"
      }
    },
    {
      "cell_type": "code",
      "execution_count": null,
      "metadata": {
        "colab": {
          "base_uri": "https://localhost:8080/"
        },
        "id": "RVLRore3fcwf",
        "outputId": "6e6fb158-bdd4-4870-d515-6892eedafd24"
      },
      "outputs": [
        {
          "output_type": "stream",
          "name": "stdout",
          "text": [
            "Looking in indexes: https://pypi.org/simple, https://us-python.pkg.dev/colab-wheels/public/simple/\n",
            "Collecting nilearn\n",
            "  Downloading nilearn-0.9.2-py3-none-any.whl (9.6 MB)\n",
            "\u001b[K     |████████████████████████████████| 9.6 MB 7.6 MB/s \n",
            "\u001b[?25hRequirement already satisfied: pandas>=1.0 in /usr/local/lib/python3.7/dist-packages (from nilearn) (1.3.5)\n",
            "Requirement already satisfied: numpy>=1.18 in /usr/local/lib/python3.7/dist-packages (from nilearn) (1.21.6)\n",
            "Requirement already satisfied: requests>=2 in /usr/local/lib/python3.7/dist-packages (from nilearn) (2.23.0)\n",
            "Requirement already satisfied: nibabel>=3.0.0 in /usr/local/lib/python3.7/dist-packages (from nilearn) (3.0.2)\n",
            "Requirement already satisfied: scikit-learn>=0.22 in /usr/local/lib/python3.7/dist-packages (from nilearn) (1.0.2)\n",
            "Requirement already satisfied: joblib>=0.15 in /usr/local/lib/python3.7/dist-packages (from nilearn) (1.2.0)\n",
            "Requirement already satisfied: lxml in /usr/local/lib/python3.7/dist-packages (from nilearn) (4.9.1)\n",
            "Requirement already satisfied: scipy>=1.5 in /usr/local/lib/python3.7/dist-packages (from nilearn) (1.7.3)\n",
            "Requirement already satisfied: pytz>=2017.3 in /usr/local/lib/python3.7/dist-packages (from pandas>=1.0->nilearn) (2022.4)\n",
            "Requirement already satisfied: python-dateutil>=2.7.3 in /usr/local/lib/python3.7/dist-packages (from pandas>=1.0->nilearn) (2.8.2)\n",
            "Requirement already satisfied: six>=1.5 in /usr/local/lib/python3.7/dist-packages (from python-dateutil>=2.7.3->pandas>=1.0->nilearn) (1.15.0)\n",
            "Requirement already satisfied: chardet<4,>=3.0.2 in /usr/local/lib/python3.7/dist-packages (from requests>=2->nilearn) (3.0.4)\n",
            "Requirement already satisfied: urllib3!=1.25.0,!=1.25.1,<1.26,>=1.21.1 in /usr/local/lib/python3.7/dist-packages (from requests>=2->nilearn) (1.24.3)\n",
            "Requirement already satisfied: idna<3,>=2.5 in /usr/local/lib/python3.7/dist-packages (from requests>=2->nilearn) (2.10)\n",
            "Requirement already satisfied: certifi>=2017.4.17 in /usr/local/lib/python3.7/dist-packages (from requests>=2->nilearn) (2022.9.24)\n",
            "Requirement already satisfied: threadpoolctl>=2.0.0 in /usr/local/lib/python3.7/dist-packages (from scikit-learn>=0.22->nilearn) (3.1.0)\n",
            "Installing collected packages: nilearn\n",
            "Successfully installed nilearn-0.9.2\n"
          ]
        }
      ],
      "source": [
        "!pip install nilearn"
      ]
    },
    {
      "cell_type": "code",
      "source": [
        "import numpy as np\n",
        "from nilearn import datasets\n",
        "from nilearn.input_data import NiftiLabelsMasker\n",
        "from nilearn.image import index_img\n",
        "from sklearn.preprocessing import StandardScaler\n",
        "import nibabel as nib\n",
        "brain_data = datasets.fetch_oasis_vbm(n_subjects=100)\n",
        "crad = datasets.fetch_atlas_craddock_2012()\n",
        "atlas_nii = index_img(crad['scorr_mean'], 42)\n",
        "masker = NiftiLabelsMasker(labels_img= atlas_nii, standardize=True)\n",
        "input_variables = masker.fit_transform(brain_data.gray_matter_maps)\n",
        "output_variable = StandardScaler().fit_transform(brain_data.ext_vars.age[:, None])[:, 0] # gives subject age on standard units after z-scoring"
      ],
      "metadata": {
        "colab": {
          "base_uri": "https://localhost:8080/"
        },
        "id": "Ut5ECV37fk_7",
        "outputId": "d48cd913-2e17-441b-860d-dc0942c98c58"
      },
      "execution_count": null,
      "outputs": [
        {
          "output_type": "stream",
          "name": "stderr",
          "text": [
            "/usr/local/lib/python3.7/dist-packages/nilearn/input_data/__init__.py:27: FutureWarning: The import path 'nilearn.input_data' is deprecated in version 0.9. Importing from 'nilearn.input_data' will be possible at least until release 0.13.0. Please import from 'nilearn.maskers' instead.\n",
            "  warnings.warn(message, FutureWarning)\n"
          ]
        },
        {
          "output_type": "stream",
          "name": "stdout",
          "text": [
            "\n",
            "Dataset created in /root/nilearn_data/oasis1\n",
            "\n",
            "Downloading data from https://www.nitrc.org/frs/download.php/6364/archive_dartel.tgz ...\n"
          ]
        },
        {
          "output_type": "stream",
          "name": "stderr",
          "text": [
            "Downloaded 881262592 of 905208634 bytes (97.4%,    0.6s remaining) ...done. (22 seconds, 0 min)\n",
            "Extracting data from /root/nilearn_data/oasis1/adcb228c7b26ed4f4fba93bd32bf8d97/archive_dartel.tgz..... done.\n",
            "/usr/local/lib/python3.7/dist-packages/nilearn/datasets/struct.py:774: UserWarning: `legacy_format` will default to `False` in release 0.11. Dataset fetchers will then return pandas dataframes by default instead of recarrays.\n",
            "  warnings.warn(_LEGACY_FORMAT_MSG)\n"
          ]
        },
        {
          "output_type": "stream",
          "name": "stdout",
          "text": [
            "\n",
            "Dataset created in /root/nilearn_data/craddock_2012\n",
            "\n",
            "Downloading data from http://cluster_roi.projects.nitrc.org/Parcellations/craddock_2011_parcellations.tar.gz ...\n"
          ]
        },
        {
          "output_type": "stream",
          "name": "stderr",
          "text": [
            " ...done. (1 seconds, 0 min)\n",
            "Extracting data from /root/nilearn_data/craddock_2012/64ec9dc239add5cb58c7248a4136b852/craddock_2011_parcellations.tar.gz..... done.\n"
          ]
        }
      ]
    },
    {
      "cell_type": "code",
      "source": [
        "import matplotlib.pyplot as plt\n",
        "from numpy import mean\n",
        "from numpy import std\n",
        "from sklearn.linear_model import LogisticRegression\n",
        "from sklearn.utils import resample\n",
        "from sklearn.preprocessing import StandardScaler\n",
        "scaler = StandardScaler()\n",
        "from sklearn.model_selection import train_test_split\n",
        "from sklearn.metrics import classification_report\n",
        "from sklearn.linear_model import Ridge\n",
        "from sklearn.model_selection import GridSearchCV\n",
        "import pandas as pd\n",
        "from sklearn.neighbors import KNeighborsRegressor"
      ],
      "metadata": {
        "id": "sRKNkthBfmmi"
      },
      "execution_count": null,
      "outputs": []
    },
    {
      "cell_type": "code",
      "source": [
        "# We prepare the models with the required parameters\n",
        "ridge = Ridge(max_iter=1e4)\n",
        "knn = KNeighborsRegressor(n_neighbors=3)"
      ],
      "metadata": {
        "id": "9Df07T0-foD6"
      },
      "execution_count": null,
      "outputs": []
    },
    {
      "cell_type": "code",
      "source": [
        "# We create the iterating variables (sub-partitions of ROIs)\n",
        "r_var = [10, 20, 30, 40, 50, 60, 70, 80, 90, 100]"
      ],
      "metadata": {
        "id": "uvGmkegtfrAm"
      },
      "execution_count": null,
      "outputs": []
    },
    {
      "cell_type": "code",
      "source": [
        "# We pre-allocate the variables we want to populate with accuracy scores\n",
        "ridge_tr_acc = []\n",
        "knn_tr_acc = []\n",
        "\n",
        "ridge_test_acc = []\n",
        "knn_test_acc = []"
      ],
      "metadata": {
        "id": "O2yzCaX1fsLm"
      },
      "execution_count": null,
      "outputs": []
    },
    {
      "cell_type": "code",
      "source": [
        "for x in r_var:\n",
        "\n",
        "    X, y = input_variables, output_variable\n",
        "    X = X[:,list(range(0,(x)))]\n",
        "    X_scaled = scaler.fit_transform(X)\n",
        "    X_train, X_test, y_train, y_test = train_test_split(X_scaled, y, test_size=(0.2), shuffle=False)\n",
        "\n",
        "    RidgeReg = ridge.fit(X_train,y_train) # We fit the ridge training model\n",
        "    score_R = RidgeReg.score(X_train, y_train)\n",
        "    ridge_tr_acc.append(score_R) # We store the scores\n",
        "    print('Ridge training accuracy (coefficient of determination): %.2f' % ((score_R))) # We print the scores\n",
        "\n",
        "    kNN = knn.fit(X_train,y_train) # We fit the kNN training model\n",
        "    score_k = kNN.score(X_train, y_train)\n",
        "    knn_tr_acc.append(score_k) # We store the scores\n",
        "    print('kNN training accuracy (coefficient of determination): %.2f' % ((score_k))) # We print the scores\n",
        "\n",
        "    yhat_R = ridge.predict(X_test) # We define the ridge model and store its prediction as \"yhat\"\n",
        "    score_Rt = RidgeReg.score(X_test, y_test) \n",
        "    ridge_test_acc.append(score_Rt)\n",
        "    print('Ridge test accuracy (coefficient of determination): %.2f' % ((score_Rt))) # We print the scores\n",
        "\n",
        "    yhat_k = knn.predict(X_test) # We define the kNN model and store its prediction as \"yhat\"\n",
        "    score_k = kNN.score(X_test, y_test) \n",
        "    knn_test_acc.append(score_k) # We store the scores\n",
        "    print('kNN test accuracy (coefficient of determination): %.2f' % ((score_k))) # We print the scores"
      ],
      "metadata": {
        "colab": {
          "base_uri": "https://localhost:8080/"
        },
        "id": "EX9ZL78-fwFZ",
        "outputId": "cf3d06f8-e881-4bef-e1af-cd3bb0dbf980"
      },
      "execution_count": null,
      "outputs": [
        {
          "output_type": "stream",
          "name": "stdout",
          "text": [
            "Ridge training accuracy (coefficient of determination): 0.38\n",
            "kNN training accuracy (coefficient of determination): 0.53\n",
            "Ridge test accuracy (coefficient of determination): -0.08\n",
            "kNN test accuracy (coefficient of determination): 0.05\n",
            "Ridge training accuracy (coefficient of determination): 0.59\n",
            "kNN training accuracy (coefficient of determination): 0.53\n",
            "Ridge test accuracy (coefficient of determination): 0.04\n",
            "kNN test accuracy (coefficient of determination): -0.04\n",
            "Ridge training accuracy (coefficient of determination): 0.75\n",
            "kNN training accuracy (coefficient of determination): 0.66\n",
            "Ridge test accuracy (coefficient of determination): -0.23\n",
            "kNN test accuracy (coefficient of determination): -0.07\n",
            "Ridge training accuracy (coefficient of determination): 0.85\n",
            "kNN training accuracy (coefficient of determination): 0.65\n",
            "Ridge test accuracy (coefficient of determination): -0.03\n",
            "kNN test accuracy (coefficient of determination): -0.21\n",
            "Ridge training accuracy (coefficient of determination): 0.91\n",
            "kNN training accuracy (coefficient of determination): 0.73\n",
            "Ridge test accuracy (coefficient of determination): -1.67\n",
            "kNN test accuracy (coefficient of determination): -0.07\n",
            "Ridge training accuracy (coefficient of determination): 0.96\n",
            "kNN training accuracy (coefficient of determination): 0.76\n",
            "Ridge test accuracy (coefficient of determination): -1.10\n",
            "kNN test accuracy (coefficient of determination): 0.04\n",
            "Ridge training accuracy (coefficient of determination): 0.97\n",
            "kNN training accuracy (coefficient of determination): 0.77\n",
            "Ridge test accuracy (coefficient of determination): -0.73\n",
            "kNN test accuracy (coefficient of determination): -0.14\n",
            "Ridge training accuracy (coefficient of determination): 0.98\n",
            "kNN training accuracy (coefficient of determination): 0.79\n",
            "Ridge test accuracy (coefficient of determination): -0.02\n",
            "kNN test accuracy (coefficient of determination): 0.00\n",
            "Ridge training accuracy (coefficient of determination): 0.99\n",
            "kNN training accuracy (coefficient of determination): 0.78\n",
            "Ridge test accuracy (coefficient of determination): 0.15\n",
            "kNN test accuracy (coefficient of determination): 0.16\n",
            "Ridge training accuracy (coefficient of determination): 0.99\n",
            "kNN training accuracy (coefficient of determination): 0.85\n",
            "Ridge test accuracy (coefficient of determination): -0.78\n",
            "kNN test accuracy (coefficient of determination): 0.23\n"
          ]
        }
      ]
    },
    {
      "cell_type": "code",
      "source": [
        "# We're ready to plot\n",
        "lab = ['Ridge', 'kNN']\n",
        "plt.style.use(\"default\")\n",
        "plt.scatter(r_var,ridge_test_acc, s=100, alpha = 0.5, marker = 'd')\n",
        "plt.scatter(r_var,knn_test_acc, s=100, alpha = 0.5, marker = 's')\n",
        "plt.legend(labels=(lab))\n",
        "plt.gca().set(\n",
        "    title=\"Test set model accuracy as a function of number of features (10-100)\",\n",
        "    xlabel=\"Number of features\",\n",
        "    ylabel=\"Test set coefficient of determination for ridge and kNN models\",\n",
        "    xticks = (r_var)\n",
        ")\n",
        "plt.show()"
      ],
      "metadata": {
        "colab": {
          "base_uri": "https://localhost:8080/",
          "height": 481
        },
        "id": "iDtozhRnf-mT",
        "outputId": "02f124e3-82e2-4b3f-cb4d-e8dbc15fd380"
      },
      "execution_count": null,
      "outputs": [
        {
          "output_type": "display_data",
          "data": {
            "text/plain": [
              "<Figure size 640x480 with 1 Axes>"
            ],
            "image/png": "[encoded data removed]"
          },
          "metadata": {}
        }
      ]
    },
    {
      "cell_type": "markdown",
      "source": [
        "In general, we see that kNN with k-neighbours = 3 mostly outperforms (or at least ties with) ridge regression, irrespective of the number of features. This is especially apparent beyond 50 features, where ridge drops in accuracy at first and then goes back up, whereas kNN stays constant. It would seem that ridge regression is much more affected by the number of features than kNN, at least in this example."
      ],
      "metadata": {
        "id": "SA5naWE7uO9H"
      }
    }
  ]
}