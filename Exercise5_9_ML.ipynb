{
  "nbformat": 4,
  "nbformat_minor": 0,
  "metadata": {
    "colab": {
      "provenance": [],
      "collapsed_sections": [],
      "authorship_tag": "ABX9TyMTQkHAu7XHTcQhBwoR8txL",
      "include_colab_link": true
    },
    "kernelspec": {
      "name": "python3",
      "display_name": "Python 3"
    },
    "language_info": {
      "name": "python"
    }
  },
  "cells": [
    {
      "cell_type": "markdown",
      "metadata": {
        "id": "view-in-github",
        "colab_type": "text"
      },
      "source": [
        "<a href=\"https://colab.research.google.com/github/OscarBedford/MLCourse_Weekly_Exercises/blob/main/Exercise5_9_ML.ipynb\" target=\"_parent\"><img src=\"https://colab.research.google.com/assets/colab-badge.svg\" alt=\"Open In Colab\"/></a>"
      ]
    },
    {
      "cell_type": "markdown",
      "source": [
        "Analogous to task 4, but predicting continuous subject age using\n",
        "KNeighborsRegressor(n_neighbors= 1…10) . Use crad[‘scorr_mean’] = 9."
      ],
      "metadata": {
        "id": "7rULXTx6eTW-"
      }
    },
    {
      "cell_type": "code",
      "execution_count": null,
      "metadata": {
        "colab": {
          "base_uri": "https://localhost:8080/"
        },
        "id": "12sywCYHeMoc",
        "outputId": "16c3c9b9-2d87-4237-84cd-45377af328a0"
      },
      "outputs": [
        {
          "output_type": "stream",
          "name": "stdout",
          "text": [
            "Looking in indexes: https://pypi.org/simple, https://us-python.pkg.dev/colab-wheels/public/simple/\n",
            "Collecting nilearn\n",
            "  Downloading nilearn-0.9.2-py3-none-any.whl (9.6 MB)\n",
            "\u001b[K     |████████████████████████████████| 9.6 MB 4.3 MB/s \n",
            "\u001b[?25hRequirement already satisfied: numpy>=1.18 in /usr/local/lib/python3.7/dist-packages (from nilearn) (1.21.6)\n",
            "Requirement already satisfied: lxml in /usr/local/lib/python3.7/dist-packages (from nilearn) (4.9.1)\n",
            "Requirement already satisfied: joblib>=0.15 in /usr/local/lib/python3.7/dist-packages (from nilearn) (1.2.0)\n",
            "Requirement already satisfied: pandas>=1.0 in /usr/local/lib/python3.7/dist-packages (from nilearn) (1.3.5)\n",
            "Requirement already satisfied: requests>=2 in /usr/local/lib/python3.7/dist-packages (from nilearn) (2.23.0)\n",
            "Requirement already satisfied: scipy>=1.5 in /usr/local/lib/python3.7/dist-packages (from nilearn) (1.7.3)\n",
            "Requirement already satisfied: scikit-learn>=0.22 in /usr/local/lib/python3.7/dist-packages (from nilearn) (1.0.2)\n",
            "Requirement already satisfied: nibabel>=3.0.0 in /usr/local/lib/python3.7/dist-packages (from nilearn) (3.0.2)\n",
            "Requirement already satisfied: python-dateutil>=2.7.3 in /usr/local/lib/python3.7/dist-packages (from pandas>=1.0->nilearn) (2.8.2)\n",
            "Requirement already satisfied: pytz>=2017.3 in /usr/local/lib/python3.7/dist-packages (from pandas>=1.0->nilearn) (2022.4)\n",
            "Requirement already satisfied: six>=1.5 in /usr/local/lib/python3.7/dist-packages (from python-dateutil>=2.7.3->pandas>=1.0->nilearn) (1.15.0)\n",
            "Requirement already satisfied: certifi>=2017.4.17 in /usr/local/lib/python3.7/dist-packages (from requests>=2->nilearn) (2022.9.24)\n",
            "Requirement already satisfied: idna<3,>=2.5 in /usr/local/lib/python3.7/dist-packages (from requests>=2->nilearn) (2.10)\n",
            "Requirement already satisfied: chardet<4,>=3.0.2 in /usr/local/lib/python3.7/dist-packages (from requests>=2->nilearn) (3.0.4)\n",
            "Requirement already satisfied: urllib3!=1.25.0,!=1.25.1,<1.26,>=1.21.1 in /usr/local/lib/python3.7/dist-packages (from requests>=2->nilearn) (1.24.3)\n",
            "Requirement already satisfied: threadpoolctl>=2.0.0 in /usr/local/lib/python3.7/dist-packages (from scikit-learn>=0.22->nilearn) (3.1.0)\n",
            "Installing collected packages: nilearn\n",
            "Successfully installed nilearn-0.9.2\n"
          ]
        }
      ],
      "source": [
        "!pip install nilearn"
      ]
    },
    {
      "cell_type": "code",
      "source": [
        "import numpy as np\n",
        "from nilearn import datasets\n",
        "from nilearn.input_data import NiftiLabelsMasker\n",
        "from nilearn.image import index_img\n",
        "from sklearn.preprocessing import StandardScaler\n",
        "import nibabel as nib\n",
        "brain_data = datasets.fetch_oasis_vbm(n_subjects=100)\n",
        "crad = datasets.fetch_atlas_craddock_2012()\n",
        "atlas_nii = index_img(crad['scorr_mean'], 9)\n",
        "masker = NiftiLabelsMasker(labels_img= atlas_nii, standardize=True)\n",
        "input_variables = masker.fit_transform(brain_data.gray_matter_maps)\n",
        "output_variable = StandardScaler().fit_transform(brain_data.ext_vars.age[:, None])[:, 0] # gives subject age on standard units after z-scoring"
      ],
      "metadata": {
        "colab": {
          "base_uri": "https://localhost:8080/"
        },
        "id": "uOdY_C39eVxM",
        "outputId": "0ae73b18-e1d2-4924-96bb-865f4d31655e"
      },
      "execution_count": null,
      "outputs": [
        {
          "output_type": "stream",
          "name": "stderr",
          "text": [
            "/usr/local/lib/python3.7/dist-packages/nilearn/input_data/__init__.py:27: FutureWarning: The import path 'nilearn.input_data' is deprecated in version 0.9. Importing from 'nilearn.input_data' will be possible at least until release 0.13.0. Please import from 'nilearn.maskers' instead.\n",
            "  warnings.warn(message, FutureWarning)\n"
          ]
        },
        {
          "output_type": "stream",
          "name": "stdout",
          "text": [
            "\n",
            "Dataset created in /root/nilearn_data/oasis1\n",
            "\n",
            "Downloading data from https://www.nitrc.org/frs/download.php/6364/archive_dartel.tgz ...\n"
          ]
        },
        {
          "output_type": "stream",
          "name": "stderr",
          "text": [
            "Downloaded 853254144 of 905208634 bytes (94.3%,    0.7s remaining) ...done. (12 seconds, 0 min)\n",
            "Extracting data from /root/nilearn_data/oasis1/adcb228c7b26ed4f4fba93bd32bf8d97/archive_dartel.tgz..... done.\n",
            "/usr/local/lib/python3.7/dist-packages/nilearn/datasets/struct.py:774: UserWarning: `legacy_format` will default to `False` in release 0.11. Dataset fetchers will then return pandas dataframes by default instead of recarrays.\n",
            "  warnings.warn(_LEGACY_FORMAT_MSG)\n"
          ]
        },
        {
          "output_type": "stream",
          "name": "stdout",
          "text": [
            "\n",
            "Dataset created in /root/nilearn_data/craddock_2012\n",
            "\n",
            "Downloading data from http://cluster_roi.projects.nitrc.org/Parcellations/craddock_2011_parcellations.tar.gz ...\n"
          ]
        },
        {
          "output_type": "stream",
          "name": "stderr",
          "text": [
            " ...done. (0 seconds, 0 min)\n",
            "Extracting data from /root/nilearn_data/craddock_2012/64ec9dc239add5cb58c7248a4136b852/craddock_2011_parcellations.tar.gz..... done.\n"
          ]
        }
      ]
    },
    {
      "cell_type": "code",
      "source": [
        "import matplotlib.pyplot as plt\n",
        "from numpy import mean\n",
        "from numpy import std\n",
        "from sklearn.linear_model import LogisticRegression\n",
        "from sklearn.utils import resample\n",
        "from sklearn.preprocessing import StandardScaler\n",
        "scaler = StandardScaler()\n",
        "from sklearn.model_selection import train_test_split\n",
        "from sklearn.metrics import classification_report\n",
        "from sklearn.linear_model import Ridge\n",
        "from sklearn.model_selection import GridSearchCV\n",
        "import pandas as pd\n",
        "from sklearn.neighbors import KNeighborsRegressor"
      ],
      "metadata": {
        "id": "RiFYv-3reh73"
      },
      "execution_count": null,
      "outputs": []
    },
    {
      "cell_type": "code",
      "source": [
        "# We prepare the models with the required parameters\n",
        "ridge = Ridge(max_iter=1e4)\n",
        "knn = KNeighborsRegressor(n_neighbors=3)"
      ],
      "metadata": {
        "id": "7lyZRv5aeoO0"
      },
      "execution_count": null,
      "outputs": []
    },
    {
      "cell_type": "code",
      "source": [
        "# We create the iterating variable (training set size)\n",
        "split = [0.1, 0.2, 0.3, 0.4, 0.5, 0.6, 0.7, 0.8]"
      ],
      "metadata": {
        "id": "ZFiCog6me2IV"
      },
      "execution_count": null,
      "outputs": []
    },
    {
      "cell_type": "code",
      "source": [
        "# We pre-allocate the variables we want to populate with accuracy scores\n",
        "ridge_tr_acc = []\n",
        "knn_tr_acc = []\n",
        "\n",
        "ridge_test_acc = []\n",
        "knn_test_acc = []"
      ],
      "metadata": {
        "id": "xzZNYi9ae3ie"
      },
      "execution_count": null,
      "outputs": []
    },
    {
      "cell_type": "code",
      "source": [
        "for x in split:\n",
        "\n",
        "    X, y = input_variables, output_variable\n",
        "    X_scaled = scaler.fit_transform(X)\n",
        "    X_train, X_test, y_train, y_test = train_test_split(X_scaled, y, train_size=(x), test_size=(0.2), shuffle=False)\n",
        "\n",
        "    RidgeReg = ridge.fit(X_train,y_train) # We fit the ridge training model\n",
        "    score_R = RidgeReg.score(X_train, y_train)\n",
        "    ridge_tr_acc.append(score_R) \n",
        "    print('Ridge training accuracy: %.2f' % ((score_R))) # We print the scores\n",
        "\n",
        "    kNN = knn.fit(X_train,y_train) # We fit the kNN training model\n",
        "    score_k = kNN.score(X_train, y_train)\n",
        "    knn_tr_acc.append(score_k) \n",
        "    print('kNN training accuracy: %.2f' % ((score_k))) # We print the scores\n",
        "\n",
        "    yhat_R = ridge.predict(X_test) # We use the ridge model  to predict and store its prediction as \"yhat\"\n",
        "    score_Rt = RidgeReg.score(X_test, y_test) \n",
        "    ridge_test_acc.append(score_Rt) # We store the scores\n",
        "    print('Ridge test accuracy: %.2f' % ((score_Rt))) # We print the scores\n",
        "\n",
        "    yhat_k = knn.predict(X_test) # We use the kNN model to predict and store its prediction as \"yhat\"\n",
        "    score_k = kNN.score(X_test, y_test) \n",
        "    knn_test_acc.append(score_k) # We store the scores\n",
        "    print('kNN test accuracy: %.2f' % ((score_k))) # We print the scores"
      ],
      "metadata": {
        "colab": {
          "base_uri": "https://localhost:8080/"
        },
        "id": "-NPyBNcRe4kj",
        "outputId": "ce132979-10b4-4052-d80e-aeffe69a6b95"
      },
      "execution_count": null,
      "outputs": [
        {
          "output_type": "stream",
          "name": "stdout",
          "text": [
            "Ridge training accuracy: 1.00\n",
            "kNN training accuracy: 0.69\n",
            "Ridge test accuracy: 0.28\n",
            "kNN test accuracy: -0.37\n",
            "Ridge training accuracy: 1.00\n",
            "kNN training accuracy: 0.67\n",
            "Ridge test accuracy: 0.58\n",
            "kNN test accuracy: 0.21\n",
            "Ridge training accuracy: 1.00\n",
            "kNN training accuracy: 0.75\n",
            "Ridge test accuracy: 0.60\n",
            "kNN test accuracy: -0.07\n",
            "Ridge training accuracy: 1.00\n",
            "kNN training accuracy: 0.65\n",
            "Ridge test accuracy: 0.66\n",
            "kNN test accuracy: 0.34\n",
            "Ridge training accuracy: 1.00\n",
            "kNN training accuracy: 0.67\n",
            "Ridge test accuracy: 0.46\n",
            "kNN test accuracy: 0.16\n",
            "Ridge training accuracy: 1.00\n",
            "kNN training accuracy: 0.67\n",
            "Ridge test accuracy: 0.15\n",
            "kNN test accuracy: 0.49\n",
            "Ridge training accuracy: 0.99\n",
            "kNN training accuracy: 0.74\n",
            "Ridge test accuracy: -1.86\n",
            "kNN test accuracy: 0.16\n",
            "Ridge training accuracy: 0.99\n",
            "kNN training accuracy: 0.73\n",
            "Ridge test accuracy: -0.70\n",
            "kNN test accuracy: 0.10\n"
          ]
        }
      ]
    },
    {
      "cell_type": "code",
      "source": [
        "# We're ready to plot\n",
        "lab = ['Ridge', 'kNN']\n",
        "plt.style.use(\"default\")\n",
        "plt.scatter(split,ridge_test_acc, s=100, alpha = 0.5, marker = 'd')\n",
        "plt.scatter(split,knn_test_acc, s=100, alpha = 0.5, marker = 's')\n",
        "plt.legend(labels=(lab))\n",
        "plt.gca().set(\n",
        "    title=\"Test set coefficient of determination as a function of training set size (10%-80%)\",\n",
        "    xlabel=\"Training set size\",\n",
        "    ylabel=\"Test set classification accuracy (%) for ridge and kNN models\",\n",
        "    xticks = (split)\n",
        ")\n",
        "plt.show()"
      ],
      "metadata": {
        "colab": {
          "base_uri": "https://localhost:8080/",
          "height": 477
        },
        "id": "Xfu_ssOwfRiC",
        "outputId": "51fba768-9f45-40aa-91dc-c0a2834f107e"
      },
      "execution_count": null,
      "outputs": [
        {
          "output_type": "display_data",
          "data": {
            "text/plain": [
              "<Figure size 640x480 with 1 Axes>"
            ],
            "image/png": "[encoded data removed]"
          },
          "metadata": {}
        }
      ]
    },
    {
      "cell_type": "markdown",
      "source": [
        "After an inflection point in the training set size, namely 0.6, we see that the kNN model outperforms the ridge model. Just like in 5.4, it would seem that kNN (at least with k-neighbours = 3) needs a relatively large training set size to do better than ridge. "
      ],
      "metadata": {
        "id": "V03Efa4DtRce"
      }
    }
  ]
}