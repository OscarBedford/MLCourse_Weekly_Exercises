{
  "nbformat": 4,
  "nbformat_minor": 0,
  "metadata": {
    "colab": {
      "provenance": [],
      "collapsed_sections": [],
      "authorship_tag": "ABX9TyNk9Ubbsfe6f7BNAtRWObPD",
      "include_colab_link": true
    },
    "kernelspec": {
      "name": "python3",
      "display_name": "Python 3"
    },
    "language_info": {
      "name": "python"
    }
  },
  "cells": [
    {
      "cell_type": "markdown",
      "metadata": {
        "id": "view-in-github",
        "colab_type": "text"
      },
      "source": [
        "<a href=\"https://colab.research.google.com/github/OscarBedford/MLCourse_Weekly_Exercises/blob/main/Exercise5_5_ML.ipynb\" target=\"_parent\"><img src=\"https://colab.research.google.com/assets/colab-badge.svg\" alt=\"Open In Colab\"/></a>"
      ]
    },
    {
      "cell_type": "markdown",
      "source": [
        "Use sklearn.neighbors.KNeighborsClassifier(n_neighbors=3) and sklearn.linear_model.LogisticRegression(penalty=’l2’, hyperparameter C set to 1.0) to fit separate predictive models based on 100 brain regions of interest (see ‘n_rois’ argument for datasets.fetch_atlas_schaefer_2018) based on the first 80% of the 10, 20, 30, …100 (in steps of 10 until complete) region variables from structural brain scans to predict sex. Next, evaluate each fitted LogReg / kNN model on the unseen final 20% of the 100 structural brain scans and retrieve classification accuracy in XX.YY%. Please plot the classification accuracy on the test set (x axis=n_rois, y axis=prediction accuracy on test set, 2 lines with 2 colors for the 2 different prediction model classes)."
      ],
      "metadata": {
        "id": "HYfA08GeLP-V"
      }
    },
    {
      "cell_type": "code",
      "execution_count": null,
      "metadata": {
        "colab": {
          "base_uri": "https://localhost:8080/"
        },
        "id": "nfiXvuHQLEGO",
        "outputId": "a05464e8-1740-4262-feb0-11e96df23679"
      },
      "outputs": [
        {
          "output_type": "stream",
          "name": "stdout",
          "text": [
            "Looking in indexes: https://pypi.org/simple, https://us-python.pkg.dev/colab-wheels/public/simple/\n",
            "Collecting nilearn\n",
            "  Downloading nilearn-0.9.2-py3-none-any.whl (9.6 MB)\n",
            "\u001b[K     |████████████████████████████████| 9.6 MB 2.8 MB/s \n",
            "\u001b[?25hRequirement already satisfied: requests>=2 in /usr/local/lib/python3.7/dist-packages (from nilearn) (2.23.0)\n",
            "Requirement already satisfied: nibabel>=3.0.0 in /usr/local/lib/python3.7/dist-packages (from nilearn) (3.0.2)\n",
            "Requirement already satisfied: lxml in /usr/local/lib/python3.7/dist-packages (from nilearn) (4.9.1)\n",
            "Requirement already satisfied: joblib>=0.15 in /usr/local/lib/python3.7/dist-packages (from nilearn) (1.2.0)\n",
            "Requirement already satisfied: pandas>=1.0 in /usr/local/lib/python3.7/dist-packages (from nilearn) (1.3.5)\n",
            "Requirement already satisfied: scikit-learn>=0.22 in /usr/local/lib/python3.7/dist-packages (from nilearn) (1.0.2)\n",
            "Requirement already satisfied: scipy>=1.5 in /usr/local/lib/python3.7/dist-packages (from nilearn) (1.7.3)\n",
            "Requirement already satisfied: numpy>=1.18 in /usr/local/lib/python3.7/dist-packages (from nilearn) (1.21.6)\n",
            "Requirement already satisfied: pytz>=2017.3 in /usr/local/lib/python3.7/dist-packages (from pandas>=1.0->nilearn) (2022.4)\n",
            "Requirement already satisfied: python-dateutil>=2.7.3 in /usr/local/lib/python3.7/dist-packages (from pandas>=1.0->nilearn) (2.8.2)\n",
            "Requirement already satisfied: six>=1.5 in /usr/local/lib/python3.7/dist-packages (from python-dateutil>=2.7.3->pandas>=1.0->nilearn) (1.15.0)\n",
            "Requirement already satisfied: chardet<4,>=3.0.2 in /usr/local/lib/python3.7/dist-packages (from requests>=2->nilearn) (3.0.4)\n",
            "Requirement already satisfied: certifi>=2017.4.17 in /usr/local/lib/python3.7/dist-packages (from requests>=2->nilearn) (2022.9.24)\n",
            "Requirement already satisfied: urllib3!=1.25.0,!=1.25.1,<1.26,>=1.21.1 in /usr/local/lib/python3.7/dist-packages (from requests>=2->nilearn) (1.24.3)\n",
            "Requirement already satisfied: idna<3,>=2.5 in /usr/local/lib/python3.7/dist-packages (from requests>=2->nilearn) (2.10)\n",
            "Requirement already satisfied: threadpoolctl>=2.0.0 in /usr/local/lib/python3.7/dist-packages (from scikit-learn>=0.22->nilearn) (3.1.0)\n",
            "Installing collected packages: nilearn\n",
            "Successfully installed nilearn-0.9.2\n"
          ]
        }
      ],
      "source": [
        "!pip install nilearn"
      ]
    },
    {
      "cell_type": "code",
      "source": [
        "import numpy as np\n",
        "from nilearn import datasets\n",
        "from nilearn.input_data import NiftiLabelsMasker\n",
        "from nilearn.image import index_img\n",
        "import nibabel as nib\n",
        "brain_data = datasets.fetch_oasis_vbm(n_subjects=100)\n",
        "yeo = datasets.fetch_atlas_schaefer_2018(n_rois=100) # we fix this to 100 rois\n",
        "masker = NiftiLabelsMasker(labels_img=yeo.maps, standardize=True, memory='nilearn_cache')\n",
        "input_variables = masker.fit_transform(brain_data.gray_matter_maps)\n",
        "output_variable = np.array(brain_data.ext_vars.mf == 'F', dtype=int) # gives 1 for females and 0 for males"
      ],
      "metadata": {
        "colab": {
          "base_uri": "https://localhost:8080/"
        },
        "id": "lHQGbHJJLT_n",
        "outputId": "454d8f05-1415-4992-de42-f48de9c1bb71"
      },
      "execution_count": null,
      "outputs": [
        {
          "output_type": "stream",
          "name": "stderr",
          "text": [
            "/usr/local/lib/python3.7/dist-packages/nilearn/input_data/__init__.py:27: FutureWarning: The import path 'nilearn.input_data' is deprecated in version 0.9. Importing from 'nilearn.input_data' will be possible at least until release 0.13.0. Please import from 'nilearn.maskers' instead.\n",
            "  warnings.warn(message, FutureWarning)\n"
          ]
        },
        {
          "output_type": "stream",
          "name": "stdout",
          "text": [
            "\n",
            "Dataset created in /root/nilearn_data/oasis1\n",
            "\n",
            "Downloading data from https://www.nitrc.org/frs/download.php/6364/archive_dartel.tgz ...\n"
          ]
        },
        {
          "output_type": "stream",
          "name": "stderr",
          "text": [
            "Downloaded 895705088 of 905208634 bytes (99.0%,    0.1s remaining) ...done. (11 seconds, 0 min)\n",
            "Extracting data from /root/nilearn_data/oasis1/adcb228c7b26ed4f4fba93bd32bf8d97/archive_dartel.tgz..... done.\n",
            "/usr/local/lib/python3.7/dist-packages/nilearn/datasets/struct.py:774: UserWarning: `legacy_format` will default to `False` in release 0.11. Dataset fetchers will then return pandas dataframes by default instead of recarrays.\n",
            "  warnings.warn(_LEGACY_FORMAT_MSG)\n",
            " ...done. (0 seconds, 0 min)\n"
          ]
        },
        {
          "output_type": "stream",
          "name": "stdout",
          "text": [
            "\n",
            "Dataset created in /root/nilearn_data/schaefer_2018\n",
            "\n",
            "Downloading data from https://raw.githubusercontent.com/ThomasYeoLab/CBIG/v0.14.3-Update_Yeo2011_Schaefer2018_labelname/stable_projects/brain_parcellation/Schaefer2018_LocalGlobal/Parcellations/MNI/Schaefer2018_100Parcels_7Networks_order.txt ...\n",
            "Downloading data from https://raw.githubusercontent.com/ThomasYeoLab/CBIG/v0.14.3-Update_Yeo2011_Schaefer2018_labelname/stable_projects/brain_parcellation/Schaefer2018_LocalGlobal/Parcellations/MNI/Schaefer2018_100Parcels_7Networks_order_FSLMNI152_1mm.nii.gz ...\n"
          ]
        },
        {
          "output_type": "stream",
          "name": "stderr",
          "text": [
            " ...done. (0 seconds, 0 min)\n"
          ]
        }
      ]
    },
    {
      "cell_type": "code",
      "source": [
        "import matplotlib.pyplot as plt\n",
        "from numpy import mean\n",
        "from numpy import std\n",
        "from sklearn.linear_model import LogisticRegression\n",
        "from sklearn.utils import resample\n",
        "from sklearn.preprocessing import StandardScaler\n",
        "scaler = StandardScaler()\n",
        "from sklearn.model_selection import train_test_split\n",
        "from sklearn.metrics import classification_report\n",
        "from sklearn.linear_model import Lasso\n",
        "from sklearn.model_selection import GridSearchCV\n",
        "import pandas as pd\n",
        "from sklearn.neighbors import KNeighborsClassifier"
      ],
      "metadata": {
        "id": "BMH-nBhHLVfX"
      },
      "execution_count": null,
      "outputs": []
    },
    {
      "cell_type": "code",
      "source": [
        "# We prepare the models with the required parameters\n",
        "logreg= LogisticRegression(max_iter=1e4, penalty = 'l2', C = 1, solver = 'saga')\n",
        "knn = KNeighborsClassifier(n_neighbors=3)"
      ],
      "metadata": {
        "id": "FtHOv8sOLXIT"
      },
      "execution_count": null,
      "outputs": []
    },
    {
      "cell_type": "code",
      "source": [
        "# We prepare the iterating variable (ROI partitions)\n",
        "r_var = [10, 20, 30, 40, 50, 60, 70, 80, 90, 100]"
      ],
      "metadata": {
        "id": "AA_uJLNlLpGW"
      },
      "execution_count": null,
      "outputs": []
    },
    {
      "cell_type": "code",
      "source": [
        "# We pre-allocate the variables we want to populate with accuracy scores\n",
        "ridge_tr_acc = []\n",
        "knn_tr_acc = []\n",
        "\n",
        "ridge_test_acc = []\n",
        "knn_test_acc = []"
      ],
      "metadata": {
        "id": "6daJIRJ1LrEx"
      },
      "execution_count": null,
      "outputs": []
    },
    {
      "cell_type": "code",
      "source": [
        "for x in r_var:\n",
        "\n",
        "    X, y = input_variables, output_variable\n",
        "    X = X[:,list(range(0,(x)))]\n",
        "    X_scaled = scaler.fit_transform(X)\n",
        "    X_train, X_test, y_train, y_test = train_test_split(X_scaled, y, test_size=(0.2), shuffle=False)\n",
        "\n",
        "    RidgeReg = logreg.fit(X_train,y_train) # We fit the ridge training model\n",
        "    score_R = RidgeReg.score(X_train, y_train)\n",
        "    score_R = np.multiply(score_R, 100)\n",
        "    ridge_tr_acc.append(score_R) # We store the scores\n",
        "    print('Ridge training accuracy: %.2f' % ((score_R))) # We print the scores\n",
        "\n",
        "    kNN = knn.fit(X_train,y_train) # We fit the kNN training model\n",
        "    score_k = kNN.score(X_train, y_train)\n",
        "    score_k = np.multiply(score_k, 100) \n",
        "    knn_tr_acc.append(score_k) # We store the scores\n",
        "    print('kNN training accuracy: %.2f' % ((score_k))) # We print the scores\n",
        "\n",
        "    yhat_R = logreg.predict(X_test) # We use the ridge model to predict and store its prediction as \"yhat\"\n",
        "    score_Rt = RidgeReg.score(X_test, y_test) \n",
        "    score_Rt = np.multiply(score_Rt, 100) \n",
        "    ridge_test_acc.append(score_Rt) # We store the scores\n",
        "    print('Ridge test accuracy: %.2f' % ((score_Rt))) # We print the scores\n",
        "\n",
        "    yhat_k = knn.predict(X_test) # We use the kNN model to predict and store its prediction as \"yhat\"\n",
        "    score_k = kNN.score(X_test, y_test) \n",
        "    score_k = np.multiply(score_k, 100) \n",
        "    knn_test_acc.append(score_k) # We store the scores\n",
        "    print('kNN test accuracy: %.2f' % ((score_k))) # We print the scores"
      ],
      "metadata": {
        "colab": {
          "base_uri": "https://localhost:8080/"
        },
        "id": "nkeOCytrLrX9",
        "outputId": "657e34bd-ca65-4af6-bef7-65bdbb270eb3"
      },
      "execution_count": null,
      "outputs": [
        {
          "output_type": "stream",
          "name": "stdout",
          "text": [
            "Ridge training accuracy: 72.50\n",
            "kNN training accuracy: 78.75\n",
            "Ridge test accuracy: 40.00\n",
            "kNN test accuracy: 70.00\n",
            "Ridge training accuracy: 76.25\n",
            "kNN training accuracy: 72.50\n",
            "Ridge test accuracy: 55.00\n",
            "kNN test accuracy: 60.00\n",
            "Ridge training accuracy: 82.50\n",
            "kNN training accuracy: 73.75\n",
            "Ridge test accuracy: 60.00\n",
            "kNN test accuracy: 80.00\n",
            "Ridge training accuracy: 85.00\n",
            "kNN training accuracy: 72.50\n",
            "Ridge test accuracy: 50.00\n",
            "kNN test accuracy: 60.00\n",
            "Ridge training accuracy: 90.00\n",
            "kNN training accuracy: 75.00\n",
            "Ridge test accuracy: 60.00\n",
            "kNN test accuracy: 75.00\n",
            "Ridge training accuracy: 97.50\n",
            "kNN training accuracy: 76.25\n",
            "Ridge test accuracy: 55.00\n",
            "kNN test accuracy: 75.00\n",
            "Ridge training accuracy: 98.75\n",
            "kNN training accuracy: 73.75\n",
            "Ridge test accuracy: 65.00\n",
            "kNN test accuracy: 60.00\n",
            "Ridge training accuracy: 100.00\n",
            "kNN training accuracy: 76.25\n",
            "Ridge test accuracy: 55.00\n",
            "kNN test accuracy: 60.00\n",
            "Ridge training accuracy: 100.00\n",
            "kNN training accuracy: 78.75\n",
            "Ridge test accuracy: 65.00\n",
            "kNN test accuracy: 70.00\n",
            "Ridge training accuracy: 100.00\n",
            "kNN training accuracy: 81.25\n",
            "Ridge test accuracy: 55.00\n",
            "kNN test accuracy: 65.00\n"
          ]
        }
      ]
    },
    {
      "cell_type": "code",
      "source": [
        "# We're ready to plot\n",
        "lab = ['Ridge', 'kNN']\n",
        "plt.style.use(\"default\")\n",
        "plt.scatter(r_var,ridge_test_acc, s=100, alpha = 0.5, marker = 'd')\n",
        "plt.scatter(r_var,knn_test_acc, s=100, alpha = 0.5, marker = 's')\n",
        "plt.legend(labels=(lab))\n",
        "plt.gca().set(\n",
        "    title=\"Test set model accuracy as a function of number of features (10-100)\",\n",
        "    xlabel=\"Number of features\",\n",
        "    ylabel=\"Test set classification accuracy (%) for ridge and kNN models\",\n",
        "    xticks = (r_var)\n",
        ")\n",
        "plt.show()"
      ],
      "metadata": {
        "colab": {
          "base_uri": "https://localhost:8080/",
          "height": 477
        },
        "id": "UPdb3KoXQTQh",
        "outputId": "398b0985-0c9e-4680-dc2a-00a93bde47ff"
      },
      "execution_count": null,
      "outputs": [
        {
          "output_type": "display_data",
          "data": {
            "text/plain": [
              "<Figure size 640x480 with 1 Axes>"
            ],
            "image/png": "[encoded data removed]"
          },
          "metadata": {}
        }
      ]
    },
    {
      "cell_type": "markdown",
      "source": [
        "It looks like the kNN model systematically outperforms the ridge model, regardless of the number of features. That said, the kNN model still does its best when number of features is relatively low, namely 30 (accuracy = 80%). "
      ],
      "metadata": {
        "id": "Ty9eP4bwpZ2o"
      }
    }
  ]
}