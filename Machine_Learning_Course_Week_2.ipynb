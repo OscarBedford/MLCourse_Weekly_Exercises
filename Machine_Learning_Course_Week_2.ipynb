{
  "nbformat": 4,
  "nbformat_minor": 0,
  "metadata": {
    "colab": {
      "provenance": [],
      "collapsed_sections": [],
      "authorship_tag": "ABX9TyNxli0xyz1W5cDetpWMOQUk",
      "include_colab_link": true
    },
    "kernelspec": {
      "name": "python3",
      "display_name": "Python 3"
    },
    "language_info": {
      "name": "python"
    }
  },
  "cells": [
    {
      "cell_type": "markdown",
      "metadata": {
        "id": "view-in-github",
        "colab_type": "text"
      },
      "source": [
        "<a href=\"https://colab.research.google.com/github/OscarBedford/MLCourse_Weekly_Exercises/blob/main/Machine_Learning_Course_Week_2.ipynb\" target=\"_parent\"><img src=\"https://colab.research.google.com/assets/colab-badge.svg\" alt=\"Open In Colab\"/></a>"
      ]
    },
    {
      "cell_type": "markdown",
      "source": [
        "Dataset A (classification): for the first set of 5 small programming tasks use the Oasis dataset provided by the nilearn package, which can be downloaded using the code below. This is a dataset of structural brain scans (aka voxel-based morphometry) for male and female individuals.\n"
      ],
      "metadata": {
        "id": "miTJPDc22scH"
      }
    },
    {
      "cell_type": "code",
      "source": [
        "# Importing the packages and the data\n",
        "\n",
        "from nilearn import datasets\n",
        "import numpy as np\n",
        "import pandas as pd\n",
        "import scipy\n",
        "import matplotlib.pyplot as plt\n",
        "from numpy import mean\n",
        "from numpy import std\n",
        "from sklearn.linear_model import LogisticRegression\n",
        "from sklearn.utils import resample\n",
        "from nilearn.maskers import NiftiLabelsMasker\n",
        "\n",
        "brain_data = datasets.fetch_oasis_vbm(n_subjects=100)\n",
        "yeo = datasets.fetch_atlas_yeo_2011()\n",
        "masker = NiftiLabelsMasker(labels_img=yeo['thick_17'],\n",
        "standardize=True, memory='nilearn_cache')\n",
        "input_variables = masker.fit_transform(brain_data.gray_matter_maps)\n",
        "output_variable = np.array(brain_data.ext_vars.mf == 'F',\n",
        "dtype=int) #gives 1 for females and 0 for males"
      ],
      "metadata": {
        "colab": {
          "base_uri": "https://localhost:8080/"
        },
        "id": "sdDwSCi-21lN",
        "outputId": "94f4919e-9e6c-48db-b004-bbe863ed7012"
      },
      "execution_count": null,
      "outputs": [
        {
          "output_type": "stream",
          "name": "stderr",
          "text": [
            "/usr/local/lib/python3.7/dist-packages/nilearn/datasets/struct.py:774: UserWarning: `legacy_format` will default to `False` in release 0.11. Dataset fetchers will then return pandas dataframes by default instead of recarrays.\n",
            "  warnings.warn(_LEGACY_FORMAT_MSG)\n"
          ]
        }
      ]
    },
    {
      "cell_type": "markdown",
      "source": [
        "1. Use sklearn.linear_model.LogisticRegression(hyperparameter set to 1.0) trained on all 17 input_variables to perform uncertainty estimation. Draw 200 bootstrap samples from the dataset, and for each of these bootstrap datasets, fit your model on all 100 subjects (you will train 200 models). Plot the distribution of model parameters(.coef_)using pyplot.boxplot(). The distribution of the model parameters should be on the y-axis and 17 input variables on the x axis; the mean of each box is the original point estimate of the model coefficient (i.e., the original dataset, not the bootstrap data)."
      ],
      "metadata": {
        "id": "WAobJMhU27kY"
      }
    },
    {
      "cell_type": "code",
      "source": [
        "# Let's take a look at the shape of the features\n",
        "print (input_variables.shape)"
      ],
      "metadata": {
        "colab": {
          "base_uri": "https://localhost:8080/"
        },
        "id": "hncCya_Z29QW",
        "outputId": "d2c6d5a5-5c6b-4ca1-8db5-315179397486"
      },
      "execution_count": null,
      "outputs": [
        {
          "output_type": "stream",
          "name": "stdout",
          "text": [
            "(100, 17)\n"
          ]
        }
      ]
    },
    {
      "cell_type": "markdown",
      "source": [
        "Looks like we have 100 instances and 17 features. Let's get the scaler ready without using it right away on the raw data. It's important that we run it on every bootstrap sample independently, as if each one was a real separate sample. In other words, we need to keep the pipeline the same for both the original data and the bootstrapped samples."
      ],
      "metadata": {
        "id": "qCfbaSfC3CJ1"
      }
    },
    {
      "cell_type": "code",
      "source": [
        "from sklearn.preprocessing import StandardScaler\n",
        "scaler = StandardScaler()"
      ],
      "metadata": {
        "id": "gB0nUrHc3BfE"
      },
      "execution_count": null,
      "outputs": []
    },
    {
      "cell_type": "code",
      "source": [
        "# Let's create one bootstrap sample containing 100 observations (like the original sample) just to make sure we have the right size\n",
        "boot = resample(input_variables, replace=True, n_samples=100)\n",
        "print (boot.shape)"
      ],
      "metadata": {
        "colab": {
          "base_uri": "https://localhost:8080/"
        },
        "id": "y-4H0LWj3F-5",
        "outputId": "d364ad85-602e-4308-df90-e717b4c58b30"
      },
      "execution_count": null,
      "outputs": [
        {
          "output_type": "stream",
          "name": "stdout",
          "text": [
            "(100, 17)\n"
          ]
        }
      ]
    },
    {
      "cell_type": "markdown",
      "source": [
        "Looks like the size of our \"boot\" sample is correct, because it is the same as the original data. But we will need 200 of these samples, so let's make use of a for loop to create them iteratively:"
      ],
      "metadata": {
        "id": "Ov2NQXVD3FI2"
      }
    },
    {
      "cell_type": "code",
      "source": [
        "# Setting the number of iterations\n",
        "n_iterations = 200\n",
        "# Pre-allocating the array where the coefficients of the 200 models will be appended\n",
        "coefficients = []\n",
        "\n",
        "for i in range(n_iterations):\n",
        "    X_train = resample(input_variables, replace=True, n_samples=100) # X_train is the given bootstrap sample in the current iteration\n",
        "    X_train = scaler.fit_transform(X_train) # Here we run the scaler on every iteration\n",
        "    y_train = output_variable # y_train will remain the same as the original sample across iterations\n",
        "    LR_boot = LogisticRegression(max_iter=1e4).fit(X_train,y_train) # We fit the LR model to the current bootstrap sample\n",
        "    coefficients.append(LR_boot.coef_) # Store the coefficients in the \"coefficients\" array\n",
        "    score = LR_boot.score(X_train, y_train) # We will also export the score for each bootstrap model (...)\n",
        "    print('Accuracy: %.3f (%.3f)' % ((score), std(score))) # (...) and we will print it to make sure every model is different"
      ],
      "metadata": {
        "colab": {
          "base_uri": "https://localhost:8080/"
        },
        "id": "hXmDcaDJ3Snv",
        "outputId": "d22be20a-46dd-4807-f518-f5cdf17b7541"
      },
      "execution_count": null,
      "outputs": [
        {
          "output_type": "stream",
          "name": "stdout",
          "text": [
            "Accuracy: 0.710 (0.000)\n",
            "Accuracy: 0.680 (0.000)\n",
            "Accuracy: 0.700 (0.000)\n",
            "Accuracy: 0.700 (0.000)\n",
            "Accuracy: 0.680 (0.000)\n",
            "Accuracy: 0.720 (0.000)\n",
            "Accuracy: 0.690 (0.000)\n",
            "Accuracy: 0.700 (0.000)\n",
            "Accuracy: 0.730 (0.000)\n",
            "Accuracy: 0.650 (0.000)\n",
            "Accuracy: 0.620 (0.000)\n",
            "Accuracy: 0.640 (0.000)\n",
            "Accuracy: 0.670 (0.000)\n",
            "Accuracy: 0.730 (0.000)\n",
            "Accuracy: 0.710 (0.000)\n",
            "Accuracy: 0.680 (0.000)\n",
            "Accuracy: 0.680 (0.000)\n",
            "Accuracy: 0.700 (0.000)\n",
            "Accuracy: 0.700 (0.000)\n",
            "Accuracy: 0.650 (0.000)\n",
            "Accuracy: 0.670 (0.000)\n",
            "Accuracy: 0.660 (0.000)\n",
            "Accuracy: 0.710 (0.000)\n",
            "Accuracy: 0.670 (0.000)\n",
            "Accuracy: 0.720 (0.000)\n",
            "Accuracy: 0.710 (0.000)\n",
            "Accuracy: 0.670 (0.000)\n",
            "Accuracy: 0.750 (0.000)\n",
            "Accuracy: 0.730 (0.000)\n",
            "Accuracy: 0.720 (0.000)\n",
            "Accuracy: 0.660 (0.000)\n",
            "Accuracy: 0.710 (0.000)\n",
            "Accuracy: 0.730 (0.000)\n",
            "Accuracy: 0.680 (0.000)\n",
            "Accuracy: 0.690 (0.000)\n",
            "Accuracy: 0.710 (0.000)\n",
            "Accuracy: 0.710 (0.000)\n",
            "Accuracy: 0.700 (0.000)\n",
            "Accuracy: 0.750 (0.000)\n",
            "Accuracy: 0.700 (0.000)\n",
            "Accuracy: 0.680 (0.000)\n",
            "Accuracy: 0.760 (0.000)\n",
            "Accuracy: 0.740 (0.000)\n",
            "Accuracy: 0.670 (0.000)\n",
            "Accuracy: 0.760 (0.000)\n",
            "Accuracy: 0.740 (0.000)\n",
            "Accuracy: 0.760 (0.000)\n",
            "Accuracy: 0.690 (0.000)\n",
            "Accuracy: 0.740 (0.000)\n",
            "Accuracy: 0.730 (0.000)\n",
            "Accuracy: 0.640 (0.000)\n",
            "Accuracy: 0.670 (0.000)\n",
            "Accuracy: 0.720 (0.000)\n",
            "Accuracy: 0.720 (0.000)\n",
            "Accuracy: 0.690 (0.000)\n",
            "Accuracy: 0.700 (0.000)\n",
            "Accuracy: 0.710 (0.000)\n",
            "Accuracy: 0.670 (0.000)\n",
            "Accuracy: 0.660 (0.000)\n",
            "Accuracy: 0.700 (0.000)\n",
            "Accuracy: 0.660 (0.000)\n",
            "Accuracy: 0.660 (0.000)\n",
            "Accuracy: 0.660 (0.000)\n",
            "Accuracy: 0.700 (0.000)\n",
            "Accuracy: 0.680 (0.000)\n",
            "Accuracy: 0.700 (0.000)\n",
            "Accuracy: 0.700 (0.000)\n",
            "Accuracy: 0.660 (0.000)\n",
            "Accuracy: 0.700 (0.000)\n",
            "Accuracy: 0.680 (0.000)\n",
            "Accuracy: 0.730 (0.000)\n",
            "Accuracy: 0.670 (0.000)\n",
            "Accuracy: 0.700 (0.000)\n",
            "Accuracy: 0.740 (0.000)\n",
            "Accuracy: 0.680 (0.000)\n",
            "Accuracy: 0.710 (0.000)\n",
            "Accuracy: 0.700 (0.000)\n",
            "Accuracy: 0.750 (0.000)\n",
            "Accuracy: 0.660 (0.000)\n",
            "Accuracy: 0.720 (0.000)\n",
            "Accuracy: 0.650 (0.000)\n",
            "Accuracy: 0.710 (0.000)\n",
            "Accuracy: 0.670 (0.000)\n",
            "Accuracy: 0.680 (0.000)\n",
            "Accuracy: 0.690 (0.000)\n",
            "Accuracy: 0.630 (0.000)\n",
            "Accuracy: 0.700 (0.000)\n",
            "Accuracy: 0.690 (0.000)\n",
            "Accuracy: 0.710 (0.000)\n",
            "Accuracy: 0.730 (0.000)\n",
            "Accuracy: 0.690 (0.000)\n",
            "Accuracy: 0.720 (0.000)\n",
            "Accuracy: 0.740 (0.000)\n",
            "Accuracy: 0.680 (0.000)\n",
            "Accuracy: 0.700 (0.000)\n",
            "Accuracy: 0.700 (0.000)\n",
            "Accuracy: 0.690 (0.000)\n",
            "Accuracy: 0.660 (0.000)\n",
            "Accuracy: 0.710 (0.000)\n",
            "Accuracy: 0.690 (0.000)\n",
            "Accuracy: 0.650 (0.000)\n",
            "Accuracy: 0.730 (0.000)\n",
            "Accuracy: 0.680 (0.000)\n",
            "Accuracy: 0.680 (0.000)\n",
            "Accuracy: 0.640 (0.000)\n",
            "Accuracy: 0.760 (0.000)\n",
            "Accuracy: 0.680 (0.000)\n",
            "Accuracy: 0.700 (0.000)\n",
            "Accuracy: 0.730 (0.000)\n",
            "Accuracy: 0.680 (0.000)\n",
            "Accuracy: 0.700 (0.000)\n",
            "Accuracy: 0.690 (0.000)\n",
            "Accuracy: 0.680 (0.000)\n",
            "Accuracy: 0.750 (0.000)\n",
            "Accuracy: 0.690 (0.000)\n",
            "Accuracy: 0.720 (0.000)\n",
            "Accuracy: 0.710 (0.000)\n",
            "Accuracy: 0.710 (0.000)\n",
            "Accuracy: 0.700 (0.000)\n",
            "Accuracy: 0.710 (0.000)\n",
            "Accuracy: 0.740 (0.000)\n",
            "Accuracy: 0.750 (0.000)\n",
            "Accuracy: 0.730 (0.000)\n",
            "Accuracy: 0.630 (0.000)\n",
            "Accuracy: 0.720 (0.000)\n",
            "Accuracy: 0.690 (0.000)\n",
            "Accuracy: 0.680 (0.000)\n",
            "Accuracy: 0.640 (0.000)\n",
            "Accuracy: 0.650 (0.000)\n",
            "Accuracy: 0.730 (0.000)\n",
            "Accuracy: 0.630 (0.000)\n",
            "Accuracy: 0.720 (0.000)\n",
            "Accuracy: 0.700 (0.000)\n",
            "Accuracy: 0.760 (0.000)\n",
            "Accuracy: 0.690 (0.000)\n",
            "Accuracy: 0.660 (0.000)\n",
            "Accuracy: 0.710 (0.000)\n",
            "Accuracy: 0.690 (0.000)\n",
            "Accuracy: 0.700 (0.000)\n",
            "Accuracy: 0.710 (0.000)\n",
            "Accuracy: 0.660 (0.000)\n",
            "Accuracy: 0.680 (0.000)\n",
            "Accuracy: 0.710 (0.000)\n",
            "Accuracy: 0.710 (0.000)\n",
            "Accuracy: 0.700 (0.000)\n",
            "Accuracy: 0.660 (0.000)\n",
            "Accuracy: 0.750 (0.000)\n",
            "Accuracy: 0.690 (0.000)\n",
            "Accuracy: 0.680 (0.000)\n",
            "Accuracy: 0.710 (0.000)\n",
            "Accuracy: 0.690 (0.000)\n",
            "Accuracy: 0.730 (0.000)\n",
            "Accuracy: 0.670 (0.000)\n",
            "Accuracy: 0.780 (0.000)\n",
            "Accuracy: 0.670 (0.000)\n",
            "Accuracy: 0.670 (0.000)\n",
            "Accuracy: 0.720 (0.000)\n",
            "Accuracy: 0.720 (0.000)\n",
            "Accuracy: 0.710 (0.000)\n",
            "Accuracy: 0.680 (0.000)\n",
            "Accuracy: 0.740 (0.000)\n",
            "Accuracy: 0.690 (0.000)\n",
            "Accuracy: 0.660 (0.000)\n",
            "Accuracy: 0.720 (0.000)\n",
            "Accuracy: 0.650 (0.000)\n",
            "Accuracy: 0.660 (0.000)\n",
            "Accuracy: 0.720 (0.000)\n",
            "Accuracy: 0.680 (0.000)\n",
            "Accuracy: 0.670 (0.000)\n",
            "Accuracy: 0.680 (0.000)\n",
            "Accuracy: 0.670 (0.000)\n",
            "Accuracy: 0.660 (0.000)\n",
            "Accuracy: 0.700 (0.000)\n",
            "Accuracy: 0.700 (0.000)\n",
            "Accuracy: 0.700 (0.000)\n",
            "Accuracy: 0.730 (0.000)\n",
            "Accuracy: 0.740 (0.000)\n",
            "Accuracy: 0.690 (0.000)\n",
            "Accuracy: 0.630 (0.000)\n",
            "Accuracy: 0.680 (0.000)\n",
            "Accuracy: 0.710 (0.000)\n",
            "Accuracy: 0.710 (0.000)\n",
            "Accuracy: 0.650 (0.000)\n",
            "Accuracy: 0.710 (0.000)\n",
            "Accuracy: 0.730 (0.000)\n",
            "Accuracy: 0.760 (0.000)\n",
            "Accuracy: 0.710 (0.000)\n",
            "Accuracy: 0.660 (0.000)\n",
            "Accuracy: 0.700 (0.000)\n",
            "Accuracy: 0.670 (0.000)\n",
            "Accuracy: 0.690 (0.000)\n",
            "Accuracy: 0.680 (0.000)\n",
            "Accuracy: 0.730 (0.000)\n",
            "Accuracy: 0.640 (0.000)\n",
            "Accuracy: 0.720 (0.000)\n",
            "Accuracy: 0.700 (0.000)\n",
            "Accuracy: 0.650 (0.000)\n",
            "Accuracy: 0.690 (0.000)\n",
            "Accuracy: 0.650 (0.000)\n",
            "Accuracy: 0.680 (0.000)\n"
          ]
        }
      ]
    },
    {
      "cell_type": "markdown",
      "source": [
        "Overall model accuracies are indeed different from each other, which is good, and they seem to hover around the 0.7 value. Let's compute the model accuracy for the model with the original data to see if it's better than what we get with bootstrap samples:"
      ],
      "metadata": {
        "id": "zROGwa7lXexA"
      }
    },
    {
      "cell_type": "code",
      "source": [
        "input_variables = scaler.fit_transform(input_variables) # We replicate the pipeline by first standardizing the data \n",
        "LR = LogisticRegression(max_iter=1e4).fit(input_variables,output_variable)\n",
        "score = LR.score(input_variables, output_variable)\n",
        "print('Accuracy: %.3f (%.3f)' % ((score), std(score)))\n",
        "usermeans = LR.coef_ # We will store the model paramaters in a variable called \"usermeans\" to be used later"
      ],
      "metadata": {
        "colab": {
          "base_uri": "https://localhost:8080/"
        },
        "id": "KS6Nh0Dw3ZIs",
        "outputId": "3ac976fa-8c4f-4946-df11-ce097a29db52"
      },
      "execution_count": null,
      "outputs": [
        {
          "output_type": "stream",
          "name": "stdout",
          "text": [
            "Accuracy: 0.800 (0.000)\n"
          ]
        }
      ]
    },
    {
      "cell_type": "markdown",
      "source": [
        "It looks like the original model is more accurate than the dummy samples. This is because the bootstrapped samples were created using 'sampling with replacement', which makes the data in each sample comparatively less rich than the original data. However, this will do just fine for our purposes, so let's reshape the \"coefficients\" list into an np.array and remove any extra dimensions:"
      ],
      "metadata": {
        "id": "HiR0hfdB3c7Z"
      }
    },
    {
      "cell_type": "code",
      "source": [
        "coefficients = np.array(coefficients) # Convert the \"coefficients\" list into an np.array\n",
        "coeffs = coefficients.squeeze() # Remove the extraneous axis\n",
        "print(coeffs.shape) # We will make sure we have 200 instances of 17 features"
      ],
      "metadata": {
        "colab": {
          "base_uri": "https://localhost:8080/"
        },
        "id": "5CwHqFIY3hfJ",
        "outputId": "9a590cba-1a43-42c7-88b5-8b067c987045"
      },
      "execution_count": null,
      "outputs": [
        {
          "output_type": "stream",
          "name": "stdout",
          "text": [
            "(200, 17)\n"
          ]
        }
      ]
    },
    {
      "cell_type": "markdown",
      "source": [
        "The reshaping worked. Now that we have the same number of dimensions as the array we called \"usermeans\", we are ready to produce a boxplot:"
      ],
      "metadata": {
        "id": "_DceHET_3jZ6"
      }
    },
    {
      "cell_type": "code",
      "source": [
        "# Turning \"coeffs\" into pandas dataframes for ease of manipulation\n",
        "df = pd.DataFrame(coeffs) \n",
        "\n",
        "fig, ax = plt.subplots() # Create the empty figure\n",
        "medianprops = dict(linewidth=0) # We will remove the median line by setting the line width to 0\n",
        "conf_int = df.boxplot(medianprops=medianprops) # And we will create a plot of the bootstrap confidence intervals without the medians\n",
        "plt.boxplot(usermeans) # We superimpose the \"usermeans\" data onto the current plot\n",
        "plt.gca().set(\n",
        "    title=\"Model parameters within bootstrapped distributions (n_samples = 200)\",\n",
        "    xlabel=\"Model features\",\n",
        "    ylabel=\"Distribution of model parameters\",\n",
        "    xticks = list(range(1, 18))\n",
        ")\n",
        "plt.show()"
      ],
      "metadata": {
        "colab": {
          "base_uri": "https://localhost:8080/",
          "height": 295
        },
        "id": "h0GGEj3s3q0o",
        "outputId": "265bd2b8-b211-4b52-cfad-34a7b8075a4d"
      },
      "execution_count": null,
      "outputs": [
        {
          "output_type": "display_data",
          "data": {
            "text/plain": [
              "<Figure size 432x288 with 1 Axes>"
            ],
            "image/png": "[encoded data removed]"
          },
          "metadata": {
            "needs_background": "light"
          }
        }
      ]
    },
    {
      "cell_type": "markdown",
      "source": [
        "The result is a figure with 17 boxplots (one per feature), where the orange lines represent the model parameters (or means) obtained from the original, non-bootrstapped model. The bootsrap procedure essentially gave us a non-parametric distribution of possible datapoints (given scrambled data). With this distribution, we can establish whether a given parameter is within or without the bounds of a confidence interval that would need to be established."
      ],
      "metadata": {
        "id": "VbpDIGkp3s1a"
      }
    },
    {
      "cell_type": "markdown",
      "source": [
        "2. Without predictive modeling; using 200 bootstrap iterations, in each drawn bootstrap dataset, subtract the mean volume in an input variable across males from the mean volume across females, for each input variable. Then, plot the 5% and 95% percentiles of the distribution of 200 bootstrapped differences for the purpose of hypothesis testing (dispersion on the y-axis and input variables on the xaxis). Hint: use np.percentile()."
      ],
      "metadata": {
        "id": "hZOoQhz15KQo"
      }
    },
    {
      "cell_type": "code",
      "source": [
        "# Importing the packages and the data\n",
        "\n",
        "from nilearn import datasets\n",
        "import numpy as np\n",
        "import pandas as pd\n",
        "from nilearn.input_data import NiftiLabelsMasker\n",
        "brain_data = datasets.fetch_oasis_vbm(n_subjects=100)\n",
        "yeo = datasets.fetch_atlas_yeo_2011()\n",
        "masker = NiftiLabelsMasker(labels_img=yeo['thick_17'],\n",
        "standardize=True, memory='nilearn_cache')\n",
        "input_variables = masker.fit_transform(brain_data.gray_matter_maps)\n",
        "output_variable = np.array(brain_data.ext_vars.mf == 'F',\n",
        "dtype=int) #gives 1 for females and 0 for males\n",
        "\n",
        "import scipy\n",
        "import matplotlib.pyplot as plt\n",
        "from numpy import mean\n",
        "from numpy import std\n",
        "from sklearn.linear_model import LogisticRegression\n",
        "from sklearn.utils import resample\n",
        "\n",
        "from sklearn.preprocessing import StandardScaler\n",
        "scaler = StandardScaler()"
      ],
      "metadata": {
        "colab": {
          "base_uri": "https://localhost:8080/"
        },
        "id": "B158txNi3rrx",
        "outputId": "35f5f4e7-6b10-4f83-fae1-53fb0b93fe9f"
      },
      "execution_count": null,
      "outputs": [
        {
          "output_type": "stream",
          "name": "stderr",
          "text": [
            "/usr/local/lib/python3.7/dist-packages/nilearn/datasets/struct.py:774: UserWarning: `legacy_format` will default to `False` in release 0.11. Dataset fetchers will then return pandas dataframes by default instead of recarrays.\n",
            "  warnings.warn(_LEGACY_FORMAT_MSG)\n"
          ]
        }
      ]
    },
    {
      "cell_type": "code",
      "source": [
        "# Setting the number of iterations\n",
        "n_iterations = 200\n",
        "# Pre-allocating the array where the differences of the 17 features in the 200 models will be appended\n",
        "differences = []\n",
        "\n",
        "for i in range(n_iterations):\n",
        "    input_variables = resample(input_variables, replace=True, n_samples=100) # Scramble the data\n",
        "    input_variables = scaler.fit_transform(input_variables) # Run the scaler on every iteration\n",
        "    fem_means = pd.DataFrame(input_variables[output_variable == 1])\n",
        "    male_means = pd.DataFrame(input_variables [output_variable == 0])\n",
        "    fem_means = fem_means.mean(axis=0)\n",
        "    male_means = male_means.mean(axis=0)\n",
        "    sub = fem_means - male_means   \n",
        "    differences.append(sub) # Store the differences in the \"differences\" array\n",
        "    \n",
        "differences = np.array(differences)\n",
        "\n",
        "print(differences.shape)\n",
        "print(differences[5])\n",
        "print(differences[55])"
      ],
      "metadata": {
        "colab": {
          "base_uri": "https://localhost:8080/"
        },
        "id": "Ya4n4NsI5Uj3",
        "outputId": "cb76c5ed-06fe-47c6-a4be-a89388a6d11f"
      },
      "execution_count": null,
      "outputs": [
        {
          "output_type": "stream",
          "name": "stdout",
          "text": [
            "(200, 17)\n",
            "[0.31647897 0.32998827 0.15567802 0.20747502 0.24037397 0.35475904\n",
            " 0.12818342 0.2081309  0.07201929 0.12035684 0.20232058 0.26377967\n",
            " 0.17189531 0.20854236 0.15500069 0.22356984 0.15071252]\n",
            "[-0.2121767  -0.27347735 -0.27469116 -0.26022255 -0.13451208 -0.22067136\n",
            " -0.1471824  -0.04090686 -0.27676728 -0.23583126 -0.09464976 -0.18795851\n",
            " -0.04508962 -0.24738991 -0.27186355 -0.15748416 -0.10759777]\n"
          ]
        }
      ]
    },
    {
      "cell_type": "markdown",
      "source": [
        "The result is a numpy array containing 200 bootrsap samples (rows), where every column reflects the difference between the mean value for females minus the mean value for males within that column. We are now ready to plot the percentiles: "
      ],
      "metadata": {
        "id": "5pNGJKq65kgW"
      }
    },
    {
      "cell_type": "code",
      "source": [
        "x = list(range(1, 18))\n",
        "plt.scatter(x,percentiles_5)\n",
        "plt.scatter(x,percentiles_95)\n",
        "plt.legend(labels=(\"5th percentile scores\", \"95th percentile scores\"))\n",
        "plt.gca().set(\n",
        "    title=\"5th and 95th percentile values for each 'FEM-MALE' mean difference across features\",\n",
        "    xlabel=\"Model features\",\n",
        "    ylabel=\"Dispersion\",\n",
        "    xticks = list(range(1, 18))\n",
        ")\n",
        "plt.show()"
      ],
      "metadata": {
        "colab": {
          "base_uri": "https://localhost:8080/",
          "height": 295
        },
        "id": "z5AWLRnE5mkw",
        "outputId": "b2d671e9-d886-4d90-a372-75dc7cb45838"
      },
      "execution_count": null,
      "outputs": [
        {
          "output_type": "display_data",
          "data": {
            "text/plain": [
              "<Figure size 432x288 with 1 Axes>"
            ],
            "image/png": "[encoded data removed]"
          },
          "metadata": {
            "needs_background": "light"
          }
        }
      ]
    },
    {
      "cell_type": "markdown",
      "source": [
        "3. Define the training dataset as the first 80 of the 100 subjects, then draw 200 bootstrap samples of this training dataset. On each of the 200 bootstrap samples, train a logistic regression model sklearn.linear_model.LogisticRegression(hyperparameter set to 1.0) to distinguish male versus female participants. Then, building on those 200 fitted models, improve the prediction performance on the remaining subjects as testing data (unseen 20% of the 100 subjects) by majority vote (i.e., select the most common class) across the 200 bootstrapped logistic regression models. Report this average classification performance (% number, no plot)."
      ],
      "metadata": {
        "id": "exviZVo-5tKM"
      }
    },
    {
      "cell_type": "code",
      "source": [
        "# Importing the packages and the data\n",
        "\n",
        "from nilearn import datasets\n",
        "import numpy as np\n",
        "import pandas as pd\n",
        "from nilearn.input_data import NiftiLabelsMasker\n",
        "brain_data = datasets.fetch_oasis_vbm(n_subjects=100)\n",
        "yeo = datasets.fetch_atlas_yeo_2011()\n",
        "masker = NiftiLabelsMasker(labels_img=yeo['thick_17'],\n",
        "standardize=True, memory='nilearn_cache')\n",
        "input_variables = masker.fit_transform(brain_data.gray_matter_maps)\n",
        "output_variable = np.array(brain_data.ext_vars.mf == 'F',\n",
        "dtype=int) #gives 1 for females and 0 for males\n",
        "\n",
        "import scipy\n",
        "import matplotlib.pyplot as plt\n",
        "from numpy import mean\n",
        "from numpy import std\n",
        "from sklearn.linear_model import LogisticRegression\n",
        "from sklearn.utils import resample\n",
        "from sklearn.model_selection import train_test_split\n",
        "\n",
        "from sklearn.preprocessing import StandardScaler\n",
        "scaler = StandardScaler()"
      ],
      "metadata": {
        "colab": {
          "base_uri": "https://localhost:8080/"
        },
        "id": "qeMvc9Di5sTT",
        "outputId": "cdc401e0-f5c6-476e-a05c-b13bbc838580"
      },
      "execution_count": null,
      "outputs": [
        {
          "output_type": "stream",
          "name": "stderr",
          "text": [
            "/usr/local/lib/python3.7/dist-packages/nilearn/datasets/struct.py:774: UserWarning: `legacy_format` will default to `False` in release 0.11. Dataset fetchers will then return pandas dataframes by default instead of recarrays.\n",
            "  warnings.warn(_LEGACY_FORMAT_MSG)\n"
          ]
        }
      ]
    },
    {
      "cell_type": "code",
      "source": [
        "X, y = input_variables, output_variable\n",
        "X_train, X_test, y_train, y_test = train_test_split(X, y, test_size=0.2, shuffle=False)\n",
        "\n",
        "# Pre-allocating the array where the coefficients of the 200 models will be appended\n",
        "predictions = []\n",
        "# Setting the number of iterations\n",
        "n_iterations = 200\n",
        "\n",
        "for i in range(n_iterations):\n",
        "    X_train = resample(X_train, replace=True, n_samples=80) # X_train is the given bootstrap sample in the current iteration\n",
        "    X_train = scaler.fit_transform(X_train) # Here we run the scaler on every iteration\n",
        "    LR_boot = LogisticRegression(max_iter=1e4).fit(X_train,y_train) # We fit the LR model to the current bootstrap sample  coefficients.append(LR_boot.coef_) # Store the coefficients in the \"coefficients\" array\n",
        "    score = LR_boot.score(X_train, y_train) # We will also export the score for each bootstrap model (...)\n",
        "    print('Training accuracy: %.3f (%.3f)' % ((score), std(score))) # (...) and we will print it to make sure every model is different\n",
        "    X_test = scaler.fit_transform(X_test) # Here we run the scaler on every iteration\n",
        "    yhat = LR_boot.predict(X_test)\n",
        "    scores = LR_boot.score(X_test, y_test)\n",
        "    print('Test accuracy: %.3f (%.3f)' % ((scores), std(scores)))\n",
        "    predictions.append(yhat)\n",
        "    print(yhat)"
      ],
      "metadata": {
        "colab": {
          "base_uri": "https://localhost:8080/"
        },
        "id": "ODwsMgDW5225",
        "outputId": "b537c1a6-5353-4c0f-884b-ed81d8bdf272"
      },
      "execution_count": null,
      "outputs": [
        {
          "output_type": "stream",
          "name": "stdout",
          "text": [
            "Training accuracy: 0.738 (0.000)\n",
            "Test accuracy: 0.450 (0.000)\n",
            "[1 1 1 1 1 1 1 0 1 1 1 1 1 1 1 1 1 1 1 0]\n",
            "Training accuracy: 0.738 (0.000)\n",
            "Test accuracy: 0.400 (0.000)\n",
            "[1 1 1 1 1 0 1 0 1 1 1 1 1 1 1 1 1 1 1 0]\n",
            "Training accuracy: 0.688 (0.000)\n",
            "Test accuracy: 0.250 (0.000)\n",
            "[1 1 1 0 1 0 1 0 1 1 1 1 1 1 0 1 1 1 1 1]\n",
            "Training accuracy: 0.713 (0.000)\n",
            "Test accuracy: 0.450 (0.000)\n",
            "[1 1 1 1 1 1 1 1 1 1 1 1 1 1 1 1 1 1 1 1]\n",
            "Training accuracy: 0.750 (0.000)\n",
            "Test accuracy: 0.550 (0.000)\n",
            "[1 1 0 1 1 1 1 1 1 1 1 1 1 1 1 0 1 1 1 1]\n",
            "Training accuracy: 0.750 (0.000)\n",
            "Test accuracy: 0.350 (0.000)\n",
            "[1 1 1 0 1 1 1 1 0 1 0 0 1 1 1 1 1 1 1 1]\n",
            "Training accuracy: 0.725 (0.000)\n",
            "Test accuracy: 0.400 (0.000)\n",
            "[1 1 1 1 1 0 1 1 1 1 1 1 1 1 1 1 1 1 1 1]\n",
            "Training accuracy: 0.713 (0.000)\n",
            "Test accuracy: 0.400 (0.000)\n",
            "[1 1 1 1 1 1 1 1 1 1 1 1 1 1 0 1 1 1 1 1]\n",
            "Training accuracy: 0.725 (0.000)\n",
            "Test accuracy: 0.300 (0.000)\n",
            "[1 1 1 0 1 1 1 0 0 1 1 1 1 1 1 1 1 1 1 1]\n",
            "Training accuracy: 0.725 (0.000)\n",
            "Test accuracy: 0.450 (0.000)\n",
            "[1 1 1 1 1 1 0 1 0 1 1 1 1 1 1 1 1 1 1 1]\n",
            "Training accuracy: 0.750 (0.000)\n",
            "Test accuracy: 0.400 (0.000)\n",
            "[1 1 1 1 1 0 1 1 1 1 1 1 1 1 1 1 1 1 1 1]\n",
            "Training accuracy: 0.700 (0.000)\n",
            "Test accuracy: 0.450 (0.000)\n",
            "[1 1 1 1 1 1 1 1 1 1 1 1 1 1 1 1 1 1 1 1]\n",
            "Training accuracy: 0.700 (0.000)\n",
            "Test accuracy: 0.450 (0.000)\n",
            "[1 1 1 1 1 1 1 1 1 1 1 1 1 1 1 1 1 1 1 1]\n",
            "Training accuracy: 0.713 (0.000)\n",
            "Test accuracy: 0.450 (0.000)\n",
            "[1 1 1 1 1 1 1 1 1 1 1 1 1 1 1 1 1 1 1 1]\n",
            "Training accuracy: 0.700 (0.000)\n",
            "Test accuracy: 0.400 (0.000)\n",
            "[1 1 1 1 1 0 1 1 1 1 1 1 1 1 1 1 1 1 1 1]\n",
            "Training accuracy: 0.700 (0.000)\n",
            "Test accuracy: 0.450 (0.000)\n",
            "[1 1 1 1 1 1 1 1 1 1 1 1 1 1 1 1 1 1 1 1]\n",
            "Training accuracy: 0.713 (0.000)\n",
            "Test accuracy: 0.450 (0.000)\n",
            "[1 1 1 1 1 1 1 1 1 1 1 1 1 1 1 1 1 1 1 1]\n",
            "Training accuracy: 0.725 (0.000)\n",
            "Test accuracy: 0.400 (0.000)\n",
            "[1 1 1 1 1 0 1 1 1 1 1 1 1 1 1 1 1 1 1 1]\n",
            "Training accuracy: 0.688 (0.000)\n",
            "Test accuracy: 0.450 (0.000)\n",
            "[1 1 1 1 1 1 1 1 1 1 1 1 1 1 1 1 1 1 1 1]\n",
            "Training accuracy: 0.688 (0.000)\n",
            "Test accuracy: 0.400 (0.000)\n",
            "[1 1 1 1 1 0 1 0 1 1 1 1 1 0 1 1 1 1 1 1]\n",
            "Training accuracy: 0.688 (0.000)\n",
            "Test accuracy: 0.400 (0.000)\n",
            "[1 1 1 1 1 1 1 1 1 1 1 1 1 1 1 1 1 0 1 1]\n",
            "Training accuracy: 0.700 (0.000)\n",
            "Test accuracy: 0.450 (0.000)\n",
            "[1 1 1 1 1 1 1 1 1 1 1 1 1 1 1 1 1 1 1 1]\n",
            "Training accuracy: 0.713 (0.000)\n",
            "Test accuracy: 0.400 (0.000)\n",
            "[1 1 1 1 1 0 1 1 1 1 1 1 1 1 1 1 1 1 1 1]\n",
            "Training accuracy: 0.688 (0.000)\n",
            "Test accuracy: 0.300 (0.000)\n",
            "[1 1 1 1 1 0 1 1 0 1 1 1 1 1 0 1 1 1 1 1]\n",
            "Training accuracy: 0.700 (0.000)\n",
            "Test accuracy: 0.450 (0.000)\n",
            "[1 1 1 1 1 1 1 1 1 1 1 1 1 1 1 1 1 1 1 1]\n",
            "Training accuracy: 0.688 (0.000)\n",
            "Test accuracy: 0.450 (0.000)\n",
            "[1 1 1 1 1 1 1 1 1 1 1 1 1 1 1 1 1 1 1 1]\n",
            "Training accuracy: 0.688 (0.000)\n",
            "Test accuracy: 0.300 (0.000)\n",
            "[1 1 1 1 1 0 1 1 0 1 1 1 1 1 0 1 1 1 1 1]\n",
            "Training accuracy: 0.688 (0.000)\n",
            "Test accuracy: 0.400 (0.000)\n",
            "[1 1 1 1 1 0 1 1 1 1 1 1 1 1 1 1 1 1 1 1]\n",
            "Training accuracy: 0.688 (0.000)\n",
            "Test accuracy: 0.450 (0.000)\n",
            "[1 1 1 1 1 1 1 1 1 1 1 1 1 1 1 1 1 1 1 1]\n",
            "Training accuracy: 0.688 (0.000)\n",
            "Test accuracy: 0.450 (0.000)\n",
            "[0 1 1 1 1 1 1 0 1 1 1 1 1 1 1 1 1 1 1 1]\n",
            "Training accuracy: 0.688 (0.000)\n",
            "Test accuracy: 0.450 (0.000)\n",
            "[1 1 1 1 1 1 1 1 1 1 1 1 1 1 1 1 1 1 1 1]\n",
            "Training accuracy: 0.688 (0.000)\n",
            "Test accuracy: 0.450 (0.000)\n",
            "[1 1 1 1 1 1 1 1 1 1 1 1 1 1 1 1 1 1 1 1]\n",
            "Training accuracy: 0.713 (0.000)\n",
            "Test accuracy: 0.400 (0.000)\n",
            "[1 1 1 1 1 1 1 1 0 1 1 1 1 1 1 1 1 1 1 1]\n",
            "Training accuracy: 0.688 (0.000)\n",
            "Test accuracy: 0.450 (0.000)\n",
            "[1 1 1 1 1 1 1 1 1 1 1 1 1 1 1 1 1 1 1 1]\n",
            "Training accuracy: 0.700 (0.000)\n",
            "Test accuracy: 0.450 (0.000)\n",
            "[1 1 1 1 1 1 1 1 1 1 1 1 1 1 1 1 1 1 1 1]\n",
            "Training accuracy: 0.688 (0.000)\n",
            "Test accuracy: 0.450 (0.000)\n",
            "[1 1 1 1 1 1 1 1 1 1 1 1 1 1 1 1 1 1 1 1]\n",
            "Training accuracy: 0.688 (0.000)\n",
            "Test accuracy: 0.450 (0.000)\n",
            "[1 1 1 1 1 1 1 1 1 1 1 1 1 1 1 1 1 1 1 1]\n",
            "Training accuracy: 0.688 (0.000)\n",
            "Test accuracy: 0.450 (0.000)\n",
            "[1 1 1 1 1 1 1 1 1 1 1 1 1 1 1 1 1 1 1 1]\n",
            "Training accuracy: 0.688 (0.000)\n",
            "Test accuracy: 0.450 (0.000)\n",
            "[1 1 1 1 1 1 1 1 1 1 1 1 1 1 1 1 1 1 1 1]\n",
            "Training accuracy: 0.688 (0.000)\n",
            "Test accuracy: 0.450 (0.000)\n",
            "[1 1 1 1 1 1 1 1 1 1 1 1 1 1 1 1 1 1 1 1]\n",
            "Training accuracy: 0.688 (0.000)\n",
            "Test accuracy: 0.450 (0.000)\n",
            "[1 1 1 1 1 1 1 1 1 1 1 1 1 1 1 1 1 1 1 1]\n",
            "Training accuracy: 0.688 (0.000)\n",
            "Test accuracy: 0.450 (0.000)\n",
            "[1 1 1 1 1 1 1 1 1 1 1 1 1 1 1 1 1 1 1 1]\n",
            "Training accuracy: 0.688 (0.000)\n",
            "Test accuracy: 0.450 (0.000)\n",
            "[1 1 1 1 1 1 1 1 1 1 1 1 1 1 1 1 1 1 1 1]\n",
            "Training accuracy: 0.688 (0.000)\n",
            "Test accuracy: 0.450 (0.000)\n",
            "[1 1 1 1 1 1 1 1 1 1 1 1 1 1 1 1 1 1 1 1]\n",
            "Training accuracy: 0.688 (0.000)\n",
            "Test accuracy: 0.450 (0.000)\n",
            "[1 1 1 1 1 1 1 1 1 1 1 1 1 1 1 1 1 1 1 1]\n",
            "Training accuracy: 0.688 (0.000)\n",
            "Test accuracy: 0.450 (0.000)\n",
            "[1 1 1 1 1 1 1 1 1 1 1 1 1 1 1 1 1 1 1 1]\n",
            "Training accuracy: 0.688 (0.000)\n",
            "Test accuracy: 0.450 (0.000)\n",
            "[1 1 1 1 1 1 1 1 1 1 1 1 1 1 1 1 1 1 1 1]\n",
            "Training accuracy: 0.688 (0.000)\n",
            "Test accuracy: 0.450 (0.000)\n",
            "[1 1 1 1 1 1 1 1 1 1 1 1 1 1 1 1 1 1 1 1]\n",
            "Training accuracy: 0.688 (0.000)\n",
            "Test accuracy: 0.450 (0.000)\n",
            "[1 1 1 1 1 1 1 1 1 1 1 1 1 1 1 1 1 1 1 1]\n",
            "Training accuracy: 0.688 (0.000)\n",
            "Test accuracy: 0.450 (0.000)\n",
            "[1 1 1 1 1 1 1 1 1 1 1 1 1 1 1 1 1 1 1 1]\n",
            "Training accuracy: 0.688 (0.000)\n",
            "Test accuracy: 0.450 (0.000)\n",
            "[1 1 1 1 1 1 1 1 1 1 1 1 1 1 1 1 1 1 1 1]\n",
            "Training accuracy: 0.688 (0.000)\n",
            "Test accuracy: 0.450 (0.000)\n",
            "[1 1 1 1 1 1 1 1 1 1 1 1 1 1 1 1 1 1 1 1]\n",
            "Training accuracy: 0.688 (0.000)\n",
            "Test accuracy: 0.450 (0.000)\n",
            "[1 1 1 1 1 1 1 1 1 1 1 1 1 1 1 1 1 1 1 1]\n",
            "Training accuracy: 0.688 (0.000)\n",
            "Test accuracy: 0.450 (0.000)\n",
            "[1 1 1 1 1 1 1 1 1 1 1 1 1 1 1 1 1 1 1 1]\n",
            "Training accuracy: 0.688 (0.000)\n",
            "Test accuracy: 0.450 (0.000)\n",
            "[1 1 1 1 1 1 1 1 1 1 1 1 1 1 1 1 1 1 1 1]\n",
            "Training accuracy: 0.688 (0.000)\n",
            "Test accuracy: 0.450 (0.000)\n",
            "[1 1 1 1 1 1 1 1 1 1 1 1 1 1 1 1 1 1 1 1]\n",
            "Training accuracy: 0.688 (0.000)\n",
            "Test accuracy: 0.450 (0.000)\n",
            "[1 1 1 1 1 1 1 1 1 1 1 1 1 1 1 1 1 1 1 1]\n",
            "Training accuracy: 0.688 (0.000)\n",
            "Test accuracy: 0.450 (0.000)\n",
            "[1 1 1 1 1 1 1 1 1 1 1 1 1 1 1 1 1 1 1 1]\n",
            "Training accuracy: 0.688 (0.000)\n",
            "Test accuracy: 0.450 (0.000)\n",
            "[1 1 1 1 1 1 1 1 1 1 1 1 1 1 1 1 1 1 1 1]\n",
            "Training accuracy: 0.700 (0.000)\n",
            "Test accuracy: 0.450 (0.000)\n",
            "[1 1 1 1 1 1 1 1 1 1 1 1 1 1 1 1 1 1 1 1]\n",
            "Training accuracy: 0.688 (0.000)\n",
            "Test accuracy: 0.300 (0.000)\n",
            "[1 1 1 1 1 0 1 1 0 1 1 1 1 1 0 1 1 1 1 1]\n",
            "Training accuracy: 0.688 (0.000)\n",
            "Test accuracy: 0.350 (0.000)\n",
            "[1 1 1 1 1 0 1 1 0 1 1 1 1 1 1 1 1 1 1 1]\n",
            "Training accuracy: 0.688 (0.000)\n",
            "Test accuracy: 0.450 (0.000)\n",
            "[1 1 1 1 1 1 1 1 1 1 1 1 1 1 1 1 1 1 1 1]\n",
            "Training accuracy: 0.688 (0.000)\n",
            "Test accuracy: 0.450 (0.000)\n",
            "[1 1 1 1 1 1 1 1 1 1 1 1 1 1 1 1 1 1 1 1]\n",
            "Training accuracy: 0.688 (0.000)\n",
            "Test accuracy: 0.450 (0.000)\n",
            "[1 1 1 1 1 1 1 1 1 1 1 1 1 1 1 1 1 1 1 1]\n",
            "Training accuracy: 0.688 (0.000)\n",
            "Test accuracy: 0.450 (0.000)\n",
            "[1 1 1 1 1 1 1 1 1 1 1 1 1 1 1 1 1 1 1 1]\n",
            "Training accuracy: 0.688 (0.000)\n",
            "Test accuracy: 0.450 (0.000)\n",
            "[1 1 1 1 1 1 1 1 1 1 1 1 1 1 1 1 1 1 1 1]\n",
            "Training accuracy: 0.688 (0.000)\n",
            "Test accuracy: 0.450 (0.000)\n",
            "[1 1 1 1 1 1 1 1 1 1 1 1 1 1 1 1 1 1 1 1]\n",
            "Training accuracy: 0.688 (0.000)\n",
            "Test accuracy: 0.450 (0.000)\n",
            "[1 1 1 1 1 1 1 1 1 1 1 1 1 1 1 1 1 1 1 1]\n",
            "Training accuracy: 0.688 (0.000)\n",
            "Test accuracy: 0.450 (0.000)\n",
            "[1 1 1 1 1 1 1 1 1 1 1 1 1 1 1 1 1 1 1 1]\n",
            "Training accuracy: 0.688 (0.000)\n",
            "Test accuracy: 0.450 (0.000)\n",
            "[1 1 1 1 1 1 1 1 1 1 1 1 1 1 1 1 1 1 1 1]\n",
            "Training accuracy: 0.688 (0.000)\n",
            "Test accuracy: 0.450 (0.000)\n",
            "[1 1 1 1 1 1 1 1 1 1 1 1 1 1 1 1 1 1 1 1]\n",
            "Training accuracy: 0.688 (0.000)\n",
            "Test accuracy: 0.450 (0.000)\n",
            "[1 1 1 1 1 1 1 1 1 1 1 1 1 1 1 1 1 1 1 1]\n",
            "Training accuracy: 0.700 (0.000)\n",
            "Test accuracy: 0.450 (0.000)\n",
            "[1 1 1 1 1 1 1 1 1 1 1 1 1 1 1 1 1 1 1 1]\n",
            "Training accuracy: 0.688 (0.000)\n",
            "Test accuracy: 0.300 (0.000)\n",
            "[1 1 1 1 1 0 1 1 0 1 1 1 1 1 0 1 1 1 1 1]\n",
            "Training accuracy: 0.688 (0.000)\n",
            "Test accuracy: 0.350 (0.000)\n",
            "[1 1 1 1 1 0 1 1 0 1 1 1 1 1 1 1 1 1 1 1]\n",
            "Training accuracy: 0.688 (0.000)\n",
            "Test accuracy: 0.350 (0.000)\n",
            "[1 1 1 1 1 0 1 1 0 1 1 1 1 1 1 1 1 1 1 1]\n",
            "Training accuracy: 0.688 (0.000)\n",
            "Test accuracy: 0.300 (0.000)\n",
            "[1 1 1 1 1 0 1 1 0 1 1 1 1 1 0 1 1 1 1 1]\n",
            "Training accuracy: 0.688 (0.000)\n",
            "Test accuracy: 0.450 (0.000)\n",
            "[1 1 1 1 1 1 1 1 1 1 1 1 1 1 1 1 1 1 1 1]\n",
            "Training accuracy: 0.688 (0.000)\n",
            "Test accuracy: 0.300 (0.000)\n",
            "[1 1 1 1 1 0 1 1 0 1 1 1 1 1 0 1 1 1 1 1]\n",
            "Training accuracy: 0.688 (0.000)\n",
            "Test accuracy: 0.450 (0.000)\n",
            "[1 1 1 1 1 1 1 1 1 1 1 1 1 1 1 1 1 1 1 1]\n",
            "Training accuracy: 0.688 (0.000)\n",
            "Test accuracy: 0.450 (0.000)\n",
            "[1 1 1 1 1 1 1 1 1 1 1 1 1 1 1 1 1 1 1 1]\n",
            "Training accuracy: 0.688 (0.000)\n",
            "Test accuracy: 0.350 (0.000)\n",
            "[1 1 1 1 1 0 1 1 0 1 1 1 1 1 1 1 1 1 1 1]\n",
            "Training accuracy: 0.688 (0.000)\n",
            "Test accuracy: 0.400 (0.000)\n",
            "[1 1 1 1 1 0 1 1 1 1 1 1 1 1 1 1 1 1 1 1]\n",
            "Training accuracy: 0.688 (0.000)\n",
            "Test accuracy: 0.400 (0.000)\n",
            "[1 1 1 1 1 0 1 1 1 1 1 1 1 1 1 1 1 1 1 1]\n",
            "Training accuracy: 0.688 (0.000)\n",
            "Test accuracy: 0.450 (0.000)\n",
            "[1 1 1 1 1 1 1 1 1 1 1 1 1 1 1 1 1 1 1 1]\n",
            "Training accuracy: 0.688 (0.000)\n",
            "Test accuracy: 0.400 (0.000)\n",
            "[1 1 1 1 1 0 1 1 1 1 1 1 1 1 1 1 1 1 1 1]\n",
            "Training accuracy: 0.688 (0.000)\n",
            "Test accuracy: 0.450 (0.000)\n",
            "[1 1 1 1 1 1 1 1 1 1 1 1 1 1 1 1 1 1 1 1]\n",
            "Training accuracy: 0.688 (0.000)\n",
            "Test accuracy: 0.450 (0.000)\n",
            "[1 1 1 1 1 1 1 1 1 1 1 1 1 1 1 1 1 1 1 1]\n",
            "Training accuracy: 0.688 (0.000)\n",
            "Test accuracy: 0.450 (0.000)\n",
            "[1 1 1 1 1 1 1 1 1 1 1 1 1 1 1 1 1 1 1 1]\n",
            "Training accuracy: 0.688 (0.000)\n",
            "Test accuracy: 0.450 (0.000)\n",
            "[1 1 1 1 1 1 1 1 1 1 1 1 1 1 1 1 1 1 1 1]\n",
            "Training accuracy: 0.688 (0.000)\n",
            "Test accuracy: 0.450 (0.000)\n",
            "[1 1 1 1 1 1 1 1 1 1 1 1 1 1 1 1 1 1 1 1]\n",
            "Training accuracy: 0.688 (0.000)\n",
            "Test accuracy: 0.450 (0.000)\n",
            "[1 1 1 1 1 1 1 1 1 1 1 1 1 1 1 1 1 1 1 1]\n",
            "Training accuracy: 0.688 (0.000)\n",
            "Test accuracy: 0.450 (0.000)\n",
            "[1 1 1 1 1 1 1 1 1 1 1 1 1 1 1 1 1 1 1 1]\n",
            "Training accuracy: 0.688 (0.000)\n",
            "Test accuracy: 0.450 (0.000)\n",
            "[1 1 1 1 1 1 1 1 1 1 1 1 1 1 1 1 1 1 1 1]\n",
            "Training accuracy: 0.688 (0.000)\n",
            "Test accuracy: 0.450 (0.000)\n",
            "[1 1 1 1 1 1 1 1 1 1 1 1 1 1 1 1 1 1 1 1]\n",
            "Training accuracy: 0.688 (0.000)\n",
            "Test accuracy: 0.450 (0.000)\n",
            "[1 1 1 1 1 1 1 1 1 1 1 1 1 1 1 1 1 1 1 1]\n",
            "Training accuracy: 0.688 (0.000)\n",
            "Test accuracy: 0.450 (0.000)\n",
            "[1 1 1 1 1 1 1 1 1 1 1 1 1 1 1 1 1 1 1 1]\n",
            "Training accuracy: 0.688 (0.000)\n",
            "Test accuracy: 0.450 (0.000)\n",
            "[1 1 1 1 1 1 1 1 1 1 1 1 1 1 1 1 1 1 1 1]\n",
            "Training accuracy: 0.688 (0.000)\n",
            "Test accuracy: 0.450 (0.000)\n",
            "[1 1 1 1 1 1 1 1 1 1 1 1 1 1 1 1 1 1 1 1]\n",
            "Training accuracy: 0.688 (0.000)\n",
            "Test accuracy: 0.450 (0.000)\n",
            "[1 1 1 1 1 1 1 1 1 1 1 1 1 1 1 1 1 1 1 1]\n",
            "Training accuracy: 0.688 (0.000)\n",
            "Test accuracy: 0.450 (0.000)\n",
            "[1 1 1 1 1 1 1 1 1 1 1 1 1 1 1 1 1 1 1 1]\n",
            "Training accuracy: 0.688 (0.000)\n",
            "Test accuracy: 0.450 (0.000)\n",
            "[1 1 1 1 1 1 1 1 1 1 1 1 1 1 1 1 1 1 1 1]\n",
            "Training accuracy: 0.688 (0.000)\n",
            "Test accuracy: 0.450 (0.000)\n",
            "[1 1 1 1 1 1 1 1 1 1 1 1 1 1 1 1 1 1 1 1]\n",
            "Training accuracy: 0.688 (0.000)\n",
            "Test accuracy: 0.450 (0.000)\n",
            "[1 1 1 1 1 1 1 1 1 1 1 1 1 1 1 1 1 1 1 1]\n",
            "Training accuracy: 0.688 (0.000)\n",
            "Test accuracy: 0.450 (0.000)\n",
            "[1 1 1 1 1 1 1 1 1 1 1 1 1 1 1 1 1 1 1 1]\n",
            "Training accuracy: 0.688 (0.000)\n",
            "Test accuracy: 0.450 (0.000)\n",
            "[1 1 1 1 1 1 1 1 1 1 1 1 1 1 1 1 1 1 1 1]\n",
            "Training accuracy: 0.688 (0.000)\n",
            "Test accuracy: 0.450 (0.000)\n",
            "[1 1 1 1 1 1 1 1 1 1 1 1 1 1 1 1 1 1 1 1]\n",
            "Training accuracy: 0.688 (0.000)\n",
            "Test accuracy: 0.450 (0.000)\n",
            "[1 1 1 1 1 1 1 1 1 1 1 1 1 1 1 1 1 1 1 1]\n",
            "Training accuracy: 0.688 (0.000)\n",
            "Test accuracy: 0.450 (0.000)\n",
            "[1 1 1 1 1 1 1 1 1 1 1 1 1 1 1 1 1 1 1 1]\n",
            "Training accuracy: 0.688 (0.000)\n",
            "Test accuracy: 0.450 (0.000)\n",
            "[1 1 1 1 1 1 1 1 1 1 1 1 1 1 1 1 1 1 1 1]\n",
            "Training accuracy: 0.688 (0.000)\n",
            "Test accuracy: 0.450 (0.000)\n",
            "[1 1 1 1 1 1 1 1 1 1 1 1 1 1 1 1 1 1 1 1]\n",
            "Training accuracy: 0.688 (0.000)\n",
            "Test accuracy: 0.450 (0.000)\n",
            "[1 1 1 1 1 1 1 1 1 1 1 1 1 1 1 1 1 1 1 1]\n",
            "Training accuracy: 0.688 (0.000)\n",
            "Test accuracy: 0.450 (0.000)\n",
            "[1 1 1 1 1 1 1 1 1 1 1 1 1 1 1 1 1 1 1 1]\n",
            "Training accuracy: 0.688 (0.000)\n",
            "Test accuracy: 0.450 (0.000)\n",
            "[1 1 1 1 1 1 1 1 1 1 1 1 1 1 1 1 1 1 1 1]\n",
            "Training accuracy: 0.688 (0.000)\n",
            "Test accuracy: 0.450 (0.000)\n",
            "[1 1 1 1 1 1 1 1 1 1 1 1 1 1 1 1 1 1 1 1]\n",
            "Training accuracy: 0.688 (0.000)\n",
            "Test accuracy: 0.450 (0.000)\n",
            "[1 1 1 1 1 1 1 1 1 1 1 1 1 1 1 1 1 1 1 1]\n",
            "Training accuracy: 0.688 (0.000)\n",
            "Test accuracy: 0.450 (0.000)\n",
            "[1 1 1 1 1 1 1 1 1 1 1 1 1 1 1 1 1 1 1 1]\n",
            "Training accuracy: 0.688 (0.000)\n",
            "Test accuracy: 0.450 (0.000)\n",
            "[1 1 1 1 1 1 1 1 1 1 1 1 1 1 1 1 1 1 1 1]\n",
            "Training accuracy: 0.688 (0.000)\n",
            "Test accuracy: 0.450 (0.000)\n",
            "[1 1 1 1 1 1 1 1 1 1 1 1 1 1 1 1 1 1 1 1]\n",
            "Training accuracy: 0.688 (0.000)\n",
            "Test accuracy: 0.450 (0.000)\n",
            "[1 1 1 1 1 1 1 1 1 1 1 1 1 1 1 1 1 1 1 1]\n",
            "Training accuracy: 0.688 (0.000)\n",
            "Test accuracy: 0.450 (0.000)\n",
            "[1 1 1 1 1 1 1 1 1 1 1 1 1 1 1 1 1 1 1 1]\n",
            "Training accuracy: 0.688 (0.000)\n",
            "Test accuracy: 0.450 (0.000)\n",
            "[1 1 1 1 1 1 1 1 1 1 1 1 1 1 1 1 1 1 1 1]\n",
            "Training accuracy: 0.688 (0.000)\n",
            "Test accuracy: 0.450 (0.000)\n",
            "[1 1 1 1 1 1 1 1 1 1 1 1 1 1 1 1 1 1 1 1]\n",
            "Training accuracy: 0.688 (0.000)\n",
            "Test accuracy: 0.450 (0.000)\n",
            "[1 1 1 1 1 1 1 1 1 1 1 1 1 1 1 1 1 1 1 1]\n",
            "Training accuracy: 0.688 (0.000)\n",
            "Test accuracy: 0.450 (0.000)\n",
            "[1 1 1 1 1 1 1 1 1 1 1 1 1 1 1 1 1 1 1 1]\n",
            "Training accuracy: 0.688 (0.000)\n",
            "Test accuracy: 0.450 (0.000)\n",
            "[1 1 1 1 1 1 1 1 1 1 1 1 1 1 1 1 1 1 1 1]\n",
            "Training accuracy: 0.688 (0.000)\n",
            "Test accuracy: 0.450 (0.000)\n",
            "[1 1 1 1 1 1 1 1 1 1 1 1 1 1 1 1 1 1 1 1]\n",
            "Training accuracy: 0.688 (0.000)\n",
            "Test accuracy: 0.450 (0.000)\n",
            "[1 1 1 1 1 1 1 1 1 1 1 1 1 1 1 1 1 1 1 1]\n",
            "Training accuracy: 0.688 (0.000)\n",
            "Test accuracy: 0.450 (0.000)\n",
            "[1 1 1 1 1 1 1 1 1 1 1 1 1 1 1 1 1 1 1 1]\n",
            "Training accuracy: 0.688 (0.000)\n",
            "Test accuracy: 0.450 (0.000)\n",
            "[1 1 1 1 1 1 1 1 1 1 1 1 1 1 1 1 1 1 1 1]\n",
            "Training accuracy: 0.688 (0.000)\n",
            "Test accuracy: 0.450 (0.000)\n",
            "[1 1 1 1 1 1 1 1 1 1 1 1 1 1 1 1 1 1 1 1]\n",
            "Training accuracy: 0.688 (0.000)\n",
            "Test accuracy: 0.450 (0.000)\n",
            "[1 1 1 1 1 1 1 1 1 1 1 1 1 1 1 1 1 1 1 1]\n",
            "Training accuracy: 0.688 (0.000)\n",
            "Test accuracy: 0.450 (0.000)\n",
            "[1 1 1 1 1 1 1 1 1 1 1 1 1 1 1 1 1 1 1 1]\n",
            "Training accuracy: 0.688 (0.000)\n",
            "Test accuracy: 0.450 (0.000)\n",
            "[1 1 1 1 1 1 1 1 1 1 1 1 1 1 1 1 1 1 1 1]\n",
            "Training accuracy: 0.688 (0.000)\n",
            "Test accuracy: 0.450 (0.000)\n",
            "[1 1 1 1 1 1 1 1 1 1 1 1 1 1 1 1 1 1 1 1]\n",
            "Training accuracy: 0.688 (0.000)\n",
            "Test accuracy: 0.450 (0.000)\n",
            "[1 1 1 1 1 1 1 1 1 1 1 1 1 1 1 1 1 1 1 1]\n",
            "Training accuracy: 0.688 (0.000)\n",
            "Test accuracy: 0.450 (0.000)\n",
            "[1 1 1 1 1 1 1 1 1 1 1 1 1 1 1 1 1 1 1 1]\n",
            "Training accuracy: 0.688 (0.000)\n",
            "Test accuracy: 0.450 (0.000)\n",
            "[1 1 1 1 1 1 1 1 1 1 1 1 1 1 1 1 1 1 1 1]\n",
            "Training accuracy: 0.688 (0.000)\n",
            "Test accuracy: 0.450 (0.000)\n",
            "[1 1 1 1 1 1 1 1 1 1 1 1 1 1 1 1 1 1 1 1]\n",
            "Training accuracy: 0.688 (0.000)\n",
            "Test accuracy: 0.450 (0.000)\n",
            "[1 1 1 1 1 1 1 1 1 1 1 1 1 1 1 1 1 1 1 1]\n",
            "Training accuracy: 0.688 (0.000)\n",
            "Test accuracy: 0.450 (0.000)\n",
            "[1 1 1 1 1 1 1 1 1 1 1 1 1 1 1 1 1 1 1 1]\n",
            "Training accuracy: 0.688 (0.000)\n",
            "Test accuracy: 0.450 (0.000)\n",
            "[1 1 1 1 1 1 1 1 1 1 1 1 1 1 1 1 1 1 1 1]\n",
            "Training accuracy: 0.688 (0.000)\n",
            "Test accuracy: 0.450 (0.000)\n",
            "[1 1 1 1 1 1 1 1 1 1 1 1 1 1 1 1 1 1 1 1]\n",
            "Training accuracy: 0.688 (0.000)\n",
            "Test accuracy: 0.450 (0.000)\n",
            "[1 1 1 1 1 1 1 1 1 1 1 1 1 1 1 1 1 1 1 1]\n",
            "Training accuracy: 0.688 (0.000)\n",
            "Test accuracy: 0.450 (0.000)\n",
            "[1 1 1 1 1 1 1 1 1 1 1 1 1 1 1 1 1 1 1 1]\n",
            "Training accuracy: 0.688 (0.000)\n",
            "Test accuracy: 0.450 (0.000)\n",
            "[1 1 1 1 1 1 1 1 1 1 1 1 1 1 1 1 1 1 1 1]\n",
            "Training accuracy: 0.688 (0.000)\n",
            "Test accuracy: 0.450 (0.000)\n",
            "[1 1 1 1 1 1 1 1 1 1 1 1 1 1 1 1 1 1 1 1]\n",
            "Training accuracy: 0.688 (0.000)\n",
            "Test accuracy: 0.450 (0.000)\n",
            "[1 1 1 1 1 1 1 1 1 1 1 1 1 1 1 1 1 1 1 1]\n",
            "Training accuracy: 0.688 (0.000)\n",
            "Test accuracy: 0.450 (0.000)\n",
            "[1 1 1 1 1 1 1 1 1 1 1 1 1 1 1 1 1 1 1 1]\n",
            "Training accuracy: 0.688 (0.000)\n",
            "Test accuracy: 0.450 (0.000)\n",
            "[1 1 1 1 1 1 1 1 1 1 1 1 1 1 1 1 1 1 1 1]\n",
            "Training accuracy: 0.688 (0.000)\n",
            "Test accuracy: 0.450 (0.000)\n",
            "[1 1 1 1 1 1 1 1 1 1 1 1 1 1 1 1 1 1 1 1]\n",
            "Training accuracy: 0.688 (0.000)\n",
            "Test accuracy: 0.450 (0.000)\n",
            "[1 1 1 1 1 1 1 1 1 1 1 1 1 1 1 1 1 1 1 1]\n",
            "Training accuracy: 0.688 (0.000)\n",
            "Test accuracy: 0.450 (0.000)\n",
            "[1 1 1 1 1 1 1 1 1 1 1 1 1 1 1 1 1 1 1 1]\n",
            "Training accuracy: 0.688 (0.000)\n",
            "Test accuracy: 0.450 (0.000)\n",
            "[1 1 1 1 1 1 1 1 1 1 1 1 1 1 1 1 1 1 1 1]\n",
            "Training accuracy: 0.688 (0.000)\n",
            "Test accuracy: 0.450 (0.000)\n",
            "[1 1 1 1 1 1 1 1 1 1 1 1 1 1 1 1 1 1 1 1]\n",
            "Training accuracy: 0.688 (0.000)\n",
            "Test accuracy: 0.450 (0.000)\n",
            "[1 1 1 1 1 1 1 1 1 1 1 1 1 1 1 1 1 1 1 1]\n",
            "Training accuracy: 0.688 (0.000)\n",
            "Test accuracy: 0.450 (0.000)\n",
            "[1 1 1 1 1 1 1 1 1 1 1 1 1 1 1 1 1 1 1 1]\n",
            "Training accuracy: 0.688 (0.000)\n",
            "Test accuracy: 0.450 (0.000)\n",
            "[1 1 1 1 1 1 1 1 1 1 1 1 1 1 1 1 1 1 1 1]\n",
            "Training accuracy: 0.688 (0.000)\n",
            "Test accuracy: 0.450 (0.000)\n",
            "[1 1 1 1 1 1 1 1 1 1 1 1 1 1 1 1 1 1 1 1]\n",
            "Training accuracy: 0.688 (0.000)\n",
            "Test accuracy: 0.450 (0.000)\n",
            "[1 1 1 1 1 1 1 1 1 1 1 1 1 1 1 1 1 1 1 1]\n",
            "Training accuracy: 0.688 (0.000)\n",
            "Test accuracy: 0.450 (0.000)\n",
            "[1 1 1 1 1 1 1 1 1 1 1 1 1 1 1 1 1 1 1 1]\n",
            "Training accuracy: 0.688 (0.000)\n",
            "Test accuracy: 0.450 (0.000)\n",
            "[1 1 1 1 1 1 1 1 1 1 1 1 1 1 1 1 1 1 1 1]\n",
            "Training accuracy: 0.688 (0.000)\n",
            "Test accuracy: 0.450 (0.000)\n",
            "[1 1 1 1 1 1 1 1 1 1 1 1 1 1 1 1 1 1 1 1]\n",
            "Training accuracy: 0.688 (0.000)\n",
            "Test accuracy: 0.450 (0.000)\n",
            "[1 1 1 1 1 1 1 1 1 1 1 1 1 1 1 1 1 1 1 1]\n",
            "Training accuracy: 0.688 (0.000)\n",
            "Test accuracy: 0.450 (0.000)\n",
            "[1 1 1 1 1 1 1 1 1 1 1 1 1 1 1 1 1 1 1 1]\n",
            "Training accuracy: 0.688 (0.000)\n",
            "Test accuracy: 0.450 (0.000)\n",
            "[1 1 1 1 1 1 1 1 1 1 1 1 1 1 1 1 1 1 1 1]\n",
            "Training accuracy: 0.688 (0.000)\n",
            "Test accuracy: 0.450 (0.000)\n",
            "[1 1 1 1 1 1 1 1 1 1 1 1 1 1 1 1 1 1 1 1]\n",
            "Training accuracy: 0.688 (0.000)\n",
            "Test accuracy: 0.450 (0.000)\n",
            "[1 1 1 1 1 1 1 1 1 1 1 1 1 1 1 1 1 1 1 1]\n",
            "Training accuracy: 0.688 (0.000)\n",
            "Test accuracy: 0.450 (0.000)\n",
            "[1 1 1 1 1 1 1 1 1 1 1 1 1 1 1 1 1 1 1 1]\n",
            "Training accuracy: 0.688 (0.000)\n",
            "Test accuracy: 0.450 (0.000)\n",
            "[1 1 1 1 1 1 1 1 1 1 1 1 1 1 1 1 1 1 1 1]\n",
            "Training accuracy: 0.688 (0.000)\n",
            "Test accuracy: 0.450 (0.000)\n",
            "[1 1 1 1 1 1 1 1 1 1 1 1 1 1 1 1 1 1 1 1]\n",
            "Training accuracy: 0.688 (0.000)\n",
            "Test accuracy: 0.450 (0.000)\n",
            "[1 1 1 1 1 1 1 1 1 1 1 1 1 1 1 1 1 1 1 1]\n",
            "Training accuracy: 0.688 (0.000)\n",
            "Test accuracy: 0.450 (0.000)\n",
            "[1 1 1 1 1 1 1 1 1 1 1 1 1 1 1 1 1 1 1 1]\n",
            "Training accuracy: 0.688 (0.000)\n",
            "Test accuracy: 0.450 (0.000)\n",
            "[1 1 1 1 1 1 1 1 1 1 1 1 1 1 1 1 1 1 1 1]\n",
            "Training accuracy: 0.688 (0.000)\n",
            "Test accuracy: 0.450 (0.000)\n",
            "[1 1 1 1 1 1 1 1 1 1 1 1 1 1 1 1 1 1 1 1]\n",
            "Training accuracy: 0.688 (0.000)\n",
            "Test accuracy: 0.450 (0.000)\n",
            "[1 1 1 1 1 1 1 1 1 1 1 1 1 1 1 1 1 1 1 1]\n",
            "Training accuracy: 0.688 (0.000)\n",
            "Test accuracy: 0.450 (0.000)\n",
            "[1 1 1 1 1 1 1 1 1 1 1 1 1 1 1 1 1 1 1 1]\n",
            "Training accuracy: 0.688 (0.000)\n",
            "Test accuracy: 0.450 (0.000)\n",
            "[1 1 1 1 1 1 1 1 1 1 1 1 1 1 1 1 1 1 1 1]\n",
            "Training accuracy: 0.688 (0.000)\n",
            "Test accuracy: 0.450 (0.000)\n",
            "[1 1 1 1 1 1 1 1 1 1 1 1 1 1 1 1 1 1 1 1]\n",
            "Training accuracy: 0.688 (0.000)\n",
            "Test accuracy: 0.450 (0.000)\n",
            "[1 1 1 1 1 1 1 1 1 1 1 1 1 1 1 1 1 1 1 1]\n",
            "Training accuracy: 0.688 (0.000)\n",
            "Test accuracy: 0.450 (0.000)\n",
            "[1 1 1 1 1 1 1 1 1 1 1 1 1 1 1 1 1 1 1 1]\n",
            "Training accuracy: 0.688 (0.000)\n",
            "Test accuracy: 0.450 (0.000)\n",
            "[1 1 1 1 1 1 1 1 1 1 1 1 1 1 1 1 1 1 1 1]\n",
            "Training accuracy: 0.688 (0.000)\n",
            "Test accuracy: 0.450 (0.000)\n",
            "[1 1 1 1 1 1 1 1 1 1 1 1 1 1 1 1 1 1 1 1]\n",
            "Training accuracy: 0.688 (0.000)\n",
            "Test accuracy: 0.450 (0.000)\n",
            "[1 1 1 1 1 1 1 1 1 1 1 1 1 1 1 1 1 1 1 1]\n",
            "Training accuracy: 0.688 (0.000)\n",
            "Test accuracy: 0.450 (0.000)\n",
            "[1 1 1 1 1 1 1 1 1 1 1 1 1 1 1 1 1 1 1 1]\n",
            "Training accuracy: 0.688 (0.000)\n",
            "Test accuracy: 0.450 (0.000)\n",
            "[1 1 1 1 1 1 1 1 1 1 1 1 1 1 1 1 1 1 1 1]\n",
            "Training accuracy: 0.688 (0.000)\n",
            "Test accuracy: 0.450 (0.000)\n",
            "[1 1 1 1 1 1 1 1 1 1 1 1 1 1 1 1 1 1 1 1]\n",
            "Training accuracy: 0.688 (0.000)\n",
            "Test accuracy: 0.450 (0.000)\n",
            "[1 1 1 1 1 1 1 1 1 1 1 1 1 1 1 1 1 1 1 1]\n",
            "Training accuracy: 0.688 (0.000)\n",
            "Test accuracy: 0.450 (0.000)\n",
            "[1 1 1 1 1 1 1 1 1 1 1 1 1 1 1 1 1 1 1 1]\n",
            "Training accuracy: 0.688 (0.000)\n",
            "Test accuracy: 0.450 (0.000)\n",
            "[1 1 1 1 1 1 1 1 1 1 1 1 1 1 1 1 1 1 1 1]\n",
            "Training accuracy: 0.688 (0.000)\n",
            "Test accuracy: 0.450 (0.000)\n",
            "[1 1 1 1 1 1 1 1 1 1 1 1 1 1 1 1 1 1 1 1]\n",
            "Training accuracy: 0.688 (0.000)\n",
            "Test accuracy: 0.450 (0.000)\n",
            "[1 1 1 1 1 1 1 1 1 1 1 1 1 1 1 1 1 1 1 1]\n",
            "Training accuracy: 0.688 (0.000)\n",
            "Test accuracy: 0.450 (0.000)\n",
            "[1 1 1 1 1 1 1 1 1 1 1 1 1 1 1 1 1 1 1 1]\n",
            "Training accuracy: 0.688 (0.000)\n",
            "Test accuracy: 0.450 (0.000)\n",
            "[1 1 1 1 1 1 1 1 1 1 1 1 1 1 1 1 1 1 1 1]\n",
            "Training accuracy: 0.688 (0.000)\n",
            "Test accuracy: 0.450 (0.000)\n",
            "[1 1 1 1 1 1 1 1 1 1 1 1 1 1 1 1 1 1 1 1]\n",
            "Training accuracy: 0.688 (0.000)\n",
            "Test accuracy: 0.450 (0.000)\n",
            "[1 1 1 1 1 1 1 1 1 1 1 1 1 1 1 1 1 1 1 1]\n",
            "Training accuracy: 0.688 (0.000)\n",
            "Test accuracy: 0.450 (0.000)\n",
            "[1 1 1 1 1 1 1 1 1 1 1 1 1 1 1 1 1 1 1 1]\n",
            "Training accuracy: 0.688 (0.000)\n",
            "Test accuracy: 0.450 (0.000)\n",
            "[1 1 1 1 1 1 1 1 1 1 1 1 1 1 1 1 1 1 1 1]\n",
            "Training accuracy: 0.688 (0.000)\n",
            "Test accuracy: 0.450 (0.000)\n",
            "[1 1 1 1 1 1 1 1 1 1 1 1 1 1 1 1 1 1 1 1]\n"
          ]
        }
      ]
    },
    {
      "cell_type": "markdown",
      "source": [
        "The training model accuracy still hover around 0.7, which is not great. The test model accuracy drops when we try to predict the test set, which indicates that our sample of 20 is most likely much too small. Let's find the majority vote for each of these 20 participants based on all the bootstrap predications and re-compute the test model accuracy:"
      ],
      "metadata": {
        "id": "gY3uqvgC7BeM"
      }
    },
    {
      "cell_type": "code",
      "source": [
        "predictions = pd.DataFrame(predictions)\n",
        "majority_vote = predictions.mode()\n",
        "majority_vote = np.array(majority_vote)\n",
        "print(majority_vote)\n",
        "\n",
        "percent_predicted = (np.sum(y_test == majority_vote)/20)*100\n",
        "percent_predicted"
      ],
      "metadata": {
        "colab": {
          "base_uri": "https://localhost:8080/"
        },
        "id": "zPQGisXP6178",
        "outputId": "2afd1f45-e9cd-4d7b-f082-19d29276fcf2"
      },
      "execution_count": null,
      "outputs": [
        {
          "output_type": "stream",
          "name": "stdout",
          "text": [
            "[[1 1 1 1 1 1 1 1 1 1 1 1 1 1 1 1 1 1 1 1]]\n"
          ]
        },
        {
          "output_type": "execute_result",
          "data": {
            "text/plain": [
              "45.0"
            ]
          },
          "metadata": {},
          "execution_count": 309
        }
      ]
    },
    {
      "cell_type": "markdown",
      "source": [
        "Unfortunately majority voting turned every prediction into a 1 because this was the most common class prediction across all bootstrap samples. Now our total model accuracy is lower than for some bootstrap samples!"
      ],
      "metadata": {
        "id": "osKlhdwL6XQh"
      }
    },
    {
      "cell_type": "markdown",
      "source": [
        "4. Define the training dataset as the same 80% of the 100 subjects as in Q3, draw 200 bootstrap samples from this dataset, then train a logistic regression model sklearn.linear_model.LogisticRegression (hyperparameter set to 1.0) to distinguish male versus female participants. Average (np.mean) the 200 different sets of model parameters (.coef_) across the 200 fitted models to better identify the model parameters and plot them as bar plot (x-axis is the 17 input variable, y axis is the single mean-averaged parameter value across the bootstrap iterations). Use these averaged model parameters (coefficients) and the remaining 20% of the 100 subjects as test data in a single logistic regression model to predict male versus female participants using this new predictive model. Report the classification performance averaged across the 20 test subjects (% number, no plot). "
      ],
      "metadata": {
        "id": "sf8BJW4-8v2S"
      }
    },
    {
      "cell_type": "code",
      "source": [
        "# Importing the packages and the data\n",
        "\n",
        "from nilearn import datasets\n",
        "import numpy as np\n",
        "import pandas as pd\n",
        "from nilearn.input_data import NiftiLabelsMasker\n",
        "brain_data = datasets.fetch_oasis_vbm(n_subjects=100)\n",
        "yeo = datasets.fetch_atlas_yeo_2011()\n",
        "masker = NiftiLabelsMasker(labels_img=yeo['thick_17'],\n",
        "standardize=True, memory='nilearn_cache')\n",
        "input_variables = masker.fit_transform(brain_data.gray_matter_maps)\n",
        "output_variable = np.array(brain_data.ext_vars.mf == 'F',\n",
        "dtype=int) #gives 1 for females and 0 for males\n",
        "\n",
        "import scipy\n",
        "import matplotlib.pyplot as plt\n",
        "from numpy import mean\n",
        "from numpy import std\n",
        "from sklearn.linear_model import LogisticRegression\n",
        "from sklearn.utils import resample\n",
        "from sklearn.model_selection import train_test_split\n",
        "\n",
        "from sklearn.preprocessing import StandardScaler\n",
        "scaler = StandardScaler()"
      ],
      "metadata": {
        "colab": {
          "base_uri": "https://localhost:8080/"
        },
        "id": "FOzscv148xnb",
        "outputId": "8fb09a6f-4cb0-470c-8398-78f3b6af3e01"
      },
      "execution_count": null,
      "outputs": [
        {
          "output_type": "stream",
          "name": "stderr",
          "text": [
            "/usr/local/lib/python3.7/dist-packages/nilearn/datasets/struct.py:774: UserWarning: `legacy_format` will default to `False` in release 0.11. Dataset fetchers will then return pandas dataframes by default instead of recarrays.\n",
            "  warnings.warn(_LEGACY_FORMAT_MSG)\n"
          ]
        }
      ]
    },
    {
      "cell_type": "code",
      "source": [
        "X, y = input_variables, output_variable\n",
        "X_train, X_test, y_train, y_test = train_test_split(X, y, test_size=0.2, shuffle=False)\n",
        "\n",
        "# Pre-allocating the array where the coefficients of the 200 models will be appended\n",
        "coefficients = []\n",
        "# Setting the number of iterations\n",
        "n_iterations = 200\n",
        "\n",
        "for i in range(n_iterations):\n",
        "    X_train = resample(X_train, replace=True, n_samples=80) # X_train is the given bootstrap sample in the current iteration\n",
        "    X_train = scaler.fit_transform(X_train) # Here we run the scaler on every iteration\n",
        "    LR_boot = LogisticRegression(max_iter=1e4).fit(X_train,y_train) # We fit the LR model to the current bootstrap sample  coefficients.append(LR_boot.coef_) # Store the coefficients in the \"coefficients\" array\n",
        "    coefficients.append(LR_boot.coef_)\n",
        "    score = LR_boot.score(X_train, y_train) # We will also export the score for each bootstrap model (...)\n",
        "    print('Accuracy: %.3f (%.3f)' % ((score), std(score))) # (...) and we will print it to make sure every model is different"
      ],
      "metadata": {
        "colab": {
          "base_uri": "https://localhost:8080/"
        },
        "id": "Hyq-BMIu83Og",
        "outputId": "b8cc4965-93cd-4a19-f8b1-1eec35984a90"
      },
      "execution_count": null,
      "outputs": [
        {
          "output_type": "stream",
          "name": "stdout",
          "text": [
            "Accuracy: 0.713 (0.000)\n",
            "Accuracy: 0.725 (0.000)\n",
            "Accuracy: 0.713 (0.000)\n",
            "Accuracy: 0.700 (0.000)\n",
            "Accuracy: 0.713 (0.000)\n",
            "Accuracy: 0.750 (0.000)\n",
            "Accuracy: 0.700 (0.000)\n",
            "Accuracy: 0.700 (0.000)\n",
            "Accuracy: 0.688 (0.000)\n",
            "Accuracy: 0.738 (0.000)\n",
            "Accuracy: 0.700 (0.000)\n",
            "Accuracy: 0.688 (0.000)\n",
            "Accuracy: 0.688 (0.000)\n",
            "Accuracy: 0.688 (0.000)\n",
            "Accuracy: 0.688 (0.000)\n",
            "Accuracy: 0.688 (0.000)\n",
            "Accuracy: 0.713 (0.000)\n",
            "Accuracy: 0.738 (0.000)\n",
            "Accuracy: 0.713 (0.000)\n",
            "Accuracy: 0.688 (0.000)\n",
            "Accuracy: 0.700 (0.000)\n",
            "Accuracy: 0.688 (0.000)\n",
            "Accuracy: 0.700 (0.000)\n",
            "Accuracy: 0.688 (0.000)\n",
            "Accuracy: 0.688 (0.000)\n",
            "Accuracy: 0.688 (0.000)\n",
            "Accuracy: 0.688 (0.000)\n",
            "Accuracy: 0.688 (0.000)\n",
            "Accuracy: 0.688 (0.000)\n",
            "Accuracy: 0.713 (0.000)\n",
            "Accuracy: 0.713 (0.000)\n",
            "Accuracy: 0.688 (0.000)\n",
            "Accuracy: 0.688 (0.000)\n",
            "Accuracy: 0.688 (0.000)\n",
            "Accuracy: 0.688 (0.000)\n",
            "Accuracy: 0.688 (0.000)\n",
            "Accuracy: 0.688 (0.000)\n",
            "Accuracy: 0.688 (0.000)\n",
            "Accuracy: 0.688 (0.000)\n",
            "Accuracy: 0.688 (0.000)\n",
            "Accuracy: 0.688 (0.000)\n",
            "Accuracy: 0.725 (0.000)\n",
            "Accuracy: 0.700 (0.000)\n",
            "Accuracy: 0.688 (0.000)\n",
            "Accuracy: 0.688 (0.000)\n",
            "Accuracy: 0.688 (0.000)\n",
            "Accuracy: 0.688 (0.000)\n",
            "Accuracy: 0.688 (0.000)\n",
            "Accuracy: 0.688 (0.000)\n",
            "Accuracy: 0.688 (0.000)\n",
            "Accuracy: 0.688 (0.000)\n",
            "Accuracy: 0.688 (0.000)\n",
            "Accuracy: 0.688 (0.000)\n",
            "Accuracy: 0.688 (0.000)\n",
            "Accuracy: 0.688 (0.000)\n",
            "Accuracy: 0.688 (0.000)\n",
            "Accuracy: 0.688 (0.000)\n",
            "Accuracy: 0.688 (0.000)\n",
            "Accuracy: 0.688 (0.000)\n",
            "Accuracy: 0.688 (0.000)\n",
            "Accuracy: 0.688 (0.000)\n",
            "Accuracy: 0.700 (0.000)\n",
            "Accuracy: 0.688 (0.000)\n",
            "Accuracy: 0.688 (0.000)\n",
            "Accuracy: 0.688 (0.000)\n",
            "Accuracy: 0.688 (0.000)\n",
            "Accuracy: 0.700 (0.000)\n",
            "Accuracy: 0.688 (0.000)\n",
            "Accuracy: 0.688 (0.000)\n",
            "Accuracy: 0.688 (0.000)\n",
            "Accuracy: 0.688 (0.000)\n",
            "Accuracy: 0.688 (0.000)\n",
            "Accuracy: 0.688 (0.000)\n",
            "Accuracy: 0.688 (0.000)\n",
            "Accuracy: 0.688 (0.000)\n",
            "Accuracy: 0.688 (0.000)\n",
            "Accuracy: 0.688 (0.000)\n",
            "Accuracy: 0.688 (0.000)\n",
            "Accuracy: 0.688 (0.000)\n",
            "Accuracy: 0.688 (0.000)\n",
            "Accuracy: 0.688 (0.000)\n",
            "Accuracy: 0.688 (0.000)\n",
            "Accuracy: 0.688 (0.000)\n",
            "Accuracy: 0.688 (0.000)\n",
            "Accuracy: 0.688 (0.000)\n",
            "Accuracy: 0.688 (0.000)\n",
            "Accuracy: 0.688 (0.000)\n",
            "Accuracy: 0.688 (0.000)\n",
            "Accuracy: 0.688 (0.000)\n",
            "Accuracy: 0.688 (0.000)\n",
            "Accuracy: 0.688 (0.000)\n",
            "Accuracy: 0.688 (0.000)\n",
            "Accuracy: 0.688 (0.000)\n",
            "Accuracy: 0.688 (0.000)\n",
            "Accuracy: 0.688 (0.000)\n",
            "Accuracy: 0.688 (0.000)\n",
            "Accuracy: 0.688 (0.000)\n",
            "Accuracy: 0.688 (0.000)\n",
            "Accuracy: 0.688 (0.000)\n",
            "Accuracy: 0.688 (0.000)\n",
            "Accuracy: 0.688 (0.000)\n",
            "Accuracy: 0.688 (0.000)\n",
            "Accuracy: 0.688 (0.000)\n",
            "Accuracy: 0.688 (0.000)\n",
            "Accuracy: 0.688 (0.000)\n",
            "Accuracy: 0.688 (0.000)\n",
            "Accuracy: 0.688 (0.000)\n",
            "Accuracy: 0.688 (0.000)\n",
            "Accuracy: 0.688 (0.000)\n",
            "Accuracy: 0.688 (0.000)\n",
            "Accuracy: 0.688 (0.000)\n",
            "Accuracy: 0.688 (0.000)\n",
            "Accuracy: 0.688 (0.000)\n",
            "Accuracy: 0.688 (0.000)\n",
            "Accuracy: 0.688 (0.000)\n",
            "Accuracy: 0.688 (0.000)\n",
            "Accuracy: 0.688 (0.000)\n",
            "Accuracy: 0.688 (0.000)\n",
            "Accuracy: 0.688 (0.000)\n",
            "Accuracy: 0.688 (0.000)\n",
            "Accuracy: 0.688 (0.000)\n",
            "Accuracy: 0.688 (0.000)\n",
            "Accuracy: 0.688 (0.000)\n",
            "Accuracy: 0.688 (0.000)\n",
            "Accuracy: 0.688 (0.000)\n",
            "Accuracy: 0.688 (0.000)\n",
            "Accuracy: 0.688 (0.000)\n",
            "Accuracy: 0.688 (0.000)\n",
            "Accuracy: 0.688 (0.000)\n",
            "Accuracy: 0.688 (0.000)\n",
            "Accuracy: 0.688 (0.000)\n",
            "Accuracy: 0.688 (0.000)\n",
            "Accuracy: 0.688 (0.000)\n",
            "Accuracy: 0.688 (0.000)\n",
            "Accuracy: 0.688 (0.000)\n",
            "Accuracy: 0.688 (0.000)\n",
            "Accuracy: 0.688 (0.000)\n",
            "Accuracy: 0.688 (0.000)\n",
            "Accuracy: 0.688 (0.000)\n",
            "Accuracy: 0.688 (0.000)\n",
            "Accuracy: 0.688 (0.000)\n",
            "Accuracy: 0.688 (0.000)\n",
            "Accuracy: 0.688 (0.000)\n",
            "Accuracy: 0.688 (0.000)\n",
            "Accuracy: 0.688 (0.000)\n",
            "Accuracy: 0.688 (0.000)\n",
            "Accuracy: 0.688 (0.000)\n",
            "Accuracy: 0.688 (0.000)\n",
            "Accuracy: 0.688 (0.000)\n",
            "Accuracy: 0.688 (0.000)\n",
            "Accuracy: 0.688 (0.000)\n",
            "Accuracy: 0.688 (0.000)\n",
            "Accuracy: 0.688 (0.000)\n",
            "Accuracy: 0.688 (0.000)\n",
            "Accuracy: 0.688 (0.000)\n",
            "Accuracy: 0.688 (0.000)\n",
            "Accuracy: 0.688 (0.000)\n",
            "Accuracy: 0.688 (0.000)\n",
            "Accuracy: 0.688 (0.000)\n",
            "Accuracy: 0.688 (0.000)\n",
            "Accuracy: 0.688 (0.000)\n",
            "Accuracy: 0.688 (0.000)\n",
            "Accuracy: 0.688 (0.000)\n",
            "Accuracy: 0.688 (0.000)\n",
            "Accuracy: 0.688 (0.000)\n",
            "Accuracy: 0.688 (0.000)\n",
            "Accuracy: 0.688 (0.000)\n",
            "Accuracy: 0.688 (0.000)\n",
            "Accuracy: 0.688 (0.000)\n",
            "Accuracy: 0.688 (0.000)\n",
            "Accuracy: 0.688 (0.000)\n",
            "Accuracy: 0.688 (0.000)\n",
            "Accuracy: 0.688 (0.000)\n",
            "Accuracy: 0.688 (0.000)\n",
            "Accuracy: 0.688 (0.000)\n",
            "Accuracy: 0.688 (0.000)\n",
            "Accuracy: 0.688 (0.000)\n",
            "Accuracy: 0.688 (0.000)\n",
            "Accuracy: 0.688 (0.000)\n",
            "Accuracy: 0.688 (0.000)\n",
            "Accuracy: 0.688 (0.000)\n",
            "Accuracy: 0.688 (0.000)\n",
            "Accuracy: 0.688 (0.000)\n",
            "Accuracy: 0.688 (0.000)\n",
            "Accuracy: 0.688 (0.000)\n",
            "Accuracy: 0.688 (0.000)\n",
            "Accuracy: 0.688 (0.000)\n",
            "Accuracy: 0.688 (0.000)\n",
            "Accuracy: 0.688 (0.000)\n",
            "Accuracy: 0.688 (0.000)\n",
            "Accuracy: 0.688 (0.000)\n",
            "Accuracy: 0.688 (0.000)\n",
            "Accuracy: 0.688 (0.000)\n",
            "Accuracy: 0.688 (0.000)\n",
            "Accuracy: 0.688 (0.000)\n",
            "Accuracy: 0.688 (0.000)\n",
            "Accuracy: 0.688 (0.000)\n",
            "Accuracy: 0.688 (0.000)\n",
            "Accuracy: 0.688 (0.000)\n",
            "Accuracy: 0.688 (0.000)\n"
          ]
        }
      ]
    },
    {
      "cell_type": "markdown",
      "source": [
        "For most bootstrap samples, model accuracy is 0.688, with some exceptions where accuracy reaches 0.7 or slightly above. Let's compute the mean of all coefficient by feature column and plot the result:"
      ],
      "metadata": {
        "id": "nLDbKGJM9Gl5"
      }
    },
    {
      "cell_type": "code",
      "source": [
        "coefficients = np.array(coefficients) # Convert the \"coefficients\" list into an np.array\n",
        "coeffs = coefficients.squeeze() # Remove the extraneous axis\n",
        "coef_mean = np.mean(coeffs, axis = 0)"
      ],
      "metadata": {
        "id": "dKpljp-i9Xvw"
      },
      "execution_count": null,
      "outputs": []
    },
    {
      "cell_type": "code",
      "source": [
        "x = list(range(1, 18))\n",
        "plt.bar(x, coef_mean)\n",
        "plt.gca().set(\n",
        "    title= \"Average model parameter values across 200 bootstrap samples\",\n",
        "    xlabel=\"Features\",\n",
        "    ylabel=\"Mean parameter value (standardized)\",\n",
        "    xticks = list(range(1, 18)),\n",
        ")\n",
        "plt.show"
      ],
      "metadata": {
        "colab": {
          "base_uri": "https://localhost:8080/",
          "height": 312
        },
        "id": "VLct1kGG9gbr",
        "outputId": "cb0344dc-05a8-4b4d-a1fd-fac448869d48"
      },
      "execution_count": null,
      "outputs": [
        {
          "output_type": "execute_result",
          "data": {
            "text/plain": [
              "<function matplotlib.pyplot.show(*args, **kw)>"
            ]
          },
          "metadata": {},
          "execution_count": 392
        },
        {
          "output_type": "display_data",
          "data": {
            "text/plain": [
              "<Figure size 432x288 with 1 Axes>"
            ],
            "image/png": "[encoded data removed]"
          },
          "metadata": {
            "needs_background": "light"
          }
        }
      ]
    },
    {
      "cell_type": "markdown",
      "source": [
        "Now let's see if inputting these coefficients into LR_boot.coef_ will boost our prediction accuracy in the test set:"
      ],
      "metadata": {
        "id": "LQdOksGi9wDU"
      }
    },
    {
      "cell_type": "code",
      "source": [
        "# We turn \"coef_mean\" to a 2D np.array  \n",
        "coef_mean = np.array(coef_mean, ndmin=2)\n",
        "LR_boot.coef_ = coef_mean # We pass \"coef_mean\" into the LR_boot.coef_ attribute\n",
        "\n",
        "# Print both np arrays to make sure they're identical\n",
        "print(coef_mean) \n",
        "print(LR_boot.coef_) "
      ],
      "metadata": {
        "colab": {
          "base_uri": "https://localhost:8080/"
        },
        "id": "yDwd6Xsm9pvc",
        "outputId": "cf6bec5a-de8a-44e8-fbf0-f8a20a4c9e7f"
      },
      "execution_count": null,
      "outputs": [
        {
          "output_type": "stream",
          "name": "stdout",
          "text": [
            "[[ 1.61324066e-02  1.82437676e-02 -4.81566576e-04 -1.41644549e-02\n",
            "   1.71207280e-02  1.50068462e-02 -5.13574720e-03 -8.57994668e-03\n",
            "  -3.61343275e-03 -5.58169070e-03 -1.07949218e-02  4.72787826e-03\n",
            "  -1.62358389e-03 -3.28166820e-03 -1.50196486e-02 -1.00788296e-02\n",
            "  -2.42457332e-05]]\n",
            "[[ 1.61324066e-02  1.82437676e-02 -4.81566576e-04 -1.41644549e-02\n",
            "   1.71207280e-02  1.50068462e-02 -5.13574720e-03 -8.57994668e-03\n",
            "  -3.61343275e-03 -5.58169070e-03 -1.07949218e-02  4.72787826e-03\n",
            "  -1.62358389e-03 -3.28166820e-03 -1.50196486e-02 -1.00788296e-02\n",
            "  -2.42457332e-05]]\n"
          ]
        }
      ]
    },
    {
      "cell_type": "code",
      "source": [
        "# We're ready to run the predictions on the test set\n",
        "yhat = LR_boot.predict(X_test) # We define the model and store its prediction as \"yhat\"\n",
        "score = LR_boot.score(X_test, y_test) # We store the scores\n",
        "print('Accuracy: %.3f (%.3f)' % ((score), std(score))) # We print the scores\n",
        "print(LR_boot.coef_) # We re-print the coefficients to make sure they're the same as in the previous cell"
      ],
      "metadata": {
        "colab": {
          "base_uri": "https://localhost:8080/"
        },
        "id": "D1yhGkq4-e88",
        "outputId": "46b648c6-a9f2-4aa1-af6d-929fd99286f7"
      },
      "execution_count": null,
      "outputs": [
        {
          "output_type": "stream",
          "name": "stdout",
          "text": [
            "Accuracy: 0.450 (0.000)\n",
            "[[ 1.61324066e-02  1.82437676e-02 -4.81566576e-04 -1.41644549e-02\n",
            "   1.71207280e-02  1.50068462e-02 -5.13574720e-03 -8.57994668e-03\n",
            "  -3.61343275e-03 -5.58169070e-03 -1.07949218e-02  4.72787826e-03\n",
            "  -1.62358389e-03 -3.28166820e-03 -1.50196486e-02 -1.00788296e-02\n",
            "  -2.42457332e-05]]\n"
          ]
        }
      ]
    },
    {
      "cell_type": "markdown",
      "source": [
        "Model accuracy didn't improve much after passing the mean coefficients. This is likely due to the fact that the sample size is too small."
      ],
      "metadata": {
        "id": "WnnHkoBRHRCL"
      }
    },
    {
      "cell_type": "markdown",
      "source": [
        "5. Draw 200 bootstrap samples from all 100 subjects and fit a logistic regression model on each bootstrap sample. Then, perform cross-validation (CV) via out-ofbag (OOB) evaluation on the remaining (roughly ⅓) unseen (unsampled) subjects in each bootstrap iteration (recall lecture slides: only ~ 2/3 of the original dataset shows up in the bootstrap samples). Plot a scatterplot of the OOB CV accuracy for each bootstrap iteration (x-axis is the 200 iterations, y-axis is the OOB accuracy of the corresponding model)."
      ],
      "metadata": {
        "id": "q_VaocsRHrIU"
      }
    },
    {
      "cell_type": "code",
      "source": [
        "# Importing the packages and the data\n",
        "\n",
        "from nilearn import datasets\n",
        "import numpy as np\n",
        "import pandas as pd\n",
        "from nilearn.input_data import NiftiLabelsMasker\n",
        "brain_data = datasets.fetch_oasis_vbm(n_subjects=100)\n",
        "yeo = datasets.fetch_atlas_yeo_2011()\n",
        "masker = NiftiLabelsMasker(labels_img=yeo['thick_17'],\n",
        "standardize=True, memory='nilearn_cache')\n",
        "input_variables = masker.fit_transform(brain_data.gray_matter_maps)\n",
        "output_variable = np.array(brain_data.ext_vars.mf == 'F',\n",
        "dtype=int) #gives 1 for females and 0 for males\n",
        "\n",
        "import scipy\n",
        "import matplotlib.pyplot as plt\n",
        "from numpy import mean\n",
        "from numpy import std\n",
        "from sklearn.linear_model import LogisticRegression\n",
        "from sklearn.utils import resample\n",
        "from sklearn.model_selection import cross_val_score\n",
        "\n",
        "from sklearn.preprocessing import StandardScaler\n",
        "scaler = StandardScaler()"
      ],
      "metadata": {
        "colab": {
          "base_uri": "https://localhost:8080/"
        },
        "id": "wt0hI9_vHe7G",
        "outputId": "a88a157c-70ca-440a-92be-0f4d4d57a09b"
      },
      "execution_count": null,
      "outputs": [
        {
          "output_type": "stream",
          "name": "stderr",
          "text": [
            "/usr/local/lib/python3.7/dist-packages/nilearn/datasets/struct.py:774: UserWarning: `legacy_format` will default to `False` in release 0.11. Dataset fetchers will then return pandas dataframes by default instead of recarrays.\n",
            "  warnings.warn(_LEGACY_FORMAT_MSG)\n"
          ]
        }
      ]
    },
    {
      "cell_type": "code",
      "source": [
        "# Setting the number of iterations\n",
        "n_iterations = 200\n",
        "\n",
        "# Importing the mlxtend packagre for OOB bootsrapping\n",
        "from mlxtend.evaluate import BootstrapOutOfBag\n",
        "oob = BootstrapOutOfBag(n_splits=200)\n",
        "\n",
        "# Pre-allocating an empty list where we will collect the oob accuracy scores\n",
        "oob_acc = []\n",
        "\n",
        "# We're ready to iterate through the 200 bootstraps samples and collect the oob scores\n",
        "for i in range(n_iterations):\n",
        "    X_train = resample(input_variables, replace=True, n_samples=100) # X_train is the given bootstrap sample in the current iteration\n",
        "    X_train = scaler.fit_transform(X_train) # Here we run the scaler on every iteration\n",
        "    y_train = output_variable\n",
        "    LR_boot = LogisticRegression(max_iter=1e4).fit(X_train,y_train) # We fit the LR model to the current bootstrap sample  coefficients.append(LR_boot.coef_) # Store the coefficients in the \"coefficients\" array\n",
        "    score = LR_boot.score(X_train, y_train) # We will also export the score for each bootstrap model (...)\n",
        "    print('Accuracy: %.3f (%.3f)' % ((score), std(score))) # (...) and we will print it to make sure every model is different\n",
        "    oob_scores = cross_val_score(LR_boot, X_train, y_train, cv=oob)\n",
        "    print('OOB: %.3f (%.3f)' % (mean(oob_scores), std(oob_scores)))\n",
        "    oob_acc.append(oob_scores)"
      ],
      "metadata": {
        "colab": {
          "base_uri": "https://localhost:8080/"
        },
        "id": "pp_wJnF7HyGx",
        "outputId": "c3d094d5-c943-4cfa-f21c-48adb1098e5c"
      },
      "execution_count": null,
      "outputs": [
        {
          "output_type": "stream",
          "name": "stdout",
          "text": [
            "Accuracy: 0.680 (0.000)\n",
            "OOB: 0.525 (0.065)\n",
            "Accuracy: 0.670 (0.000)\n",
            "OOB: 0.537 (0.067)\n",
            "Accuracy: 0.720 (0.000)\n",
            "OOB: 0.579 (0.075)\n",
            "Accuracy: 0.660 (0.000)\n",
            "OOB: 0.543 (0.069)\n",
            "Accuracy: 0.630 (0.000)\n",
            "OOB: 0.523 (0.065)\n",
            "Accuracy: 0.710 (0.000)\n",
            "OOB: 0.576 (0.072)\n",
            "Accuracy: 0.660 (0.000)\n",
            "OOB: 0.575 (0.061)\n",
            "Accuracy: 0.670 (0.000)\n",
            "OOB: 0.547 (0.072)\n",
            "Accuracy: 0.700 (0.000)\n",
            "OOB: 0.559 (0.071)\n",
            "Accuracy: 0.660 (0.000)\n",
            "OOB: 0.578 (0.068)\n",
            "Accuracy: 0.660 (0.000)\n",
            "OOB: 0.506 (0.077)\n",
            "Accuracy: 0.780 (0.000)\n",
            "OOB: 0.654 (0.074)\n",
            "Accuracy: 0.700 (0.000)\n",
            "OOB: 0.601 (0.065)\n",
            "Accuracy: 0.720 (0.000)\n",
            "OOB: 0.576 (0.073)\n",
            "Accuracy: 0.680 (0.000)\n",
            "OOB: 0.558 (0.064)\n",
            "Accuracy: 0.710 (0.000)\n",
            "OOB: 0.567 (0.064)\n",
            "Accuracy: 0.690 (0.000)\n",
            "OOB: 0.541 (0.075)\n",
            "Accuracy: 0.660 (0.000)\n",
            "OOB: 0.574 (0.072)\n",
            "Accuracy: 0.720 (0.000)\n",
            "OOB: 0.576 (0.070)\n",
            "Accuracy: 0.650 (0.000)\n",
            "OOB: 0.537 (0.066)\n",
            "Accuracy: 0.680 (0.000)\n",
            "OOB: 0.540 (0.070)\n",
            "Accuracy: 0.700 (0.000)\n",
            "OOB: 0.573 (0.071)\n",
            "Accuracy: 0.650 (0.000)\n",
            "OOB: 0.546 (0.071)\n",
            "Accuracy: 0.620 (0.000)\n",
            "OOB: 0.527 (0.070)\n",
            "Accuracy: 0.680 (0.000)\n",
            "OOB: 0.538 (0.073)\n",
            "Accuracy: 0.680 (0.000)\n",
            "OOB: 0.557 (0.071)\n",
            "Accuracy: 0.670 (0.000)\n",
            "OOB: 0.544 (0.065)\n",
            "Accuracy: 0.660 (0.000)\n",
            "OOB: 0.548 (0.073)\n",
            "Accuracy: 0.700 (0.000)\n",
            "OOB: 0.582 (0.065)\n",
            "Accuracy: 0.690 (0.000)\n",
            "OOB: 0.551 (0.071)\n",
            "Accuracy: 0.640 (0.000)\n",
            "OOB: 0.547 (0.066)\n",
            "Accuracy: 0.680 (0.000)\n",
            "OOB: 0.531 (0.067)\n",
            "Accuracy: 0.670 (0.000)\n",
            "OOB: 0.535 (0.064)\n",
            "Accuracy: 0.750 (0.000)\n",
            "OOB: 0.631 (0.072)\n",
            "Accuracy: 0.710 (0.000)\n",
            "OOB: 0.576 (0.074)\n",
            "Accuracy: 0.710 (0.000)\n",
            "OOB: 0.563 (0.074)\n",
            "Accuracy: 0.710 (0.000)\n",
            "OOB: 0.597 (0.069)\n",
            "Accuracy: 0.710 (0.000)\n",
            "OOB: 0.559 (0.069)\n",
            "Accuracy: 0.690 (0.000)\n",
            "OOB: 0.526 (0.072)\n",
            "Accuracy: 0.740 (0.000)\n",
            "OOB: 0.597 (0.071)\n",
            "Accuracy: 0.750 (0.000)\n",
            "OOB: 0.594 (0.074)\n",
            "Accuracy: 0.780 (0.000)\n",
            "OOB: 0.641 (0.068)\n",
            "Accuracy: 0.680 (0.000)\n",
            "OOB: 0.537 (0.069)\n",
            "Accuracy: 0.690 (0.000)\n",
            "OOB: 0.580 (0.073)\n",
            "Accuracy: 0.750 (0.000)\n",
            "OOB: 0.613 (0.070)\n",
            "Accuracy: 0.720 (0.000)\n",
            "OOB: 0.560 (0.069)\n",
            "Accuracy: 0.710 (0.000)\n",
            "OOB: 0.552 (0.073)\n",
            "Accuracy: 0.700 (0.000)\n",
            "OOB: 0.565 (0.064)\n",
            "Accuracy: 0.670 (0.000)\n",
            "OOB: 0.547 (0.067)\n",
            "Accuracy: 0.770 (0.000)\n",
            "OOB: 0.631 (0.075)\n",
            "Accuracy: 0.690 (0.000)\n",
            "OOB: 0.572 (0.075)\n",
            "Accuracy: 0.720 (0.000)\n",
            "OOB: 0.586 (0.068)\n",
            "Accuracy: 0.720 (0.000)\n",
            "OOB: 0.588 (0.071)\n",
            "Accuracy: 0.660 (0.000)\n",
            "OOB: 0.508 (0.072)\n",
            "Accuracy: 0.680 (0.000)\n",
            "OOB: 0.542 (0.065)\n",
            "Accuracy: 0.670 (0.000)\n",
            "OOB: 0.552 (0.072)\n",
            "Accuracy: 0.730 (0.000)\n",
            "OOB: 0.587 (0.066)\n",
            "Accuracy: 0.670 (0.000)\n",
            "OOB: 0.523 (0.066)\n",
            "Accuracy: 0.670 (0.000)\n",
            "OOB: 0.569 (0.067)\n",
            "Accuracy: 0.660 (0.000)\n",
            "OOB: 0.517 (0.063)\n",
            "Accuracy: 0.690 (0.000)\n",
            "OOB: 0.560 (0.073)\n",
            "Accuracy: 0.680 (0.000)\n",
            "OOB: 0.569 (0.062)\n",
            "Accuracy: 0.620 (0.000)\n",
            "OOB: 0.524 (0.066)\n",
            "Accuracy: 0.720 (0.000)\n",
            "OOB: 0.582 (0.076)\n",
            "Accuracy: 0.680 (0.000)\n",
            "OOB: 0.590 (0.072)\n",
            "Accuracy: 0.720 (0.000)\n",
            "OOB: 0.605 (0.071)\n",
            "Accuracy: 0.680 (0.000)\n",
            "OOB: 0.566 (0.076)\n",
            "Accuracy: 0.710 (0.000)\n",
            "OOB: 0.558 (0.068)\n",
            "Accuracy: 0.680 (0.000)\n",
            "OOB: 0.544 (0.067)\n",
            "Accuracy: 0.740 (0.000)\n",
            "OOB: 0.570 (0.081)\n",
            "Accuracy: 0.680 (0.000)\n",
            "OOB: 0.542 (0.075)\n",
            "Accuracy: 0.660 (0.000)\n",
            "OOB: 0.586 (0.066)\n",
            "Accuracy: 0.640 (0.000)\n",
            "OOB: 0.517 (0.071)\n",
            "Accuracy: 0.650 (0.000)\n",
            "OOB: 0.536 (0.070)\n",
            "Accuracy: 0.720 (0.000)\n",
            "OOB: 0.551 (0.076)\n",
            "Accuracy: 0.720 (0.000)\n",
            "OOB: 0.581 (0.074)\n",
            "Accuracy: 0.750 (0.000)\n",
            "OOB: 0.614 (0.069)\n",
            "Accuracy: 0.700 (0.000)\n",
            "OOB: 0.569 (0.067)\n",
            "Accuracy: 0.680 (0.000)\n",
            "OOB: 0.554 (0.063)\n",
            "Accuracy: 0.700 (0.000)\n",
            "OOB: 0.591 (0.069)\n",
            "Accuracy: 0.660 (0.000)\n",
            "OOB: 0.561 (0.068)\n",
            "Accuracy: 0.740 (0.000)\n",
            "OOB: 0.629 (0.071)\n",
            "Accuracy: 0.700 (0.000)\n",
            "OOB: 0.536 (0.077)\n",
            "Accuracy: 0.720 (0.000)\n",
            "OOB: 0.587 (0.072)\n",
            "Accuracy: 0.700 (0.000)\n",
            "OOB: 0.541 (0.072)\n",
            "Accuracy: 0.680 (0.000)\n",
            "OOB: 0.578 (0.065)\n",
            "Accuracy: 0.650 (0.000)\n",
            "OOB: 0.550 (0.072)\n",
            "Accuracy: 0.690 (0.000)\n",
            "OOB: 0.552 (0.071)\n",
            "Accuracy: 0.680 (0.000)\n",
            "OOB: 0.523 (0.074)\n",
            "Accuracy: 0.710 (0.000)\n",
            "OOB: 0.577 (0.068)\n",
            "Accuracy: 0.680 (0.000)\n",
            "OOB: 0.560 (0.063)\n",
            "Accuracy: 0.700 (0.000)\n",
            "OOB: 0.541 (0.069)\n",
            "Accuracy: 0.740 (0.000)\n",
            "OOB: 0.610 (0.067)\n",
            "Accuracy: 0.710 (0.000)\n",
            "OOB: 0.614 (0.070)\n",
            "Accuracy: 0.640 (0.000)\n",
            "OOB: 0.526 (0.063)\n",
            "Accuracy: 0.690 (0.000)\n",
            "OOB: 0.544 (0.072)\n",
            "Accuracy: 0.730 (0.000)\n",
            "OOB: 0.572 (0.072)\n",
            "Accuracy: 0.710 (0.000)\n",
            "OOB: 0.588 (0.072)\n",
            "Accuracy: 0.700 (0.000)\n",
            "OOB: 0.578 (0.069)\n",
            "Accuracy: 0.660 (0.000)\n",
            "OOB: 0.572 (0.061)\n",
            "Accuracy: 0.710 (0.000)\n",
            "OOB: 0.581 (0.071)\n",
            "Accuracy: 0.710 (0.000)\n",
            "OOB: 0.553 (0.068)\n",
            "Accuracy: 0.750 (0.000)\n",
            "OOB: 0.592 (0.069)\n",
            "Accuracy: 0.700 (0.000)\n",
            "OOB: 0.555 (0.078)\n",
            "Accuracy: 0.670 (0.000)\n",
            "OOB: 0.550 (0.070)\n",
            "Accuracy: 0.700 (0.000)\n",
            "OOB: 0.577 (0.075)\n",
            "Accuracy: 0.740 (0.000)\n",
            "OOB: 0.631 (0.072)\n",
            "Accuracy: 0.670 (0.000)\n",
            "OOB: 0.562 (0.073)\n",
            "Accuracy: 0.720 (0.000)\n",
            "OOB: 0.646 (0.072)\n",
            "Accuracy: 0.740 (0.000)\n",
            "OOB: 0.576 (0.074)\n",
            "Accuracy: 0.680 (0.000)\n",
            "OOB: 0.568 (0.061)\n",
            "Accuracy: 0.660 (0.000)\n",
            "OOB: 0.584 (0.064)\n",
            "Accuracy: 0.690 (0.000)\n",
            "OOB: 0.538 (0.076)\n",
            "Accuracy: 0.700 (0.000)\n",
            "OOB: 0.604 (0.067)\n",
            "Accuracy: 0.740 (0.000)\n",
            "OOB: 0.595 (0.074)\n",
            "Accuracy: 0.710 (0.000)\n",
            "OOB: 0.561 (0.076)\n",
            "Accuracy: 0.690 (0.000)\n",
            "OOB: 0.552 (0.065)\n",
            "Accuracy: 0.650 (0.000)\n",
            "OOB: 0.546 (0.068)\n",
            "Accuracy: 0.640 (0.000)\n",
            "OOB: 0.547 (0.066)\n",
            "Accuracy: 0.710 (0.000)\n",
            "OOB: 0.589 (0.064)\n",
            "Accuracy: 0.800 (0.000)\n",
            "OOB: 0.700 (0.066)\n",
            "Accuracy: 0.710 (0.000)\n",
            "OOB: 0.591 (0.072)\n",
            "Accuracy: 0.740 (0.000)\n",
            "OOB: 0.639 (0.078)\n",
            "Accuracy: 0.750 (0.000)\n",
            "OOB: 0.584 (0.072)\n",
            "Accuracy: 0.750 (0.000)\n",
            "OOB: 0.630 (0.069)\n",
            "Accuracy: 0.660 (0.000)\n",
            "OOB: 0.533 (0.072)\n",
            "Accuracy: 0.740 (0.000)\n",
            "OOB: 0.582 (0.074)\n",
            "Accuracy: 0.710 (0.000)\n",
            "OOB: 0.582 (0.068)\n",
            "Accuracy: 0.720 (0.000)\n",
            "OOB: 0.576 (0.067)\n",
            "Accuracy: 0.700 (0.000)\n",
            "OOB: 0.525 (0.070)\n",
            "Accuracy: 0.670 (0.000)\n",
            "OOB: 0.599 (0.070)\n",
            "Accuracy: 0.690 (0.000)\n",
            "OOB: 0.586 (0.069)\n",
            "Accuracy: 0.700 (0.000)\n",
            "OOB: 0.554 (0.067)\n",
            "Accuracy: 0.700 (0.000)\n",
            "OOB: 0.585 (0.068)\n",
            "Accuracy: 0.680 (0.000)\n",
            "OOB: 0.526 (0.074)\n",
            "Accuracy: 0.670 (0.000)\n",
            "OOB: 0.561 (0.067)\n",
            "Accuracy: 0.650 (0.000)\n",
            "OOB: 0.516 (0.070)\n",
            "Accuracy: 0.690 (0.000)\n",
            "OOB: 0.556 (0.070)\n",
            "Accuracy: 0.720 (0.000)\n",
            "OOB: 0.593 (0.067)\n",
            "Accuracy: 0.740 (0.000)\n",
            "OOB: 0.618 (0.074)\n",
            "Accuracy: 0.730 (0.000)\n",
            "OOB: 0.606 (0.081)\n",
            "Accuracy: 0.700 (0.000)\n",
            "OOB: 0.520 (0.082)\n",
            "Accuracy: 0.680 (0.000)\n",
            "OOB: 0.543 (0.067)\n",
            "Accuracy: 0.680 (0.000)\n",
            "OOB: 0.563 (0.070)\n",
            "Accuracy: 0.680 (0.000)\n",
            "OOB: 0.560 (0.073)\n",
            "Accuracy: 0.690 (0.000)\n",
            "OOB: 0.550 (0.073)\n",
            "Accuracy: 0.650 (0.000)\n",
            "OOB: 0.518 (0.072)\n",
            "Accuracy: 0.690 (0.000)\n",
            "OOB: 0.555 (0.070)\n",
            "Accuracy: 0.690 (0.000)\n",
            "OOB: 0.542 (0.069)\n",
            "Accuracy: 0.690 (0.000)\n",
            "OOB: 0.558 (0.073)\n",
            "Accuracy: 0.700 (0.000)\n",
            "OOB: 0.559 (0.075)\n",
            "Accuracy: 0.630 (0.000)\n",
            "OOB: 0.530 (0.078)\n",
            "Accuracy: 0.700 (0.000)\n",
            "OOB: 0.530 (0.065)\n",
            "Accuracy: 0.670 (0.000)\n",
            "OOB: 0.537 (0.065)\n",
            "Accuracy: 0.720 (0.000)\n",
            "OOB: 0.563 (0.067)\n",
            "Accuracy: 0.630 (0.000)\n",
            "OOB: 0.522 (0.073)\n",
            "Accuracy: 0.700 (0.000)\n",
            "OOB: 0.551 (0.072)\n",
            "Accuracy: 0.760 (0.000)\n",
            "OOB: 0.624 (0.063)\n",
            "Accuracy: 0.710 (0.000)\n",
            "OOB: 0.581 (0.074)\n",
            "Accuracy: 0.710 (0.000)\n",
            "OOB: 0.554 (0.071)\n",
            "Accuracy: 0.640 (0.000)\n",
            "OOB: 0.523 (0.074)\n",
            "Accuracy: 0.630 (0.000)\n",
            "OOB: 0.552 (0.065)\n",
            "Accuracy: 0.700 (0.000)\n",
            "OOB: 0.525 (0.073)\n",
            "Accuracy: 0.680 (0.000)\n",
            "OOB: 0.553 (0.071)\n",
            "Accuracy: 0.730 (0.000)\n",
            "OOB: 0.578 (0.075)\n",
            "Accuracy: 0.690 (0.000)\n",
            "OOB: 0.554 (0.074)\n",
            "Accuracy: 0.710 (0.000)\n",
            "OOB: 0.596 (0.068)\n",
            "Accuracy: 0.690 (0.000)\n",
            "OOB: 0.572 (0.072)\n",
            "Accuracy: 0.750 (0.000)\n",
            "OOB: 0.632 (0.058)\n",
            "Accuracy: 0.690 (0.000)\n",
            "OOB: 0.563 (0.067)\n",
            "Accuracy: 0.680 (0.000)\n",
            "OOB: 0.523 (0.066)\n",
            "Accuracy: 0.700 (0.000)\n",
            "OOB: 0.543 (0.073)\n",
            "Accuracy: 0.680 (0.000)\n",
            "OOB: 0.546 (0.066)\n",
            "Accuracy: 0.690 (0.000)\n",
            "OOB: 0.569 (0.061)\n",
            "Accuracy: 0.670 (0.000)\n",
            "OOB: 0.548 (0.072)\n",
            "Accuracy: 0.670 (0.000)\n",
            "OOB: 0.545 (0.073)\n",
            "Accuracy: 0.710 (0.000)\n",
            "OOB: 0.569 (0.063)\n",
            "Accuracy: 0.700 (0.000)\n",
            "OOB: 0.526 (0.077)\n",
            "Accuracy: 0.710 (0.000)\n",
            "OOB: 0.588 (0.072)\n",
            "Accuracy: 0.670 (0.000)\n",
            "OOB: 0.545 (0.078)\n",
            "Accuracy: 0.640 (0.000)\n",
            "OOB: 0.553 (0.064)\n",
            "Accuracy: 0.660 (0.000)\n",
            "OOB: 0.520 (0.068)\n",
            "Accuracy: 0.680 (0.000)\n",
            "OOB: 0.575 (0.066)\n",
            "Accuracy: 0.670 (0.000)\n",
            "OOB: 0.538 (0.067)\n",
            "Accuracy: 0.660 (0.000)\n",
            "OOB: 0.552 (0.060)\n",
            "Accuracy: 0.690 (0.000)\n",
            "OOB: 0.562 (0.064)\n",
            "Accuracy: 0.670 (0.000)\n",
            "OOB: 0.561 (0.061)\n",
            "Accuracy: 0.620 (0.000)\n",
            "OOB: 0.507 (0.069)\n",
            "Accuracy: 0.810 (0.000)\n",
            "OOB: 0.657 (0.068)\n",
            "Accuracy: 0.730 (0.000)\n",
            "OOB: 0.572 (0.073)\n",
            "Accuracy: 0.650 (0.000)\n",
            "OOB: 0.515 (0.068)\n",
            "Accuracy: 0.670 (0.000)\n",
            "OOB: 0.526 (0.069)\n",
            "Accuracy: 0.710 (0.000)\n",
            "OOB: 0.585 (0.073)\n",
            "Accuracy: 0.700 (0.000)\n",
            "OOB: 0.554 (0.073)\n",
            "Accuracy: 0.750 (0.000)\n",
            "OOB: 0.651 (0.068)\n",
            "Accuracy: 0.680 (0.000)\n",
            "OOB: 0.567 (0.066)\n",
            "Accuracy: 0.690 (0.000)\n",
            "OOB: 0.546 (0.070)\n",
            "Accuracy: 0.680 (0.000)\n",
            "OOB: 0.541 (0.066)\n",
            "Accuracy: 0.670 (0.000)\n",
            "OOB: 0.583 (0.068)\n",
            "Accuracy: 0.740 (0.000)\n",
            "OOB: 0.594 (0.070)\n"
          ]
        }
      ]
    },
    {
      "cell_type": "markdown",
      "source": [
        "Now that we have our oob accuracy scores, we're ready to display them graphically on a scatterplot:"
      ],
      "metadata": {
        "id": "MTV3bN4JJnDE"
      }
    },
    {
      "cell_type": "code",
      "source": [
        "x = list(range(1, 201))\n",
        "plt.scatter(x,oob_scores)\n",
        "plt.gca().set(\n",
        "    title= \"Bootstrap out-of-bag cross-validation scores with 200 samples\",\n",
        "    xlabel= \"Bootstrap samples\",\n",
        "    ylabel=\"Model accuracy (0-1)\"\n",
        ")\n",
        "plt.show()"
      ],
      "metadata": {
        "colab": {
          "base_uri": "https://localhost:8080/",
          "height": 295
        },
        "id": "6-gE44PXIRkC",
        "outputId": "6b260f4f-1c61-4d0d-a97d-aecff74d7907"
      },
      "execution_count": null,
      "outputs": [
        {
          "output_type": "display_data",
          "data": {
            "text/plain": [
              "<Figure size 432x288 with 1 Axes>"
            ],
            "image/png": "[encoded data removed]"
          },
          "metadata": {
            "needs_background": "light"
          }
        }
      ]
    },
    {
      "cell_type": "markdown",
      "source": [
        "Dataset B (regression): for the second set of 5 small programming tasks, use the Haxby dataset provided by the nilearn package, which can be downloaded using the code below. This is a dataset of functional brain scans (functional MRI measurements from one subject) acquired while individuals watched people’s faces or house pictures."
      ],
      "metadata": {
        "id": "v8uiBwwQokmt"
      }
    },
    {
      "cell_type": "code",
      "execution_count": null,
      "metadata": {
        "colab": {
          "base_uri": "https://localhost:8080/",
          "height": 460
        },
        "id": "ZGKMKO3bkjo5",
        "outputId": "6b78ae92-a90d-4711-82da-3b3ad311b0d4"
      },
      "outputs": [
        {
          "output_type": "stream",
          "name": "stderr",
          "text": [
            "/usr/local/lib/python3.7/dist-packages/ipykernel_launcher.py:12: DeprecationWarning: get_data() is deprecated in favor of get_fdata(), which has a more predictable return type. To obtain get_data() behavior going forward, use numpy.asanyarray(img.dataobj).\n",
            "\n",
            "* deprecated from version: 3.0\n",
            "* Will raise <class 'nibabel.deprecator.ExpiredDeprecationError'> as of version: 5.0\n",
            "  if sys.path[0] == '':\n"
          ]
        },
        {
          "output_type": "stream",
          "name": "stdout",
          "text": [
            "The only relevant horizontal brain slice has 739 voxels.\n"
          ]
        },
        {
          "output_type": "stream",
          "name": "stderr",
          "text": [
            "/usr/local/lib/python3.7/dist-packages/ipykernel_launcher.py:45: DeprecationWarning: get_data() is deprecated in favor of get_fdata(), which has a more predictable return type. To obtain get_data() behavior going forward, use numpy.asanyarray(img.dataobj).\n",
            "\n",
            "* deprecated from version: 3.0\n",
            "* Will raise <class 'nibabel.deprecator.ExpiredDeprecationError'> as of version: 5.0\n"
          ]
        },
        {
          "output_type": "stream",
          "name": "stdout",
          "text": [
            "The only relevant horizontal brain slice has 739 voxels.\n"
          ]
        },
        {
          "output_type": "stream",
          "name": "stderr",
          "text": [
            "/usr/local/lib/python3.7/dist-packages/nilearn/plotting/displays/_slicers.py:1333: MatplotlibDeprecationWarning: Adding an axes using the same arguments as a previous axes currently reuses the earlier instance.  In a future version, a new instance will always be created and returned.  Meanwhile, this warning can be suppressed, and the future behavior ensured, by passing a unique label to each axes instance.\n",
            "  fraction * (x1 - x0), y1 - y0])\n"
          ]
        },
        {
          "output_type": "execute_result",
          "data": {
            "text/plain": [
              "<nilearn.plotting.displays._slicers.ZSlicer at 0x7fb650115410>"
            ]
          },
          "metadata": {},
          "execution_count": 129
        },
        {
          "output_type": "display_data",
          "data": {
            "text/plain": [
              "<Figure size 208.8x165.6 with 2 Axes>"
            ],
            "image/png": "[encoded data removed]"
          },
          "metadata": {}
        }
      ],
      "source": [
        "from nilearn import datasets\n",
        "import numpy as np\n",
        "import pandas as pd\n",
        "import nibabel as nib\n",
        "from nilearn.image import new_img_like\n",
        "from nilearn.plotting import plot_stat_map\n",
        "from matplotlib import pylab as plt\n",
        "\n",
        "haxby_dataset = datasets.fetch_haxby(subjects=1)\n",
        "mask_filename = haxby_dataset.mask\n",
        "mask_img = nib.load(mask_filename)\n",
        "process_mask = mask_img.get_data()\n",
        "picked_slice = 29\n",
        "process_mask[..., (picked_slice + 1):] = 0\n",
        "process_mask[..., :picked_slice] = 0\n",
        "process_mask[:, 30:] = 0 # zero out anterior “half” of the brain\n",
        "process_mask_img = new_img_like(mask_img, process_mask)\n",
        "\n",
        "from nilearn.input_data import NiftiMasker\n",
        "nifti_masker = NiftiMasker(smoothing_fwhm=8,\n",
        "mask_img=process_mask_img)\n",
        "func_filename = haxby_dataset.func[0]\n",
        "fmri_masked = nifti_masker.fit_transform(func_filename)\n",
        "labels = pd.read_csv(haxby_dataset.session_target[0], sep=\" \")\n",
        "conditions = labels['labels']\n",
        "condition_mask = conditions.isin(['face', 'house'])\n",
        "fmri_masked = fmri_masked[condition_mask]\n",
        "output_variable = np.array(conditions[condition_mask] == 'face',\n",
        "dtype=int)\n",
        "\n",
        "print('The only relevant horizontal brain slice has %i voxels.' %\n",
        "process_mask[..., picked_slice].sum())\n",
        "\n",
        "from nilearn import datasets\n",
        "import numpy as np\n",
        "import pandas as pd\n",
        "import nibabel as nib\n",
        "from nilearn.image import new_img_like\n",
        "from nilearn.plotting import plot_stat_map\n",
        "from matplotlib import pylab as plt\n",
        "\n",
        "haxby_dataset = datasets.fetch_haxby(subjects=1)\n",
        "mask_filename = haxby_dataset.mask\n",
        "mask_img = nib.load(mask_filename)\n",
        "process_mask = mask_img.get_data()\n",
        "picked_slice = 29\n",
        "process_mask[..., (picked_slice + 1):] = 0\n",
        "process_mask[..., :picked_slice] = 0\n",
        "process_mask[:, 30:] = 0 # zero out anterior “half” of the brain\n",
        "process_mask_img = new_img_like(mask_img, process_mask)\n",
        "\n",
        "from nilearn.input_data import NiftiMasker\n",
        "nifti_masker = NiftiMasker(smoothing_fwhm=8,\n",
        "mask_img=process_mask_img)\n",
        "func_filename = haxby_dataset.func[0]\n",
        "fmri_masked = nifti_masker.fit_transform(func_filename)\n",
        "labels = pd.read_csv(haxby_dataset.session_target[0], sep=\" \")\n",
        "conditions = labels['labels']\n",
        "condition_mask = conditions.isin(['face', 'house'])\n",
        "fmri_masked = fmri_masked[condition_mask]\n",
        "output_variable = np.array(conditions[condition_mask] == 'face',\n",
        "dtype=int)\n",
        "\n",
        "print('The only relevant horizontal brain slice has %i voxels.' %\n",
        "process_mask[..., picked_slice].sum())\n",
        "\n",
        "#plot that slice to get an impression of where the input variables are in the brain \n",
        "plot_stat_map(process_mask_img, cut_coords=[-9],\n",
        "display_mode=\"z\", cmap=plt.cm.RdBu_r)"
      ]
    },
    {
      "cell_type": "markdown",
      "source": [
        "Note: since there are many more input variables in this dataset, for ll of the following questions only generate plots of the first 17 input variables (your models should still be trained using all input ariables). For Q8 and Q9 use an 80/20% train/test split.\n",
        "\n",
        "6. analogous to task 1 but using sklearn.linear_model.Ridge(default hyperparameters) instead of logistic regression, since the target is now continuous.\n",
        "\n",
        "  Use sklearn.linear_model.Ridge(default hyperparameters) trained on all input_variables to perform uncertainty estimation. Draw 200 bootstrap samples from the dataset, and for each of these bootstrap datasets, fit your model on all 216 subjects (you will train 200 models). Plot the distribution of model parameters(.coef_)using pyplot.boxplot(). The distribution of the model parameters should be on the y-axis and the first 17 input variables on the x axis; the mean of each box is the original point estimate of the model coefficient (i.e., the original dataset, not the bootstrap data). "
      ],
      "metadata": {
        "id": "FVIMoRQvlksI"
      }
    },
    {
      "cell_type": "code",
      "source": [
        "input_variables = fmri_masked\n",
        "input_variables.shape"
      ],
      "metadata": {
        "colab": {
          "base_uri": "https://localhost:8080/"
        },
        "id": "YcMAfI-7wFcf",
        "outputId": "bde99eba-305f-4918-a61d-d95e3313072b"
      },
      "execution_count": null,
      "outputs": [
        {
          "output_type": "execute_result",
          "data": {
            "text/plain": [
              "(216, 739)"
            ]
          },
          "metadata": {},
          "execution_count": 162
        }
      ]
    },
    {
      "cell_type": "code",
      "source": [
        "import scipy\n",
        "from numpy import mean\n",
        "from numpy import std\n",
        "from sklearn.linear_model import Ridge\n",
        "from sklearn.utils import resample\n",
        "\n",
        "from sklearn.preprocessing import StandardScaler\n",
        "scaler = StandardScaler()"
      ],
      "metadata": {
        "id": "NEoaEPMtyHeB"
      },
      "execution_count": null,
      "outputs": []
    },
    {
      "cell_type": "code",
      "source": [
        "# Let's create one bootstrap sample containing 216 observations to make sure we have everything we need\n",
        "boot = resample(input_variables, replace=True, n_samples=216)\n",
        "print (boot.shape)"
      ],
      "metadata": {
        "colab": {
          "base_uri": "https://localhost:8080/"
        },
        "id": "6zb6wpnjzDuc",
        "outputId": "4d66676b-628f-40b5-f2b8-434e2f540eb0"
      },
      "execution_count": null,
      "outputs": [
        {
          "output_type": "stream",
          "name": "stdout",
          "text": [
            "(216, 739)\n"
          ]
        }
      ]
    },
    {
      "cell_type": "markdown",
      "source": [
        "Looks like the size of our \"boot\" sample is correct, because it is the same as the original data. But we will need 200 of these samples, so let's make use of a for loop to create them iteratively:"
      ],
      "metadata": {
        "id": "Zdj29RHB9-gK"
      }
    },
    {
      "cell_type": "code",
      "source": [
        "# Setting the number of iterations\n",
        "n_iterations = 200\n",
        "# Pre-allocating the array where the coefficients of the 200 models will be appended\n",
        "coefficients = []\n",
        "\n",
        "for i in range(n_iterations):\n",
        "    X_train = resample(input_variables, replace=True, n_samples=216) # X_train is the given bootstrap sample in the current iteration\n",
        "    X_train = scaler.fit_transform(X_train) # Here we run the scaler on every iteration\n",
        "    y_train = output_variable # y_train will remain the same as the original sample across iterations\n",
        "    LinReg_boot = Ridge().fit(X_train,y_train) # We fit the LR model to the current bootstrap sample\n",
        "    coefficients.append(LinReg_boot.coef_) # Store the coefficients in the \"coefficients\" array\n",
        "    score = LinReg_boot.score(X_train, y_train) # We will also export the score for each bootstrap model (...)\n",
        "    print('Accuracy: %.3f (%.3f)' % ((score), std(score))) # (...) and we will print it to make sure every model is different"
      ],
      "metadata": {
        "colab": {
          "base_uri": "https://localhost:8080/"
        },
        "id": "ac8P1h6T9q9f",
        "outputId": "8f542753-ca57-4db5-dfcf-8c1311ca08a9"
      },
      "execution_count": null,
      "outputs": [
        {
          "output_type": "stream",
          "name": "stdout",
          "text": [
            "Accuracy: 0.587 (0.000)\n",
            "Accuracy: 0.536 (0.000)\n",
            "Accuracy: 0.631 (0.000)\n",
            "Accuracy: 0.551 (0.000)\n",
            "Accuracy: 0.635 (0.000)\n",
            "Accuracy: 0.629 (0.000)\n",
            "Accuracy: 0.633 (0.000)\n",
            "Accuracy: 0.546 (0.000)\n",
            "Accuracy: 0.643 (0.000)\n",
            "Accuracy: 0.648 (0.000)\n",
            "Accuracy: 0.645 (0.000)\n",
            "Accuracy: 0.564 (0.000)\n",
            "Accuracy: 0.666 (0.000)\n",
            "Accuracy: 0.653 (0.000)\n",
            "Accuracy: 0.673 (0.000)\n",
            "Accuracy: 0.652 (0.000)\n",
            "Accuracy: 0.625 (0.000)\n",
            "Accuracy: 0.583 (0.000)\n",
            "Accuracy: 0.521 (0.000)\n",
            "Accuracy: 0.608 (0.000)\n",
            "Accuracy: 0.617 (0.000)\n",
            "Accuracy: 0.722 (0.000)\n",
            "Accuracy: 0.534 (0.000)\n",
            "Accuracy: 0.632 (0.000)\n",
            "Accuracy: 0.591 (0.000)\n",
            "Accuracy: 0.677 (0.000)\n",
            "Accuracy: 0.543 (0.000)\n",
            "Accuracy: 0.607 (0.000)\n",
            "Accuracy: 0.618 (0.000)\n",
            "Accuracy: 0.666 (0.000)\n",
            "Accuracy: 0.564 (0.000)\n",
            "Accuracy: 0.620 (0.000)\n",
            "Accuracy: 0.641 (0.000)\n",
            "Accuracy: 0.605 (0.000)\n",
            "Accuracy: 0.633 (0.000)\n",
            "Accuracy: 0.586 (0.000)\n",
            "Accuracy: 0.628 (0.000)\n",
            "Accuracy: 0.611 (0.000)\n",
            "Accuracy: 0.728 (0.000)\n",
            "Accuracy: 0.587 (0.000)\n",
            "Accuracy: 0.587 (0.000)\n",
            "Accuracy: 0.523 (0.000)\n",
            "Accuracy: 0.630 (0.000)\n",
            "Accuracy: 0.667 (0.000)\n",
            "Accuracy: 0.612 (0.000)\n",
            "Accuracy: 0.615 (0.000)\n",
            "Accuracy: 0.580 (0.000)\n",
            "Accuracy: 0.646 (0.000)\n",
            "Accuracy: 0.695 (0.000)\n",
            "Accuracy: 0.573 (0.000)\n",
            "Accuracy: 0.676 (0.000)\n",
            "Accuracy: 0.586 (0.000)\n",
            "Accuracy: 0.619 (0.000)\n",
            "Accuracy: 0.617 (0.000)\n",
            "Accuracy: 0.602 (0.000)\n",
            "Accuracy: 0.595 (0.000)\n",
            "Accuracy: 0.665 (0.000)\n",
            "Accuracy: 0.604 (0.000)\n",
            "Accuracy: 0.643 (0.000)\n",
            "Accuracy: 0.628 (0.000)\n",
            "Accuracy: 0.581 (0.000)\n",
            "Accuracy: 0.596 (0.000)\n",
            "Accuracy: 0.641 (0.000)\n",
            "Accuracy: 0.647 (0.000)\n",
            "Accuracy: 0.604 (0.000)\n",
            "Accuracy: 0.612 (0.000)\n",
            "Accuracy: 0.549 (0.000)\n",
            "Accuracy: 0.670 (0.000)\n",
            "Accuracy: 0.630 (0.000)\n",
            "Accuracy: 0.612 (0.000)\n",
            "Accuracy: 0.652 (0.000)\n",
            "Accuracy: 0.618 (0.000)\n",
            "Accuracy: 0.681 (0.000)\n",
            "Accuracy: 0.537 (0.000)\n",
            "Accuracy: 0.589 (0.000)\n",
            "Accuracy: 0.610 (0.000)\n",
            "Accuracy: 0.640 (0.000)\n",
            "Accuracy: 0.553 (0.000)\n",
            "Accuracy: 0.549 (0.000)\n",
            "Accuracy: 0.632 (0.000)\n",
            "Accuracy: 0.664 (0.000)\n",
            "Accuracy: 0.546 (0.000)\n",
            "Accuracy: 0.585 (0.000)\n",
            "Accuracy: 0.639 (0.000)\n",
            "Accuracy: 0.614 (0.000)\n",
            "Accuracy: 0.654 (0.000)\n",
            "Accuracy: 0.541 (0.000)\n",
            "Accuracy: 0.623 (0.000)\n",
            "Accuracy: 0.627 (0.000)\n",
            "Accuracy: 0.594 (0.000)\n",
            "Accuracy: 0.634 (0.000)\n",
            "Accuracy: 0.587 (0.000)\n",
            "Accuracy: 0.615 (0.000)\n",
            "Accuracy: 0.591 (0.000)\n",
            "Accuracy: 0.648 (0.000)\n",
            "Accuracy: 0.624 (0.000)\n",
            "Accuracy: 0.652 (0.000)\n",
            "Accuracy: 0.595 (0.000)\n",
            "Accuracy: 0.669 (0.000)\n",
            "Accuracy: 0.636 (0.000)\n",
            "Accuracy: 0.566 (0.000)\n",
            "Accuracy: 0.533 (0.000)\n",
            "Accuracy: 0.622 (0.000)\n",
            "Accuracy: 0.637 (0.000)\n",
            "Accuracy: 0.584 (0.000)\n",
            "Accuracy: 0.639 (0.000)\n",
            "Accuracy: 0.669 (0.000)\n",
            "Accuracy: 0.677 (0.000)\n",
            "Accuracy: 0.596 (0.000)\n",
            "Accuracy: 0.585 (0.000)\n",
            "Accuracy: 0.545 (0.000)\n",
            "Accuracy: 0.617 (0.000)\n",
            "Accuracy: 0.626 (0.000)\n",
            "Accuracy: 0.562 (0.000)\n",
            "Accuracy: 0.643 (0.000)\n",
            "Accuracy: 0.648 (0.000)\n",
            "Accuracy: 0.580 (0.000)\n",
            "Accuracy: 0.574 (0.000)\n",
            "Accuracy: 0.622 (0.000)\n",
            "Accuracy: 0.689 (0.000)\n",
            "Accuracy: 0.627 (0.000)\n",
            "Accuracy: 0.586 (0.000)\n",
            "Accuracy: 0.666 (0.000)\n",
            "Accuracy: 0.620 (0.000)\n",
            "Accuracy: 0.587 (0.000)\n",
            "Accuracy: 0.646 (0.000)\n",
            "Accuracy: 0.632 (0.000)\n",
            "Accuracy: 0.653 (0.000)\n",
            "Accuracy: 0.651 (0.000)\n",
            "Accuracy: 0.677 (0.000)\n",
            "Accuracy: 0.607 (0.000)\n",
            "Accuracy: 0.665 (0.000)\n",
            "Accuracy: 0.666 (0.000)\n",
            "Accuracy: 0.637 (0.000)\n",
            "Accuracy: 0.599 (0.000)\n",
            "Accuracy: 0.596 (0.000)\n",
            "Accuracy: 0.650 (0.000)\n",
            "Accuracy: 0.584 (0.000)\n",
            "Accuracy: 0.664 (0.000)\n",
            "Accuracy: 0.594 (0.000)\n",
            "Accuracy: 0.564 (0.000)\n",
            "Accuracy: 0.653 (0.000)\n",
            "Accuracy: 0.604 (0.000)\n",
            "Accuracy: 0.588 (0.000)\n",
            "Accuracy: 0.639 (0.000)\n",
            "Accuracy: 0.616 (0.000)\n",
            "Accuracy: 0.572 (0.000)\n",
            "Accuracy: 0.654 (0.000)\n",
            "Accuracy: 0.631 (0.000)\n",
            "Accuracy: 0.621 (0.000)\n",
            "Accuracy: 0.638 (0.000)\n",
            "Accuracy: 0.666 (0.000)\n",
            "Accuracy: 0.647 (0.000)\n",
            "Accuracy: 0.590 (0.000)\n",
            "Accuracy: 0.593 (0.000)\n",
            "Accuracy: 0.581 (0.000)\n",
            "Accuracy: 0.595 (0.000)\n",
            "Accuracy: 0.630 (0.000)\n",
            "Accuracy: 0.564 (0.000)\n",
            "Accuracy: 0.649 (0.000)\n",
            "Accuracy: 0.605 (0.000)\n",
            "Accuracy: 0.633 (0.000)\n",
            "Accuracy: 0.622 (0.000)\n",
            "Accuracy: 0.711 (0.000)\n",
            "Accuracy: 0.543 (0.000)\n",
            "Accuracy: 0.704 (0.000)\n",
            "Accuracy: 0.652 (0.000)\n",
            "Accuracy: 0.616 (0.000)\n",
            "Accuracy: 0.653 (0.000)\n",
            "Accuracy: 0.618 (0.000)\n",
            "Accuracy: 0.570 (0.000)\n",
            "Accuracy: 0.656 (0.000)\n",
            "Accuracy: 0.622 (0.000)\n",
            "Accuracy: 0.636 (0.000)\n",
            "Accuracy: 0.642 (0.000)\n",
            "Accuracy: 0.688 (0.000)\n",
            "Accuracy: 0.675 (0.000)\n",
            "Accuracy: 0.702 (0.000)\n",
            "Accuracy: 0.630 (0.000)\n",
            "Accuracy: 0.680 (0.000)\n",
            "Accuracy: 0.547 (0.000)\n",
            "Accuracy: 0.691 (0.000)\n",
            "Accuracy: 0.597 (0.000)\n",
            "Accuracy: 0.583 (0.000)\n",
            "Accuracy: 0.659 (0.000)\n",
            "Accuracy: 0.643 (0.000)\n",
            "Accuracy: 0.720 (0.000)\n",
            "Accuracy: 0.623 (0.000)\n",
            "Accuracy: 0.611 (0.000)\n",
            "Accuracy: 0.608 (0.000)\n",
            "Accuracy: 0.583 (0.000)\n",
            "Accuracy: 0.625 (0.000)\n",
            "Accuracy: 0.656 (0.000)\n",
            "Accuracy: 0.568 (0.000)\n",
            "Accuracy: 0.628 (0.000)\n",
            "Accuracy: 0.593 (0.000)\n",
            "Accuracy: 0.641 (0.000)\n",
            "Accuracy: 0.584 (0.000)\n",
            "Accuracy: 0.609 (0.000)\n",
            "Accuracy: 0.583 (0.000)\n"
          ]
        }
      ]
    },
    {
      "cell_type": "markdown",
      "source": [
        "Overall model accuracies are indeed different from each other, which is good, and they seem to hover around the 0.6 value. Let's compute the model accuracy for the model with the original data to see if it's better than what we get with bootstrap samples:"
      ],
      "metadata": {
        "id": "z_igHPlK-_Km"
      }
    },
    {
      "cell_type": "code",
      "source": [
        "input_variables = scaler.fit_transform(input_variables) # We replicate the pipeline by first standardizing the data \n",
        "LinReg = Ridge().fit(input_variables,output_variable)\n",
        "score = LinReg.score(input_variables, output_variable)\n",
        "print('Accuracy: %.3f (%.3f)' % ((score), std(score)))\n",
        "usermeans = LinReg.coef_ # We will store the model paramaters in a variable called \"usermeans\" to be used later"
      ],
      "metadata": {
        "colab": {
          "base_uri": "https://localhost:8080/"
        },
        "id": "qk43nAas_Caz",
        "outputId": "338b6652-9625-4acf-b17a-172720d1debb"
      },
      "execution_count": null,
      "outputs": [
        {
          "output_type": "stream",
          "name": "stdout",
          "text": [
            "Accuracy: 0.996 (0.000)\n"
          ]
        }
      ]
    },
    {
      "cell_type": "markdown",
      "source": [
        "Looks like our model accuracy is very good, and certainly much better than what we got with the 200 dummy samples. This is because the bootstrapped samples were created using 'sampling with replacement', which makes the data in each sample comparatively less rich than the original data. However, this will do just fine for our purposes, so let's reshape the \"coefficients\" list into an np.array and remove any extra dimensions:"
      ],
      "metadata": {
        "id": "kIIpu6X6AdpP"
      }
    },
    {
      "cell_type": "code",
      "source": [
        "coefficients = np.array(coefficients) # Convert the \"coefficients\" list into an np.array\n",
        "coeffs = coefficients.squeeze() # Remove the extraneous axis\n",
        "print(coeffs.shape) # We will make sure we have 200 instances of 739 features"
      ],
      "metadata": {
        "colab": {
          "base_uri": "https://localhost:8080/"
        },
        "id": "leNTxWRB_VKK",
        "outputId": "78830ff3-d307-4f56-92c5-7780f470824b"
      },
      "execution_count": null,
      "outputs": [
        {
          "output_type": "stream",
          "name": "stdout",
          "text": [
            "(200, 739)\n"
          ]
        }
      ]
    },
    {
      "cell_type": "markdown",
      "source": [
        "The reshaping worked. Now that we have the same number of dimensions as the array we called \"usermeans\", we are ready to produce a boxplot. But first, we need to remove columns 18 through 739:"
      ],
      "metadata": {
        "id": "wJHdhvPaA1Iz"
      }
    },
    {
      "cell_type": "code",
      "source": [
        "usermeans.shape"
      ],
      "metadata": {
        "colab": {
          "base_uri": "https://localhost:8080/"
        },
        "id": "aZYjIxHmEW_O",
        "outputId": "6f7438cf-4f18-49bd-a5b7-d397292150bf"
      },
      "execution_count": null,
      "outputs": [
        {
          "output_type": "execute_result",
          "data": {
            "text/plain": [
              "(739,)"
            ]
          },
          "metadata": {},
          "execution_count": 168
        }
      ]
    },
    {
      "cell_type": "code",
      "source": [
        "coeffs_trim = coeffs[:,0:17]\n",
        "usermeans_trim = usermeans[0:17,]\n",
        "\n",
        "print(coeffs_trim.shape)\n",
        "print(usermeans_trim.shape)"
      ],
      "metadata": {
        "colab": {
          "base_uri": "https://localhost:8080/"
        },
        "id": "t0YzDnh1BcyZ",
        "outputId": "106e9e29-107a-4e9d-ede5-7517887a0fba"
      },
      "execution_count": null,
      "outputs": [
        {
          "output_type": "stream",
          "name": "stdout",
          "text": [
            "(200, 17)\n",
            "(17,)\n"
          ]
        }
      ]
    },
    {
      "cell_type": "code",
      "source": [
        "# Turning \"coeffs\" into pandas dataframes for ease of manipulation\n",
        "df = pd.DataFrame(coeffs_trim)\n",
        "df2 = pd.DataFrame(usermeans_trim)\n",
        "x =  list(range(1, 17))\n",
        "\n",
        "fig, ax = plt.subplots() # Create the empty figure\n",
        "medianprops = dict(linewidth=0) # We will remove the median line by setting the line width to 0\n",
        "df.boxplot(medianprops=medianprops) # And we will create a plot of the bootstrap confidence intervals without the medians\n",
        "plt.boxplot(df2) # We superimpose the \"usermeans\" data onto the current plot\n",
        "plt.gca().set(\n",
        "    title=\"Model parameters within bootstrapped distributions (n_samples = 200)\",\n",
        "    xlabel=\"Model features (1-17)\",\n",
        "    ylabel=\"Distribution of model parameters\",\n",
        "    xticks = x\n",
        ")\n",
        "plt.show()"
      ],
      "metadata": {
        "colab": {
          "base_uri": "https://localhost:8080/",
          "height": 295
        },
        "id": "ELCYADbe_dWa",
        "outputId": "80582532-7eb7-4f2a-d670-9ec5453a095c"
      },
      "execution_count": null,
      "outputs": [
        {
          "output_type": "display_data",
          "data": {
            "text/plain": [
              "<Figure size 432x288 with 1 Axes>"
            ],
            "image/png": "[encoded data removed]"
          },
          "metadata": {
            "needs_background": "light"
          }
        }
      ]
    },
    {
      "cell_type": "markdown",
      "source": [
        "The result is a figure with 17 boxplots (one per feature), where the range lines represent the model parameters (or means) obtained from the original, non-bootrstapped model. The bootsrap procedure essentially gave us a non-parametric distribution of possible datapoints (given scrambled data). With this distribution, we can establish whether a given parameter is within or without the bounds of a confidence interval which would need to be established a priori. "
      ],
      "metadata": {
        "id": "UW5Z2uoPDr3M"
      }
    },
    {
      "cell_type": "markdown",
      "source": [
        "7. analogous to task 2 but using sklearn.linear_model.Ridge(default hyperparameters).\n",
        "\n",
        "Without predictive modeling; using 200 bootstrap iterations, in each drawn bootstrap dataset, subtract the mean volume in an input variable across males from the mean volume across females, for each input variable. Then, plot the 5% and 95% percentiles of the distribution of 200 bootstrapped differences for the purpose of hypothesis testing (dispersion on the y-axis and input variables on the xaxis). Hint: use np.percentile()."
      ],
      "metadata": {
        "id": "F4CSEU3_ToS2"
      }
    },
    {
      "cell_type": "code",
      "execution_count": null,
      "metadata": {
        "colab": {
          "base_uri": "https://localhost:8080/",
          "height": 460
        },
        "outputId": "6b78ae92-a90d-4711-82da-3b3ad311b0d4",
        "id": "6AlZtklmUBXO"
      },
      "outputs": [
        {
          "output_type": "stream",
          "name": "stderr",
          "text": [
            "/usr/local/lib/python3.7/dist-packages/ipykernel_launcher.py:12: DeprecationWarning: get_data() is deprecated in favor of get_fdata(), which has a more predictable return type. To obtain get_data() behavior going forward, use numpy.asanyarray(img.dataobj).\n",
            "\n",
            "* deprecated from version: 3.0\n",
            "* Will raise <class 'nibabel.deprecator.ExpiredDeprecationError'> as of version: 5.0\n",
            "  if sys.path[0] == '':\n"
          ]
        },
        {
          "output_type": "stream",
          "name": "stdout",
          "text": [
            "The only relevant horizontal brain slice has 739 voxels.\n"
          ]
        },
        {
          "output_type": "stream",
          "name": "stderr",
          "text": [
            "/usr/local/lib/python3.7/dist-packages/ipykernel_launcher.py:45: DeprecationWarning: get_data() is deprecated in favor of get_fdata(), which has a more predictable return type. To obtain get_data() behavior going forward, use numpy.asanyarray(img.dataobj).\n",
            "\n",
            "* deprecated from version: 3.0\n",
            "* Will raise <class 'nibabel.deprecator.ExpiredDeprecationError'> as of version: 5.0\n"
          ]
        },
        {
          "output_type": "stream",
          "name": "stdout",
          "text": [
            "The only relevant horizontal brain slice has 739 voxels.\n"
          ]
        },
        {
          "output_type": "stream",
          "name": "stderr",
          "text": [
            "/usr/local/lib/python3.7/dist-packages/nilearn/plotting/displays/_slicers.py:1333: MatplotlibDeprecationWarning: Adding an axes using the same arguments as a previous axes currently reuses the earlier instance.  In a future version, a new instance will always be created and returned.  Meanwhile, this warning can be suppressed, and the future behavior ensured, by passing a unique label to each axes instance.\n",
            "  fraction * (x1 - x0), y1 - y0])\n"
          ]
        },
        {
          "output_type": "execute_result",
          "data": {
            "text/plain": [
              "<nilearn.plotting.displays._slicers.ZSlicer at 0x7fb650115410>"
            ]
          },
          "metadata": {},
          "execution_count": 129
        },
        {
          "output_type": "display_data",
          "data": {
            "text/plain": [
              "<Figure size 208.8x165.6 with 2 Axes>"
            ],
            "image/png": "[encoded data removed]"
          },
          "metadata": {}
        }
      ],
      "source": [
        "from nilearn import datasets\n",
        "import numpy as np\n",
        "import pandas as pd\n",
        "import nibabel as nib\n",
        "from nilearn.image import new_img_like\n",
        "from nilearn.plotting import plot_stat_map\n",
        "from matplotlib import pylab as plt\n",
        "\n",
        "haxby_dataset = datasets.fetch_haxby(subjects=1)\n",
        "mask_filename = haxby_dataset.mask\n",
        "mask_img = nib.load(mask_filename)\n",
        "process_mask = mask_img.get_data()\n",
        "picked_slice = 29\n",
        "process_mask[..., (picked_slice + 1):] = 0\n",
        "process_mask[..., :picked_slice] = 0\n",
        "process_mask[:, 30:] = 0 # zero out anterior “half” of the brain\n",
        "process_mask_img = new_img_like(mask_img, process_mask)\n",
        "\n",
        "from nilearn.input_data import NiftiMasker\n",
        "nifti_masker = NiftiMasker(smoothing_fwhm=8,\n",
        "mask_img=process_mask_img)\n",
        "func_filename = haxby_dataset.func[0]\n",
        "fmri_masked = nifti_masker.fit_transform(func_filename)\n",
        "labels = pd.read_csv(haxby_dataset.session_target[0], sep=\" \")\n",
        "conditions = labels['labels']\n",
        "condition_mask = conditions.isin(['face', 'house'])\n",
        "fmri_masked = fmri_masked[condition_mask]\n",
        "output_variable = np.array(conditions[condition_mask] == 'face',\n",
        "dtype=int)\n",
        "\n",
        "print('The only relevant horizontal brain slice has %i voxels.' %\n",
        "process_mask[..., picked_slice].sum())\n",
        "\n",
        "from nilearn import datasets\n",
        "import numpy as np\n",
        "import pandas as pd\n",
        "import nibabel as nib\n",
        "from nilearn.image import new_img_like\n",
        "from nilearn.plotting import plot_stat_map\n",
        "from matplotlib import pylab as plt\n",
        "\n",
        "haxby_dataset = datasets.fetch_haxby(subjects=1)\n",
        "mask_filename = haxby_dataset.mask\n",
        "mask_img = nib.load(mask_filename)\n",
        "process_mask = mask_img.get_data()\n",
        "picked_slice = 29\n",
        "process_mask[..., (picked_slice + 1):] = 0\n",
        "process_mask[..., :picked_slice] = 0\n",
        "process_mask[:, 30:] = 0 # zero out anterior “half” of the brain\n",
        "process_mask_img = new_img_like(mask_img, process_mask)\n",
        "\n",
        "from nilearn.input_data import NiftiMasker\n",
        "nifti_masker = NiftiMasker(smoothing_fwhm=8,\n",
        "mask_img=process_mask_img)\n",
        "func_filename = haxby_dataset.func[0]\n",
        "fmri_masked = nifti_masker.fit_transform(func_filename)\n",
        "labels = pd.read_csv(haxby_dataset.session_target[0], sep=\" \")\n",
        "conditions = labels['labels']\n",
        "condition_mask = conditions.isin(['face', 'house'])\n",
        "fmri_masked = fmri_masked[condition_mask]\n",
        "output_variable = np.array(conditions[condition_mask] == 'face',\n",
        "dtype=int)\n",
        "\n",
        "print('The only relevant horizontal brain slice has %i voxels.' %\n",
        "process_mask[..., picked_slice].sum())\n",
        "\n",
        "#plot that slice to get an impression of where the input variables are in the brain \n",
        "plot_stat_map(process_mask_img, cut_coords=[-9],\n",
        "display_mode=\"z\", cmap=plt.cm.RdBu_r)"
      ]
    },
    {
      "cell_type": "code",
      "source": [
        "input_variables = fmri_masked\n",
        "input_variables_trim = input_variables[:,0:17] # We will trim the input_data because we're not going to compute differences across all features. Just the first 17.\n",
        "input_variables_trim.shape"
      ],
      "metadata": {
        "colab": {
          "base_uri": "https://localhost:8080/"
        },
        "id": "uK-8hichUFeG",
        "outputId": "664e3eba-041a-40c9-b10f-df1b9a27f65c"
      },
      "execution_count": null,
      "outputs": [
        {
          "output_type": "execute_result",
          "data": {
            "text/plain": [
              "(216, 17)"
            ]
          },
          "metadata": {},
          "execution_count": 155
        }
      ]
    },
    {
      "cell_type": "code",
      "source": [
        "import scipy\n",
        "from numpy import mean\n",
        "from numpy import std\n",
        "from sklearn.linear_model import LinearRegression\n",
        "from sklearn.utils import resample\n",
        "\n",
        "from sklearn.preprocessing import StandardScaler\n",
        "scaler = StandardScaler()"
      ],
      "metadata": {
        "id": "SP35yQfsUL_9"
      },
      "execution_count": null,
      "outputs": []
    },
    {
      "cell_type": "code",
      "source": [
        "# Setting the number of iterations\n",
        "n_iterations = 200\n",
        "# Pre-allocating the array where the differences of the 17 features in the 200 models will be appended\n",
        "differences = []\n",
        "\n",
        "for i in range(n_iterations):\n",
        "    input_variables_trim = resample(input_variables_trim, replace=True, n_samples=216) # Scramble the data\n",
        "    input_variables_trim = scaler.fit_transform(input_variables_trim) # Run the scaler on every iteration\n",
        "    face_means = pd.DataFrame(input_variables_trim[output_variable == 1])\n",
        "    house_means = pd.DataFrame(input_variables_trim[output_variable == 0])\n",
        "    face_means = face_means.mean(axis=0)\n",
        "    house_means = house_means.mean(axis=0)\n",
        "    sub = face_means - house_means   \n",
        "    differences.append(sub) # Store the differences in the \"differences\" array\n",
        "    \n",
        "differences = np.array(differences)\n",
        "\n",
        "print(differences.shape)\n",
        "print(differences[5])\n",
        "print(differences[55])"
      ],
      "metadata": {
        "colab": {
          "base_uri": "https://localhost:8080/"
        },
        "id": "txBL_YFqUNTo",
        "outputId": "15a8958f-9737-4c8d-ce17-598adcd94106"
      },
      "execution_count": null,
      "outputs": [
        {
          "output_type": "stream",
          "name": "stdout",
          "text": [
            "(200, 17)\n",
            "[ 0.13252473  0.11196524  0.10737114  0.10858215  0.1060061   0.11274682\n",
            "  0.15090537  0.17619309  0.17279893  0.13621892  0.11813287  0.12133473\n",
            "  0.1212146   0.09811439  0.0989452  -0.06468579 -0.05026523]\n",
            "[-0.03230636 -0.04429865 -0.04351338 -0.03975179 -0.03891551 -0.04030026\n",
            " -0.00082624 -0.00028844  0.03221985  0.06096209 -0.00038623 -0.0197193\n",
            " -0.01292908 -0.00904719 -0.01725051  0.03479417  0.0722026 ]\n"
          ]
        }
      ]
    },
    {
      "cell_type": "markdown",
      "source": [
        "The result is a numpy array containing 200 bootrsap samples (rows), where every column reflects the difference between the mean value for females minus the mean value for males within that column. We are now ready to plot the percentiles: "
      ],
      "metadata": {
        "id": "vgpVWicXVj7z"
      }
    },
    {
      "cell_type": "code",
      "source": [
        "percentiles_5 = np.percentile(differences,5,0)\n",
        "percentiles_95 = np.percentile(differences,95,0)"
      ],
      "metadata": {
        "id": "ff6dxe8xVlla"
      },
      "execution_count": null,
      "outputs": []
    },
    {
      "cell_type": "code",
      "source": [
        "x = list(range(1, 18))\n",
        "plt.scatter(x,percentiles_5)\n",
        "plt.scatter(x,percentiles_95)\n",
        "plt.legend(labels=(\"5th percentile scores\", \"95th percentile scores\"))\n",
        "plt.gca().set(\n",
        "    title=\"5th and 95th percentile values for each 'FEM-MALE' mean difference across features\",\n",
        "    xlabel=\"Model features\",\n",
        "    ylabel=\"Dispersion\",\n",
        "    xticks = list(range(1, 18))\n",
        ")\n",
        "plt.show()"
      ],
      "metadata": {
        "colab": {
          "base_uri": "https://localhost:8080/",
          "height": 295
        },
        "id": "o5mtiOMLVonD",
        "outputId": "3dd115bf-e932-4dc1-c95e-8421b8611734"
      },
      "execution_count": null,
      "outputs": [
        {
          "output_type": "display_data",
          "data": {
            "text/plain": [
              "<Figure size 432x288 with 1 Axes>"
            ],
            "image/png": "[encoded data removed]"
          },
          "metadata": {
            "needs_background": "light"
          }
        }
      ]
    },
    {
      "cell_type": "markdown",
      "source": [
        "8. analogous to task 3 but using sklearn.linear_model.Ridge(default hyperparameters) and using the coefficient of determination (the default .score() metric for Ridge) instead of accuracy.\n",
        "\n",
        "Define the training dataset as the first 80 of the 100 subjects, then raw 200 bootstrap samples of this training dataset. On each of the 200 bootstrap samples, train a ridge regression model sklearn.linear_model.Ridge(hyperparameter set to 1.0) to distinguish faces versus houses . Then, building on those 200 fitted models, improve the prediction performance on the remaining subjects as testing data (unseen 20% of the 100 subjects) by majority vote (i.e., select the most common class) across the 200 bootstrapped logistic regression models. Report the  default .score() metric for Ridge instead of accuracy."
      ],
      "metadata": {
        "id": "1Oqu16L6WEK8"
      }
    },
    {
      "cell_type": "code",
      "execution_count": null,
      "metadata": {
        "colab": {
          "base_uri": "https://localhost:8080/",
          "height": 460
        },
        "outputId": "623fa3f9-375d-410c-9483-ea6822673885",
        "id": "nTNyevYzYRMK"
      },
      "outputs": [
        {
          "output_type": "stream",
          "name": "stderr",
          "text": [
            "/usr/local/lib/python3.7/dist-packages/ipykernel_launcher.py:12: DeprecationWarning: get_data() is deprecated in favor of get_fdata(), which has a more predictable return type. To obtain get_data() behavior going forward, use numpy.asanyarray(img.dataobj).\n",
            "\n",
            "* deprecated from version: 3.0\n",
            "* Will raise <class 'nibabel.deprecator.ExpiredDeprecationError'> as of version: 5.0\n",
            "  if sys.path[0] == '':\n"
          ]
        },
        {
          "output_type": "stream",
          "name": "stdout",
          "text": [
            "The only relevant horizontal brain slice has 739 voxels.\n"
          ]
        },
        {
          "output_type": "stream",
          "name": "stderr",
          "text": [
            "/usr/local/lib/python3.7/dist-packages/ipykernel_launcher.py:45: DeprecationWarning: get_data() is deprecated in favor of get_fdata(), which has a more predictable return type. To obtain get_data() behavior going forward, use numpy.asanyarray(img.dataobj).\n",
            "\n",
            "* deprecated from version: 3.0\n",
            "* Will raise <class 'nibabel.deprecator.ExpiredDeprecationError'> as of version: 5.0\n"
          ]
        },
        {
          "output_type": "stream",
          "name": "stdout",
          "text": [
            "The only relevant horizontal brain slice has 739 voxels.\n"
          ]
        },
        {
          "output_type": "stream",
          "name": "stderr",
          "text": [
            "/usr/local/lib/python3.7/dist-packages/nilearn/plotting/displays/_slicers.py:1333: MatplotlibDeprecationWarning: Adding an axes using the same arguments as a previous axes currently reuses the earlier instance.  In a future version, a new instance will always be created and returned.  Meanwhile, this warning can be suppressed, and the future behavior ensured, by passing a unique label to each axes instance.\n",
            "  fraction * (x1 - x0), y1 - y0])\n"
          ]
        },
        {
          "output_type": "execute_result",
          "data": {
            "text/plain": [
              "<nilearn.plotting.displays._slicers.ZSlicer at 0x7fb651630790>"
            ]
          },
          "metadata": {},
          "execution_count": 401
        },
        {
          "output_type": "display_data",
          "data": {
            "text/plain": [
              "<Figure size 208.8x165.6 with 2 Axes>"
            ],
            "image/png": "[encoded data removed]"
          },
          "metadata": {}
        }
      ],
      "source": [
        "from nilearn import datasets\n",
        "import numpy as np\n",
        "import pandas as pd\n",
        "import nibabel as nib\n",
        "from nilearn.image import new_img_like\n",
        "from nilearn.plotting import plot_stat_map\n",
        "from matplotlib import pylab as plt\n",
        "\n",
        "haxby_dataset = datasets.fetch_haxby(subjects=1)\n",
        "mask_filename = haxby_dataset.mask\n",
        "mask_img = nib.load(mask_filename)\n",
        "process_mask = mask_img.get_data()\n",
        "picked_slice = 29\n",
        "process_mask[..., (picked_slice + 1):] = 0\n",
        "process_mask[..., :picked_slice] = 0\n",
        "process_mask[:, 30:] = 0 # zero out anterior “half” of the brain\n",
        "process_mask_img = new_img_like(mask_img, process_mask)\n",
        "\n",
        "from nilearn.input_data import NiftiMasker\n",
        "nifti_masker = NiftiMasker(smoothing_fwhm=8,\n",
        "mask_img=process_mask_img)\n",
        "func_filename = haxby_dataset.func[0]\n",
        "fmri_masked = nifti_masker.fit_transform(func_filename)\n",
        "labels = pd.read_csv(haxby_dataset.session_target[0], sep=\" \")\n",
        "conditions = labels['labels']\n",
        "condition_mask = conditions.isin(['face', 'house'])\n",
        "fmri_masked = fmri_masked[condition_mask]\n",
        "output_variable = np.array(conditions[condition_mask] == 'face',\n",
        "dtype=int)\n",
        "\n",
        "print('The only relevant horizontal brain slice has %i voxels.' %\n",
        "process_mask[..., picked_slice].sum())\n",
        "\n",
        "from nilearn import datasets\n",
        "import numpy as np\n",
        "import pandas as pd\n",
        "import nibabel as nib\n",
        "from nilearn.image import new_img_like\n",
        "from nilearn.plotting import plot_stat_map\n",
        "from matplotlib import pylab as plt\n",
        "\n",
        "haxby_dataset = datasets.fetch_haxby(subjects=1)\n",
        "mask_filename = haxby_dataset.mask\n",
        "mask_img = nib.load(mask_filename)\n",
        "process_mask = mask_img.get_data()\n",
        "picked_slice = 29\n",
        "process_mask[..., (picked_slice + 1):] = 0\n",
        "process_mask[..., :picked_slice] = 0\n",
        "process_mask[:, 30:] = 0 # zero out anterior “half” of the brain\n",
        "process_mask_img = new_img_like(mask_img, process_mask)\n",
        "\n",
        "from nilearn.input_data import NiftiMasker\n",
        "nifti_masker = NiftiMasker(smoothing_fwhm=8,\n",
        "mask_img=process_mask_img)\n",
        "func_filename = haxby_dataset.func[0]\n",
        "fmri_masked = nifti_masker.fit_transform(func_filename)\n",
        "labels = pd.read_csv(haxby_dataset.session_target[0], sep=\" \")\n",
        "conditions = labels['labels']\n",
        "condition_mask = conditions.isin(['face', 'house'])\n",
        "fmri_masked = fmri_masked[condition_mask]\n",
        "output_variable = np.array(conditions[condition_mask] == 'face',\n",
        "dtype=int)\n",
        "\n",
        "print('The only relevant horizontal brain slice has %i voxels.' %\n",
        "process_mask[..., picked_slice].sum())\n",
        "\n",
        "#plot that slice to get an impression of where the input variables are in the brain \n",
        "plot_stat_map(process_mask_img, cut_coords=[-9],\n",
        "display_mode=\"z\", cmap=plt.cm.RdBu_r)"
      ]
    },
    {
      "cell_type": "code",
      "source": [
        "input_variables = fmri_masked\n",
        "input_variables_trim = input_variables[:,0:17] # We will trim the input_data because we don't want to compute differences across all features. Just the first 17.\n",
        "input_variables_trim.shape"
      ],
      "metadata": {
        "colab": {
          "base_uri": "https://localhost:8080/"
        },
        "id": "R-rPQysAaAaI",
        "outputId": "f6cf69fe-6e5c-49f9-cf26-757a9704b632"
      },
      "execution_count": null,
      "outputs": [
        {
          "output_type": "execute_result",
          "data": {
            "text/plain": [
              "(216, 17)"
            ]
          },
          "metadata": {},
          "execution_count": 402
        }
      ]
    },
    {
      "cell_type": "code",
      "source": [
        "import scipy\n",
        "from numpy import mean\n",
        "from numpy import std\n",
        "from sklearn.linear_model import LinearRegression\n",
        "from sklearn.utils import resample\n",
        "\n",
        "from sklearn.preprocessing import StandardScaler\n",
        "scaler = StandardScaler()"
      ],
      "metadata": {
        "id": "gwjjxxeKYSU2"
      },
      "execution_count": null,
      "outputs": []
    },
    {
      "cell_type": "code",
      "source": [
        "from sklearn.model_selection import train_test_split\n",
        "X, y = input_variables_trim, output_variable\n",
        "X_train, X_test, y_train, y_test = train_test_split(X, y, test_size=0.2, shuffle=False)\n",
        "\n",
        "# Pre-allocating the array where the coefficients of the 200 models will be appended\n",
        "predictions = []\n",
        "# Setting the number of iterations\n",
        "n_iterations = 200\n",
        "\n",
        "for i in range(n_iterations):\n",
        "    X_train = resample(X_train, replace=True, n_samples=172) # X_train is the given bootstrap sample in the current iteration\n",
        "    X_train = scaler.fit_transform(X_train) # Here we run the scaler on every iteration\n",
        "    LR_boot = Ridge().fit(X_train,y_train) # We fit the LR model to the current bootstrap sample  coefficients.append(LR_boot.coef_) # Store the coefficients in the \"coefficients\" array\n",
        "    score = LR_boot.score(X_train, y_train) # We will also export the score for each bootstrap model (...)\n",
        "    print('Coefficient of determination: training: %.3f' % ((score))) # (...) and we will print it to make sure every model is different\n",
        "    X_test = scaler.fit_transform(X_test)\n",
        "    yhat = LR_boot.predict(X_test)\n",
        "    scores = LR_boot.score(X_test, y_test)\n",
        "    print('Coefficient of determination: prediction: %.3f' % ((scores)))\n",
        "    predictions.append(yhat)"
      ],
      "metadata": {
        "colab": {
          "base_uri": "https://localhost:8080/"
        },
        "id": "gXSr3UoJVtv_",
        "outputId": "5b0576f5-da5b-42be-cf7a-7e7890d35400"
      },
      "execution_count": null,
      "outputs": [
        {
          "output_type": "stream",
          "name": "stdout",
          "text": [
            "Coefficient of determination: training: 0.093\n",
            "Coefficient of determination: prediction: -0.068\n",
            "Coefficient of determination: training: 0.070\n",
            "Coefficient of determination: prediction: -0.034\n",
            "Coefficient of determination: training: 0.031\n",
            "Coefficient of determination: prediction: -0.046\n",
            "Coefficient of determination: training: 0.064\n",
            "Coefficient of determination: prediction: -0.049\n",
            "Coefficient of determination: training: 0.051\n",
            "Coefficient of determination: prediction: -0.232\n",
            "Coefficient of determination: training: 0.072\n",
            "Coefficient of determination: prediction: -0.274\n",
            "Coefficient of determination: training: 0.067\n",
            "Coefficient of determination: prediction: -0.067\n",
            "Coefficient of determination: training: 0.083\n",
            "Coefficient of determination: prediction: -0.124\n",
            "Coefficient of determination: training: 0.054\n",
            "Coefficient of determination: prediction: -0.165\n",
            "Coefficient of determination: training: 0.052\n",
            "Coefficient of determination: prediction: -0.093\n",
            "Coefficient of determination: training: 0.123\n",
            "Coefficient of determination: prediction: -0.715\n",
            "Coefficient of determination: training: 0.055\n",
            "Coefficient of determination: prediction: -0.007\n",
            "Coefficient of determination: training: 0.058\n",
            "Coefficient of determination: prediction: -0.006\n",
            "Coefficient of determination: training: 0.083\n",
            "Coefficient of determination: prediction: -0.256\n",
            "Coefficient of determination: training: 0.036\n",
            "Coefficient of determination: prediction: -0.053\n",
            "Coefficient of determination: training: 0.117\n",
            "Coefficient of determination: prediction: -0.707\n",
            "Coefficient of determination: training: 0.083\n",
            "Coefficient of determination: prediction: -0.038\n",
            "Coefficient of determination: training: 0.053\n",
            "Coefficient of determination: prediction: -0.289\n",
            "Coefficient of determination: training: 0.068\n",
            "Coefficient of determination: prediction: -0.091\n",
            "Coefficient of determination: training: 0.061\n",
            "Coefficient of determination: prediction: -0.497\n",
            "Coefficient of determination: training: 0.027\n",
            "Coefficient of determination: prediction: -0.025\n",
            "Coefficient of determination: training: 0.061\n",
            "Coefficient of determination: prediction: -0.333\n",
            "Coefficient of determination: training: 0.018\n",
            "Coefficient of determination: prediction: -0.022\n",
            "Coefficient of determination: training: 0.042\n",
            "Coefficient of determination: prediction: -0.029\n",
            "Coefficient of determination: training: 0.028\n",
            "Coefficient of determination: prediction: -0.564\n",
            "Coefficient of determination: training: 0.029\n",
            "Coefficient of determination: prediction: -0.009\n",
            "Coefficient of determination: training: 0.004\n",
            "Coefficient of determination: prediction: -0.068\n",
            "Coefficient of determination: training: 0.034\n",
            "Coefficient of determination: prediction: -0.036\n",
            "Coefficient of determination: training: 0.045\n",
            "Coefficient of determination: prediction: -0.043\n",
            "Coefficient of determination: training: 0.025\n",
            "Coefficient of determination: prediction: -0.151\n",
            "Coefficient of determination: training: 0.042\n",
            "Coefficient of determination: prediction: -0.325\n",
            "Coefficient of determination: training: 0.036\n",
            "Coefficient of determination: prediction: -0.257\n",
            "Coefficient of determination: training: 0.008\n",
            "Coefficient of determination: prediction: -0.075\n",
            "Coefficient of determination: training: 0.029\n",
            "Coefficient of determination: prediction: -0.042\n",
            "Coefficient of determination: training: 0.038\n",
            "Coefficient of determination: prediction: -0.070\n",
            "Coefficient of determination: training: 0.044\n",
            "Coefficient of determination: prediction: -0.092\n",
            "Coefficient of determination: training: 0.026\n",
            "Coefficient of determination: prediction: -0.086\n",
            "Coefficient of determination: training: 0.018\n",
            "Coefficient of determination: prediction: -0.132\n",
            "Coefficient of determination: training: 0.029\n",
            "Coefficient of determination: prediction: -0.036\n",
            "Coefficient of determination: training: 0.034\n",
            "Coefficient of determination: prediction: -0.076\n",
            "Coefficient of determination: training: 0.025\n",
            "Coefficient of determination: prediction: -0.094\n",
            "Coefficient of determination: training: 0.021\n",
            "Coefficient of determination: prediction: -0.029\n",
            "Coefficient of determination: training: 0.037\n",
            "Coefficient of determination: prediction: -0.075\n",
            "Coefficient of determination: training: 0.014\n",
            "Coefficient of determination: prediction: -0.166\n",
            "Coefficient of determination: training: 0.014\n",
            "Coefficient of determination: prediction: -0.064\n",
            "Coefficient of determination: training: 0.020\n",
            "Coefficient of determination: prediction: -0.224\n",
            "Coefficient of determination: training: 0.005\n",
            "Coefficient of determination: prediction: -0.030\n",
            "Coefficient of determination: training: 0.003\n",
            "Coefficient of determination: prediction: -0.041\n",
            "Coefficient of determination: training: 0.010\n",
            "Coefficient of determination: prediction: -0.040\n",
            "Coefficient of determination: training: 0.072\n",
            "Coefficient of determination: prediction: -0.113\n",
            "Coefficient of determination: training: 0.011\n",
            "Coefficient of determination: prediction: -0.263\n",
            "Coefficient of determination: training: 0.004\n",
            "Coefficient of determination: prediction: -0.211\n",
            "Coefficient of determination: training: 0.004\n",
            "Coefficient of determination: prediction: -0.063\n",
            "Coefficient of determination: training: 0.027\n",
            "Coefficient of determination: prediction: -0.077\n",
            "Coefficient of determination: training: 0.005\n",
            "Coefficient of determination: prediction: -0.223\n",
            "Coefficient of determination: training: 0.006\n",
            "Coefficient of determination: prediction: -0.056\n",
            "Coefficient of determination: training: 0.005\n",
            "Coefficient of determination: prediction: -0.076\n",
            "Coefficient of determination: training: 0.008\n",
            "Coefficient of determination: prediction: -0.200\n",
            "Coefficient of determination: training: 0.012\n",
            "Coefficient of determination: prediction: -0.066\n",
            "Coefficient of determination: training: 0.026\n",
            "Coefficient of determination: prediction: -0.018\n",
            "Coefficient of determination: training: 0.007\n",
            "Coefficient of determination: prediction: -0.055\n",
            "Coefficient of determination: training: 0.004\n",
            "Coefficient of determination: prediction: -0.088\n",
            "Coefficient of determination: training: 0.010\n",
            "Coefficient of determination: prediction: -0.025\n",
            "Coefficient of determination: training: 0.001\n",
            "Coefficient of determination: prediction: -0.043\n",
            "Coefficient of determination: training: 0.009\n",
            "Coefficient of determination: prediction: -0.092\n",
            "Coefficient of determination: training: 0.002\n",
            "Coefficient of determination: prediction: -0.059\n",
            "Coefficient of determination: training: 0.009\n",
            "Coefficient of determination: prediction: -0.031\n",
            "Coefficient of determination: training: 0.008\n",
            "Coefficient of determination: prediction: -0.058\n",
            "Coefficient of determination: training: 0.004\n",
            "Coefficient of determination: prediction: -0.033\n",
            "Coefficient of determination: training: 0.007\n",
            "Coefficient of determination: prediction: -0.058\n",
            "Coefficient of determination: training: 0.011\n",
            "Coefficient of determination: prediction: -0.096\n",
            "Coefficient of determination: training: 0.006\n",
            "Coefficient of determination: prediction: -0.066\n",
            "Coefficient of determination: training: 0.004\n",
            "Coefficient of determination: prediction: -0.036\n",
            "Coefficient of determination: training: 0.011\n",
            "Coefficient of determination: prediction: -0.065\n",
            "Coefficient of determination: training: 0.010\n",
            "Coefficient of determination: prediction: -0.094\n",
            "Coefficient of determination: training: 0.006\n",
            "Coefficient of determination: prediction: -0.037\n",
            "Coefficient of determination: training: 0.006\n",
            "Coefficient of determination: prediction: -0.056\n",
            "Coefficient of determination: training: 0.023\n",
            "Coefficient of determination: prediction: -0.146\n",
            "Coefficient of determination: training: 0.011\n",
            "Coefficient of determination: prediction: -0.040\n",
            "Coefficient of determination: training: 0.002\n",
            "Coefficient of determination: prediction: -0.053\n",
            "Coefficient of determination: training: 0.023\n",
            "Coefficient of determination: prediction: -0.034\n",
            "Coefficient of determination: training: 0.010\n",
            "Coefficient of determination: prediction: -0.044\n",
            "Coefficient of determination: training: 0.006\n",
            "Coefficient of determination: prediction: -0.031\n",
            "Coefficient of determination: training: 0.000\n",
            "Coefficient of determination: prediction: -0.060\n",
            "Coefficient of determination: training: 0.003\n",
            "Coefficient of determination: prediction: -0.043\n",
            "Coefficient of determination: training: 0.029\n",
            "Coefficient of determination: prediction: -0.125\n",
            "Coefficient of determination: training: 0.001\n",
            "Coefficient of determination: prediction: -0.048\n",
            "Coefficient of determination: training: 0.001\n",
            "Coefficient of determination: prediction: -0.054\n",
            "Coefficient of determination: training: 0.021\n",
            "Coefficient of determination: prediction: -0.018\n",
            "Coefficient of determination: training: 0.006\n",
            "Coefficient of determination: prediction: -0.032\n",
            "Coefficient of determination: training: 0.015\n",
            "Coefficient of determination: prediction: -0.090\n",
            "Coefficient of determination: training: 0.003\n",
            "Coefficient of determination: prediction: -0.036\n",
            "Coefficient of determination: training: 0.045\n",
            "Coefficient of determination: prediction: -0.017\n",
            "Coefficient of determination: training: 0.003\n",
            "Coefficient of determination: prediction: -0.065\n",
            "Coefficient of determination: training: 0.006\n",
            "Coefficient of determination: prediction: -0.044\n",
            "Coefficient of determination: training: 0.003\n",
            "Coefficient of determination: prediction: -0.037\n",
            "Coefficient of determination: training: 0.003\n",
            "Coefficient of determination: prediction: -0.034\n",
            "Coefficient of determination: training: 0.003\n",
            "Coefficient of determination: prediction: -0.066\n",
            "Coefficient of determination: training: 0.004\n",
            "Coefficient of determination: prediction: -0.079\n",
            "Coefficient of determination: training: 0.002\n",
            "Coefficient of determination: prediction: -0.062\n",
            "Coefficient of determination: training: 0.001\n",
            "Coefficient of determination: prediction: -0.041\n",
            "Coefficient of determination: training: 0.001\n",
            "Coefficient of determination: prediction: -0.045\n",
            "Coefficient of determination: training: 0.019\n",
            "Coefficient of determination: prediction: -0.025\n",
            "Coefficient of determination: training: 0.018\n",
            "Coefficient of determination: prediction: -0.071\n",
            "Coefficient of determination: training: 0.004\n",
            "Coefficient of determination: prediction: -0.037\n",
            "Coefficient of determination: training: 0.008\n",
            "Coefficient of determination: prediction: -0.083\n",
            "Coefficient of determination: training: 0.006\n",
            "Coefficient of determination: prediction: -0.034\n",
            "Coefficient of determination: training: 0.018\n",
            "Coefficient of determination: prediction: -0.019\n",
            "Coefficient of determination: training: 0.056\n",
            "Coefficient of determination: prediction: -0.173\n",
            "Coefficient of determination: training: 0.011\n",
            "Coefficient of determination: prediction: -0.046\n",
            "Coefficient of determination: training: 0.021\n",
            "Coefficient of determination: prediction: -0.148\n",
            "Coefficient of determination: training: 0.028\n",
            "Coefficient of determination: prediction: -0.110\n",
            "Coefficient of determination: training: 0.012\n",
            "Coefficient of determination: prediction: -0.051\n",
            "Coefficient of determination: training: 0.009\n",
            "Coefficient of determination: prediction: -0.024\n",
            "Coefficient of determination: training: 0.007\n",
            "Coefficient of determination: prediction: -0.050\n",
            "Coefficient of determination: training: 0.000\n",
            "Coefficient of determination: prediction: -0.050\n",
            "Coefficient of determination: training: 0.002\n",
            "Coefficient of determination: prediction: -0.042\n",
            "Coefficient of determination: training: 0.016\n",
            "Coefficient of determination: prediction: -0.073\n",
            "Coefficient of determination: training: 0.012\n",
            "Coefficient of determination: prediction: -0.044\n",
            "Coefficient of determination: training: 0.013\n",
            "Coefficient of determination: prediction: -0.132\n",
            "Coefficient of determination: training: 0.013\n",
            "Coefficient of determination: prediction: -0.108\n",
            "Coefficient of determination: training: 0.005\n",
            "Coefficient of determination: prediction: -0.080\n",
            "Coefficient of determination: training: 0.003\n",
            "Coefficient of determination: prediction: -0.039\n",
            "Coefficient of determination: training: 0.021\n",
            "Coefficient of determination: prediction: -0.113\n",
            "Coefficient of determination: training: 0.015\n",
            "Coefficient of determination: prediction: -0.024\n",
            "Coefficient of determination: training: 0.001\n",
            "Coefficient of determination: prediction: -0.045\n",
            "Coefficient of determination: training: 0.020\n",
            "Coefficient of determination: prediction: -0.112\n",
            "Coefficient of determination: training: 0.007\n",
            "Coefficient of determination: prediction: -0.085\n",
            "Coefficient of determination: training: 0.004\n",
            "Coefficient of determination: prediction: -0.035\n",
            "Coefficient of determination: training: 0.007\n",
            "Coefficient of determination: prediction: -0.032\n",
            "Coefficient of determination: training: 0.001\n",
            "Coefficient of determination: prediction: -0.043\n",
            "Coefficient of determination: training: 0.000\n",
            "Coefficient of determination: prediction: -0.048\n",
            "Coefficient of determination: training: 0.000\n",
            "Coefficient of determination: prediction: -0.060\n",
            "Coefficient of determination: training: 0.005\n",
            "Coefficient of determination: prediction: -0.034\n",
            "Coefficient of determination: training: 0.023\n",
            "Coefficient of determination: prediction: -0.117\n",
            "Coefficient of determination: training: 0.001\n",
            "Coefficient of determination: prediction: -0.063\n",
            "Coefficient of determination: training: 0.007\n",
            "Coefficient of determination: prediction: -0.086\n",
            "Coefficient of determination: training: 0.013\n",
            "Coefficient of determination: prediction: -0.100\n",
            "Coefficient of determination: training: 0.015\n",
            "Coefficient of determination: prediction: -0.103\n",
            "Coefficient of determination: training: 0.003\n",
            "Coefficient of determination: prediction: -0.039\n",
            "Coefficient of determination: training: 0.001\n",
            "Coefficient of determination: prediction: -0.046\n",
            "Coefficient of determination: training: 0.000\n",
            "Coefficient of determination: prediction: -0.049\n",
            "Coefficient of determination: training: 0.000\n",
            "Coefficient of determination: prediction: -0.050\n",
            "Coefficient of determination: training: 0.000\n",
            "Coefficient of determination: prediction: -0.055\n",
            "Coefficient of determination: training: 0.000\n",
            "Coefficient of determination: prediction: -0.051\n",
            "Coefficient of determination: training: 0.007\n",
            "Coefficient of determination: prediction: -0.032\n",
            "Coefficient of determination: training: 0.044\n",
            "Coefficient of determination: prediction: -0.014\n",
            "Coefficient of determination: training: 0.000\n",
            "Coefficient of determination: prediction: -0.047\n",
            "Coefficient of determination: training: 0.001\n",
            "Coefficient of determination: prediction: -0.046\n",
            "Coefficient of determination: training: 0.001\n",
            "Coefficient of determination: prediction: -0.045\n",
            "Coefficient of determination: training: 0.000\n",
            "Coefficient of determination: prediction: -0.061\n",
            "Coefficient of determination: training: 0.004\n",
            "Coefficient of determination: prediction: -0.076\n",
            "Coefficient of determination: training: 0.002\n",
            "Coefficient of determination: prediction: -0.040\n",
            "Coefficient of determination: training: 0.038\n",
            "Coefficient of determination: prediction: -0.015\n",
            "Coefficient of determination: training: 0.001\n",
            "Coefficient of determination: prediction: -0.062\n",
            "Coefficient of determination: training: 0.001\n",
            "Coefficient of determination: prediction: -0.063\n",
            "Coefficient of determination: training: 0.000\n",
            "Coefficient of determination: prediction: -0.052\n",
            "Coefficient of determination: training: 0.001\n",
            "Coefficient of determination: prediction: -0.043\n",
            "Coefficient of determination: training: 0.015\n",
            "Coefficient of determination: prediction: -0.103\n",
            "Coefficient of determination: training: 0.000\n",
            "Coefficient of determination: prediction: -0.047\n",
            "Coefficient of determination: training: 0.003\n",
            "Coefficient of determination: prediction: -0.072\n",
            "Coefficient of determination: training: 0.000\n",
            "Coefficient of determination: prediction: -0.049\n",
            "Coefficient of determination: training: 0.000\n",
            "Coefficient of determination: prediction: -0.049\n",
            "Coefficient of determination: training: 0.000\n",
            "Coefficient of determination: prediction: -0.058\n",
            "Coefficient of determination: training: 0.003\n",
            "Coefficient of determination: prediction: -0.038\n",
            "Coefficient of determination: training: 0.010\n",
            "Coefficient of determination: prediction: -0.028\n",
            "Coefficient of determination: training: 0.001\n",
            "Coefficient of determination: prediction: -0.067\n",
            "Coefficient of determination: training: 0.006\n",
            "Coefficient of determination: prediction: -0.032\n",
            "Coefficient of determination: training: 0.003\n",
            "Coefficient of determination: prediction: -0.038\n",
            "Coefficient of determination: training: 0.005\n",
            "Coefficient of determination: prediction: -0.080\n",
            "Coefficient of determination: training: 0.000\n",
            "Coefficient of determination: prediction: -0.061\n",
            "Coefficient of determination: training: 0.026\n",
            "Coefficient of determination: prediction: -0.019\n",
            "Coefficient of determination: training: 0.003\n",
            "Coefficient of determination: prediction: -0.039\n",
            "Coefficient of determination: training: 0.001\n",
            "Coefficient of determination: prediction: -0.067\n",
            "Coefficient of determination: training: 0.011\n",
            "Coefficient of determination: prediction: -0.094\n",
            "Coefficient of determination: training: 0.000\n",
            "Coefficient of determination: prediction: -0.052\n",
            "Coefficient of determination: training: 0.005\n",
            "Coefficient of determination: prediction: -0.081\n",
            "Coefficient of determination: training: 0.006\n",
            "Coefficient of determination: prediction: -0.032\n",
            "Coefficient of determination: training: -0.000\n",
            "Coefficient of determination: prediction: -0.054\n",
            "Coefficient of determination: training: -0.000\n",
            "Coefficient of determination: prediction: -0.054\n",
            "Coefficient of determination: training: -0.000\n",
            "Coefficient of determination: prediction: -0.054\n",
            "Coefficient of determination: training: -0.000\n",
            "Coefficient of determination: prediction: -0.054\n",
            "Coefficient of determination: training: -0.000\n",
            "Coefficient of determination: prediction: -0.054\n",
            "Coefficient of determination: training: -0.000\n",
            "Coefficient of determination: prediction: -0.054\n",
            "Coefficient of determination: training: -0.000\n",
            "Coefficient of determination: prediction: -0.054\n",
            "Coefficient of determination: training: -0.000\n",
            "Coefficient of determination: prediction: -0.054\n",
            "Coefficient of determination: training: -0.000\n",
            "Coefficient of determination: prediction: -0.054\n",
            "Coefficient of determination: training: -0.000\n",
            "Coefficient of determination: prediction: -0.054\n",
            "Coefficient of determination: training: -0.000\n",
            "Coefficient of determination: prediction: -0.054\n",
            "Coefficient of determination: training: -0.000\n",
            "Coefficient of determination: prediction: -0.054\n",
            "Coefficient of determination: training: -0.000\n",
            "Coefficient of determination: prediction: -0.054\n",
            "Coefficient of determination: training: -0.000\n",
            "Coefficient of determination: prediction: -0.054\n",
            "Coefficient of determination: training: -0.000\n",
            "Coefficient of determination: prediction: -0.054\n",
            "Coefficient of determination: training: -0.000\n",
            "Coefficient of determination: prediction: -0.054\n",
            "Coefficient of determination: training: -0.000\n",
            "Coefficient of determination: prediction: -0.054\n",
            "Coefficient of determination: training: -0.000\n",
            "Coefficient of determination: prediction: -0.054\n",
            "Coefficient of determination: training: -0.000\n",
            "Coefficient of determination: prediction: -0.054\n",
            "Coefficient of determination: training: -0.000\n",
            "Coefficient of determination: prediction: -0.054\n",
            "Coefficient of determination: training: -0.000\n",
            "Coefficient of determination: prediction: -0.054\n",
            "Coefficient of determination: training: -0.000\n",
            "Coefficient of determination: prediction: -0.054\n"
          ]
        }
      ]
    },
    {
      "cell_type": "markdown",
      "source": [
        "Model accuracies, given by the coefficient of determination, are quite bad because they're hovering around 0, but at least they're within the theoretical range of -1 to 1. This could be due to the fact that we're using a regressor for classification purposes."
      ],
      "metadata": {
        "id": "PLcMDGraf1ME"
      }
    },
    {
      "cell_type": "code",
      "source": [
        "predictions = pd.DataFrame(predictions)\n",
        "majority_vote = predictions.mode()\n",
        "majority_vote = np.array(majority_vote)"
      ],
      "metadata": {
        "id": "MgAH6zVEavrv"
      },
      "execution_count": null,
      "outputs": []
    },
    {
      "cell_type": "code",
      "source": [
        "y_test = np.array(y_test)\n",
        "u = ((y_test - majority_vote)** 2).sum()\n",
        "v = ((y_test - majority_vote.mean()) ** 2).sum()\n",
        "R2 = (1-(u/v))"
      ],
      "metadata": {
        "id": "9_f38Xb3cPnf"
      },
      "execution_count": null,
      "outputs": []
    },
    {
      "cell_type": "code",
      "source": [
        "# We print the total coefficient of determination\n",
        "print('Overall coefficient of determination: %.3f' % ((R2)))"
      ],
      "metadata": {
        "colab": {
          "base_uri": "https://localhost:8080/"
        },
        "id": "fJ6fn__2c9Na",
        "outputId": "c4c42cb0-7b71-49ba-a8b2-2d6da459fb97"
      },
      "execution_count": null,
      "outputs": [
        {
          "output_type": "stream",
          "name": "stdout",
          "text": [
            "Overall coefficient of determination: 0.000\n"
          ]
        }
      ]
    },
    {
      "cell_type": "markdown",
      "source": [
        "Model accuracy, given by the coefficient of determination, is essentially 0, which is very bad. This might be due to the fact that Ridge regression is not the right algorithm for classification of discrete variables (face vs house)."
      ],
      "metadata": {
        "id": "QeeaUfXhfZA5"
      }
    },
    {
      "cell_type": "markdown",
      "source": [
        "9. analogous to task 4 but using sklearn.linear_model.Ridge(default hyperparameters) and using the coefficient of determination instead of accuracy.\n",
        "\n",
        "Define the training dataset as the same 80% of the 100 subjects as in Q8, draw 200 bootstrap samples from this dataset, then train a Ridge regression model sklearn.linear_model.Ridge (default hyperparameters) to distinguish faces vs houses. Average (np.mean) the 200 different sets of model parameters (.coef_) across the 200 fitted models to better identify the model parameters and plot them on a bar plot (x-axis is the 17 input variable, y axis is the single mean-averaged parameter value across the bootstrap iterations). Use these averaged model parameters (coefficients) and the remaining 20% of the 100 subjects as test data in a single logistic regression model to predict male versus female participants using this new predictive model. Report the classification performance using the coefficient of determination instead of accuracy."
      ],
      "metadata": {
        "id": "eIiQNiDUgMQz"
      }
    },
    {
      "cell_type": "code",
      "execution_count": null,
      "metadata": {
        "colab": {
          "base_uri": "https://localhost:8080/",
          "height": 460
        },
        "outputId": "8c7fc29d-65c3-490e-fd29-1b48d0b224dc",
        "id": "rtjwGsfqgrOV"
      },
      "outputs": [
        {
          "output_type": "stream",
          "name": "stderr",
          "text": [
            "/usr/local/lib/python3.7/dist-packages/ipykernel_launcher.py:12: DeprecationWarning: get_data() is deprecated in favor of get_fdata(), which has a more predictable return type. To obtain get_data() behavior going forward, use numpy.asanyarray(img.dataobj).\n",
            "\n",
            "* deprecated from version: 3.0\n",
            "* Will raise <class 'nibabel.deprecator.ExpiredDeprecationError'> as of version: 5.0\n",
            "  if sys.path[0] == '':\n"
          ]
        },
        {
          "output_type": "stream",
          "name": "stdout",
          "text": [
            "The only relevant horizontal brain slice has 739 voxels.\n"
          ]
        },
        {
          "output_type": "stream",
          "name": "stderr",
          "text": [
            "/usr/local/lib/python3.7/dist-packages/ipykernel_launcher.py:45: DeprecationWarning: get_data() is deprecated in favor of get_fdata(), which has a more predictable return type. To obtain get_data() behavior going forward, use numpy.asanyarray(img.dataobj).\n",
            "\n",
            "* deprecated from version: 3.0\n",
            "* Will raise <class 'nibabel.deprecator.ExpiredDeprecationError'> as of version: 5.0\n"
          ]
        },
        {
          "output_type": "stream",
          "name": "stdout",
          "text": [
            "The only relevant horizontal brain slice has 739 voxels.\n"
          ]
        },
        {
          "output_type": "stream",
          "name": "stderr",
          "text": [
            "/usr/local/lib/python3.7/dist-packages/nilearn/plotting/displays/_slicers.py:1333: MatplotlibDeprecationWarning: Adding an axes using the same arguments as a previous axes currently reuses the earlier instance.  In a future version, a new instance will always be created and returned.  Meanwhile, this warning can be suppressed, and the future behavior ensured, by passing a unique label to each axes instance.\n",
            "  fraction * (x1 - x0), y1 - y0])\n"
          ]
        },
        {
          "output_type": "execute_result",
          "data": {
            "text/plain": [
              "<nilearn.plotting.displays._slicers.ZSlicer at 0x7fb652e3cb90>"
            ]
          },
          "metadata": {},
          "execution_count": 249
        },
        {
          "output_type": "display_data",
          "data": {
            "text/plain": [
              "<Figure size 208.8x165.6 with 2 Axes>"
            ],
            "image/png": "[encoded data removed]"
          },
          "metadata": {}
        }
      ],
      "source": [
        "from nilearn import datasets\n",
        "import numpy as np\n",
        "import pandas as pd\n",
        "import nibabel as nib\n",
        "from nilearn.image import new_img_like\n",
        "from nilearn.plotting import plot_stat_map\n",
        "from matplotlib import pylab as plt\n",
        "\n",
        "haxby_dataset = datasets.fetch_haxby(subjects=1)\n",
        "mask_filename = haxby_dataset.mask\n",
        "mask_img = nib.load(mask_filename)\n",
        "process_mask = mask_img.get_data()\n",
        "picked_slice = 29\n",
        "process_mask[..., (picked_slice + 1):] = 0\n",
        "process_mask[..., :picked_slice] = 0\n",
        "process_mask[:, 30:] = 0 # zero out anterior “half” of the brain\n",
        "process_mask_img = new_img_like(mask_img, process_mask)\n",
        "\n",
        "from nilearn.input_data import NiftiMasker\n",
        "nifti_masker = NiftiMasker(smoothing_fwhm=8,\n",
        "mask_img=process_mask_img)\n",
        "func_filename = haxby_dataset.func[0]\n",
        "fmri_masked = nifti_masker.fit_transform(func_filename)\n",
        "labels = pd.read_csv(haxby_dataset.session_target[0], sep=\" \")\n",
        "conditions = labels['labels']\n",
        "condition_mask = conditions.isin(['face', 'house'])\n",
        "fmri_masked = fmri_masked[condition_mask]\n",
        "output_variable = np.array(conditions[condition_mask] == 'face',\n",
        "dtype=int)\n",
        "\n",
        "print('The only relevant horizontal brain slice has %i voxels.' %\n",
        "process_mask[..., picked_slice].sum())\n",
        "\n",
        "from nilearn import datasets\n",
        "import numpy as np\n",
        "import pandas as pd\n",
        "import nibabel as nib\n",
        "from nilearn.image import new_img_like\n",
        "from nilearn.plotting import plot_stat_map\n",
        "from matplotlib import pylab as plt\n",
        "\n",
        "haxby_dataset = datasets.fetch_haxby(subjects=1)\n",
        "mask_filename = haxby_dataset.mask\n",
        "mask_img = nib.load(mask_filename)\n",
        "process_mask = mask_img.get_data()\n",
        "picked_slice = 29\n",
        "process_mask[..., (picked_slice + 1):] = 0\n",
        "process_mask[..., :picked_slice] = 0\n",
        "process_mask[:, 30:] = 0 # zero out anterior “half” of the brain\n",
        "process_mask_img = new_img_like(mask_img, process_mask)\n",
        "\n",
        "from nilearn.input_data import NiftiMasker\n",
        "nifti_masker = NiftiMasker(smoothing_fwhm=8,\n",
        "mask_img=process_mask_img)\n",
        "func_filename = haxby_dataset.func[0]\n",
        "fmri_masked = nifti_masker.fit_transform(func_filename)\n",
        "labels = pd.read_csv(haxby_dataset.session_target[0], sep=\" \")\n",
        "conditions = labels['labels']\n",
        "condition_mask = conditions.isin(['face', 'house'])\n",
        "fmri_masked = fmri_masked[condition_mask]\n",
        "output_variable = np.array(conditions[condition_mask] == 'face',\n",
        "dtype=int)\n",
        "\n",
        "print('The only relevant horizontal brain slice has %i voxels.' %\n",
        "process_mask[..., picked_slice].sum())\n",
        "\n",
        "#plot that slice to get an impression of where the input variables are in the brain \n",
        "plot_stat_map(process_mask_img, cut_coords=[-9],\n",
        "display_mode=\"z\", cmap=plt.cm.RdBu_r)"
      ]
    },
    {
      "cell_type": "markdown",
      "source": [],
      "metadata": {
        "id": "o06tK70WgLOE"
      }
    },
    {
      "cell_type": "code",
      "source": [
        "input_variables = fmri_masked\n",
        "input_variables_trim = input_variables[:,0:17] # We will trim the input_data because we're not going to compute coefficients for all features. Just the first 17.\n",
        "input_variables_trim.shape"
      ],
      "metadata": {
        "colab": {
          "base_uri": "https://localhost:8080/"
        },
        "id": "Et3uneQSgvMg",
        "outputId": "fc02050b-0426-4edb-f7fa-6c0326c2b308"
      },
      "execution_count": null,
      "outputs": [
        {
          "output_type": "execute_result",
          "data": {
            "text/plain": [
              "(216, 17)"
            ]
          },
          "metadata": {},
          "execution_count": 229
        }
      ]
    },
    {
      "cell_type": "code",
      "source": [
        "import scipy\n",
        "from numpy import mean\n",
        "from numpy import std\n",
        "from sklearn.linear_model import LinearRegression\n",
        "from sklearn.utils import resample\n",
        "\n",
        "from sklearn.preprocessing import StandardScaler\n",
        "scaler = StandardScaler()"
      ],
      "metadata": {
        "id": "OzHLdWNhgzi7"
      },
      "execution_count": null,
      "outputs": []
    },
    {
      "cell_type": "code",
      "source": [
        "X, y = input_variables_trim, output_variable\n",
        "X_train, X_test, y_train, y_test = train_test_split(X, y, test_size=0.2, shuffle=False)\n",
        "\n",
        "# Pre-allocating the array where the coefficients of the 200 models will be appended\n",
        "coefficients = []\n",
        "# Setting the number of iterations\n",
        "n_iterations = 200\n",
        "\n",
        "for i in range(n_iterations):\n",
        "    X_train = resample(X_train, replace=True, n_samples=172) # X_train is the given bootstrap sample in the current iteration\n",
        "    X_train = scaler.fit_transform(X_train) # Here we run the scaler on every iteration\n",
        "    LR_boot = Ridge().fit(X_train,y_train) # We fit the LR model to the current bootstrap sample  coefficients.append(LR_boot.coef_) # Store the coefficients in the \"coefficients\" array\n",
        "    coefficients.append(LR_boot.coef_)\n",
        "    score = LR_boot.score(X_train, y_train) # We will also export the score for each bootstrap model (...)\n",
        "    print('Coefficient of determination training: %.3f' % ((score))) # (...) and we will print it to make sure every model is different"
      ],
      "metadata": {
        "colab": {
          "base_uri": "https://localhost:8080/"
        },
        "id": "ZnNdFX9Eg4pE",
        "outputId": "28711a4e-1c0e-4591-872b-0ccaa4550d09"
      },
      "execution_count": null,
      "outputs": [
        {
          "output_type": "stream",
          "name": "stdout",
          "text": [
            "Coefficient of determination training: 0.062\n",
            "Coefficient of determination training: 0.051\n",
            "Coefficient of determination training: 0.063\n",
            "Coefficient of determination training: 0.033\n",
            "Coefficient of determination training: 0.044\n",
            "Coefficient of determination training: 0.210\n",
            "Coefficient of determination training: 0.032\n",
            "Coefficient of determination training: 0.048\n",
            "Coefficient of determination training: 0.036\n",
            "Coefficient of determination training: 0.023\n",
            "Coefficient of determination training: 0.098\n",
            "Coefficient of determination training: 0.068\n",
            "Coefficient of determination training: 0.073\n",
            "Coefficient of determination training: 0.049\n",
            "Coefficient of determination training: 0.175\n",
            "Coefficient of determination training: 0.070\n",
            "Coefficient of determination training: 0.044\n",
            "Coefficient of determination training: 0.034\n",
            "Coefficient of determination training: 0.021\n",
            "Coefficient of determination training: 0.066\n",
            "Coefficient of determination training: 0.057\n",
            "Coefficient of determination training: 0.059\n",
            "Coefficient of determination training: 0.029\n",
            "Coefficient of determination training: 0.029\n",
            "Coefficient of determination training: 0.041\n",
            "Coefficient of determination training: 0.072\n",
            "Coefficient of determination training: 0.038\n",
            "Coefficient of determination training: 0.035\n",
            "Coefficient of determination training: 0.087\n",
            "Coefficient of determination training: 0.043\n",
            "Coefficient of determination training: 0.021\n",
            "Coefficient of determination training: 0.065\n",
            "Coefficient of determination training: 0.021\n",
            "Coefficient of determination training: 0.030\n",
            "Coefficient of determination training: 0.028\n",
            "Coefficient of determination training: 0.029\n",
            "Coefficient of determination training: 0.027\n",
            "Coefficient of determination training: 0.092\n",
            "Coefficient of determination training: 0.038\n",
            "Coefficient of determination training: 0.035\n",
            "Coefficient of determination training: 0.021\n",
            "Coefficient of determination training: 0.039\n",
            "Coefficient of determination training: 0.034\n",
            "Coefficient of determination training: 0.018\n",
            "Coefficient of determination training: 0.017\n",
            "Coefficient of determination training: 0.038\n",
            "Coefficient of determination training: 0.022\n",
            "Coefficient of determination training: 0.037\n",
            "Coefficient of determination training: 0.026\n",
            "Coefficient of determination training: 0.012\n",
            "Coefficient of determination training: 0.023\n",
            "Coefficient of determination training: 0.008\n",
            "Coefficient of determination training: 0.013\n",
            "Coefficient of determination training: 0.019\n",
            "Coefficient of determination training: 0.008\n",
            "Coefficient of determination training: 0.021\n",
            "Coefficient of determination training: 0.003\n",
            "Coefficient of determination training: 0.016\n",
            "Coefficient of determination training: 0.001\n",
            "Coefficient of determination training: 0.011\n",
            "Coefficient of determination training: 0.028\n",
            "Coefficient of determination training: 0.003\n",
            "Coefficient of determination training: 0.015\n",
            "Coefficient of determination training: 0.011\n",
            "Coefficient of determination training: 0.007\n",
            "Coefficient of determination training: 0.010\n",
            "Coefficient of determination training: 0.013\n",
            "Coefficient of determination training: 0.004\n",
            "Coefficient of determination training: 0.005\n",
            "Coefficient of determination training: 0.004\n",
            "Coefficient of determination training: 0.005\n",
            "Coefficient of determination training: 0.000\n",
            "Coefficient of determination training: 0.016\n",
            "Coefficient of determination training: 0.014\n",
            "Coefficient of determination training: 0.007\n",
            "Coefficient of determination training: 0.001\n",
            "Coefficient of determination training: 0.018\n",
            "Coefficient of determination training: 0.004\n",
            "Coefficient of determination training: 0.004\n",
            "Coefficient of determination training: 0.007\n",
            "Coefficient of determination training: 0.003\n",
            "Coefficient of determination training: 0.001\n",
            "Coefficient of determination training: 0.002\n",
            "Coefficient of determination training: 0.013\n",
            "Coefficient of determination training: 0.003\n",
            "Coefficient of determination training: 0.005\n",
            "Coefficient of determination training: 0.003\n",
            "Coefficient of determination training: 0.014\n",
            "Coefficient of determination training: 0.007\n",
            "Coefficient of determination training: 0.000\n",
            "Coefficient of determination training: 0.005\n",
            "Coefficient of determination training: 0.000\n",
            "Coefficient of determination training: 0.022\n",
            "Coefficient of determination training: 0.002\n",
            "Coefficient of determination training: 0.017\n",
            "Coefficient of determination training: 0.000\n",
            "Coefficient of determination training: 0.001\n",
            "Coefficient of determination training: 0.000\n",
            "Coefficient of determination training: 0.039\n",
            "Coefficient of determination training: 0.000\n",
            "Coefficient of determination training: 0.013\n",
            "Coefficient of determination training: 0.000\n",
            "Coefficient of determination training: 0.000\n",
            "Coefficient of determination training: 0.014\n",
            "Coefficient of determination training: 0.005\n",
            "Coefficient of determination training: 0.000\n",
            "Coefficient of determination training: 0.009\n",
            "Coefficient of determination training: 0.003\n",
            "Coefficient of determination training: 0.002\n",
            "Coefficient of determination training: 0.004\n",
            "Coefficient of determination training: 0.006\n",
            "Coefficient of determination training: 0.000\n",
            "Coefficient of determination training: 0.001\n",
            "Coefficient of determination training: 0.000\n",
            "Coefficient of determination training: 0.039\n",
            "Coefficient of determination training: 0.001\n",
            "Coefficient of determination training: 0.001\n",
            "Coefficient of determination training: 0.012\n",
            "Coefficient of determination training: 0.002\n",
            "Coefficient of determination training: 0.021\n",
            "Coefficient of determination training: 0.002\n",
            "Coefficient of determination training: 0.002\n",
            "Coefficient of determination training: 0.003\n",
            "Coefficient of determination training: 0.005\n",
            "Coefficient of determination training: 0.002\n",
            "Coefficient of determination training: 0.004\n",
            "Coefficient of determination training: 0.000\n",
            "Coefficient of determination training: 0.000\n",
            "Coefficient of determination training: 0.003\n",
            "Coefficient of determination training: 0.014\n",
            "Coefficient of determination training: 0.000\n",
            "Coefficient of determination training: 0.000\n",
            "Coefficient of determination training: 0.003\n",
            "Coefficient of determination training: 0.035\n",
            "Coefficient of determination training: 0.001\n",
            "Coefficient of determination training: 0.001\n",
            "Coefficient of determination training: 0.011\n",
            "Coefficient of determination training: 0.015\n",
            "Coefficient of determination training: 0.014\n",
            "Coefficient of determination training: 0.001\n",
            "Coefficient of determination training: 0.000\n",
            "Coefficient of determination training: 0.001\n",
            "Coefficient of determination training: 0.001\n",
            "Coefficient of determination training: 0.000\n",
            "Coefficient of determination training: 0.003\n",
            "Coefficient of determination training: 0.000\n",
            "Coefficient of determination training: 0.000\n",
            "Coefficient of determination training: 0.019\n",
            "Coefficient of determination training: 0.005\n",
            "Coefficient of determination training: 0.008\n",
            "Coefficient of determination training: 0.016\n",
            "Coefficient of determination training: 0.005\n",
            "Coefficient of determination training: 0.000\n",
            "Coefficient of determination training: 0.011\n",
            "Coefficient of determination training: 0.002\n",
            "Coefficient of determination training: 0.004\n",
            "Coefficient of determination training: 0.000\n",
            "Coefficient of determination training: 0.005\n",
            "Coefficient of determination training: 0.002\n",
            "Coefficient of determination training: 0.000\n",
            "Coefficient of determination training: 0.005\n",
            "Coefficient of determination training: 0.050\n",
            "Coefficient of determination training: 0.000\n",
            "Coefficient of determination training: 0.014\n",
            "Coefficient of determination training: 0.003\n",
            "Coefficient of determination training: 0.001\n",
            "Coefficient of determination training: 0.001\n",
            "Coefficient of determination training: 0.006\n",
            "Coefficient of determination training: 0.005\n",
            "Coefficient of determination training: 0.000\n",
            "Coefficient of determination training: 0.001\n",
            "Coefficient of determination training: 0.000\n",
            "Coefficient of determination training: 0.007\n",
            "Coefficient of determination training: 0.021\n",
            "Coefficient of determination training: 0.001\n",
            "Coefficient of determination training: 0.014\n",
            "Coefficient of determination training: 0.002\n",
            "Coefficient of determination training: 0.001\n",
            "Coefficient of determination training: 0.008\n",
            "Coefficient of determination training: 0.005\n",
            "Coefficient of determination training: 0.001\n",
            "Coefficient of determination training: 0.000\n",
            "Coefficient of determination training: 0.001\n",
            "Coefficient of determination training: 0.004\n",
            "Coefficient of determination training: 0.000\n",
            "Coefficient of determination training: 0.000\n",
            "Coefficient of determination training: 0.000\n",
            "Coefficient of determination training: 0.005\n",
            "Coefficient of determination training: 0.000\n",
            "Coefficient of determination training: 0.005\n",
            "Coefficient of determination training: 0.000\n",
            "Coefficient of determination training: 0.008\n",
            "Coefficient of determination training: 0.005\n",
            "Coefficient of determination training: 0.000\n",
            "Coefficient of determination training: 0.001\n",
            "Coefficient of determination training: 0.005\n",
            "Coefficient of determination training: 0.018\n",
            "Coefficient of determination training: 0.000\n",
            "Coefficient of determination training: 0.005\n",
            "Coefficient of determination training: 0.030\n"
          ]
        }
      ]
    },
    {
      "cell_type": "code",
      "source": [
        "coefficients = np.array(coefficients) # Convert the \"coefficients\" list into an np.array\n",
        "coef_mean = np.mean(coefficients, axis = 0)\n",
        "coef_mean"
      ],
      "metadata": {
        "colab": {
          "base_uri": "https://localhost:8080/"
        },
        "id": "ECYCvdCtqzgJ",
        "outputId": "9effcc10-f60a-4cee-f35b-0da4fa1e4d33"
      },
      "execution_count": null,
      "outputs": [
        {
          "output_type": "execute_result",
          "data": {
            "text/plain": [
              "array([ 0.00010558,  0.00034246, -0.00082785, -0.00164694, -0.00213851,\n",
              "        0.00390616,  0.00059033,  0.00045356,  0.00430352,  0.0054862 ,\n",
              "       -0.00238411, -0.00159786,  0.00248417,  0.00099441, -0.00264565,\n",
              "        0.00014075, -0.00857813], dtype=float32)"
            ]
          },
          "metadata": {},
          "execution_count": 251
        }
      ]
    },
    {
      "cell_type": "code",
      "source": [
        "x = list(range(1, 18))\n",
        "plt.bar(x, coef_mean)\n",
        "plt.gca().set(\n",
        "    title= \"Average model parameter values across 200 bootstrap samples\",\n",
        "    xlabel=\"Features (1-17)\",\n",
        "    ylabel=\"Mean parameter value (standardized)\",\n",
        "    xticks = list(range(1, 18)),\n",
        ")\n",
        "plt.show"
      ],
      "metadata": {
        "colab": {
          "base_uri": "https://localhost:8080/",
          "height": 312
        },
        "id": "-XMCXJeGq3t5",
        "outputId": "45caa903-95dc-4cd7-a7da-9df27f4cdf30"
      },
      "execution_count": null,
      "outputs": [
        {
          "output_type": "execute_result",
          "data": {
            "text/plain": [
              "<function matplotlib.pyplot.show(*args, **kw)>"
            ]
          },
          "metadata": {},
          "execution_count": 252
        },
        {
          "output_type": "display_data",
          "data": {
            "text/plain": [
              "<Figure size 432x288 with 1 Axes>"
            ],
            "image/png": "[encoded data removed]"
          },
          "metadata": {
            "needs_background": "light"
          }
        }
      ]
    },
    {
      "cell_type": "code",
      "source": [
        "LR_boot.coef_ = coef_mean\n",
        "yhat = LR_boot.predict(X_test)\n",
        "scores = LR_boot.score(X_test, y_test)\n",
        "print('Overall coefficient of determination: %.3f' % ((scores)))"
      ],
      "metadata": {
        "id": "PKbi8ZiIq8wF",
        "colab": {
          "base_uri": "https://localhost:8080/"
        },
        "outputId": "4fd5eee0-c496-42ee-a02a-48f69ac5662b"
      },
      "execution_count": null,
      "outputs": [
        {
          "output_type": "stream",
          "name": "stdout",
          "text": [
            "Overall coefficient of determination: -0.204\n"
          ]
        }
      ]
    },
    {
      "cell_type": "markdown",
      "source": [
        "Our overall coefficient of determination is somewhat better after averaging the coefficients from 200 bootstrap samples than when we used majority voting in the previous exercise. However, in general terms the model accuracy is still very low, most likely due to the fact that we're using an improper algorithm for classification. "
      ],
      "metadata": {
        "id": "A-MJZaSGvODC"
      }
    },
    {
      "cell_type": "markdown",
      "source": [
        "10. analogous to task 5 but using sklearn.linear_model.Ridge(default hyperparameters) and using the coefficient of determination instead of accuracy.\n",
        "\n",
        "Draw 200 bootstrap samples from all 216 subjects and fit a Ridge regression model on each bootstrap sample. Then, perform cross-validation (CV) via out-of-bag (OOB) evaluation on the remaining (roughly ⅓) unseen (unsampled) subjects in each bootstrap iteration (recall lecture slides: only ~ 2/3 of the original dataset shows up in the bootstrap samples). Plot a scatterplot of the OOB CV accuracy for each bootstrap iteration (x-axis is the 200 iterations, y-axis is the OOB accuracy of the corresponding model)."
      ],
      "metadata": {
        "id": "gnOKIz5CvvPH"
      }
    },
    {
      "cell_type": "code",
      "execution_count": null,
      "metadata": {
        "colab": {
          "base_uri": "https://localhost:8080/",
          "height": 460
        },
        "outputId": "8cdea147-9f10-4407-d8f8-e49bfe3d5c92",
        "id": "fMyX9RSGwPtb"
      },
      "outputs": [
        {
          "output_type": "stream",
          "name": "stderr",
          "text": [
            "/usr/local/lib/python3.7/dist-packages/ipykernel_launcher.py:12: DeprecationWarning: get_data() is deprecated in favor of get_fdata(), which has a more predictable return type. To obtain get_data() behavior going forward, use numpy.asanyarray(img.dataobj).\n",
            "\n",
            "* deprecated from version: 3.0\n",
            "* Will raise <class 'nibabel.deprecator.ExpiredDeprecationError'> as of version: 5.0\n",
            "  if sys.path[0] == '':\n"
          ]
        },
        {
          "output_type": "stream",
          "name": "stdout",
          "text": [
            "The only relevant horizontal brain slice has 739 voxels.\n"
          ]
        },
        {
          "output_type": "stream",
          "name": "stderr",
          "text": [
            "/usr/local/lib/python3.7/dist-packages/ipykernel_launcher.py:45: DeprecationWarning: get_data() is deprecated in favor of get_fdata(), which has a more predictable return type. To obtain get_data() behavior going forward, use numpy.asanyarray(img.dataobj).\n",
            "\n",
            "* deprecated from version: 3.0\n",
            "* Will raise <class 'nibabel.deprecator.ExpiredDeprecationError'> as of version: 5.0\n"
          ]
        },
        {
          "output_type": "stream",
          "name": "stdout",
          "text": [
            "The only relevant horizontal brain slice has 739 voxels.\n"
          ]
        },
        {
          "output_type": "stream",
          "name": "stderr",
          "text": [
            "/usr/local/lib/python3.7/dist-packages/nilearn/plotting/displays/_slicers.py:1333: MatplotlibDeprecationWarning: Adding an axes using the same arguments as a previous axes currently reuses the earlier instance.  In a future version, a new instance will always be created and returned.  Meanwhile, this warning can be suppressed, and the future behavior ensured, by passing a unique label to each axes instance.\n",
            "  fraction * (x1 - x0), y1 - y0])\n"
          ]
        },
        {
          "output_type": "execute_result",
          "data": {
            "text/plain": [
              "<nilearn.plotting.displays._slicers.ZSlicer at 0x7fb64ff9da50>"
            ]
          },
          "metadata": {},
          "execution_count": 260
        },
        {
          "output_type": "display_data",
          "data": {
            "text/plain": [
              "<Figure size 208.8x165.6 with 2 Axes>"
            ],
            "image/png": "[encoded data removed]"
          },
          "metadata": {}
        }
      ],
      "source": [
        "from nilearn import datasets\n",
        "import numpy as np\n",
        "import pandas as pd\n",
        "import nibabel as nib\n",
        "from nilearn.image import new_img_like\n",
        "from nilearn.plotting import plot_stat_map\n",
        "from matplotlib import pylab as plt\n",
        "\n",
        "haxby_dataset = datasets.fetch_haxby(subjects=1)\n",
        "mask_filename = haxby_dataset.mask\n",
        "mask_img = nib.load(mask_filename)\n",
        "process_mask = mask_img.get_data()\n",
        "picked_slice = 29\n",
        "process_mask[..., (picked_slice + 1):] = 0\n",
        "process_mask[..., :picked_slice] = 0\n",
        "process_mask[:, 30:] = 0 # zero out anterior “half” of the brain\n",
        "process_mask_img = new_img_like(mask_img, process_mask)\n",
        "\n",
        "from nilearn.input_data import NiftiMasker\n",
        "nifti_masker = NiftiMasker(smoothing_fwhm=8,\n",
        "mask_img=process_mask_img)\n",
        "func_filename = haxby_dataset.func[0]\n",
        "fmri_masked = nifti_masker.fit_transform(func_filename)\n",
        "labels = pd.read_csv(haxby_dataset.session_target[0], sep=\" \")\n",
        "conditions = labels['labels']\n",
        "condition_mask = conditions.isin(['face', 'house'])\n",
        "fmri_masked = fmri_masked[condition_mask]\n",
        "output_variable = np.array(conditions[condition_mask] == 'face',\n",
        "dtype=int)\n",
        "\n",
        "print('The only relevant horizontal brain slice has %i voxels.' %\n",
        "process_mask[..., picked_slice].sum())\n",
        "\n",
        "from nilearn import datasets\n",
        "import numpy as np\n",
        "import pandas as pd\n",
        "import nibabel as nib\n",
        "from nilearn.image import new_img_like\n",
        "from nilearn.plotting import plot_stat_map\n",
        "from matplotlib import pylab as plt\n",
        "\n",
        "haxby_dataset = datasets.fetch_haxby(subjects=1)\n",
        "mask_filename = haxby_dataset.mask\n",
        "mask_img = nib.load(mask_filename)\n",
        "process_mask = mask_img.get_data()\n",
        "picked_slice = 29\n",
        "process_mask[..., (picked_slice + 1):] = 0\n",
        "process_mask[..., :picked_slice] = 0\n",
        "process_mask[:, 30:] = 0 # zero out anterior “half” of the brain\n",
        "process_mask_img = new_img_like(mask_img, process_mask)\n",
        "\n",
        "from nilearn.input_data import NiftiMasker\n",
        "nifti_masker = NiftiMasker(smoothing_fwhm=8,\n",
        "mask_img=process_mask_img)\n",
        "func_filename = haxby_dataset.func[0]\n",
        "fmri_masked = nifti_masker.fit_transform(func_filename)\n",
        "labels = pd.read_csv(haxby_dataset.session_target[0], sep=\" \")\n",
        "conditions = labels['labels']\n",
        "condition_mask = conditions.isin(['face', 'house'])\n",
        "fmri_masked = fmri_masked[condition_mask]\n",
        "output_variable = np.array(conditions[condition_mask] == 'face',\n",
        "dtype=int)\n",
        "\n",
        "print('The only relevant horizontal brain slice has %i voxels.' %\n",
        "process_mask[..., picked_slice].sum())\n",
        "\n",
        "#plot that slice to get an impression of where the input variables are in the brain \n",
        "plot_stat_map(process_mask_img, cut_coords=[-9],\n",
        "display_mode=\"z\", cmap=plt.cm.RdBu_r)"
      ]
    },
    {
      "cell_type": "code",
      "source": [
        "input_variables = fmri_masked # This time around we will use the entire feature space because we're not asked to plot the features\n",
        "input_variables.shape #  Let's make sure we have 739 features"
      ],
      "metadata": {
        "colab": {
          "base_uri": "https://localhost:8080/"
        },
        "id": "jX1fsSqgwVO1",
        "outputId": "39a6627f-e6d3-4194-b670-3409ce24652a"
      },
      "execution_count": null,
      "outputs": [
        {
          "output_type": "execute_result",
          "data": {
            "text/plain": [
              "(216, 739)"
            ]
          },
          "metadata": {},
          "execution_count": 264
        }
      ]
    },
    {
      "cell_type": "code",
      "source": [
        "import scipy\n",
        "from numpy import mean\n",
        "from numpy import std\n",
        "from sklearn.linear_model import LinearRegression\n",
        "from sklearn.utils import resample\n",
        "from sklearn.model_selection import cross_val_score\n",
        "\n",
        "from sklearn.preprocessing import StandardScaler\n",
        "scaler = StandardScaler()"
      ],
      "metadata": {
        "id": "IFP4rekKwYoO"
      },
      "execution_count": null,
      "outputs": []
    },
    {
      "cell_type": "code",
      "source": [
        "# Setting the number of iterations\n",
        "n_iterations = 200\n",
        "\n",
        "# Importing the Out of Bag bootsrap package called mlxtend\n",
        "from mlxtend.evaluate import BootstrapOutOfBag\n",
        "oob = BootstrapOutOfBag(n_splits=200)\n",
        "\n",
        "# Pre-allocating an empty list called \"oob_acc\" which will collect the OOB coefficients of determination\n",
        "oob_acc = []\n",
        "\n",
        "# We're ready to run the for loop that will iterate our model over 200 bootrsap samples\n",
        "for i in range(n_iterations):\n",
        "    X_train = resample(input_variables, replace=True, n_samples=216) # X_train is the given bootstrap sample in the current iteration\n",
        "    X_train = scaler.fit_transform(X_train) # Here we run the scaler on every iteration\n",
        "    y_train = output_variable # We need to specify that y_train is the output variable because we didn't split the data this time\n",
        "    LR_boot = Ridge().fit(X_train,y_train) # We fit the LR model to the current bootstrap sample  \n",
        "    score = LR_boot.score(X_train, y_train) # We will also save the score for each bootstrap model \n",
        "    oob_scores = cross_val_score(LR_boot, X_train, y_train, cv=oob) # As well as the score for every OOB bootstrap model...\n",
        "    oob_acc.append(oob_scores) # ... and store it in the pre-allocated \"oob_acc\""
      ],
      "metadata": {
        "id": "_8GVtSyCwZ_s"
      },
      "execution_count": null,
      "outputs": []
    },
    {
      "cell_type": "code",
      "source": [
        "# We're ready to make a scatterplot of model accuracy as indexed by the coefficient of determination (y-axis) by bootstrap sample (x-axis)\n",
        "x = list(range(1, 201))\n",
        "plt.scatter(x,oob_scores)\n",
        "plt.gca().set(\n",
        "    title= \"Bootstrap out-of-bag cross-validation scores (coefficient of determination) with 200 samples\",\n",
        "    xlabel= \"Bootstrap samples\",\n",
        "    ylabel=\"Coefficient of determination\"\n",
        ")\n",
        "plt.show()"
      ],
      "metadata": {
        "colab": {
          "base_uri": "https://localhost:8080/",
          "height": 295
        },
        "id": "sacxdy1GxAnc",
        "outputId": "396f7aeb-f89c-45be-cadb-fe7557cc9c0f"
      },
      "execution_count": null,
      "outputs": [
        {
          "output_type": "display_data",
          "data": {
            "text/plain": [
              "<Figure size 432x288 with 1 Axes>"
            ],
            "image/png": "[encoded data removed]"
          },
          "metadata": {
            "needs_background": "light"
          }
        }
      ]
    }
  ]
}