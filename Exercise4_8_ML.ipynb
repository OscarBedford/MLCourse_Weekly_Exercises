{
  "nbformat": 4,
  "nbformat_minor": 0,
  "metadata": {
    "colab": {
      "provenance": [],
      "collapsed_sections": [],
      "authorship_tag": "ABX9TyOrS3ixHapmixwMSVkD4pdc",
      "include_colab_link": true
    },
    "kernelspec": {
      "name": "python3",
      "display_name": "Python 3"
    },
    "language_info": {
      "name": "python"
    }
  },
  "cells": [
    {
      "cell_type": "markdown",
      "metadata": {
        "id": "view-in-github",
        "colab_type": "text"
      },
      "source": [
        "<a href=\"https://colab.research.google.com/github/OscarBedford/MLCourse_Weekly_Exercises/blob/main/Exercise4_8_ML.ipynb\" target=\"_parent\"><img src=\"https://colab.research.google.com/assets/colab-badge.svg\" alt=\"Open In Colab\"/></a>"
      ]
    },
    {
      "cell_type": "code",
      "execution_count": null,
      "metadata": {
        "colab": {
          "base_uri": "https://localhost:8080/"
        },
        "id": "ubEZqI4leEnU",
        "outputId": "8927b787-8bf1-4315-df1b-bb340d24878d"
      },
      "outputs": [
        {
          "output_type": "stream",
          "name": "stdout",
          "text": [
            "Looking in indexes: https://pypi.org/simple, https://us-python.pkg.dev/colab-wheels/public/simple/\n",
            "Collecting nilearn\n",
            "  Downloading nilearn-0.9.2-py3-none-any.whl (9.6 MB)\n",
            "\u001b[K     |████████████████████████████████| 9.6 MB 4.9 MB/s \n",
            "\u001b[?25hRequirement already satisfied: lxml in /usr/local/lib/python3.7/dist-packages (from nilearn) (4.9.1)\n",
            "Requirement already satisfied: pandas>=1.0 in /usr/local/lib/python3.7/dist-packages (from nilearn) (1.3.5)\n",
            "Requirement already satisfied: scikit-learn>=0.22 in /usr/local/lib/python3.7/dist-packages (from nilearn) (1.0.2)\n",
            "Requirement already satisfied: numpy>=1.18 in /usr/local/lib/python3.7/dist-packages (from nilearn) (1.21.6)\n",
            "Requirement already satisfied: requests>=2 in /usr/local/lib/python3.7/dist-packages (from nilearn) (2.23.0)\n",
            "Requirement already satisfied: joblib>=0.15 in /usr/local/lib/python3.7/dist-packages (from nilearn) (1.1.0)\n",
            "Requirement already satisfied: scipy>=1.5 in /usr/local/lib/python3.7/dist-packages (from nilearn) (1.7.3)\n",
            "Requirement already satisfied: nibabel>=3.0.0 in /usr/local/lib/python3.7/dist-packages (from nilearn) (3.0.2)\n",
            "Requirement already satisfied: python-dateutil>=2.7.3 in /usr/local/lib/python3.7/dist-packages (from pandas>=1.0->nilearn) (2.8.2)\n",
            "Requirement already satisfied: pytz>=2017.3 in /usr/local/lib/python3.7/dist-packages (from pandas>=1.0->nilearn) (2022.2.1)\n",
            "Requirement already satisfied: six>=1.5 in /usr/local/lib/python3.7/dist-packages (from python-dateutil>=2.7.3->pandas>=1.0->nilearn) (1.15.0)\n",
            "Requirement already satisfied: idna<3,>=2.5 in /usr/local/lib/python3.7/dist-packages (from requests>=2->nilearn) (2.10)\n",
            "Requirement already satisfied: urllib3!=1.25.0,!=1.25.1,<1.26,>=1.21.1 in /usr/local/lib/python3.7/dist-packages (from requests>=2->nilearn) (1.24.3)\n",
            "Requirement already satisfied: certifi>=2017.4.17 in /usr/local/lib/python3.7/dist-packages (from requests>=2->nilearn) (2022.6.15)\n",
            "Requirement already satisfied: chardet<4,>=3.0.2 in /usr/local/lib/python3.7/dist-packages (from requests>=2->nilearn) (3.0.4)\n",
            "Requirement already satisfied: threadpoolctl>=2.0.0 in /usr/local/lib/python3.7/dist-packages (from scikit-learn>=0.22->nilearn) (3.1.0)\n",
            "Installing collected packages: nilearn\n",
            "Successfully installed nilearn-0.9.2\n"
          ]
        }
      ],
      "source": [
        "!pip install nilearn"
      ]
    },
    {
      "cell_type": "code",
      "source": [
        "import numpy as np\n",
        "from nilearn import datasets\n",
        "from nilearn.input_data import NiftiLabelsMasker\n",
        "from nilearn.image import index_img\n",
        "from sklearn.preprocessing import StandardScaler\n",
        "import nibabel as nib\n",
        "brain_data = datasets.fetch_oasis_vbm(n_subjects=100)\n",
        "crad = datasets.fetch_atlas_craddock_2012()\n",
        "atlas_nii = index_img(crad['scorr_mean'], 42) # We will fix this value to atlas 43 (index 42)\n",
        "print('%i regions found in this atlas' %\n",
        "(len(np.unique(atlas_nii.get_data().ravel())) - 1))\n",
        "masker = NiftiLabelsMasker(labels_img= atlas_nii, standardize=True)\n",
        "input_variables = masker.fit_transform(brain_data.gray_matter_maps)\n",
        "output_variable = StandardScaler().fit_transform(brain_data.ext_vars.age[:, None])[:,0] # gives subject age on standard units after z-scoring"
      ],
      "metadata": {
        "colab": {
          "base_uri": "https://localhost:8080/"
        },
        "id": "agQwvtDKeH1H",
        "outputId": "d6d10eef-adf6-4243-9fbc-6c1b880e9d3d"
      },
      "execution_count": null,
      "outputs": [
        {
          "output_type": "stream",
          "name": "stderr",
          "text": [
            "/usr/local/lib/python3.7/dist-packages/nilearn/datasets/struct.py:774: UserWarning: `legacy_format` will default to `False` in release 0.11. Dataset fetchers will then return pandas dataframes by default instead of recarrays.\n",
            "  warnings.warn(_LEGACY_FORMAT_MSG)\n"
          ]
        },
        {
          "output_type": "stream",
          "name": "stdout",
          "text": [
            "\n",
            "Dataset created in /root/nilearn_data/craddock_2012\n",
            "\n",
            "Downloading data from http://cluster_roi.projects.nitrc.org/Parcellations/craddock_2011_parcellations.tar.gz ...\n"
          ]
        },
        {
          "output_type": "stream",
          "name": "stderr",
          "text": [
            " ...done. (0 seconds, 0 min)\n",
            "Extracting data from /root/nilearn_data/craddock_2012/64ec9dc239add5cb58c7248a4136b852/craddock_2011_parcellations.tar.gz..... done.\n",
            "/usr/local/lib/python3.7/dist-packages/ipykernel_launcher.py:11: DeprecationWarning: get_data() is deprecated in favor of get_fdata(), which has a more predictable return type. To obtain get_data() behavior going forward, use numpy.asanyarray(img.dataobj).\n",
            "\n",
            "* deprecated from version: 3.0\n",
            "* Will raise <class 'nibabel.deprecator.ExpiredDeprecationError'> as of version: 5.0\n",
            "  # This is added back by InteractiveShellApp.init_path()\n"
          ]
        },
        {
          "output_type": "stream",
          "name": "stdout",
          "text": [
            "788 regions found in this atlas\n"
          ]
        }
      ]
    },
    {
      "cell_type": "code",
      "source": [
        "import matplotlib.pyplot as plt\n",
        "from numpy import mean\n",
        "from numpy import std\n",
        "from sklearn.linear_model import LogisticRegression\n",
        "from sklearn.utils import resample\n",
        "from sklearn.preprocessing import StandardScaler\n",
        "scaler = StandardScaler()\n",
        "from sklearn.model_selection import train_test_split\n",
        "from sklearn.metrics import classification_report\n",
        "from sklearn.linear_model import Lasso\n",
        "from sklearn.model_selection import GridSearchCV\n",
        "import pandas as pd"
      ],
      "metadata": {
        "id": "-fMV7RMIeJV-"
      },
      "execution_count": null,
      "outputs": []
    },
    {
      "cell_type": "code",
      "source": [
        "clf = GridSearchCV(Lasso(max_iter=1e4), {\n",
        "          'alpha' : np.linspace(0.1,1,10) # We want a grid raning from alpha = 0.1 to alpha = 1 in 10 evenly-spaced steps\n",
        "}, cv = 10)\n",
        "\n",
        "X, y = input_variables, output_variable\n",
        "X_scaled = scaler.fit_transform(X)\n",
        "X_train, X_test, y_train, y_test = train_test_split(X_scaled, y, test_size=0.2, shuffle=False)\n",
        "\n",
        "clf.fit(X_train, y_train)\n",
        "clf.cv_results_"
      ],
      "metadata": {
        "colab": {
          "base_uri": "https://localhost:8080/"
        },
        "id": "jFWyVpmKeLCm",
        "outputId": "c930414e-39fa-4583-e3b8-046ed74fab1d"
      },
      "execution_count": null,
      "outputs": [
        {
          "output_type": "execute_result",
          "data": {
            "text/plain": [
              "{'mean_fit_time': array([0.01324658, 0.01642792, 0.01123655, 0.01343348, 0.01141779,\n",
              "        0.00827394, 0.00533404, 0.00276833, 0.00272455, 0.00651836]),\n",
              " 'std_fit_time': array([0.00652989, 0.00428556, 0.00417579, 0.00380627, 0.00362795,\n",
              "        0.0058424 , 0.00200314, 0.00090271, 0.00078674, 0.00793407]),\n",
              " 'mean_score_time': array([0.00124888, 0.00184715, 0.00094562, 0.00115235, 0.00102799,\n",
              "        0.00141625, 0.00105457, 0.0008513 , 0.00086541, 0.00091715]),\n",
              " 'std_score_time': array([5.94323422e-04, 2.19795533e-03, 5.35690842e-05, 3.12492387e-04,\n",
              "        1.08679131e-04, 1.14472229e-03, 4.46463484e-04, 2.11450754e-04,\n",
              "        1.41128768e-04, 1.63049298e-04]),\n",
              " 'param_alpha': masked_array(data=[0.1, 0.2, 0.30000000000000004, 0.4, 0.5, 0.6,\n",
              "                    0.7000000000000001, 0.8, 0.9, 1.0],\n",
              "              mask=[False, False, False, False, False, False, False, False,\n",
              "                    False, False],\n",
              "        fill_value='?',\n",
              "             dtype=object),\n",
              " 'params': [{'alpha': 0.1},\n",
              "  {'alpha': 0.2},\n",
              "  {'alpha': 0.30000000000000004},\n",
              "  {'alpha': 0.4},\n",
              "  {'alpha': 0.5},\n",
              "  {'alpha': 0.6},\n",
              "  {'alpha': 0.7000000000000001},\n",
              "  {'alpha': 0.8},\n",
              "  {'alpha': 0.9},\n",
              "  {'alpha': 1.0}],\n",
              " 'split0_test_score': array([ 0.68442231,  0.47824453,  0.32445183,  0.17845838,  0.02561805,\n",
              "        -0.19407943, -0.41407658, -0.41407658, -0.41407658, -0.41407658]),\n",
              " 'split1_test_score': array([ 0.73290094,  0.61576619,  0.50373603,  0.37222387,  0.26205852,\n",
              "         0.14226476,  0.01386112, -0.00843097, -0.00843097, -0.00843097]),\n",
              " 'split2_test_score': array([ 0.51562686,  0.43101099,  0.31452626,  0.16145263,  0.06158844,\n",
              "        -0.05550196, -0.16302547, -0.21134434, -0.21134434, -0.21134434]),\n",
              " 'split3_test_score': array([ 0.62275799,  0.37057127,  0.12523361, -0.12584147, -0.34844109,\n",
              "        -0.5954685 , -0.81787822, -0.81787822, -0.81787822, -0.81787822]),\n",
              " 'split4_test_score': array([ 0.27450302,  0.17230092,  0.10597598,  0.10777189,  0.09907401,\n",
              "         0.03200021, -0.05543253, -0.1081285 , -0.1081285 , -0.1081285 ]),\n",
              " 'split5_test_score': array([ 0.72471551,  0.66745029,  0.58071667,  0.40950279,  0.28861144,\n",
              "         0.16897172,  0.03177704, -0.00839132, -0.00839132, -0.00839132]),\n",
              " 'split6_test_score': array([ 0.59411349,  0.48318949,  0.42418538,  0.29719212,  0.16617767,\n",
              "         0.03266102, -0.12265473, -0.1355437 , -0.1355437 , -0.1355437 ]),\n",
              " 'split7_test_score': array([ 0.29263324,  0.20505081,  0.16997625,  0.11195194,  0.0372149 ,\n",
              "        -0.1228645 , -0.34794425, -0.42543801, -0.42543801, -0.42543801]),\n",
              " 'split8_test_score': array([ 0.37369747,  0.28396008,  0.25808326,  0.2367231 ,  0.14839024,\n",
              "         0.08099201, -0.00412997, -0.0464738 , -0.0464738 , -0.0464738 ]),\n",
              " 'split9_test_score': array([ 0.65114481,  0.60679911,  0.61362422,  0.50902086,  0.34946609,\n",
              "         0.13711569, -0.05740668, -0.05740668, -0.05740668, -0.05740668]),\n",
              " 'mean_test_score': array([ 0.54665156,  0.43143437,  0.34205095,  0.22584561,  0.10897583,\n",
              "        -0.0373909 , -0.19369103, -0.22331121, -0.22331121, -0.22331121]),\n",
              " 'std_test_score': array([0.16547079, 0.16406009, 0.17437611, 0.17249417, 0.18494226,\n",
              "        0.21741362, 0.25209046, 0.24556666, 0.24556666, 0.24556666]),\n",
              " 'rank_test_score': array([1, 2, 3, 4, 5, 6, 7, 8, 8, 8], dtype=int32)}"
            ]
          },
          "metadata": {},
          "execution_count": 12
        }
      ]
    },
    {
      "cell_type": "code",
      "source": [
        "df = pd.DataFrame(clf.cv_results_)\n",
        "df"
      ],
      "metadata": {
        "colab": {
          "base_uri": "https://localhost:8080/",
          "height": 462
        },
        "id": "iFKTGul5gBIL",
        "outputId": "537eafb1-85e1-4b6d-975f-6824fdf14586"
      },
      "execution_count": null,
      "outputs": [
        {
          "output_type": "execute_result",
          "data": {
            "text/plain": [
              "   mean_fit_time  std_fit_time  mean_score_time  std_score_time param_alpha  \\\n",
              "0       0.013247      0.006530         0.001249        0.000594         0.1   \n",
              "1       0.016428      0.004286         0.001847        0.002198         0.2   \n",
              "2       0.011237      0.004176         0.000946        0.000054         0.3   \n",
              "3       0.013433      0.003806         0.001152        0.000312         0.4   \n",
              "4       0.011418      0.003628         0.001028        0.000109         0.5   \n",
              "5       0.008274      0.005842         0.001416        0.001145         0.6   \n",
              "6       0.005334      0.002003         0.001055        0.000446         0.7   \n",
              "7       0.002768      0.000903         0.000851        0.000211         0.8   \n",
              "8       0.002725      0.000787         0.000865        0.000141         0.9   \n",
              "9       0.006518      0.007934         0.000917        0.000163         1.0   \n",
              "\n",
              "                           params  split0_test_score  split1_test_score  \\\n",
              "0                  {'alpha': 0.1}           0.684422           0.732901   \n",
              "1                  {'alpha': 0.2}           0.478245           0.615766   \n",
              "2  {'alpha': 0.30000000000000004}           0.324452           0.503736   \n",
              "3                  {'alpha': 0.4}           0.178458           0.372224   \n",
              "4                  {'alpha': 0.5}           0.025618           0.262059   \n",
              "5                  {'alpha': 0.6}          -0.194079           0.142265   \n",
              "6   {'alpha': 0.7000000000000001}          -0.414077           0.013861   \n",
              "7                  {'alpha': 0.8}          -0.414077          -0.008431   \n",
              "8                  {'alpha': 0.9}          -0.414077          -0.008431   \n",
              "9                  {'alpha': 1.0}          -0.414077          -0.008431   \n",
              "\n",
              "   split2_test_score  split3_test_score  split4_test_score  split5_test_score  \\\n",
              "0           0.515627           0.622758           0.274503           0.724716   \n",
              "1           0.431011           0.370571           0.172301           0.667450   \n",
              "2           0.314526           0.125234           0.105976           0.580717   \n",
              "3           0.161453          -0.125841           0.107772           0.409503   \n",
              "4           0.061588          -0.348441           0.099074           0.288611   \n",
              "5          -0.055502          -0.595469           0.032000           0.168972   \n",
              "6          -0.163025          -0.817878          -0.055433           0.031777   \n",
              "7          -0.211344          -0.817878          -0.108129          -0.008391   \n",
              "8          -0.211344          -0.817878          -0.108129          -0.008391   \n",
              "9          -0.211344          -0.817878          -0.108129          -0.008391   \n",
              "\n",
              "   split6_test_score  split7_test_score  split8_test_score  split9_test_score  \\\n",
              "0           0.594113           0.292633           0.373697           0.651145   \n",
              "1           0.483189           0.205051           0.283960           0.606799   \n",
              "2           0.424185           0.169976           0.258083           0.613624   \n",
              "3           0.297192           0.111952           0.236723           0.509021   \n",
              "4           0.166178           0.037215           0.148390           0.349466   \n",
              "5           0.032661          -0.122864           0.080992           0.137116   \n",
              "6          -0.122655          -0.347944          -0.004130          -0.057407   \n",
              "7          -0.135544          -0.425438          -0.046474          -0.057407   \n",
              "8          -0.135544          -0.425438          -0.046474          -0.057407   \n",
              "9          -0.135544          -0.425438          -0.046474          -0.057407   \n",
              "\n",
              "   mean_test_score  std_test_score  rank_test_score  \n",
              "0         0.546652        0.165471                1  \n",
              "1         0.431434        0.164060                2  \n",
              "2         0.342051        0.174376                3  \n",
              "3         0.225846        0.172494                4  \n",
              "4         0.108976        0.184942                5  \n",
              "5        -0.037391        0.217414                6  \n",
              "6        -0.193691        0.252090                7  \n",
              "7        -0.223311        0.245567                8  \n",
              "8        -0.223311        0.245567                8  \n",
              "9        -0.223311        0.245567                8  "
            ],
            "text/html": [
              "\n",
              "  <div id=\"df-49c20f3b-1ddb-49de-a531-2f2b9012988d\">\n",
              "    <div class=\"colab-df-container\">\n",
              "      <div>\n",
              "<style scoped>\n",
              "    .dataframe tbody tr th:only-of-type {\n",
              "        vertical-align: middle;\n",
              "    }\n",
              "\n",
              "    .dataframe tbody tr th {\n",
              "        vertical-align: top;\n",
              "    }\n",
              "\n",
              "    .dataframe thead th {\n",
              "        text-align: right;\n",
              "    }\n",
              "</style>\n",
              "<table border=\"1\" class=\"dataframe\">\n",
              "  <thead>\n",
              "    <tr style=\"text-align: right;\">\n",
              "      <th></th>\n",
              "      <th>mean_fit_time</th>\n",
              "      <th>std_fit_time</th>\n",
              "      <th>mean_score_time</th>\n",
              "      <th>std_score_time</th>\n",
              "      <th>param_alpha</th>\n",
              "      <th>params</th>\n",
              "      <th>split0_test_score</th>\n",
              "      <th>split1_test_score</th>\n",
              "      <th>split2_test_score</th>\n",
              "      <th>split3_test_score</th>\n",
              "      <th>split4_test_score</th>\n",
              "      <th>split5_test_score</th>\n",
              "      <th>split6_test_score</th>\n",
              "      <th>split7_test_score</th>\n",
              "      <th>split8_test_score</th>\n",
              "      <th>split9_test_score</th>\n",
              "      <th>mean_test_score</th>\n",
              "      <th>std_test_score</th>\n",
              "      <th>rank_test_score</th>\n",
              "    </tr>\n",
              "  </thead>\n",
              "  <tbody>\n",
              "    <tr>\n",
              "      <th>0</th>\n",
              "      <td>0.013247</td>\n",
              "      <td>0.006530</td>\n",
              "      <td>0.001249</td>\n",
              "      <td>0.000594</td>\n",
              "      <td>0.1</td>\n",
              "      <td>{'alpha': 0.1}</td>\n",
              "      <td>0.684422</td>\n",
              "      <td>0.732901</td>\n",
              "      <td>0.515627</td>\n",
              "      <td>0.622758</td>\n",
              "      <td>0.274503</td>\n",
              "      <td>0.724716</td>\n",
              "      <td>0.594113</td>\n",
              "      <td>0.292633</td>\n",
              "      <td>0.373697</td>\n",
              "      <td>0.651145</td>\n",
              "      <td>0.546652</td>\n",
              "      <td>0.165471</td>\n",
              "      <td>1</td>\n",
              "    </tr>\n",
              "    <tr>\n",
              "      <th>1</th>\n",
              "      <td>0.016428</td>\n",
              "      <td>0.004286</td>\n",
              "      <td>0.001847</td>\n",
              "      <td>0.002198</td>\n",
              "      <td>0.2</td>\n",
              "      <td>{'alpha': 0.2}</td>\n",
              "      <td>0.478245</td>\n",
              "      <td>0.615766</td>\n",
              "      <td>0.431011</td>\n",
              "      <td>0.370571</td>\n",
              "      <td>0.172301</td>\n",
              "      <td>0.667450</td>\n",
              "      <td>0.483189</td>\n",
              "      <td>0.205051</td>\n",
              "      <td>0.283960</td>\n",
              "      <td>0.606799</td>\n",
              "      <td>0.431434</td>\n",
              "      <td>0.164060</td>\n",
              "      <td>2</td>\n",
              "    </tr>\n",
              "    <tr>\n",
              "      <th>2</th>\n",
              "      <td>0.011237</td>\n",
              "      <td>0.004176</td>\n",
              "      <td>0.000946</td>\n",
              "      <td>0.000054</td>\n",
              "      <td>0.3</td>\n",
              "      <td>{'alpha': 0.30000000000000004}</td>\n",
              "      <td>0.324452</td>\n",
              "      <td>0.503736</td>\n",
              "      <td>0.314526</td>\n",
              "      <td>0.125234</td>\n",
              "      <td>0.105976</td>\n",
              "      <td>0.580717</td>\n",
              "      <td>0.424185</td>\n",
              "      <td>0.169976</td>\n",
              "      <td>0.258083</td>\n",
              "      <td>0.613624</td>\n",
              "      <td>0.342051</td>\n",
              "      <td>0.174376</td>\n",
              "      <td>3</td>\n",
              "    </tr>\n",
              "    <tr>\n",
              "      <th>3</th>\n",
              "      <td>0.013433</td>\n",
              "      <td>0.003806</td>\n",
              "      <td>0.001152</td>\n",
              "      <td>0.000312</td>\n",
              "      <td>0.4</td>\n",
              "      <td>{'alpha': 0.4}</td>\n",
              "      <td>0.178458</td>\n",
              "      <td>0.372224</td>\n",
              "      <td>0.161453</td>\n",
              "      <td>-0.125841</td>\n",
              "      <td>0.107772</td>\n",
              "      <td>0.409503</td>\n",
              "      <td>0.297192</td>\n",
              "      <td>0.111952</td>\n",
              "      <td>0.236723</td>\n",
              "      <td>0.509021</td>\n",
              "      <td>0.225846</td>\n",
              "      <td>0.172494</td>\n",
              "      <td>4</td>\n",
              "    </tr>\n",
              "    <tr>\n",
              "      <th>4</th>\n",
              "      <td>0.011418</td>\n",
              "      <td>0.003628</td>\n",
              "      <td>0.001028</td>\n",
              "      <td>0.000109</td>\n",
              "      <td>0.5</td>\n",
              "      <td>{'alpha': 0.5}</td>\n",
              "      <td>0.025618</td>\n",
              "      <td>0.262059</td>\n",
              "      <td>0.061588</td>\n",
              "      <td>-0.348441</td>\n",
              "      <td>0.099074</td>\n",
              "      <td>0.288611</td>\n",
              "      <td>0.166178</td>\n",
              "      <td>0.037215</td>\n",
              "      <td>0.148390</td>\n",
              "      <td>0.349466</td>\n",
              "      <td>0.108976</td>\n",
              "      <td>0.184942</td>\n",
              "      <td>5</td>\n",
              "    </tr>\n",
              "    <tr>\n",
              "      <th>5</th>\n",
              "      <td>0.008274</td>\n",
              "      <td>0.005842</td>\n",
              "      <td>0.001416</td>\n",
              "      <td>0.001145</td>\n",
              "      <td>0.6</td>\n",
              "      <td>{'alpha': 0.6}</td>\n",
              "      <td>-0.194079</td>\n",
              "      <td>0.142265</td>\n",
              "      <td>-0.055502</td>\n",
              "      <td>-0.595469</td>\n",
              "      <td>0.032000</td>\n",
              "      <td>0.168972</td>\n",
              "      <td>0.032661</td>\n",
              "      <td>-0.122864</td>\n",
              "      <td>0.080992</td>\n",
              "      <td>0.137116</td>\n",
              "      <td>-0.037391</td>\n",
              "      <td>0.217414</td>\n",
              "      <td>6</td>\n",
              "    </tr>\n",
              "    <tr>\n",
              "      <th>6</th>\n",
              "      <td>0.005334</td>\n",
              "      <td>0.002003</td>\n",
              "      <td>0.001055</td>\n",
              "      <td>0.000446</td>\n",
              "      <td>0.7</td>\n",
              "      <td>{'alpha': 0.7000000000000001}</td>\n",
              "      <td>-0.414077</td>\n",
              "      <td>0.013861</td>\n",
              "      <td>-0.163025</td>\n",
              "      <td>-0.817878</td>\n",
              "      <td>-0.055433</td>\n",
              "      <td>0.031777</td>\n",
              "      <td>-0.122655</td>\n",
              "      <td>-0.347944</td>\n",
              "      <td>-0.004130</td>\n",
              "      <td>-0.057407</td>\n",
              "      <td>-0.193691</td>\n",
              "      <td>0.252090</td>\n",
              "      <td>7</td>\n",
              "    </tr>\n",
              "    <tr>\n",
              "      <th>7</th>\n",
              "      <td>0.002768</td>\n",
              "      <td>0.000903</td>\n",
              "      <td>0.000851</td>\n",
              "      <td>0.000211</td>\n",
              "      <td>0.8</td>\n",
              "      <td>{'alpha': 0.8}</td>\n",
              "      <td>-0.414077</td>\n",
              "      <td>-0.008431</td>\n",
              "      <td>-0.211344</td>\n",
              "      <td>-0.817878</td>\n",
              "      <td>-0.108129</td>\n",
              "      <td>-0.008391</td>\n",
              "      <td>-0.135544</td>\n",
              "      <td>-0.425438</td>\n",
              "      <td>-0.046474</td>\n",
              "      <td>-0.057407</td>\n",
              "      <td>-0.223311</td>\n",
              "      <td>0.245567</td>\n",
              "      <td>8</td>\n",
              "    </tr>\n",
              "    <tr>\n",
              "      <th>8</th>\n",
              "      <td>0.002725</td>\n",
              "      <td>0.000787</td>\n",
              "      <td>0.000865</td>\n",
              "      <td>0.000141</td>\n",
              "      <td>0.9</td>\n",
              "      <td>{'alpha': 0.9}</td>\n",
              "      <td>-0.414077</td>\n",
              "      <td>-0.008431</td>\n",
              "      <td>-0.211344</td>\n",
              "      <td>-0.817878</td>\n",
              "      <td>-0.108129</td>\n",
              "      <td>-0.008391</td>\n",
              "      <td>-0.135544</td>\n",
              "      <td>-0.425438</td>\n",
              "      <td>-0.046474</td>\n",
              "      <td>-0.057407</td>\n",
              "      <td>-0.223311</td>\n",
              "      <td>0.245567</td>\n",
              "      <td>8</td>\n",
              "    </tr>\n",
              "    <tr>\n",
              "      <th>9</th>\n",
              "      <td>0.006518</td>\n",
              "      <td>0.007934</td>\n",
              "      <td>0.000917</td>\n",
              "      <td>0.000163</td>\n",
              "      <td>1.0</td>\n",
              "      <td>{'alpha': 1.0}</td>\n",
              "      <td>-0.414077</td>\n",
              "      <td>-0.008431</td>\n",
              "      <td>-0.211344</td>\n",
              "      <td>-0.817878</td>\n",
              "      <td>-0.108129</td>\n",
              "      <td>-0.008391</td>\n",
              "      <td>-0.135544</td>\n",
              "      <td>-0.425438</td>\n",
              "      <td>-0.046474</td>\n",
              "      <td>-0.057407</td>\n",
              "      <td>-0.223311</td>\n",
              "      <td>0.245567</td>\n",
              "      <td>8</td>\n",
              "    </tr>\n",
              "  </tbody>\n",
              "</table>\n",
              "</div>\n",
              "      <button class=\"colab-df-convert\" onclick=\"convertToInteractive('df-49c20f3b-1ddb-49de-a531-2f2b9012988d')\"\n",
              "              title=\"Convert this dataframe to an interactive table.\"\n",
              "              style=\"display:none;\">\n",
              "        \n",
              "  <svg xmlns=\"http://www.w3.org/2000/svg\" height=\"24px\"viewBox=\"0 0 24 24\"\n",
              "       width=\"24px\">\n",
              "    <path d=\"M0 0h24v24H0V0z\" fill=\"none\"/>\n",
              "    <path d=\"M18.56 5.44l.94 2.06.94-2.06 2.06-.94-2.06-.94-.94-2.06-.94 2.06-2.06.94zm-11 1L8.5 8.5l.94-2.06 2.06-.94-2.06-.94L8.5 2.5l-.94 2.06-2.06.94zm10 10l.94 2.06.94-2.06 2.06-.94-2.06-.94-.94-2.06-.94 2.06-2.06.94z\"/><path d=\"M17.41 7.96l-1.37-1.37c-.4-.4-.92-.59-1.43-.59-.52 0-1.04.2-1.43.59L10.3 9.45l-7.72 7.72c-.78.78-.78 2.05 0 2.83L4 21.41c.39.39.9.59 1.41.59.51 0 1.02-.2 1.41-.59l7.78-7.78 2.81-2.81c.8-.78.8-2.07 0-2.86zM5.41 20L4 18.59l7.72-7.72 1.47 1.35L5.41 20z\"/>\n",
              "  </svg>\n",
              "      </button>\n",
              "      \n",
              "  <style>\n",
              "    .colab-df-container {\n",
              "      display:flex;\n",
              "      flex-wrap:wrap;\n",
              "      gap: 12px;\n",
              "    }\n",
              "\n",
              "    .colab-df-convert {\n",
              "      background-color: #E8F0FE;\n",
              "      border: none;\n",
              "      border-radius: 50%;\n",
              "      cursor: pointer;\n",
              "      display: none;\n",
              "      fill: #1967D2;\n",
              "      height: 32px;\n",
              "      padding: 0 0 0 0;\n",
              "      width: 32px;\n",
              "    }\n",
              "\n",
              "    .colab-df-convert:hover {\n",
              "      background-color: #E2EBFA;\n",
              "      box-shadow: 0px 1px 2px rgba(60, 64, 67, 0.3), 0px 1px 3px 1px rgba(60, 64, 67, 0.15);\n",
              "      fill: #174EA6;\n",
              "    }\n",
              "\n",
              "    [theme=dark] .colab-df-convert {\n",
              "      background-color: #3B4455;\n",
              "      fill: #D2E3FC;\n",
              "    }\n",
              "\n",
              "    [theme=dark] .colab-df-convert:hover {\n",
              "      background-color: #434B5C;\n",
              "      box-shadow: 0px 1px 3px 1px rgba(0, 0, 0, 0.15);\n",
              "      filter: drop-shadow(0px 1px 2px rgba(0, 0, 0, 0.3));\n",
              "      fill: #FFFFFF;\n",
              "    }\n",
              "  </style>\n",
              "\n",
              "      <script>\n",
              "        const buttonEl =\n",
              "          document.querySelector('#df-49c20f3b-1ddb-49de-a531-2f2b9012988d button.colab-df-convert');\n",
              "        buttonEl.style.display =\n",
              "          google.colab.kernel.accessAllowed ? 'block' : 'none';\n",
              "\n",
              "        async function convertToInteractive(key) {\n",
              "          const element = document.querySelector('#df-49c20f3b-1ddb-49de-a531-2f2b9012988d');\n",
              "          const dataTable =\n",
              "            await google.colab.kernel.invokeFunction('convertToInteractive',\n",
              "                                                     [key], {});\n",
              "          if (!dataTable) return;\n",
              "\n",
              "          const docLinkHtml = 'Like what you see? Visit the ' +\n",
              "            '<a target=\"_blank\" href=https://colab.research.google.com/notebooks/data_table.ipynb>data table notebook</a>'\n",
              "            + ' to learn more about interactive tables.';\n",
              "          element.innerHTML = '';\n",
              "          dataTable['output_type'] = 'display_data';\n",
              "          await google.colab.output.renderOutput(dataTable, element);\n",
              "          const docLink = document.createElement('div');\n",
              "          docLink.innerHTML = docLinkHtml;\n",
              "          element.appendChild(docLink);\n",
              "        }\n",
              "      </script>\n",
              "    </div>\n",
              "  </div>\n",
              "  "
            ]
          },
          "metadata": {},
          "execution_count": 13
        }
      ]
    },
    {
      "cell_type": "code",
      "source": [
        "alpha_values = df.param_alpha\n",
        "coefs = []"
      ],
      "metadata": {
        "id": "hd47UN0KgI7r"
      },
      "execution_count": null,
      "outputs": []
    },
    {
      "cell_type": "code",
      "source": [
        "for x in alpha_values:\n",
        "      brain_data = datasets.fetch_oasis_vbm(n_subjects=100)\n",
        "      crad = datasets.fetch_atlas_craddock_2012()\n",
        "      atlas_nii = index_img(crad['scorr_mean'], 42) # We fix this at index 42\n",
        "      print('%i regions found in this atlas' %\n",
        "      (len(np.unique(atlas_nii.get_data().ravel())) - 1))\n",
        "      masker = NiftiLabelsMasker(labels_img= atlas_nii, standardize=True)\n",
        "      input_variables = masker.fit_transform(brain_data.gray_matter_maps)\n",
        "      output_variable = StandardScaler().fit_transform(brain_data.ext_vars.age[:, None])[:,0] # gives subject age on standard units after z-scoring\n",
        "\n",
        "      lasso = Lasso(alpha=(x), max_iter=1e4)\n",
        "\n",
        "      X, y = input_variables, output_variable\n",
        "      X_scaled = scaler.fit_transform(X)\n",
        "      X_train, X_test, y_train, y_test = train_test_split(X_scaled, y, test_size=0.2, shuffle=False)\n",
        "\n",
        "      LassoReg = lasso.fit(X_train,y_train) # We fit the lasso training model\n",
        "      coefs.append(LassoReg.coef_) "
      ],
      "metadata": {
        "colab": {
          "base_uri": "https://localhost:8080/"
        },
        "id": "zaleWBx9gPIt",
        "outputId": "d23f36e4-bbcd-481a-84e7-70d71158f144"
      },
      "execution_count": null,
      "outputs": [
        {
          "output_type": "stream",
          "name": "stderr",
          "text": [
            "/usr/local/lib/python3.7/dist-packages/nilearn/datasets/struct.py:774: UserWarning: `legacy_format` will default to `False` in release 0.11. Dataset fetchers will then return pandas dataframes by default instead of recarrays.\n",
            "  warnings.warn(_LEGACY_FORMAT_MSG)\n",
            "/usr/local/lib/python3.7/dist-packages/ipykernel_launcher.py:6: DeprecationWarning: get_data() is deprecated in favor of get_fdata(), which has a more predictable return type. To obtain get_data() behavior going forward, use numpy.asanyarray(img.dataobj).\n",
            "\n",
            "* deprecated from version: 3.0\n",
            "* Will raise <class 'nibabel.deprecator.ExpiredDeprecationError'> as of version: 5.0\n",
            "  \n"
          ]
        },
        {
          "output_type": "stream",
          "name": "stdout",
          "text": [
            "788 regions found in this atlas\n"
          ]
        },
        {
          "output_type": "stream",
          "name": "stderr",
          "text": [
            "/usr/local/lib/python3.7/dist-packages/nilearn/datasets/struct.py:774: UserWarning: `legacy_format` will default to `False` in release 0.11. Dataset fetchers will then return pandas dataframes by default instead of recarrays.\n",
            "  warnings.warn(_LEGACY_FORMAT_MSG)\n",
            "/usr/local/lib/python3.7/dist-packages/ipykernel_launcher.py:6: DeprecationWarning: get_data() is deprecated in favor of get_fdata(), which has a more predictable return type. To obtain get_data() behavior going forward, use numpy.asanyarray(img.dataobj).\n",
            "\n",
            "* deprecated from version: 3.0\n",
            "* Will raise <class 'nibabel.deprecator.ExpiredDeprecationError'> as of version: 5.0\n",
            "  \n"
          ]
        },
        {
          "output_type": "stream",
          "name": "stdout",
          "text": [
            "788 regions found in this atlas\n"
          ]
        },
        {
          "output_type": "stream",
          "name": "stderr",
          "text": [
            "/usr/local/lib/python3.7/dist-packages/nilearn/datasets/struct.py:774: UserWarning: `legacy_format` will default to `False` in release 0.11. Dataset fetchers will then return pandas dataframes by default instead of recarrays.\n",
            "  warnings.warn(_LEGACY_FORMAT_MSG)\n",
            "/usr/local/lib/python3.7/dist-packages/ipykernel_launcher.py:6: DeprecationWarning: get_data() is deprecated in favor of get_fdata(), which has a more predictable return type. To obtain get_data() behavior going forward, use numpy.asanyarray(img.dataobj).\n",
            "\n",
            "* deprecated from version: 3.0\n",
            "* Will raise <class 'nibabel.deprecator.ExpiredDeprecationError'> as of version: 5.0\n",
            "  \n"
          ]
        },
        {
          "output_type": "stream",
          "name": "stdout",
          "text": [
            "788 regions found in this atlas\n"
          ]
        },
        {
          "output_type": "stream",
          "name": "stderr",
          "text": [
            "/usr/local/lib/python3.7/dist-packages/nilearn/datasets/struct.py:774: UserWarning: `legacy_format` will default to `False` in release 0.11. Dataset fetchers will then return pandas dataframes by default instead of recarrays.\n",
            "  warnings.warn(_LEGACY_FORMAT_MSG)\n",
            "/usr/local/lib/python3.7/dist-packages/ipykernel_launcher.py:6: DeprecationWarning: get_data() is deprecated in favor of get_fdata(), which has a more predictable return type. To obtain get_data() behavior going forward, use numpy.asanyarray(img.dataobj).\n",
            "\n",
            "* deprecated from version: 3.0\n",
            "* Will raise <class 'nibabel.deprecator.ExpiredDeprecationError'> as of version: 5.0\n",
            "  \n"
          ]
        },
        {
          "output_type": "stream",
          "name": "stdout",
          "text": [
            "788 regions found in this atlas\n"
          ]
        },
        {
          "output_type": "stream",
          "name": "stderr",
          "text": [
            "/usr/local/lib/python3.7/dist-packages/nilearn/datasets/struct.py:774: UserWarning: `legacy_format` will default to `False` in release 0.11. Dataset fetchers will then return pandas dataframes by default instead of recarrays.\n",
            "  warnings.warn(_LEGACY_FORMAT_MSG)\n",
            "/usr/local/lib/python3.7/dist-packages/ipykernel_launcher.py:6: DeprecationWarning: get_data() is deprecated in favor of get_fdata(), which has a more predictable return type. To obtain get_data() behavior going forward, use numpy.asanyarray(img.dataobj).\n",
            "\n",
            "* deprecated from version: 3.0\n",
            "* Will raise <class 'nibabel.deprecator.ExpiredDeprecationError'> as of version: 5.0\n",
            "  \n"
          ]
        },
        {
          "output_type": "stream",
          "name": "stdout",
          "text": [
            "788 regions found in this atlas\n"
          ]
        },
        {
          "output_type": "stream",
          "name": "stderr",
          "text": [
            "/usr/local/lib/python3.7/dist-packages/nilearn/datasets/struct.py:774: UserWarning: `legacy_format` will default to `False` in release 0.11. Dataset fetchers will then return pandas dataframes by default instead of recarrays.\n",
            "  warnings.warn(_LEGACY_FORMAT_MSG)\n",
            "/usr/local/lib/python3.7/dist-packages/ipykernel_launcher.py:6: DeprecationWarning: get_data() is deprecated in favor of get_fdata(), which has a more predictable return type. To obtain get_data() behavior going forward, use numpy.asanyarray(img.dataobj).\n",
            "\n",
            "* deprecated from version: 3.0\n",
            "* Will raise <class 'nibabel.deprecator.ExpiredDeprecationError'> as of version: 5.0\n",
            "  \n"
          ]
        },
        {
          "output_type": "stream",
          "name": "stdout",
          "text": [
            "788 regions found in this atlas\n"
          ]
        },
        {
          "output_type": "stream",
          "name": "stderr",
          "text": [
            "/usr/local/lib/python3.7/dist-packages/nilearn/datasets/struct.py:774: UserWarning: `legacy_format` will default to `False` in release 0.11. Dataset fetchers will then return pandas dataframes by default instead of recarrays.\n",
            "  warnings.warn(_LEGACY_FORMAT_MSG)\n",
            "/usr/local/lib/python3.7/dist-packages/ipykernel_launcher.py:6: DeprecationWarning: get_data() is deprecated in favor of get_fdata(), which has a more predictable return type. To obtain get_data() behavior going forward, use numpy.asanyarray(img.dataobj).\n",
            "\n",
            "* deprecated from version: 3.0\n",
            "* Will raise <class 'nibabel.deprecator.ExpiredDeprecationError'> as of version: 5.0\n",
            "  \n"
          ]
        },
        {
          "output_type": "stream",
          "name": "stdout",
          "text": [
            "788 regions found in this atlas\n"
          ]
        },
        {
          "output_type": "stream",
          "name": "stderr",
          "text": [
            "/usr/local/lib/python3.7/dist-packages/nilearn/datasets/struct.py:774: UserWarning: `legacy_format` will default to `False` in release 0.11. Dataset fetchers will then return pandas dataframes by default instead of recarrays.\n",
            "  warnings.warn(_LEGACY_FORMAT_MSG)\n",
            "/usr/local/lib/python3.7/dist-packages/ipykernel_launcher.py:6: DeprecationWarning: get_data() is deprecated in favor of get_fdata(), which has a more predictable return type. To obtain get_data() behavior going forward, use numpy.asanyarray(img.dataobj).\n",
            "\n",
            "* deprecated from version: 3.0\n",
            "* Will raise <class 'nibabel.deprecator.ExpiredDeprecationError'> as of version: 5.0\n",
            "  \n"
          ]
        },
        {
          "output_type": "stream",
          "name": "stdout",
          "text": [
            "788 regions found in this atlas\n"
          ]
        },
        {
          "output_type": "stream",
          "name": "stderr",
          "text": [
            "/usr/local/lib/python3.7/dist-packages/nilearn/datasets/struct.py:774: UserWarning: `legacy_format` will default to `False` in release 0.11. Dataset fetchers will then return pandas dataframes by default instead of recarrays.\n",
            "  warnings.warn(_LEGACY_FORMAT_MSG)\n",
            "/usr/local/lib/python3.7/dist-packages/ipykernel_launcher.py:6: DeprecationWarning: get_data() is deprecated in favor of get_fdata(), which has a more predictable return type. To obtain get_data() behavior going forward, use numpy.asanyarray(img.dataobj).\n",
            "\n",
            "* deprecated from version: 3.0\n",
            "* Will raise <class 'nibabel.deprecator.ExpiredDeprecationError'> as of version: 5.0\n",
            "  \n"
          ]
        },
        {
          "output_type": "stream",
          "name": "stdout",
          "text": [
            "788 regions found in this atlas\n"
          ]
        },
        {
          "output_type": "stream",
          "name": "stderr",
          "text": [
            "/usr/local/lib/python3.7/dist-packages/nilearn/datasets/struct.py:774: UserWarning: `legacy_format` will default to `False` in release 0.11. Dataset fetchers will then return pandas dataframes by default instead of recarrays.\n",
            "  warnings.warn(_LEGACY_FORMAT_MSG)\n",
            "/usr/local/lib/python3.7/dist-packages/ipykernel_launcher.py:6: DeprecationWarning: get_data() is deprecated in favor of get_fdata(), which has a more predictable return type. To obtain get_data() behavior going forward, use numpy.asanyarray(img.dataobj).\n",
            "\n",
            "* deprecated from version: 3.0\n",
            "* Will raise <class 'nibabel.deprecator.ExpiredDeprecationError'> as of version: 5.0\n",
            "  \n"
          ]
        },
        {
          "output_type": "stream",
          "name": "stdout",
          "text": [
            "788 regions found in this atlas\n"
          ]
        }
      ]
    },
    {
      "cell_type": "code",
      "source": [
        "coefs = np.squeeze(coefs)"
      ],
      "metadata": {
        "id": "OJtKpno8g7LN"
      },
      "execution_count": null,
      "outputs": []
    },
    {
      "cell_type": "code",
      "source": [
        "nums = list(range(0,10))\n",
        "for x in nums:\n",
        "    l = np.count_nonzero(coefs[x]==0)\n",
        "    print(l)"
      ],
      "metadata": {
        "colab": {
          "base_uri": "https://localhost:8080/"
        },
        "id": "3CjHWOU1hCKg",
        "outputId": "f1349236-02d9-415b-c700-79c866ac2c8c"
      },
      "execution_count": null,
      "outputs": [
        {
          "output_type": "stream",
          "name": "stdout",
          "text": [
            "765\n",
            "774\n",
            "781\n",
            "783\n",
            "786\n",
            "786\n",
            "787\n",
            "788\n",
            "788\n",
            "788\n"
          ]
        }
      ]
    },
    {
      "cell_type": "markdown",
      "source": [
        "In this case, we go from 788 zeroed out input variables when alpha is 1 (bottom), to 765 zeroed out input variables when it is 0.1 (top). Let's see how the regularization path for the 23 variables that survive alpha = 0.1 "
      ],
      "metadata": {
        "id": "RWt5WlgTDMed"
      }
    },
    {
      "cell_type": "code",
      "source": [
        "ax = plt.gca()\n",
        "\n",
        "ax.plot(alpha_values, coefs)\n",
        "ax.set_xscale('log')\n",
        "plt.axis('tight')\n",
        "plt.xlabel('alpha')\n",
        "plt.ylabel('Standardized Coefficients')\n",
        "plt.title('Regularization path (lasso)');"
      ],
      "metadata": {
        "colab": {
          "base_uri": "https://localhost:8080/",
          "height": 299
        },
        "id": "KBQ07i2dhDeQ",
        "outputId": "d5690183-a12f-4553-c4db-4417f2e15e01"
      },
      "execution_count": null,
      "outputs": [
        {
          "output_type": "display_data",
          "data": {
            "text/plain": [
              "<Figure size 432x288 with 1 Axes>"
            ],
            "image/png": "[encoded data removed]"
          },
          "metadata": {
            "needs_background": "light"
          }
        }
      ]
    },
    {
      "cell_type": "markdown",
      "source": [
        "As with exercise 4.3, when alpha starts decreasing from 1 towards 0.1, we start seeing the shrinkage of a couple of variables surface. Interestingly, we soon get a positive weighting for one of the variables (limegreen color). It would be advantageous to know the name of that feature, in a real-world setting."
      ],
      "metadata": {
        "id": "d3fglEOnDlMA"
      }
    }
  ]
}