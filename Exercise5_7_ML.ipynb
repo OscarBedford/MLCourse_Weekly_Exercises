{
  "nbformat": 4,
  "nbformat_minor": 0,
  "metadata": {
    "colab": {
      "provenance": [],
      "collapsed_sections": [],
      "authorship_tag": "ABX9TyO/GArolAtZDoXpCvWsy6hN",
      "include_colab_link": true
    },
    "kernelspec": {
      "name": "python3",
      "display_name": "Python 3"
    },
    "language_info": {
      "name": "python"
    }
  },
  "cells": [
    {
      "cell_type": "markdown",
      "metadata": {
        "id": "view-in-github",
        "colab_type": "text"
      },
      "source": [
        "<a href=\"https://colab.research.google.com/github/OscarBedford/MLCourse_Weekly_Exercises/blob/main/Exercise5_7_ML.ipynb\" target=\"_parent\"><img src=\"https://colab.research.google.com/assets/colab-badge.svg\" alt=\"Open In Colab\"/></a>"
      ]
    },
    {
      "cell_type": "markdown",
      "source": [
        "Analogous to task 2, but predicting continuous subject age using sklearn.neighbors.KNeighborsRegressor(n_neighbors=1…10)"
      ],
      "metadata": {
        "id": "TCVfLWoPcj67"
      }
    },
    {
      "cell_type": "code",
      "execution_count": null,
      "metadata": {
        "colab": {
          "base_uri": "https://localhost:8080/"
        },
        "id": "3GOqJnkDchzA",
        "outputId": "4fbd4916-8732-4ad5-d372-2c99b6caa749"
      },
      "outputs": [
        {
          "output_type": "stream",
          "name": "stdout",
          "text": [
            "Looking in indexes: https://pypi.org/simple, https://us-python.pkg.dev/colab-wheels/public/simple/\n",
            "Collecting nilearn\n",
            "  Downloading nilearn-0.9.2-py3-none-any.whl (9.6 MB)\n",
            "\u001b[K     |████████████████████████████████| 9.6 MB 5.2 MB/s \n",
            "\u001b[?25hRequirement already satisfied: nibabel>=3.0.0 in /usr/local/lib/python3.7/dist-packages (from nilearn) (3.0.2)\n",
            "Requirement already satisfied: lxml in /usr/local/lib/python3.7/dist-packages (from nilearn) (4.9.1)\n",
            "Requirement already satisfied: scikit-learn>=0.22 in /usr/local/lib/python3.7/dist-packages (from nilearn) (1.0.2)\n",
            "Requirement already satisfied: numpy>=1.18 in /usr/local/lib/python3.7/dist-packages (from nilearn) (1.21.6)\n",
            "Requirement already satisfied: scipy>=1.5 in /usr/local/lib/python3.7/dist-packages (from nilearn) (1.7.3)\n",
            "Requirement already satisfied: pandas>=1.0 in /usr/local/lib/python3.7/dist-packages (from nilearn) (1.3.5)\n",
            "Requirement already satisfied: requests>=2 in /usr/local/lib/python3.7/dist-packages (from nilearn) (2.23.0)\n",
            "Requirement already satisfied: joblib>=0.15 in /usr/local/lib/python3.7/dist-packages (from nilearn) (1.2.0)\n",
            "Requirement already satisfied: pytz>=2017.3 in /usr/local/lib/python3.7/dist-packages (from pandas>=1.0->nilearn) (2022.4)\n",
            "Requirement already satisfied: python-dateutil>=2.7.3 in /usr/local/lib/python3.7/dist-packages (from pandas>=1.0->nilearn) (2.8.2)\n",
            "Requirement already satisfied: six>=1.5 in /usr/local/lib/python3.7/dist-packages (from python-dateutil>=2.7.3->pandas>=1.0->nilearn) (1.15.0)\n",
            "Requirement already satisfied: chardet<4,>=3.0.2 in /usr/local/lib/python3.7/dist-packages (from requests>=2->nilearn) (3.0.4)\n",
            "Requirement already satisfied: certifi>=2017.4.17 in /usr/local/lib/python3.7/dist-packages (from requests>=2->nilearn) (2022.9.24)\n",
            "Requirement already satisfied: urllib3!=1.25.0,!=1.25.1,<1.26,>=1.21.1 in /usr/local/lib/python3.7/dist-packages (from requests>=2->nilearn) (1.24.3)\n",
            "Requirement already satisfied: idna<3,>=2.5 in /usr/local/lib/python3.7/dist-packages (from requests>=2->nilearn) (2.10)\n",
            "Requirement already satisfied: threadpoolctl>=2.0.0 in /usr/local/lib/python3.7/dist-packages (from scikit-learn>=0.22->nilearn) (3.1.0)\n",
            "Installing collected packages: nilearn\n",
            "Successfully installed nilearn-0.9.2\n"
          ]
        }
      ],
      "source": [
        "!pip install nilearn"
      ]
    },
    {
      "cell_type": "code",
      "source": [
        "import numpy as np\n",
        "from nilearn import datasets\n",
        "from nilearn.input_data import NiftiLabelsMasker\n",
        "from nilearn.image import index_img\n",
        "from sklearn.preprocessing import StandardScaler\n",
        "import nibabel as nib\n",
        "brain_data = datasets.fetch_oasis_vbm(n_subjects=100)\n",
        "crad = datasets.fetch_atlas_craddock_2012()\n",
        "atlas_nii = index_img(crad['scorr_mean'], 42)\n",
        "masker = NiftiLabelsMasker(labels_img= atlas_nii, standardize=True)\n",
        "input_variables = masker.fit_transform(brain_data.gray_matter_maps)\n",
        "output_variable = StandardScaler().fit_transform(brain_data.ext_vars.age[:, None])[:, 0] # gives subject age on standard units after z-scoring"
      ],
      "metadata": {
        "colab": {
          "base_uri": "https://localhost:8080/"
        },
        "id": "6mF4kuAecslB",
        "outputId": "516dfa95-cf61-4293-d0ab-66e872aab495"
      },
      "execution_count": null,
      "outputs": [
        {
          "output_type": "stream",
          "name": "stderr",
          "text": [
            "/usr/local/lib/python3.7/dist-packages/nilearn/input_data/__init__.py:27: FutureWarning: The import path 'nilearn.input_data' is deprecated in version 0.9. Importing from 'nilearn.input_data' will be possible at least until release 0.13.0. Please import from 'nilearn.maskers' instead.\n",
            "  warnings.warn(message, FutureWarning)\n"
          ]
        },
        {
          "output_type": "stream",
          "name": "stdout",
          "text": [
            "\n",
            "Dataset created in /root/nilearn_data/oasis1\n",
            "\n",
            "Downloading data from https://www.nitrc.org/frs/download.php/6364/archive_dartel.tgz ...\n"
          ]
        },
        {
          "output_type": "stream",
          "name": "stderr",
          "text": [
            "Downloaded 900202496 of 905208634 bytes (99.4%,    0.1s remaining) ...done. (18 seconds, 0 min)\n",
            "Extracting data from /root/nilearn_data/oasis1/adcb228c7b26ed4f4fba93bd32bf8d97/archive_dartel.tgz..... done.\n",
            "/usr/local/lib/python3.7/dist-packages/nilearn/datasets/struct.py:774: UserWarning: `legacy_format` will default to `False` in release 0.11. Dataset fetchers will then return pandas dataframes by default instead of recarrays.\n",
            "  warnings.warn(_LEGACY_FORMAT_MSG)\n"
          ]
        },
        {
          "output_type": "stream",
          "name": "stdout",
          "text": [
            "\n",
            "Dataset created in /root/nilearn_data/craddock_2012\n",
            "\n",
            "Downloading data from http://cluster_roi.projects.nitrc.org/Parcellations/craddock_2011_parcellations.tar.gz ...\n"
          ]
        },
        {
          "output_type": "stream",
          "name": "stderr",
          "text": [
            " ...done. (0 seconds, 0 min)\n",
            "Extracting data from /root/nilearn_data/craddock_2012/64ec9dc239add5cb58c7248a4136b852/craddock_2011_parcellations.tar.gz..... done.\n"
          ]
        }
      ]
    },
    {
      "cell_type": "code",
      "source": [
        "import matplotlib.pyplot as plt\n",
        "from numpy import mean\n",
        "from numpy import std\n",
        "from sklearn.linear_model import LogisticRegression\n",
        "from sklearn.utils import resample\n",
        "from sklearn.preprocessing import StandardScaler\n",
        "scaler = StandardScaler()\n",
        "from sklearn.model_selection import train_test_split\n",
        "from sklearn.metrics import classification_report\n",
        "from sklearn.linear_model import Lasso\n",
        "from sklearn.model_selection import GridSearchCV\n",
        "import pandas as pd\n",
        "from sklearn.neighbors import KNeighborsRegressor"
      ],
      "metadata": {
        "id": "awLQjwA6cuyy"
      },
      "execution_count": null,
      "outputs": []
    },
    {
      "cell_type": "code",
      "source": [
        "# We prepare the model \n",
        "knn = KNeighborsRegressor"
      ],
      "metadata": {
        "id": "u_iImmSvc1vX"
      },
      "execution_count": null,
      "outputs": []
    },
    {
      "cell_type": "code",
      "source": [
        "# We define the iterating variable\n",
        "neighbours = [1, 2, 3, 4, 5, 6, 7, 8, 9, 10]"
      ],
      "metadata": {
        "id": "jpnxTQeuc5fA"
      },
      "execution_count": null,
      "outputs": []
    },
    {
      "cell_type": "code",
      "source": [
        "# We pre-allocate the variables we want to populate with accuracy scores\n",
        "knn_tr_acc = []\n",
        "knn_test_acc = []"
      ],
      "metadata": {
        "id": "iKHhbuS3dAk_"
      },
      "execution_count": null,
      "outputs": []
    },
    {
      "cell_type": "code",
      "source": [
        "for x in neighbours:\n",
        "\n",
        "    X, y = input_variables, output_variable\n",
        "    X_scaled = scaler.fit_transform(X)\n",
        "    X_train, X_test, y_train, y_test = train_test_split(X_scaled, y, test_size=0.2, shuffle=False)\n",
        "\n",
        "    kNN = knn(n_neighbors=(x)).fit(X_train,y_train) # We fit the kNN training model\n",
        "    score_k = kNN.score(X_train, y_train)\n",
        "    knn_tr_acc.append(score_k) # We store the scores\n",
        "    print('kNN training accuracy (coefficient of determination): %.2f' % ((score_k))) # We print the scores\n",
        "\n",
        "    yhat_k = kNN.predict(X_test) # We use the kNN model to predict and store its prediction as \"yhat\"\n",
        "    score_k = kNN.score(X_test, y_test) \n",
        "    knn_test_acc.append(score_k) # We store the scores\n",
        "    print('kNN test accuracy: %.2f (coefficient of determination)' % ((score_k))) # We print the scores"
      ],
      "metadata": {
        "colab": {
          "base_uri": "https://localhost:8080/"
        },
        "id": "BvRMvn_Zc9UI",
        "outputId": "2c8488ee-edeb-4384-8120-c89801aae9a4"
      },
      "execution_count": null,
      "outputs": [
        {
          "output_type": "stream",
          "name": "stdout",
          "text": [
            "kNN training accuracy (coefficient of determination): 1.00\n",
            "kNN test accuracy: -0.19 (coefficient of determination)\n",
            "kNN training accuracy (coefficient of determination): 0.85\n",
            "kNN test accuracy: 0.32 (coefficient of determination)\n",
            "kNN training accuracy (coefficient of determination): 0.80\n",
            "kNN test accuracy: 0.31 (coefficient of determination)\n",
            "kNN training accuracy (coefficient of determination): 0.75\n",
            "kNN test accuracy: 0.32 (coefficient of determination)\n",
            "kNN training accuracy (coefficient of determination): 0.74\n",
            "kNN test accuracy: 0.34 (coefficient of determination)\n",
            "kNN training accuracy (coefficient of determination): 0.70\n",
            "kNN test accuracy: 0.27 (coefficient of determination)\n",
            "kNN training accuracy (coefficient of determination): 0.67\n",
            "kNN test accuracy: 0.26 (coefficient of determination)\n",
            "kNN training accuracy (coefficient of determination): 0.65\n",
            "kNN test accuracy: 0.26 (coefficient of determination)\n",
            "kNN training accuracy (coefficient of determination): 0.61\n",
            "kNN test accuracy: 0.29 (coefficient of determination)\n",
            "kNN training accuracy (coefficient of determination): 0.61\n",
            "kNN test accuracy: 0.34 (coefficient of determination)\n"
          ]
        }
      ]
    },
    {
      "cell_type": "code",
      "source": [
        "# We're ready to plot\n",
        "plt.style.use(\"default\")\n",
        "plt.scatter(neighbours,knn_test_acc, s=100, alpha = 0.5, marker = 's')\n",
        "plt.gca().set(\n",
        "    title=\"Test set model accuracy as a function of number of k neighbours\",\n",
        "    xlabel=\"Number of k-neighbours\",\n",
        "    ylabel=\"Test set coefficient of determination for kNN models\",\n",
        "    xticks = (neighbours)\n",
        ")\n",
        "plt.show()"
      ],
      "metadata": {
        "colab": {
          "base_uri": "https://localhost:8080/",
          "height": 472
        },
        "id": "49KZ-5EddIHg",
        "outputId": "38660daa-0807-4aee-b329-348c7eb6715d"
      },
      "execution_count": null,
      "outputs": [
        {
          "output_type": "display_data",
          "data": {
            "text/plain": [
              "<Figure size 640x480 with 1 Axes>"
            ],
            "image/png": "[encoded data removed]"
          },
          "metadata": {}
        }
      ]
    },
    {
      "cell_type": "markdown",
      "source": [
        "It looks like kNN does really well, so long as the number of k-neighbours is not 1, which likely overfits the data."
      ],
      "metadata": {
        "id": "tY4iYSDNrJpb"
      }
    }
  ]
}