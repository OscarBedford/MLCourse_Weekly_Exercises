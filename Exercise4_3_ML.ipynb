{
  "nbformat": 4,
  "nbformat_minor": 0,
  "metadata": {
    "colab": {
      "provenance": [],
      "collapsed_sections": [],
      "authorship_tag": "ABX9TyNvQTsj1kQRgwuSonhjLlTV",
      "include_colab_link": true
    },
    "kernelspec": {
      "name": "python3",
      "display_name": "Python 3"
    },
    "language_info": {
      "name": "python"
    }
  },
  "cells": [
    {
      "cell_type": "markdown",
      "metadata": {
        "id": "view-in-github",
        "colab_type": "text"
      },
      "source": [
        "<a href=\"https://colab.research.google.com/github/OscarBedford/MLCourse_Weekly_Exercises/blob/main/Exercise4_3_ML.ipynb\" target=\"_parent\"><img src=\"https://colab.research.google.com/assets/colab-badge.svg\" alt=\"Open In Colab\"/></a>"
      ]
    },
    {
      "cell_type": "markdown",
      "source": [
        "Task 3 - The goal is to plot a ‘regularization path’ for a given classification problem. Use sklearn.linear_model.LogisticRegression(penalty=’l1’) to fit separate logistic predictive models based on max 1000 brain regions of interest (see ‘n_rois’ argument)\n",
        "based on the first 80% of the 100 structural brain scans to predict sex differences. Find a grid of 10 different values for the hyperparameter C, and fit a different LogReg model for\n",
        "each of these choices of C. Then plot the model parameter set with different colors (analogous to the regularization paths that were presented in the lecture, hyperparameter\n",
        "choice (C) on x axis, model parameter value on y axis), such that the extremes of this grid of increasing C values has all parameter in the model versus none of the parameters in the\n",
        "model. Called ‘regularization path’."
      ],
      "metadata": {
        "id": "RhH3TQgd00ot"
      }
    },
    {
      "cell_type": "code",
      "source": [
        "!pip install nilearn"
      ],
      "metadata": {
        "id": "6RIFPv0lyvkz"
      },
      "execution_count": null,
      "outputs": []
    },
    {
      "cell_type": "code",
      "source": [
        "import numpy as np\n",
        "from nilearn import datasets\n",
        "from nilearn.input_data import NiftiLabelsMasker\n",
        "from nilearn.image import index_img\n",
        "import nibabel as nib\n",
        "brain_data = datasets.fetch_oasis_vbm(n_subjects=100)\n",
        "yeo = datasets.fetch_atlas_schaefer_2018(n_rois=1000)\n",
        "masker = NiftiLabelsMasker(labels_img=yeo.maps, standardize=True,\n",
        "memory='nilearn_cache')\n",
        "input_variables =masker.fit_transform(brain_data.gray_matter_maps)\n",
        "output_variable = np.array(brain_data.ext_vars.mf == 'F',\n",
        "dtype=int) #gives 1 for females and 0 for males"
      ],
      "metadata": {
        "id": "ucSKM8yvy7y8"
      },
      "execution_count": null,
      "outputs": []
    },
    {
      "cell_type": "code",
      "source": [
        "import matplotlib.pyplot as plt\n",
        "from numpy import mean\n",
        "from numpy import std\n",
        "from sklearn.linear_model import LogisticRegression\n",
        "from sklearn.utils import resample\n",
        "from sklearn.preprocessing import StandardScaler\n",
        "scaler = StandardScaler()\n",
        "from sklearn.model_selection import train_test_split\n",
        "from sklearn.metrics import classification_report\n",
        "from sklearn.linear_model import Lasso\n",
        "from sklearn.model_selection import GridSearchCV\n",
        "import pandas as pd"
      ],
      "metadata": {
        "id": "KsuglOMJyxCU"
      },
      "execution_count": null,
      "outputs": []
    },
    {
      "cell_type": "code",
      "source": [
        "# We use GridSearchCV to compute a grid for the C parameter\n",
        "clf = GridSearchCV(LogisticRegression(max_iter=1e4,penalty='l1',solver = 'saga'), {\n",
        "          'C' : np.linspace(0.05,0.2,10) # we set the grid to go from 0.05 to 0.2 in evenly-spaced steps of 10\n",
        "}, cv = 10) # we will use 10 folds for cross-validation\n",
        "\n",
        "# We rename and scale the X and y variables\n",
        "X, y = input_variables, output_variable\n",
        "X_scaled = scaler.fit_transform(X)\n",
        "X_train, X_test, y_train, y_test = train_test_split(X_scaled, y, test_size=0.2, shuffle=False)\n",
        "\n",
        "# We fit the GridSearch model and display the results\n",
        "clf.fit(X_train, y_train)\n",
        "clf.cv_results_"
      ],
      "metadata": {
        "colab": {
          "base_uri": "https://localhost:8080/"
        },
        "id": "etRdO0wDzcah",
        "outputId": "cab1c388-d153-4f87-8bf0-c97d60978585"
      },
      "execution_count": 33,
      "outputs": [
        {
          "output_type": "execute_result",
          "data": {
            "text/plain": [
              "{'mean_fit_time': array([0.02007165, 0.44820895, 1.01084352, 0.99123521, 1.03824728,\n",
              "        1.0690614 , 1.08150649, 1.13572795, 1.27654059, 1.47013726]),\n",
              " 'std_fit_time': array([0.00624006, 0.51087219, 0.30259459, 0.16971394, 0.21561901,\n",
              "        0.26325706, 0.26624937, 0.23735556, 0.26263828, 0.25181703]),\n",
              " 'mean_score_time': array([0.0005029 , 0.00045514, 0.00056388, 0.00050452, 0.0005079 ,\n",
              "        0.00051942, 0.00049965, 0.00050845, 0.00050731, 0.00050807]),\n",
              " 'std_score_time': array([3.48676963e-05, 7.57446483e-05, 1.36193927e-04, 1.74115605e-05,\n",
              "        2.30147543e-05, 3.52445566e-05, 1.91810822e-05, 3.59060596e-05,\n",
              "        2.84162142e-05, 2.04676483e-05]),\n",
              " 'param_C': masked_array(data=[0.05, 0.06666666666666668, 0.08333333333333334, 0.1,\n",
              "                    0.11666666666666668, 0.13333333333333336,\n",
              "                    0.15000000000000002, 0.16666666666666669,\n",
              "                    0.18333333333333335, 0.2],\n",
              "              mask=[False, False, False, False, False, False, False, False,\n",
              "                    False, False],\n",
              "        fill_value='?',\n",
              "             dtype=object),\n",
              " 'params': [{'C': 0.05},\n",
              "  {'C': 0.06666666666666668},\n",
              "  {'C': 0.08333333333333334},\n",
              "  {'C': 0.1},\n",
              "  {'C': 0.11666666666666668},\n",
              "  {'C': 0.13333333333333336},\n",
              "  {'C': 0.15000000000000002},\n",
              "  {'C': 0.16666666666666669},\n",
              "  {'C': 0.18333333333333335},\n",
              "  {'C': 0.2}],\n",
              " 'split0_test_score': array([0.75 , 0.75 , 0.75 , 0.75 , 0.875, 0.875, 0.875, 0.875, 0.875,\n",
              "        0.875]),\n",
              " 'split1_test_score': array([0.75 , 0.75 , 0.75 , 0.75 , 0.75 , 0.75 , 0.75 , 0.625, 0.625,\n",
              "        0.625]),\n",
              " 'split2_test_score': array([0.75 , 0.75 , 0.75 , 0.75 , 0.75 , 0.875, 0.75 , 0.75 , 0.75 ,\n",
              "        0.75 ]),\n",
              " 'split3_test_score': array([0.75, 0.75, 0.75, 0.75, 0.75, 0.75, 0.75, 0.75, 0.75, 0.75]),\n",
              " 'split4_test_score': array([0.75 , 0.75 , 0.75 , 0.75 , 0.75 , 0.75 , 0.75 , 0.75 , 0.625,\n",
              "        0.625]),\n",
              " 'split5_test_score': array([0.625, 0.625, 0.625, 0.625, 0.625, 0.75 , 0.75 , 0.75 , 0.75 ,\n",
              "        0.75 ]),\n",
              " 'split6_test_score': array([0.625, 0.625, 0.625, 0.625, 0.625, 0.625, 0.625, 0.625, 0.625,\n",
              "        0.625]),\n",
              " 'split7_test_score': array([0.625, 0.625, 0.625, 0.625, 0.625, 0.75 , 0.75 , 0.75 , 0.875,\n",
              "        0.875]),\n",
              " 'split8_test_score': array([0.625, 0.625, 0.625, 0.5  , 0.5  , 0.5  , 0.5  , 0.5  , 0.5  ,\n",
              "        0.5  ]),\n",
              " 'split9_test_score': array([0.625, 0.625, 0.625, 0.625, 0.625, 0.625, 0.5  , 0.5  , 0.5  ,\n",
              "        0.5  ]),\n",
              " 'mean_test_score': array([0.6875, 0.6875, 0.6875, 0.675 , 0.6875, 0.725 , 0.7   , 0.6875,\n",
              "        0.6875, 0.6875]),\n",
              " 'std_test_score': array([0.0625    , 0.0625    , 0.0625    , 0.08291562, 0.10077822,\n",
              "        0.10897247, 0.11456439, 0.11524431, 0.12808688, 0.12808688]),\n",
              " 'rank_test_score': array([ 3,  3,  3, 10,  3,  1,  2,  3,  3,  3], dtype=int32)}"
            ]
          },
          "metadata": {},
          "execution_count": 33
        }
      ]
    },
    {
      "cell_type": "code",
      "source": [
        "# We turn the results into a pandas dataframe\n",
        "df = pd.DataFrame(clf.cv_results_) \n",
        "df"
      ],
      "metadata": {
        "colab": {
          "base_uri": "https://localhost:8080/",
          "height": 548
        },
        "id": "RzX8fNgC5Atu",
        "outputId": "19275c4d-f9d7-43cd-f2d1-634ab5fc004c"
      },
      "execution_count": 34,
      "outputs": [
        {
          "output_type": "execute_result",
          "data": {
            "text/plain": [
              "   mean_fit_time  std_fit_time  mean_score_time  std_score_time   param_C  \\\n",
              "0       0.020072      0.006240         0.000503        0.000035      0.05   \n",
              "1       0.448209      0.510872         0.000455        0.000076  0.066667   \n",
              "2       1.010844      0.302595         0.000564        0.000136  0.083333   \n",
              "3       0.991235      0.169714         0.000505        0.000017       0.1   \n",
              "4       1.038247      0.215619         0.000508        0.000023  0.116667   \n",
              "5       1.069061      0.263257         0.000519        0.000035  0.133333   \n",
              "6       1.081506      0.266249         0.000500        0.000019      0.15   \n",
              "7       1.135728      0.237356         0.000508        0.000036  0.166667   \n",
              "8       1.276541      0.262638         0.000507        0.000028  0.183333   \n",
              "9       1.470137      0.251817         0.000508        0.000020       0.2   \n",
              "\n",
              "                       params  split0_test_score  split1_test_score  \\\n",
              "0                 {'C': 0.05}              0.750              0.750   \n",
              "1  {'C': 0.06666666666666668}              0.750              0.750   \n",
              "2  {'C': 0.08333333333333334}              0.750              0.750   \n",
              "3                  {'C': 0.1}              0.750              0.750   \n",
              "4  {'C': 0.11666666666666668}              0.875              0.750   \n",
              "5  {'C': 0.13333333333333336}              0.875              0.750   \n",
              "6  {'C': 0.15000000000000002}              0.875              0.750   \n",
              "7  {'C': 0.16666666666666669}              0.875              0.625   \n",
              "8  {'C': 0.18333333333333335}              0.875              0.625   \n",
              "9                  {'C': 0.2}              0.875              0.625   \n",
              "\n",
              "   split2_test_score  split3_test_score  split4_test_score  split5_test_score  \\\n",
              "0              0.750               0.75              0.750              0.625   \n",
              "1              0.750               0.75              0.750              0.625   \n",
              "2              0.750               0.75              0.750              0.625   \n",
              "3              0.750               0.75              0.750              0.625   \n",
              "4              0.750               0.75              0.750              0.625   \n",
              "5              0.875               0.75              0.750              0.750   \n",
              "6              0.750               0.75              0.750              0.750   \n",
              "7              0.750               0.75              0.750              0.750   \n",
              "8              0.750               0.75              0.625              0.750   \n",
              "9              0.750               0.75              0.625              0.750   \n",
              "\n",
              "   split6_test_score  split7_test_score  split8_test_score  split9_test_score  \\\n",
              "0              0.625              0.625              0.625              0.625   \n",
              "1              0.625              0.625              0.625              0.625   \n",
              "2              0.625              0.625              0.625              0.625   \n",
              "3              0.625              0.625              0.500              0.625   \n",
              "4              0.625              0.625              0.500              0.625   \n",
              "5              0.625              0.750              0.500              0.625   \n",
              "6              0.625              0.750              0.500              0.500   \n",
              "7              0.625              0.750              0.500              0.500   \n",
              "8              0.625              0.875              0.500              0.500   \n",
              "9              0.625              0.875              0.500              0.500   \n",
              "\n",
              "   mean_test_score  std_test_score  rank_test_score  \n",
              "0           0.6875        0.062500                3  \n",
              "1           0.6875        0.062500                3  \n",
              "2           0.6875        0.062500                3  \n",
              "3           0.6750        0.082916               10  \n",
              "4           0.6875        0.100778                3  \n",
              "5           0.7250        0.108972                1  \n",
              "6           0.7000        0.114564                2  \n",
              "7           0.6875        0.115244                3  \n",
              "8           0.6875        0.128087                3  \n",
              "9           0.6875        0.128087                3  "
            ],
            "text/html": [
              "\n",
              "  <div id=\"df-91cc2873-9d69-48db-bd97-55bb0e74478b\">\n",
              "    <div class=\"colab-df-container\">\n",
              "      <div>\n",
              "<style scoped>\n",
              "    .dataframe tbody tr th:only-of-type {\n",
              "        vertical-align: middle;\n",
              "    }\n",
              "\n",
              "    .dataframe tbody tr th {\n",
              "        vertical-align: top;\n",
              "    }\n",
              "\n",
              "    .dataframe thead th {\n",
              "        text-align: right;\n",
              "    }\n",
              "</style>\n",
              "<table border=\"1\" class=\"dataframe\">\n",
              "  <thead>\n",
              "    <tr style=\"text-align: right;\">\n",
              "      <th></th>\n",
              "      <th>mean_fit_time</th>\n",
              "      <th>std_fit_time</th>\n",
              "      <th>mean_score_time</th>\n",
              "      <th>std_score_time</th>\n",
              "      <th>param_C</th>\n",
              "      <th>params</th>\n",
              "      <th>split0_test_score</th>\n",
              "      <th>split1_test_score</th>\n",
              "      <th>split2_test_score</th>\n",
              "      <th>split3_test_score</th>\n",
              "      <th>split4_test_score</th>\n",
              "      <th>split5_test_score</th>\n",
              "      <th>split6_test_score</th>\n",
              "      <th>split7_test_score</th>\n",
              "      <th>split8_test_score</th>\n",
              "      <th>split9_test_score</th>\n",
              "      <th>mean_test_score</th>\n",
              "      <th>std_test_score</th>\n",
              "      <th>rank_test_score</th>\n",
              "    </tr>\n",
              "  </thead>\n",
              "  <tbody>\n",
              "    <tr>\n",
              "      <th>0</th>\n",
              "      <td>0.020072</td>\n",
              "      <td>0.006240</td>\n",
              "      <td>0.000503</td>\n",
              "      <td>0.000035</td>\n",
              "      <td>0.05</td>\n",
              "      <td>{'C': 0.05}</td>\n",
              "      <td>0.750</td>\n",
              "      <td>0.750</td>\n",
              "      <td>0.750</td>\n",
              "      <td>0.75</td>\n",
              "      <td>0.750</td>\n",
              "      <td>0.625</td>\n",
              "      <td>0.625</td>\n",
              "      <td>0.625</td>\n",
              "      <td>0.625</td>\n",
              "      <td>0.625</td>\n",
              "      <td>0.6875</td>\n",
              "      <td>0.062500</td>\n",
              "      <td>3</td>\n",
              "    </tr>\n",
              "    <tr>\n",
              "      <th>1</th>\n",
              "      <td>0.448209</td>\n",
              "      <td>0.510872</td>\n",
              "      <td>0.000455</td>\n",
              "      <td>0.000076</td>\n",
              "      <td>0.066667</td>\n",
              "      <td>{'C': 0.06666666666666668}</td>\n",
              "      <td>0.750</td>\n",
              "      <td>0.750</td>\n",
              "      <td>0.750</td>\n",
              "      <td>0.75</td>\n",
              "      <td>0.750</td>\n",
              "      <td>0.625</td>\n",
              "      <td>0.625</td>\n",
              "      <td>0.625</td>\n",
              "      <td>0.625</td>\n",
              "      <td>0.625</td>\n",
              "      <td>0.6875</td>\n",
              "      <td>0.062500</td>\n",
              "      <td>3</td>\n",
              "    </tr>\n",
              "    <tr>\n",
              "      <th>2</th>\n",
              "      <td>1.010844</td>\n",
              "      <td>0.302595</td>\n",
              "      <td>0.000564</td>\n",
              "      <td>0.000136</td>\n",
              "      <td>0.083333</td>\n",
              "      <td>{'C': 0.08333333333333334}</td>\n",
              "      <td>0.750</td>\n",
              "      <td>0.750</td>\n",
              "      <td>0.750</td>\n",
              "      <td>0.75</td>\n",
              "      <td>0.750</td>\n",
              "      <td>0.625</td>\n",
              "      <td>0.625</td>\n",
              "      <td>0.625</td>\n",
              "      <td>0.625</td>\n",
              "      <td>0.625</td>\n",
              "      <td>0.6875</td>\n",
              "      <td>0.062500</td>\n",
              "      <td>3</td>\n",
              "    </tr>\n",
              "    <tr>\n",
              "      <th>3</th>\n",
              "      <td>0.991235</td>\n",
              "      <td>0.169714</td>\n",
              "      <td>0.000505</td>\n",
              "      <td>0.000017</td>\n",
              "      <td>0.1</td>\n",
              "      <td>{'C': 0.1}</td>\n",
              "      <td>0.750</td>\n",
              "      <td>0.750</td>\n",
              "      <td>0.750</td>\n",
              "      <td>0.75</td>\n",
              "      <td>0.750</td>\n",
              "      <td>0.625</td>\n",
              "      <td>0.625</td>\n",
              "      <td>0.625</td>\n",
              "      <td>0.500</td>\n",
              "      <td>0.625</td>\n",
              "      <td>0.6750</td>\n",
              "      <td>0.082916</td>\n",
              "      <td>10</td>\n",
              "    </tr>\n",
              "    <tr>\n",
              "      <th>4</th>\n",
              "      <td>1.038247</td>\n",
              "      <td>0.215619</td>\n",
              "      <td>0.000508</td>\n",
              "      <td>0.000023</td>\n",
              "      <td>0.116667</td>\n",
              "      <td>{'C': 0.11666666666666668}</td>\n",
              "      <td>0.875</td>\n",
              "      <td>0.750</td>\n",
              "      <td>0.750</td>\n",
              "      <td>0.75</td>\n",
              "      <td>0.750</td>\n",
              "      <td>0.625</td>\n",
              "      <td>0.625</td>\n",
              "      <td>0.625</td>\n",
              "      <td>0.500</td>\n",
              "      <td>0.625</td>\n",
              "      <td>0.6875</td>\n",
              "      <td>0.100778</td>\n",
              "      <td>3</td>\n",
              "    </tr>\n",
              "    <tr>\n",
              "      <th>5</th>\n",
              "      <td>1.069061</td>\n",
              "      <td>0.263257</td>\n",
              "      <td>0.000519</td>\n",
              "      <td>0.000035</td>\n",
              "      <td>0.133333</td>\n",
              "      <td>{'C': 0.13333333333333336}</td>\n",
              "      <td>0.875</td>\n",
              "      <td>0.750</td>\n",
              "      <td>0.875</td>\n",
              "      <td>0.75</td>\n",
              "      <td>0.750</td>\n",
              "      <td>0.750</td>\n",
              "      <td>0.625</td>\n",
              "      <td>0.750</td>\n",
              "      <td>0.500</td>\n",
              "      <td>0.625</td>\n",
              "      <td>0.7250</td>\n",
              "      <td>0.108972</td>\n",
              "      <td>1</td>\n",
              "    </tr>\n",
              "    <tr>\n",
              "      <th>6</th>\n",
              "      <td>1.081506</td>\n",
              "      <td>0.266249</td>\n",
              "      <td>0.000500</td>\n",
              "      <td>0.000019</td>\n",
              "      <td>0.15</td>\n",
              "      <td>{'C': 0.15000000000000002}</td>\n",
              "      <td>0.875</td>\n",
              "      <td>0.750</td>\n",
              "      <td>0.750</td>\n",
              "      <td>0.75</td>\n",
              "      <td>0.750</td>\n",
              "      <td>0.750</td>\n",
              "      <td>0.625</td>\n",
              "      <td>0.750</td>\n",
              "      <td>0.500</td>\n",
              "      <td>0.500</td>\n",
              "      <td>0.7000</td>\n",
              "      <td>0.114564</td>\n",
              "      <td>2</td>\n",
              "    </tr>\n",
              "    <tr>\n",
              "      <th>7</th>\n",
              "      <td>1.135728</td>\n",
              "      <td>0.237356</td>\n",
              "      <td>0.000508</td>\n",
              "      <td>0.000036</td>\n",
              "      <td>0.166667</td>\n",
              "      <td>{'C': 0.16666666666666669}</td>\n",
              "      <td>0.875</td>\n",
              "      <td>0.625</td>\n",
              "      <td>0.750</td>\n",
              "      <td>0.75</td>\n",
              "      <td>0.750</td>\n",
              "      <td>0.750</td>\n",
              "      <td>0.625</td>\n",
              "      <td>0.750</td>\n",
              "      <td>0.500</td>\n",
              "      <td>0.500</td>\n",
              "      <td>0.6875</td>\n",
              "      <td>0.115244</td>\n",
              "      <td>3</td>\n",
              "    </tr>\n",
              "    <tr>\n",
              "      <th>8</th>\n",
              "      <td>1.276541</td>\n",
              "      <td>0.262638</td>\n",
              "      <td>0.000507</td>\n",
              "      <td>0.000028</td>\n",
              "      <td>0.183333</td>\n",
              "      <td>{'C': 0.18333333333333335}</td>\n",
              "      <td>0.875</td>\n",
              "      <td>0.625</td>\n",
              "      <td>0.750</td>\n",
              "      <td>0.75</td>\n",
              "      <td>0.625</td>\n",
              "      <td>0.750</td>\n",
              "      <td>0.625</td>\n",
              "      <td>0.875</td>\n",
              "      <td>0.500</td>\n",
              "      <td>0.500</td>\n",
              "      <td>0.6875</td>\n",
              "      <td>0.128087</td>\n",
              "      <td>3</td>\n",
              "    </tr>\n",
              "    <tr>\n",
              "      <th>9</th>\n",
              "      <td>1.470137</td>\n",
              "      <td>0.251817</td>\n",
              "      <td>0.000508</td>\n",
              "      <td>0.000020</td>\n",
              "      <td>0.2</td>\n",
              "      <td>{'C': 0.2}</td>\n",
              "      <td>0.875</td>\n",
              "      <td>0.625</td>\n",
              "      <td>0.750</td>\n",
              "      <td>0.75</td>\n",
              "      <td>0.625</td>\n",
              "      <td>0.750</td>\n",
              "      <td>0.625</td>\n",
              "      <td>0.875</td>\n",
              "      <td>0.500</td>\n",
              "      <td>0.500</td>\n",
              "      <td>0.6875</td>\n",
              "      <td>0.128087</td>\n",
              "      <td>3</td>\n",
              "    </tr>\n",
              "  </tbody>\n",
              "</table>\n",
              "</div>\n",
              "      <button class=\"colab-df-convert\" onclick=\"convertToInteractive('df-91cc2873-9d69-48db-bd97-55bb0e74478b')\"\n",
              "              title=\"Convert this dataframe to an interactive table.\"\n",
              "              style=\"display:none;\">\n",
              "        \n",
              "  <svg xmlns=\"http://www.w3.org/2000/svg\" height=\"24px\"viewBox=\"0 0 24 24\"\n",
              "       width=\"24px\">\n",
              "    <path d=\"M0 0h24v24H0V0z\" fill=\"none\"/>\n",
              "    <path d=\"M18.56 5.44l.94 2.06.94-2.06 2.06-.94-2.06-.94-.94-2.06-.94 2.06-2.06.94zm-11 1L8.5 8.5l.94-2.06 2.06-.94-2.06-.94L8.5 2.5l-.94 2.06-2.06.94zm10 10l.94 2.06.94-2.06 2.06-.94-2.06-.94-.94-2.06-.94 2.06-2.06.94z\"/><path d=\"M17.41 7.96l-1.37-1.37c-.4-.4-.92-.59-1.43-.59-.52 0-1.04.2-1.43.59L10.3 9.45l-7.72 7.72c-.78.78-.78 2.05 0 2.83L4 21.41c.39.39.9.59 1.41.59.51 0 1.02-.2 1.41-.59l7.78-7.78 2.81-2.81c.8-.78.8-2.07 0-2.86zM5.41 20L4 18.59l7.72-7.72 1.47 1.35L5.41 20z\"/>\n",
              "  </svg>\n",
              "      </button>\n",
              "      \n",
              "  <style>\n",
              "    .colab-df-container {\n",
              "      display:flex;\n",
              "      flex-wrap:wrap;\n",
              "      gap: 12px;\n",
              "    }\n",
              "\n",
              "    .colab-df-convert {\n",
              "      background-color: #E8F0FE;\n",
              "      border: none;\n",
              "      border-radius: 50%;\n",
              "      cursor: pointer;\n",
              "      display: none;\n",
              "      fill: #1967D2;\n",
              "      height: 32px;\n",
              "      padding: 0 0 0 0;\n",
              "      width: 32px;\n",
              "    }\n",
              "\n",
              "    .colab-df-convert:hover {\n",
              "      background-color: #E2EBFA;\n",
              "      box-shadow: 0px 1px 2px rgba(60, 64, 67, 0.3), 0px 1px 3px 1px rgba(60, 64, 67, 0.15);\n",
              "      fill: #174EA6;\n",
              "    }\n",
              "\n",
              "    [theme=dark] .colab-df-convert {\n",
              "      background-color: #3B4455;\n",
              "      fill: #D2E3FC;\n",
              "    }\n",
              "\n",
              "    [theme=dark] .colab-df-convert:hover {\n",
              "      background-color: #434B5C;\n",
              "      box-shadow: 0px 1px 3px 1px rgba(0, 0, 0, 0.15);\n",
              "      filter: drop-shadow(0px 1px 2px rgba(0, 0, 0, 0.3));\n",
              "      fill: #FFFFFF;\n",
              "    }\n",
              "  </style>\n",
              "\n",
              "      <script>\n",
              "        const buttonEl =\n",
              "          document.querySelector('#df-91cc2873-9d69-48db-bd97-55bb0e74478b button.colab-df-convert');\n",
              "        buttonEl.style.display =\n",
              "          google.colab.kernel.accessAllowed ? 'block' : 'none';\n",
              "\n",
              "        async function convertToInteractive(key) {\n",
              "          const element = document.querySelector('#df-91cc2873-9d69-48db-bd97-55bb0e74478b');\n",
              "          const dataTable =\n",
              "            await google.colab.kernel.invokeFunction('convertToInteractive',\n",
              "                                                     [key], {});\n",
              "          if (!dataTable) return;\n",
              "\n",
              "          const docLinkHtml = 'Like what you see? Visit the ' +\n",
              "            '<a target=\"_blank\" href=https://colab.research.google.com/notebooks/data_table.ipynb>data table notebook</a>'\n",
              "            + ' to learn more about interactive tables.';\n",
              "          element.innerHTML = '';\n",
              "          dataTable['output_type'] = 'display_data';\n",
              "          await google.colab.output.renderOutput(dataTable, element);\n",
              "          const docLink = document.createElement('div');\n",
              "          docLink.innerHTML = docLinkHtml;\n",
              "          element.appendChild(docLink);\n",
              "        }\n",
              "      </script>\n",
              "    </div>\n",
              "  </div>\n",
              "  "
            ]
          },
          "metadata": {},
          "execution_count": 34
        }
      ]
    },
    {
      "cell_type": "code",
      "source": [
        "# We get the iterating variable ready and pre-allocate the variable where the coefficients will go\n",
        "C_values = df.param_C\n",
        "coefs = []"
      ],
      "metadata": {
        "id": "YD4UEwGwAU11"
      },
      "execution_count": 35,
      "outputs": []
    },
    {
      "cell_type": "code",
      "source": [
        "for x in C_values: \n",
        "    brain_data = datasets.fetch_oasis_vbm(n_subjects=100) \n",
        "    yeo = datasets.fetch_atlas_schaefer_2018(n_rois=(1000))  # The ROI value is left constant here\n",
        "    masker = NiftiLabelsMasker(labels_img=yeo.maps, standardize=True, memory='nilearn_cache') \n",
        "    input_variables = masker.fit_transform(brain_data.gray_matter_maps) \n",
        "    output_variable = np.array(brain_data.ext_vars.mf == 'F', dtype=np.int)\n",
        "\n",
        "    lasso = LogisticRegression(max_iter=1e4, penalty = 'l1', C = (x), solver = 'saga').fit\n",
        "\n",
        "    X, y = input_variables, output_variable\n",
        "    X_scaled = scaler.fit_transform(X)\n",
        "    X_train, X_test, y_train, y_test = train_test_split(X_scaled, y, test_size=0.2, shuffle=False)\n",
        "\n",
        "    LassoReg = lasso(X_train,y_train) # We fit the LR model\n",
        "    score_L = LassoReg.score(X_train, y_train)\n",
        "    score_L = np.multiply(score_L, 100)\n",
        "    coefs.append(LassoReg.coef_) \n",
        "    print('Lasso training accuracy: %.2f' % ((score_L))) # We print the score for each iteration"
      ],
      "metadata": {
        "colab": {
          "base_uri": "https://localhost:8080/"
        },
        "id": "pw4x1rkR_Rfs",
        "outputId": "eb795bf6-61e3-4d1e-9208-58240e854dae"
      },
      "execution_count": 36,
      "outputs": [
        {
          "output_type": "stream",
          "name": "stderr",
          "text": [
            "/usr/local/lib/python3.7/dist-packages/nilearn/datasets/struct.py:774: UserWarning: `legacy_format` will default to `False` in release 0.11. Dataset fetchers will then return pandas dataframes by default instead of recarrays.\n",
            "  warnings.warn(_LEGACY_FORMAT_MSG)\n",
            "/usr/local/lib/python3.7/dist-packages/ipykernel_launcher.py:6: DeprecationWarning: `np.int` is a deprecated alias for the builtin `int`. To silence this warning, use `int` by itself. Doing this will not modify any behavior and is safe. When replacing `np.int`, you may wish to use e.g. `np.int64` or `np.int32` to specify the precision. If you wish to review your current use, check the release note link for additional information.\n",
            "Deprecated in NumPy 1.20; for more details and guidance: https://numpy.org/devdocs/release/1.20.0-notes.html#deprecations\n",
            "  \n",
            "/usr/local/lib/python3.7/dist-packages/nilearn/datasets/struct.py:774: UserWarning: `legacy_format` will default to `False` in release 0.11. Dataset fetchers will then return pandas dataframes by default instead of recarrays.\n",
            "  warnings.warn(_LEGACY_FORMAT_MSG)\n"
          ]
        },
        {
          "output_type": "stream",
          "name": "stdout",
          "text": [
            "Lasso training accuracy: 68.75\n"
          ]
        },
        {
          "output_type": "stream",
          "name": "stderr",
          "text": [
            "/usr/local/lib/python3.7/dist-packages/ipykernel_launcher.py:6: DeprecationWarning: `np.int` is a deprecated alias for the builtin `int`. To silence this warning, use `int` by itself. Doing this will not modify any behavior and is safe. When replacing `np.int`, you may wish to use e.g. `np.int64` or `np.int32` to specify the precision. If you wish to review your current use, check the release note link for additional information.\n",
            "Deprecated in NumPy 1.20; for more details and guidance: https://numpy.org/devdocs/release/1.20.0-notes.html#deprecations\n",
            "  \n"
          ]
        },
        {
          "output_type": "stream",
          "name": "stdout",
          "text": [
            "Lasso training accuracy: 68.75\n"
          ]
        },
        {
          "output_type": "stream",
          "name": "stderr",
          "text": [
            "/usr/local/lib/python3.7/dist-packages/nilearn/datasets/struct.py:774: UserWarning: `legacy_format` will default to `False` in release 0.11. Dataset fetchers will then return pandas dataframes by default instead of recarrays.\n",
            "  warnings.warn(_LEGACY_FORMAT_MSG)\n",
            "/usr/local/lib/python3.7/dist-packages/ipykernel_launcher.py:6: DeprecationWarning: `np.int` is a deprecated alias for the builtin `int`. To silence this warning, use `int` by itself. Doing this will not modify any behavior and is safe. When replacing `np.int`, you may wish to use e.g. `np.int64` or `np.int32` to specify the precision. If you wish to review your current use, check the release note link for additional information.\n",
            "Deprecated in NumPy 1.20; for more details and guidance: https://numpy.org/devdocs/release/1.20.0-notes.html#deprecations\n",
            "  \n"
          ]
        },
        {
          "output_type": "stream",
          "name": "stdout",
          "text": [
            "Lasso training accuracy: 68.75\n"
          ]
        },
        {
          "output_type": "stream",
          "name": "stderr",
          "text": [
            "/usr/local/lib/python3.7/dist-packages/nilearn/datasets/struct.py:774: UserWarning: `legacy_format` will default to `False` in release 0.11. Dataset fetchers will then return pandas dataframes by default instead of recarrays.\n",
            "  warnings.warn(_LEGACY_FORMAT_MSG)\n",
            "/usr/local/lib/python3.7/dist-packages/ipykernel_launcher.py:6: DeprecationWarning: `np.int` is a deprecated alias for the builtin `int`. To silence this warning, use `int` by itself. Doing this will not modify any behavior and is safe. When replacing `np.int`, you may wish to use e.g. `np.int64` or `np.int32` to specify the precision. If you wish to review your current use, check the release note link for additional information.\n",
            "Deprecated in NumPy 1.20; for more details and guidance: https://numpy.org/devdocs/release/1.20.0-notes.html#deprecations\n",
            "  \n"
          ]
        },
        {
          "output_type": "stream",
          "name": "stdout",
          "text": [
            "Lasso training accuracy: 72.50\n"
          ]
        },
        {
          "output_type": "stream",
          "name": "stderr",
          "text": [
            "/usr/local/lib/python3.7/dist-packages/nilearn/datasets/struct.py:774: UserWarning: `legacy_format` will default to `False` in release 0.11. Dataset fetchers will then return pandas dataframes by default instead of recarrays.\n",
            "  warnings.warn(_LEGACY_FORMAT_MSG)\n",
            "/usr/local/lib/python3.7/dist-packages/ipykernel_launcher.py:6: DeprecationWarning: `np.int` is a deprecated alias for the builtin `int`. To silence this warning, use `int` by itself. Doing this will not modify any behavior and is safe. When replacing `np.int`, you may wish to use e.g. `np.int64` or `np.int32` to specify the precision. If you wish to review your current use, check the release note link for additional information.\n",
            "Deprecated in NumPy 1.20; for more details and guidance: https://numpy.org/devdocs/release/1.20.0-notes.html#deprecations\n",
            "  \n"
          ]
        },
        {
          "output_type": "stream",
          "name": "stdout",
          "text": [
            "Lasso training accuracy: 77.50\n"
          ]
        },
        {
          "output_type": "stream",
          "name": "stderr",
          "text": [
            "/usr/local/lib/python3.7/dist-packages/nilearn/datasets/struct.py:774: UserWarning: `legacy_format` will default to `False` in release 0.11. Dataset fetchers will then return pandas dataframes by default instead of recarrays.\n",
            "  warnings.warn(_LEGACY_FORMAT_MSG)\n",
            "/usr/local/lib/python3.7/dist-packages/ipykernel_launcher.py:6: DeprecationWarning: `np.int` is a deprecated alias for the builtin `int`. To silence this warning, use `int` by itself. Doing this will not modify any behavior and is safe. When replacing `np.int`, you may wish to use e.g. `np.int64` or `np.int32` to specify the precision. If you wish to review your current use, check the release note link for additional information.\n",
            "Deprecated in NumPy 1.20; for more details and guidance: https://numpy.org/devdocs/release/1.20.0-notes.html#deprecations\n",
            "  \n"
          ]
        },
        {
          "output_type": "stream",
          "name": "stdout",
          "text": [
            "Lasso training accuracy: 78.75\n"
          ]
        },
        {
          "output_type": "stream",
          "name": "stderr",
          "text": [
            "/usr/local/lib/python3.7/dist-packages/nilearn/datasets/struct.py:774: UserWarning: `legacy_format` will default to `False` in release 0.11. Dataset fetchers will then return pandas dataframes by default instead of recarrays.\n",
            "  warnings.warn(_LEGACY_FORMAT_MSG)\n",
            "/usr/local/lib/python3.7/dist-packages/ipykernel_launcher.py:6: DeprecationWarning: `np.int` is a deprecated alias for the builtin `int`. To silence this warning, use `int` by itself. Doing this will not modify any behavior and is safe. When replacing `np.int`, you may wish to use e.g. `np.int64` or `np.int32` to specify the precision. If you wish to review your current use, check the release note link for additional information.\n",
            "Deprecated in NumPy 1.20; for more details and guidance: https://numpy.org/devdocs/release/1.20.0-notes.html#deprecations\n",
            "  \n"
          ]
        },
        {
          "output_type": "stream",
          "name": "stdout",
          "text": [
            "Lasso training accuracy: 78.75\n"
          ]
        },
        {
          "output_type": "stream",
          "name": "stderr",
          "text": [
            "/usr/local/lib/python3.7/dist-packages/nilearn/datasets/struct.py:774: UserWarning: `legacy_format` will default to `False` in release 0.11. Dataset fetchers will then return pandas dataframes by default instead of recarrays.\n",
            "  warnings.warn(_LEGACY_FORMAT_MSG)\n",
            "/usr/local/lib/python3.7/dist-packages/ipykernel_launcher.py:6: DeprecationWarning: `np.int` is a deprecated alias for the builtin `int`. To silence this warning, use `int` by itself. Doing this will not modify any behavior and is safe. When replacing `np.int`, you may wish to use e.g. `np.int64` or `np.int32` to specify the precision. If you wish to review your current use, check the release note link for additional information.\n",
            "Deprecated in NumPy 1.20; for more details and guidance: https://numpy.org/devdocs/release/1.20.0-notes.html#deprecations\n",
            "  \n"
          ]
        },
        {
          "output_type": "stream",
          "name": "stdout",
          "text": [
            "Lasso training accuracy: 80.00\n"
          ]
        },
        {
          "output_type": "stream",
          "name": "stderr",
          "text": [
            "/usr/local/lib/python3.7/dist-packages/nilearn/datasets/struct.py:774: UserWarning: `legacy_format` will default to `False` in release 0.11. Dataset fetchers will then return pandas dataframes by default instead of recarrays.\n",
            "  warnings.warn(_LEGACY_FORMAT_MSG)\n",
            "/usr/local/lib/python3.7/dist-packages/ipykernel_launcher.py:6: DeprecationWarning: `np.int` is a deprecated alias for the builtin `int`. To silence this warning, use `int` by itself. Doing this will not modify any behavior and is safe. When replacing `np.int`, you may wish to use e.g. `np.int64` or `np.int32` to specify the precision. If you wish to review your current use, check the release note link for additional information.\n",
            "Deprecated in NumPy 1.20; for more details and guidance: https://numpy.org/devdocs/release/1.20.0-notes.html#deprecations\n",
            "  \n"
          ]
        },
        {
          "output_type": "stream",
          "name": "stdout",
          "text": [
            "Lasso training accuracy: 82.50\n"
          ]
        },
        {
          "output_type": "stream",
          "name": "stderr",
          "text": [
            "/usr/local/lib/python3.7/dist-packages/nilearn/datasets/struct.py:774: UserWarning: `legacy_format` will default to `False` in release 0.11. Dataset fetchers will then return pandas dataframes by default instead of recarrays.\n",
            "  warnings.warn(_LEGACY_FORMAT_MSG)\n",
            "/usr/local/lib/python3.7/dist-packages/ipykernel_launcher.py:6: DeprecationWarning: `np.int` is a deprecated alias for the builtin `int`. To silence this warning, use `int` by itself. Doing this will not modify any behavior and is safe. When replacing `np.int`, you may wish to use e.g. `np.int64` or `np.int32` to specify the precision. If you wish to review your current use, check the release note link for additional information.\n",
            "Deprecated in NumPy 1.20; for more details and guidance: https://numpy.org/devdocs/release/1.20.0-notes.html#deprecations\n",
            "  \n"
          ]
        },
        {
          "output_type": "stream",
          "name": "stdout",
          "text": [
            "Lasso training accuracy: 83.75\n"
          ]
        }
      ]
    },
    {
      "cell_type": "code",
      "source": [
        "# We remove the extraneous dimension from our coefs variable\n",
        "coefs = np.squeeze(coefs) "
      ],
      "metadata": {
        "id": "ma9xvTT0HJX-"
      },
      "execution_count": 37,
      "outputs": []
    },
    {
      "cell_type": "code",
      "source": [
        "# Let's take a look at how many input variables we're knocking off with each successive value of the C parameter\n",
        "nums = list(range(0,10))\n",
        "for x in nums:\n",
        "    l = np.count_nonzero(coefs[x]==0)\n",
        "    print(l)"
      ],
      "metadata": {
        "colab": {
          "base_uri": "https://localhost:8080/"
        },
        "id": "EI-jBLmTG7g9",
        "outputId": "76d2afe1-97cf-4ae3-d61d-23325dbb66be"
      },
      "execution_count": 38,
      "outputs": [
        {
          "output_type": "stream",
          "name": "stdout",
          "text": [
            "1000\n",
            "999\n",
            "996\n",
            "995\n",
            "993\n",
            "992\n",
            "990\n",
            "985\n",
            "984\n",
            "978\n"
          ]
        }
      ]
    },
    {
      "cell_type": "markdown",
      "source": [
        "Looks like we're going from 0 to 22 removed input variables. This should make for a plot that's not too cluttered, and therefore easier to visualize."
      ],
      "metadata": {
        "id": "cPtU9C2B4FiG"
      }
    },
    {
      "cell_type": "code",
      "source": [
        "ax = plt.gca()\n",
        "\n",
        "ax.plot(C_values, coefs)\n",
        "ax.set_xscale('log')\n",
        "plt.axis('tight')\n",
        "plt.xlabel('C parameter')\n",
        "plt.ylabel('Standardized Coefficients')\n",
        "plt.title('Regularization path (lasso)');"
      ],
      "metadata": {
        "colab": {
          "base_uri": "https://localhost:8080/",
          "height": 299
        },
        "id": "y9iwDy8N-l7Z",
        "outputId": "81fb3f7b-d7ab-440d-b693-27ee3c305ead"
      },
      "execution_count": 41,
      "outputs": [
        {
          "output_type": "display_data",
          "data": {
            "text/plain": [
              "<Figure size 432x288 with 1 Axes>"
            ],
            "image/png": "[encoded data removed]"
          },
          "metadata": {
            "needs_background": "light"
          }
        }
      ]
    },
    {
      "cell_type": "markdown",
      "source": [
        "Most of the first C parameter values after 0.05 result in the shrinkage of only a handful of input variables. As we approach the 0.2 value and beyond, we start seeing some weight being ascribed to a higher number of other input variables, as well as an increase in the shrinkage of another handful of features. In a real-world application, we would plot a legend telling us the names of each input variable."
      ],
      "metadata": {
        "id": "YoY0KqYD4RkN"
      }
    }
  ]
}